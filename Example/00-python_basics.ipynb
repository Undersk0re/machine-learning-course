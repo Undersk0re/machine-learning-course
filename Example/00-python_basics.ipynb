{
 "cells": [
  {
   "cell_type": "markdown",
   "id": "0e48cdbf-e8cb-4012-945b-91e1a097bcfb",
   "metadata": {},
   "source": [
    "# read and write documentation"
   ]
  },
  {
   "cell_type": "code",
   "execution_count": 2,
   "id": "74d9c081-6cb4-44aa-a5e3-78f9eadd0248",
   "metadata": {
    "tags": []
   },
   "outputs": [
    {
     "name": "stdout",
     "output_type": "stream",
     "text": [
      "\n",
      "Custom doc ------------------------\n",
      "Help on class ExampleDoc in module __main__:\n",
      "\n",
      "class ExampleDoc(builtins.object)\n",
      " |  Ciao Wrapper, io sono la documentazione\n",
      " |  \n",
      " |  Data descriptors defined here:\n",
      " |  \n",
      " |  __dict__\n",
      " |      dictionary for instance variables (if defined)\n",
      " |  \n",
      " |  __weakref__\n",
      " |      list of weak references to the object (if defined)\n",
      "\n",
      "None\n",
      "\n",
      "Built-in doc ------------------------\n",
      "Help on ufunc:\n",
      "\n",
      "add = <ufunc 'add'>\n",
      "    add(x1, x2, /, out=None, *, where=True, casting='same_kind', order='K', dtype=None, subok=True[, signature, extobj])\n",
      "    \n",
      "    Add arguments element-wise.\n",
      "    \n",
      "    Parameters\n",
      "    ----------\n",
      "    x1, x2 : array_like\n",
      "        The arrays to be added.\n",
      "        If ``x1.shape != x2.shape``, they must be broadcastable to a common\n",
      "        shape (which becomes the shape of the output).\n",
      "    out : ndarray, None, or tuple of ndarray and None, optional\n",
      "        A location into which the result is stored. If provided, it must have\n",
      "        a shape that the inputs broadcast to. If not provided or None,\n",
      "        a freshly-allocated array is returned. A tuple (possible only as a\n",
      "        keyword argument) must have length equal to the number of outputs.\n",
      "    where : array_like, optional\n",
      "        This condition is broadcast over the input. At locations where the\n",
      "        condition is True, the `out` array will be set to the ufunc result.\n",
      "        Elsewhere, the `out` array will retain its original value.\n",
      "        Note that if an uninitialized `out` array is created via the default\n",
      "        ``out=None``, locations within it where the condition is False will\n",
      "        remain uninitialized.\n",
      "    **kwargs\n",
      "        For other keyword-only arguments, see the\n",
      "        :ref:`ufunc docs <ufuncs.kwargs>`.\n",
      "    \n",
      "    Returns\n",
      "    -------\n",
      "    add : ndarray or scalar\n",
      "        The sum of `x1` and `x2`, element-wise.\n",
      "        This is a scalar if both `x1` and `x2` are scalars.\n",
      "    \n",
      "    Notes\n",
      "    -----\n",
      "    Equivalent to `x1` + `x2` in terms of array broadcasting.\n",
      "    \n",
      "    Examples\n",
      "    --------\n",
      "    >>> np.add(1.0, 4.0)\n",
      "    5.0\n",
      "    >>> x1 = np.arange(9.0).reshape((3, 3))\n",
      "    >>> x2 = np.arange(3.0)\n",
      "    >>> np.add(x1, x2)\n",
      "    array([[  0.,   2.,   4.],\n",
      "           [  3.,   5.,   7.],\n",
      "           [  6.,   8.,  10.]])\n",
      "    \n",
      "    The ``+`` operator can be used as a shorthand for ``np.add`` on ndarrays.\n",
      "    \n",
      "    >>> x1 = np.arange(9.0).reshape((3, 3))\n",
      "    >>> x2 = np.arange(3.0)\n",
      "    >>> x1 + x2\n",
      "    array([[ 0.,  2.,  4.],\n",
      "           [ 3.,  5.,  7.],\n",
      "           [ 6.,  8., 10.]])\n",
      "\n",
      "None\n"
     ]
    }
   ],
   "source": [
    "import numpy as np\n",
    "\n",
    "class ExampleDoc:\n",
    "    \"\"\"Ciao Wrapper, io sono la documentazione\"\"\"\n",
    "    pass\n",
    "\n",
    "print(\"\\nCustom doc ------------------------\")\n",
    "print(help(ExampleDoc))\n",
    "\n",
    "print(\"\\nBuilt-in doc ------------------------\")\n",
    "print(help(np.add))"
   ]
  },
  {
   "cell_type": "markdown",
   "id": "edf60f02-eb35-425e-83b8-b7e6730b6039",
   "metadata": {},
   "source": [
    "# Class"
   ]
  },
  {
   "cell_type": "code",
   "execution_count": 4,
   "id": "16161eac-e135-4852-b77a-89f67f788eeb",
   "metadata": {
    "tags": []
   },
   "outputs": [
    {
     "name": "stdout",
     "output_type": "stream",
     "text": [
      "Test 1: Condivisione stato base\n",
      "Local: 10, SharedBorg: 10\n",
      "Local: None, SharedBorg: 20\n",
      "Local: 30, SharedBorg: 20\n"
     ]
    }
   ],
   "source": [
    "class Singleton:\n",
    "  \"\"\"The Borg Queen\"\"\"\n",
    "  _shared_state = {}\n",
    "  def __init__(self):\n",
    "     self.__dict__ = self._shared_state\n",
    "\n",
    "\n",
    "class Borg(Singleton):\n",
    "  data=None \n",
    "  def __init__(self):\n",
    "     super().__init__()\n",
    "\n",
    "\n",
    "class Agent:\n",
    "  \"\"\"b= entrambi, s=condivisa, l=locale\"\"\"\n",
    "  local_data=None\n",
    "  def __init__(self, val=None, sync='b'):\n",
    "    self.shared=Borg()\n",
    "    if sync == 'b':\n",
    "      self.shared.data = val\n",
    "      self.local_data = val\n",
    "    elif sync == 'l':\n",
    "      self.local_data = val\n",
    "    elif sync == 's':\n",
    "      self.shared.data = val\n",
    "  def __str__(self):\n",
    "    return f\"Local: {self.local_data}, SharedBorg: {self.shared.data}\"\n",
    "\n",
    "\n",
    "class TestBorg:\n",
    "  @classmethod\n",
    "  def run(cls):\n",
    "    print(\"Test 1: Condivisione stato base\")\n",
    "    a1 = Agent(10, 'b') # entrambi gli stati\n",
    "    print(a1)  # Local: 10, SharedBorg: 10\n",
    "    a2 = Agent(20, 's') # solo memoria condivisa\n",
    "    print(a2)  # Local: None, SharedBorg:20 \n",
    "    a3 = Agent(30, 'l') # solo memoria locale\n",
    "    print(a3)  # Local: 30, SharedBorg:20\n",
    "\n",
    "TestBorg.run()"
   ]
  },
  {
   "cell_type": "code",
   "execution_count": null,
   "id": "c4473af1-b0a8-4b7d-aee3-f1ba2c1b3d9a",
   "metadata": {},
   "outputs": [],
   "source": []
  }
 ],
 "metadata": {
  "kernelspec": {
   "display_name": "Python 3 (ipykernel)",
   "language": "python",
   "name": "python3"
  },
  "language_info": {
   "codemirror_mode": {
    "name": "ipython",
    "version": 3
   },
   "file_extension": ".py",
   "mimetype": "text/x-python",
   "name": "python",
   "nbconvert_exporter": "python",
   "pygments_lexer": "ipython3",
   "version": "3.11.2"
  }
 },
 "nbformat": 4,
 "nbformat_minor": 5
}
