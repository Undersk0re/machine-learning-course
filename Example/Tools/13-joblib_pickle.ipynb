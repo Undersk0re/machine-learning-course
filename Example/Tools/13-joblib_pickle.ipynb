{
 "cells": [
  {
   "cell_type": "markdown",
   "id": "eb8c9365-54b3-432d-ae57-07b8688161b9",
   "metadata": {},
   "source": [
    "## JOBLIB\n",
    "<img src='https://frenzy86.s3.eu-west-2.amazonaws.com/python/joblib.png' widht=2000>"
   ]
  },
  {
   "cell_type": "code",
   "execution_count": 4,
   "id": "0db9f7d8-ef5d-404a-88b2-700db300eb42",
   "metadata": {
    "tags": []
   },
   "outputs": [
    {
     "name": "stdout",
     "output_type": "stream",
     "text": [
      "Abbiamo un modello, vogliamo salvarlo e ricaricarlo per usi futuri su problemi similari. Alternativa a pikle\n",
      "------------------------\n",
      "Salvataggio del modello con joblib\n",
      "------------------------\n",
      "------------------------\n",
      "Caricamento del modello con joblib\n",
      "------------------------\n",
      "------------------------\n",
      "Salvataggio del modello con pickle\n",
      "------------------------\n",
      "------------------------\n",
      "Caricamento del modello con pickle\n",
      "------------------------\n"
     ]
    }
   ],
   "source": [
    "import numpy as np\n",
    "import matplotlib.pyplot as plt\n",
    "import pandas as pd\n",
    "import seaborn as sns\n",
    "\n",
    "path = \"https://frenzy86.s3.eu-west-2.amazonaws.com/python/data/datalr.csv\" # a copy in local 12-datalr.csv file\n",
    "\n",
    "# the new one\n",
    "from sklearn.linear_model import LinearRegression # il modello\n",
    "from sklearn.model_selection import train_test_split # per trattare i dati\n",
    "from sklearn.metrics import r2_score, mean_absolute_error, mean_squared_error\n",
    "\n",
    "points = np.genfromtxt(path, delimiter=',') # att.ne path delimiter se cambia\n",
    "\n",
    "x = np.array(points[:,0]) # prima colonna indice 0\n",
    "y = np.array(points[:,1]) # seconda colonna indice 1\n",
    "X = x.reshape(-1, x.size//len(x)) # X--> features\n",
    "X_train, X_test, y_train, y_test = train_test_split(X, y,  test_size = 0.2,  random_state = 667 )\n",
    "model = LinearRegression()\n",
    "model.fit(X_train, y_train)\n",
    "\n",
    "print(\"Abbiamo un modello, vogliamo salvarlo e ricaricarlo per usi futuri su problemi similari. Alternativa a pikle\")\n",
    "\n",
    "\n",
    "print(\"------------------------\")\n",
    "print(\"Salvataggio del modello con joblib\")\n",
    "print(\"------------------------\")\n",
    "import joblib\n",
    "## to save a model\n",
    "joblib.dump(model,'13-model_joblib_saving.pkl')\n",
    "\n",
    "\n",
    "print(\"------------------------\")\n",
    "print(\"Caricamento del modello con joblib\" )\n",
    "print(\"------------------------\")\n",
    "\n",
    "import joblib\n",
    "model = joblib.load('13-model_joblib_saving.pkl')\n",
    "\n",
    "\n",
    "\n",
    "print(\"------------------------\")\n",
    "print(\"Salvataggio del modello con pickle\")\n",
    "print(\"------------------------\")\n",
    "\n",
    "import pickle\n",
    "with open('13-model_pickle_saving.pkl', 'wb') as f:\n",
    "    pickle.dump(model, f)\n",
    "\n",
    "print(\"------------------------\")\n",
    "print(\"Caricamento del modello con pickle\" )\n",
    "print(\"------------------------\")\n",
    "\n",
    "import pickle\n",
    "with open('13-model_pickle_saving.pkl', 'rb') as f:\n",
    "    model = pickle.load(f)"
   ]
  },
  {
   "cell_type": "code",
   "execution_count": null,
   "id": "ee3d4870-3a14-4d94-90ed-190894896429",
   "metadata": {},
   "outputs": [],
   "source": []
  }
 ],
 "metadata": {
  "kernelspec": {
   "display_name": "Python 3 (ipykernel)",
   "language": "python",
   "name": "python3"
  },
  "language_info": {
   "codemirror_mode": {
    "name": "ipython",
    "version": 3
   },
   "file_extension": ".py",
   "mimetype": "text/x-python",
   "name": "python",
   "nbconvert_exporter": "python",
   "pygments_lexer": "ipython3",
   "version": "3.11.2"
  }
 },
 "nbformat": 4,
 "nbformat_minor": 5
}
