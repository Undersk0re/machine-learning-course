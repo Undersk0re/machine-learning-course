{
 "cells": [
  {
   "cell_type": "markdown",
   "id": "7a273b86-1988-4e2f-9d56-654a7498ad96",
   "metadata": {},
   "source": [
    "Sklearn è un tool pieno di modelli precompilati senza bisogno di usare keras o tensorflow per costruirsene uno.\n",
    "Comodo per problemi noti."
   ]
  },
  {
   "cell_type": "code",
   "execution_count": 64,
   "id": "0c1a7567-df0e-4f24-abfe-98e7bd7d2ae3",
   "metadata": {
    "tags": []
   },
   "outputs": [
    {
     "name": "stdout",
     "output_type": "stream",
     "text": [
      "\n",
      "\n",
      "\n",
      "\n",
      "------------------------\n",
      "0 - Problem understanding\n",
      "------------------------\n",
      "abbiamo già studiato il dataset, ma diamoci un'occhiata con pandas\n",
      "           0          1\n",
      "0  32.502345  31.707006\n",
      "1  53.426804  68.777596\n",
      "il dataset è solo numerico, assumiamo che la colonna zero siano i termini noti (X) mentre le (y) siano le incognite della nostra distribuzione di esempio\n",
      "\n",
      "\n",
      "\n",
      "\n",
      "\n",
      "diamo un'occhiata alla distribuzione\n"
     ]
    },
    {
     "data": {
      "image/png": "[encoded data removed]",
      "text/plain": [
       "<Figure size 640x480 with 1 Axes>"
      ]
     },
     "metadata": {},
     "output_type": "display_data"
    },
    {
     "name": "stdout",
     "output_type": "stream",
     "text": [
      "Controlliamo lo shape -> : (100,)\n",
      "Controlliamo il tipo x <class 'numpy.float64'>\n",
      "x deve essere una matrice di input con shape (vet_dim, mat_dim) e deve diventare X, usiamo reshape\n",
      "Creiamo i nostri valori da darein pasto (to feed) al modello in modo che rispettino le regole dell'algebra lineare (rango)\n",
      "\n",
      "\n",
      "\n",
      "\n",
      "------------------------\n",
      "1 - Declare Features and target\n",
      "------------------------\n",
      "Feature is a matrix X\n",
      "------------------------\n",
      "2 split dataset in Training and Test with sklearn built-in function\n",
      "------------------------\n",
      "Ricontrolliamo lo shape -> : (100, 1)\n",
      "Controlliamo il tipo X <class 'numpy.ndarray'>\n",
      "Ora abbiamo una matrice (vettore nested)\n",
      "\n",
      "\n",
      "\n",
      "\n",
      "train del modello 'FULL' con tutti i dati\n"
     ]
    },
    {
     "data": {
      "text/html": [
       "<style>#sk-container-id-55 {\n",
       "  /* Definition of color scheme common for light and dark mode */\n",
       "  --sklearn-color-text: #000;\n",
       "  --sklearn-color-text-muted: #666;\n",
       "  --sklearn-color-line: gray;\n",
       "  /* Definition of color scheme for unfitted estimators */\n",
       "  --sklearn-color-unfitted-level-0: #fff5e6;\n",
       "  --sklearn-color-unfitted-level-1: #f6e4d2;\n",
       "  --sklearn-color-unfitted-level-2: #ffe0b3;\n",
       "  --sklearn-color-unfitted-level-3: chocolate;\n",
       "  /* Definition of color scheme for fitted estimators */\n",
       "  --sklearn-color-fitted-level-0: #f0f8ff;\n",
       "  --sklearn-color-fitted-level-1: #d4ebff;\n",
       "  --sklearn-color-fitted-level-2: #b3dbfd;\n",
       "  --sklearn-color-fitted-level-3: cornflowerblue;\n",
       "\n",
       "  /* Specific color for light theme */\n",
       "  --sklearn-color-text-on-default-background: var(--sg-text-color, var(--theme-code-foreground, var(--jp-content-font-color1, black)));\n",
       "  --sklearn-color-background: var(--sg-background-color, var(--theme-background, var(--jp-layout-color0, white)));\n",
       "  --sklearn-color-border-box: var(--sg-text-color, var(--theme-code-foreground, var(--jp-content-font-color1, black)));\n",
       "  --sklearn-color-icon: #696969;\n",
       "\n",
       "  @media (prefers-color-scheme: dark) {\n",
       "    /* Redefinition of color scheme for dark theme */\n",
       "    --sklearn-color-text-on-default-background: var(--sg-text-color, var(--theme-code-foreground, var(--jp-content-font-color1, white)));\n",
       "    --sklearn-color-background: var(--sg-background-color, var(--theme-background, var(--jp-layout-color0, #111)));\n",
       "    --sklearn-color-border-box: var(--sg-text-color, var(--theme-code-foreground, var(--jp-content-font-color1, white)));\n",
       "    --sklearn-color-icon: #878787;\n",
       "  }\n",
       "}\n",
       "\n",
       "#sk-container-id-55 {\n",
       "  color: var(--sklearn-color-text);\n",
       "}\n",
       "\n",
       "#sk-container-id-55 pre {\n",
       "  padding: 0;\n",
       "}\n",
       "\n",
       "#sk-container-id-55 input.sk-hidden--visually {\n",
       "  border: 0;\n",
       "  clip: rect(1px 1px 1px 1px);\n",
       "  clip: rect(1px, 1px, 1px, 1px);\n",
       "  height: 1px;\n",
       "  margin: -1px;\n",
       "  overflow: hidden;\n",
       "  padding: 0;\n",
       "  position: absolute;\n",
       "  width: 1px;\n",
       "}\n",
       "\n",
       "#sk-container-id-55 div.sk-dashed-wrapped {\n",
       "  border: 1px dashed var(--sklearn-color-line);\n",
       "  margin: 0 0.4em 0.5em 0.4em;\n",
       "  box-sizing: border-box;\n",
       "  padding-bottom: 0.4em;\n",
       "  background-color: var(--sklearn-color-background);\n",
       "}\n",
       "\n",
       "#sk-container-id-55 div.sk-container {\n",
       "  /* jupyter's `normalize.less` sets `[hidden] { display: none; }`\n",
       "     but bootstrap.min.css set `[hidden] { display: none !important; }`\n",
       "     so we also need the `!important` here to be able to override the\n",
       "     default hidden behavior on the sphinx rendered scikit-learn.org.\n",
       "     See: https://github.com/scikit-learn/scikit-learn/issues/21755 */\n",
       "  display: inline-block !important;\n",
       "  position: relative;\n",
       "}\n",
       "\n",
       "#sk-container-id-55 div.sk-text-repr-fallback {\n",
       "  display: none;\n",
       "}\n",
       "\n",
       "div.sk-parallel-item,\n",
       "div.sk-serial,\n",
       "div.sk-item {\n",
       "  /* draw centered vertical line to link estimators */\n",
       "  background-image: linear-gradient(var(--sklearn-color-text-on-default-background), var(--sklearn-color-text-on-default-background));\n",
       "  background-size: 2px 100%;\n",
       "  background-repeat: no-repeat;\n",
       "  background-position: center center;\n",
       "}\n",
       "\n",
       "/* Parallel-specific style estimator block */\n",
       "\n",
       "#sk-container-id-55 div.sk-parallel-item::after {\n",
       "  content: \"\";\n",
       "  width: 100%;\n",
       "  border-bottom: 2px solid var(--sklearn-color-text-on-default-background);\n",
       "  flex-grow: 1;\n",
       "}\n",
       "\n",
       "#sk-container-id-55 div.sk-parallel {\n",
       "  display: flex;\n",
       "  align-items: stretch;\n",
       "  justify-content: center;\n",
       "  background-color: var(--sklearn-color-background);\n",
       "  position: relative;\n",
       "}\n",
       "\n",
       "#sk-container-id-55 div.sk-parallel-item {\n",
       "  display: flex;\n",
       "  flex-direction: column;\n",
       "}\n",
       "\n",
       "#sk-container-id-55 div.sk-parallel-item:first-child::after {\n",
       "  align-self: flex-end;\n",
       "  width: 50%;\n",
       "}\n",
       "\n",
       "#sk-container-id-55 div.sk-parallel-item:last-child::after {\n",
       "  align-self: flex-start;\n",
       "  width: 50%;\n",
       "}\n",
       "\n",
       "#sk-container-id-55 div.sk-parallel-item:only-child::after {\n",
       "  width: 0;\n",
       "}\n",
       "\n",
       "/* Serial-specific style estimator block */\n",
       "\n",
       "#sk-container-id-55 div.sk-serial {\n",
       "  display: flex;\n",
       "  flex-direction: column;\n",
       "  align-items: center;\n",
       "  background-color: var(--sklearn-color-background);\n",
       "  padding-right: 1em;\n",
       "  padding-left: 1em;\n",
       "}\n",
       "\n",
       "\n",
       "/* Toggleable style: style used for estimator/Pipeline/ColumnTransformer box that is\n",
       "clickable and can be expanded/collapsed.\n",
       "- Pipeline and ColumnTransformer use this feature and define the default style\n",
       "- Estimators will overwrite some part of the style using the `sk-estimator` class\n",
       "*/\n",
       "\n",
       "/* Pipeline and ColumnTransformer style (default) */\n",
       "\n",
       "#sk-container-id-55 div.sk-toggleable {\n",
       "  /* Default theme specific background. It is overwritten whether we have a\n",
       "  specific estimator or a Pipeline/ColumnTransformer */\n",
       "  background-color: var(--sklearn-color-background);\n",
       "}\n",
       "\n",
       "/* Toggleable label */\n",
       "#sk-container-id-55 label.sk-toggleable__label {\n",
       "  cursor: pointer;\n",
       "  display: flex;\n",
       "  width: 100%;\n",
       "  margin-bottom: 0;\n",
       "  padding: 0.5em;\n",
       "  box-sizing: border-box;\n",
       "  text-align: center;\n",
       "  align-items: start;\n",
       "  justify-content: space-between;\n",
       "  gap: 0.5em;\n",
       "}\n",
       "\n",
       "#sk-container-id-55 label.sk-toggleable__label .caption {\n",
       "  font-size: 0.6rem;\n",
       "  font-weight: lighter;\n",
       "  color: var(--sklearn-color-text-muted);\n",
       "}\n",
       "\n",
       "#sk-container-id-55 label.sk-toggleable__label-arrow:before {\n",
       "  /* Arrow on the left of the label */\n",
       "  content: \"▸\";\n",
       "  float: left;\n",
       "  margin-right: 0.25em;\n",
       "  color: var(--sklearn-color-icon);\n",
       "}\n",
       "\n",
       "#sk-container-id-55 label.sk-toggleable__label-arrow:hover:before {\n",
       "  color: var(--sklearn-color-text);\n",
       "}\n",
       "\n",
       "/* Toggleable content - dropdown */\n",
       "\n",
       "#sk-container-id-55 div.sk-toggleable__content {\n",
       "  max-height: 0;\n",
       "  max-width: 0;\n",
       "  overflow: hidden;\n",
       "  text-align: left;\n",
       "  /* unfitted */\n",
       "  background-color: var(--sklearn-color-unfitted-level-0);\n",
       "}\n",
       "\n",
       "#sk-container-id-55 div.sk-toggleable__content.fitted {\n",
       "  /* fitted */\n",
       "  background-color: var(--sklearn-color-fitted-level-0);\n",
       "}\n",
       "\n",
       "#sk-container-id-55 div.sk-toggleable__content pre {\n",
       "  margin: 0.2em;\n",
       "  border-radius: 0.25em;\n",
       "  color: var(--sklearn-color-text);\n",
       "  /* unfitted */\n",
       "  background-color: var(--sklearn-color-unfitted-level-0);\n",
       "}\n",
       "\n",
       "#sk-container-id-55 div.sk-toggleable__content.fitted pre {\n",
       "  /* unfitted */\n",
       "  background-color: var(--sklearn-color-fitted-level-0);\n",
       "}\n",
       "\n",
       "#sk-container-id-55 input.sk-toggleable__control:checked~div.sk-toggleable__content {\n",
       "  /* Expand drop-down */\n",
       "  max-height: 200px;\n",
       "  max-width: 100%;\n",
       "  overflow: auto;\n",
       "}\n",
       "\n",
       "#sk-container-id-55 input.sk-toggleable__control:checked~label.sk-toggleable__label-arrow:before {\n",
       "  content: \"▾\";\n",
       "}\n",
       "\n",
       "/* Pipeline/ColumnTransformer-specific style */\n",
       "\n",
       "#sk-container-id-55 div.sk-label input.sk-toggleable__control:checked~label.sk-toggleable__label {\n",
       "  color: var(--sklearn-color-text);\n",
       "  background-color: var(--sklearn-color-unfitted-level-2);\n",
       "}\n",
       "\n",
       "#sk-container-id-55 div.sk-label.fitted input.sk-toggleable__control:checked~label.sk-toggleable__label {\n",
       "  background-color: var(--sklearn-color-fitted-level-2);\n",
       "}\n",
       "\n",
       "/* Estimator-specific style */\n",
       "\n",
       "/* Colorize estimator box */\n",
       "#sk-container-id-55 div.sk-estimator input.sk-toggleable__control:checked~label.sk-toggleable__label {\n",
       "  /* unfitted */\n",
       "  background-color: var(--sklearn-color-unfitted-level-2);\n",
       "}\n",
       "\n",
       "#sk-container-id-55 div.sk-estimator.fitted input.sk-toggleable__control:checked~label.sk-toggleable__label {\n",
       "  /* fitted */\n",
       "  background-color: var(--sklearn-color-fitted-level-2);\n",
       "}\n",
       "\n",
       "#sk-container-id-55 div.sk-label label.sk-toggleable__label,\n",
       "#sk-container-id-55 div.sk-label label {\n",
       "  /* The background is the default theme color */\n",
       "  color: var(--sklearn-color-text-on-default-background);\n",
       "}\n",
       "\n",
       "/* On hover, darken the color of the background */\n",
       "#sk-container-id-55 div.sk-label:hover label.sk-toggleable__label {\n",
       "  color: var(--sklearn-color-text);\n",
       "  background-color: var(--sklearn-color-unfitted-level-2);\n",
       "}\n",
       "\n",
       "/* Label box, darken color on hover, fitted */\n",
       "#sk-container-id-55 div.sk-label.fitted:hover label.sk-toggleable__label.fitted {\n",
       "  color: var(--sklearn-color-text);\n",
       "  background-color: var(--sklearn-color-fitted-level-2);\n",
       "}\n",
       "\n",
       "/* Estimator label */\n",
       "\n",
       "#sk-container-id-55 div.sk-label label {\n",
       "  font-family: monospace;\n",
       "  font-weight: bold;\n",
       "  display: inline-block;\n",
       "  line-height: 1.2em;\n",
       "}\n",
       "\n",
       "#sk-container-id-55 div.sk-label-container {\n",
       "  text-align: center;\n",
       "}\n",
       "\n",
       "/* Estimator-specific */\n",
       "#sk-container-id-55 div.sk-estimator {\n",
       "  font-family: monospace;\n",
       "  border: 1px dotted var(--sklearn-color-border-box);\n",
       "  border-radius: 0.25em;\n",
       "  box-sizing: border-box;\n",
       "  margin-bottom: 0.5em;\n",
       "  /* unfitted */\n",
       "  background-color: var(--sklearn-color-unfitted-level-0);\n",
       "}\n",
       "\n",
       "#sk-container-id-55 div.sk-estimator.fitted {\n",
       "  /* fitted */\n",
       "  background-color: var(--sklearn-color-fitted-level-0);\n",
       "}\n",
       "\n",
       "/* on hover */\n",
       "#sk-container-id-55 div.sk-estimator:hover {\n",
       "  /* unfitted */\n",
       "  background-color: var(--sklearn-color-unfitted-level-2);\n",
       "}\n",
       "\n",
       "#sk-container-id-55 div.sk-estimator.fitted:hover {\n",
       "  /* fitted */\n",
       "  background-color: var(--sklearn-color-fitted-level-2);\n",
       "}\n",
       "\n",
       "/* Specification for estimator info (e.g. \"i\" and \"?\") */\n",
       "\n",
       "/* Common style for \"i\" and \"?\" */\n",
       "\n",
       ".sk-estimator-doc-link,\n",
       "a:link.sk-estimator-doc-link,\n",
       "a:visited.sk-estimator-doc-link {\n",
       "  float: right;\n",
       "  font-size: smaller;\n",
       "  line-height: 1em;\n",
       "  font-family: monospace;\n",
       "  background-color: var(--sklearn-color-background);\n",
       "  border-radius: 1em;\n",
       "  height: 1em;\n",
       "  width: 1em;\n",
       "  text-decoration: none !important;\n",
       "  margin-left: 0.5em;\n",
       "  text-align: center;\n",
       "  /* unfitted */\n",
       "  border: var(--sklearn-color-unfitted-level-1) 1pt solid;\n",
       "  color: var(--sklearn-color-unfitted-level-1);\n",
       "}\n",
       "\n",
       ".sk-estimator-doc-link.fitted,\n",
       "a:link.sk-estimator-doc-link.fitted,\n",
       "a:visited.sk-estimator-doc-link.fitted {\n",
       "  /* fitted */\n",
       "  border: var(--sklearn-color-fitted-level-1) 1pt solid;\n",
       "  color: var(--sklearn-color-fitted-level-1);\n",
       "}\n",
       "\n",
       "/* On hover */\n",
       "div.sk-estimator:hover .sk-estimator-doc-link:hover,\n",
       ".sk-estimator-doc-link:hover,\n",
       "div.sk-label-container:hover .sk-estimator-doc-link:hover,\n",
       ".sk-estimator-doc-link:hover {\n",
       "  /* unfitted */\n",
       "  background-color: var(--sklearn-color-unfitted-level-3);\n",
       "  color: var(--sklearn-color-background);\n",
       "  text-decoration: none;\n",
       "}\n",
       "\n",
       "div.sk-estimator.fitted:hover .sk-estimator-doc-link.fitted:hover,\n",
       ".sk-estimator-doc-link.fitted:hover,\n",
       "div.sk-label-container:hover .sk-estimator-doc-link.fitted:hover,\n",
       ".sk-estimator-doc-link.fitted:hover {\n",
       "  /* fitted */\n",
       "  background-color: var(--sklearn-color-fitted-level-3);\n",
       "  color: var(--sklearn-color-background);\n",
       "  text-decoration: none;\n",
       "}\n",
       "\n",
       "/* Span, style for the box shown on hovering the info icon */\n",
       ".sk-estimator-doc-link span {\n",
       "  display: none;\n",
       "  z-index: 9999;\n",
       "  position: relative;\n",
       "  font-weight: normal;\n",
       "  right: .2ex;\n",
       "  padding: .5ex;\n",
       "  margin: .5ex;\n",
       "  width: min-content;\n",
       "  min-width: 20ex;\n",
       "  max-width: 50ex;\n",
       "  color: var(--sklearn-color-text);\n",
       "  box-shadow: 2pt 2pt 4pt #999;\n",
       "  /* unfitted */\n",
       "  background: var(--sklearn-color-unfitted-level-0);\n",
       "  border: .5pt solid var(--sklearn-color-unfitted-level-3);\n",
       "}\n",
       "\n",
       ".sk-estimator-doc-link.fitted span {\n",
       "  /* fitted */\n",
       "  background: var(--sklearn-color-fitted-level-0);\n",
       "  border: var(--sklearn-color-fitted-level-3);\n",
       "}\n",
       "\n",
       ".sk-estimator-doc-link:hover span {\n",
       "  display: block;\n",
       "}\n",
       "\n",
       "/* \"?\"-specific style due to the `<a>` HTML tag */\n",
       "\n",
       "#sk-container-id-55 a.estimator_doc_link {\n",
       "  float: right;\n",
       "  font-size: 1rem;\n",
       "  line-height: 1em;\n",
       "  font-family: monospace;\n",
       "  background-color: var(--sklearn-color-background);\n",
       "  border-radius: 1rem;\n",
       "  height: 1rem;\n",
       "  width: 1rem;\n",
       "  text-decoration: none;\n",
       "  /* unfitted */\n",
       "  color: var(--sklearn-color-unfitted-level-1);\n",
       "  border: var(--sklearn-color-unfitted-level-1) 1pt solid;\n",
       "}\n",
       "\n",
       "#sk-container-id-55 a.estimator_doc_link.fitted {\n",
       "  /* fitted */\n",
       "  border: var(--sklearn-color-fitted-level-1) 1pt solid;\n",
       "  color: var(--sklearn-color-fitted-level-1);\n",
       "}\n",
       "\n",
       "/* On hover */\n",
       "#sk-container-id-55 a.estimator_doc_link:hover {\n",
       "  /* unfitted */\n",
       "  background-color: var(--sklearn-color-unfitted-level-3);\n",
       "  color: var(--sklearn-color-background);\n",
       "  text-decoration: none;\n",
       "}\n",
       "\n",
       "#sk-container-id-55 a.estimator_doc_link.fitted:hover {\n",
       "  /* fitted */\n",
       "  background-color: var(--sklearn-color-fitted-level-3);\n",
       "}\n",
       "</style><div id=\"sk-container-id-55\" class=\"sk-top-container\"><div class=\"sk-text-repr-fallback\"><pre>LinearRegression()</pre><b>In a Jupyter environment, please rerun this cell to show the HTML representation or trust the notebook. <br />On GitHub, the HTML representation is unable to render, please try loading this page with nbviewer.org.</b></div><div class=\"sk-container\" hidden><div class=\"sk-item\"><div class=\"sk-estimator fitted sk-toggleable\"><input class=\"sk-toggleable__control sk-hidden--visually\" id=\"sk-estimator-id-55\" type=\"checkbox\" checked><label for=\"sk-estimator-id-55\" class=\"sk-toggleable__label fitted sk-toggleable__label-arrow\"><div><div>LinearRegression</div></div><div><a class=\"sk-estimator-doc-link fitted\" rel=\"noreferrer\" target=\"_blank\" href=\"https://scikit-learn.org/1.6/modules/generated/sklearn.linear_model.LinearRegression.html\">?<span>Documentation for LinearRegression</span></a><span class=\"sk-estimator-doc-link fitted\">i<span>Fitted</span></span></div></label><div class=\"sk-toggleable__content fitted\"><pre>LinearRegression()</pre></div> </div></div></div></div>"
      ],
      "text/plain": [
       "LinearRegression()"
      ]
     },
     "metadata": {},
     "output_type": "display_data"
    },
    {
     "name": "stdout",
     "output_type": "stream",
     "text": [
      "Proviamo il modello 'FULL' per recuperare β₀, β₁ regressori\n",
      "Coefficienti angolari (vettore):  [1.32243102]  di cui la dimensione è  1\n",
      "Intercetta (scalare secco):  7.991020982270399\n",
      "\n",
      "\n",
      "\n",
      "\n",
      "------------------------\n",
      "3 - in real world we need to train the model whith a partition of the problem as we have seen\n",
      "------------------------\n",
      "train del modello con una partizione dei dati\n"
     ]
    },
    {
     "data": {
      "text/html": [
       "<style>#sk-container-id-56 {\n",
       "  /* Definition of color scheme common for light and dark mode */\n",
       "  --sklearn-color-text: #000;\n",
       "  --sklearn-color-text-muted: #666;\n",
       "  --sklearn-color-line: gray;\n",
       "  /* Definition of color scheme for unfitted estimators */\n",
       "  --sklearn-color-unfitted-level-0: #fff5e6;\n",
       "  --sklearn-color-unfitted-level-1: #f6e4d2;\n",
       "  --sklearn-color-unfitted-level-2: #ffe0b3;\n",
       "  --sklearn-color-unfitted-level-3: chocolate;\n",
       "  /* Definition of color scheme for fitted estimators */\n",
       "  --sklearn-color-fitted-level-0: #f0f8ff;\n",
       "  --sklearn-color-fitted-level-1: #d4ebff;\n",
       "  --sklearn-color-fitted-level-2: #b3dbfd;\n",
       "  --sklearn-color-fitted-level-3: cornflowerblue;\n",
       "\n",
       "  /* Specific color for light theme */\n",
       "  --sklearn-color-text-on-default-background: var(--sg-text-color, var(--theme-code-foreground, var(--jp-content-font-color1, black)));\n",
       "  --sklearn-color-background: var(--sg-background-color, var(--theme-background, var(--jp-layout-color0, white)));\n",
       "  --sklearn-color-border-box: var(--sg-text-color, var(--theme-code-foreground, var(--jp-content-font-color1, black)));\n",
       "  --sklearn-color-icon: #696969;\n",
       "\n",
       "  @media (prefers-color-scheme: dark) {\n",
       "    /* Redefinition of color scheme for dark theme */\n",
       "    --sklearn-color-text-on-default-background: var(--sg-text-color, var(--theme-code-foreground, var(--jp-content-font-color1, white)));\n",
       "    --sklearn-color-background: var(--sg-background-color, var(--theme-background, var(--jp-layout-color0, #111)));\n",
       "    --sklearn-color-border-box: var(--sg-text-color, var(--theme-code-foreground, var(--jp-content-font-color1, white)));\n",
       "    --sklearn-color-icon: #878787;\n",
       "  }\n",
       "}\n",
       "\n",
       "#sk-container-id-56 {\n",
       "  color: var(--sklearn-color-text);\n",
       "}\n",
       "\n",
       "#sk-container-id-56 pre {\n",
       "  padding: 0;\n",
       "}\n",
       "\n",
       "#sk-container-id-56 input.sk-hidden--visually {\n",
       "  border: 0;\n",
       "  clip: rect(1px 1px 1px 1px);\n",
       "  clip: rect(1px, 1px, 1px, 1px);\n",
       "  height: 1px;\n",
       "  margin: -1px;\n",
       "  overflow: hidden;\n",
       "  padding: 0;\n",
       "  position: absolute;\n",
       "  width: 1px;\n",
       "}\n",
       "\n",
       "#sk-container-id-56 div.sk-dashed-wrapped {\n",
       "  border: 1px dashed var(--sklearn-color-line);\n",
       "  margin: 0 0.4em 0.5em 0.4em;\n",
       "  box-sizing: border-box;\n",
       "  padding-bottom: 0.4em;\n",
       "  background-color: var(--sklearn-color-background);\n",
       "}\n",
       "\n",
       "#sk-container-id-56 div.sk-container {\n",
       "  /* jupyter's `normalize.less` sets `[hidden] { display: none; }`\n",
       "     but bootstrap.min.css set `[hidden] { display: none !important; }`\n",
       "     so we also need the `!important` here to be able to override the\n",
       "     default hidden behavior on the sphinx rendered scikit-learn.org.\n",
       "     See: https://github.com/scikit-learn/scikit-learn/issues/21755 */\n",
       "  display: inline-block !important;\n",
       "  position: relative;\n",
       "}\n",
       "\n",
       "#sk-container-id-56 div.sk-text-repr-fallback {\n",
       "  display: none;\n",
       "}\n",
       "\n",
       "div.sk-parallel-item,\n",
       "div.sk-serial,\n",
       "div.sk-item {\n",
       "  /* draw centered vertical line to link estimators */\n",
       "  background-image: linear-gradient(var(--sklearn-color-text-on-default-background), var(--sklearn-color-text-on-default-background));\n",
       "  background-size: 2px 100%;\n",
       "  background-repeat: no-repeat;\n",
       "  background-position: center center;\n",
       "}\n",
       "\n",
       "/* Parallel-specific style estimator block */\n",
       "\n",
       "#sk-container-id-56 div.sk-parallel-item::after {\n",
       "  content: \"\";\n",
       "  width: 100%;\n",
       "  border-bottom: 2px solid var(--sklearn-color-text-on-default-background);\n",
       "  flex-grow: 1;\n",
       "}\n",
       "\n",
       "#sk-container-id-56 div.sk-parallel {\n",
       "  display: flex;\n",
       "  align-items: stretch;\n",
       "  justify-content: center;\n",
       "  background-color: var(--sklearn-color-background);\n",
       "  position: relative;\n",
       "}\n",
       "\n",
       "#sk-container-id-56 div.sk-parallel-item {\n",
       "  display: flex;\n",
       "  flex-direction: column;\n",
       "}\n",
       "\n",
       "#sk-container-id-56 div.sk-parallel-item:first-child::after {\n",
       "  align-self: flex-end;\n",
       "  width: 50%;\n",
       "}\n",
       "\n",
       "#sk-container-id-56 div.sk-parallel-item:last-child::after {\n",
       "  align-self: flex-start;\n",
       "  width: 50%;\n",
       "}\n",
       "\n",
       "#sk-container-id-56 div.sk-parallel-item:only-child::after {\n",
       "  width: 0;\n",
       "}\n",
       "\n",
       "/* Serial-specific style estimator block */\n",
       "\n",
       "#sk-container-id-56 div.sk-serial {\n",
       "  display: flex;\n",
       "  flex-direction: column;\n",
       "  align-items: center;\n",
       "  background-color: var(--sklearn-color-background);\n",
       "  padding-right: 1em;\n",
       "  padding-left: 1em;\n",
       "}\n",
       "\n",
       "\n",
       "/* Toggleable style: style used for estimator/Pipeline/ColumnTransformer box that is\n",
       "clickable and can be expanded/collapsed.\n",
       "- Pipeline and ColumnTransformer use this feature and define the default style\n",
       "- Estimators will overwrite some part of the style using the `sk-estimator` class\n",
       "*/\n",
       "\n",
       "/* Pipeline and ColumnTransformer style (default) */\n",
       "\n",
       "#sk-container-id-56 div.sk-toggleable {\n",
       "  /* Default theme specific background. It is overwritten whether we have a\n",
       "  specific estimator or a Pipeline/ColumnTransformer */\n",
       "  background-color: var(--sklearn-color-background);\n",
       "}\n",
       "\n",
       "/* Toggleable label */\n",
       "#sk-container-id-56 label.sk-toggleable__label {\n",
       "  cursor: pointer;\n",
       "  display: flex;\n",
       "  width: 100%;\n",
       "  margin-bottom: 0;\n",
       "  padding: 0.5em;\n",
       "  box-sizing: border-box;\n",
       "  text-align: center;\n",
       "  align-items: start;\n",
       "  justify-content: space-between;\n",
       "  gap: 0.5em;\n",
       "}\n",
       "\n",
       "#sk-container-id-56 label.sk-toggleable__label .caption {\n",
       "  font-size: 0.6rem;\n",
       "  font-weight: lighter;\n",
       "  color: var(--sklearn-color-text-muted);\n",
       "}\n",
       "\n",
       "#sk-container-id-56 label.sk-toggleable__label-arrow:before {\n",
       "  /* Arrow on the left of the label */\n",
       "  content: \"▸\";\n",
       "  float: left;\n",
       "  margin-right: 0.25em;\n",
       "  color: var(--sklearn-color-icon);\n",
       "}\n",
       "\n",
       "#sk-container-id-56 label.sk-toggleable__label-arrow:hover:before {\n",
       "  color: var(--sklearn-color-text);\n",
       "}\n",
       "\n",
       "/* Toggleable content - dropdown */\n",
       "\n",
       "#sk-container-id-56 div.sk-toggleable__content {\n",
       "  max-height: 0;\n",
       "  max-width: 0;\n",
       "  overflow: hidden;\n",
       "  text-align: left;\n",
       "  /* unfitted */\n",
       "  background-color: var(--sklearn-color-unfitted-level-0);\n",
       "}\n",
       "\n",
       "#sk-container-id-56 div.sk-toggleable__content.fitted {\n",
       "  /* fitted */\n",
       "  background-color: var(--sklearn-color-fitted-level-0);\n",
       "}\n",
       "\n",
       "#sk-container-id-56 div.sk-toggleable__content pre {\n",
       "  margin: 0.2em;\n",
       "  border-radius: 0.25em;\n",
       "  color: var(--sklearn-color-text);\n",
       "  /* unfitted */\n",
       "  background-color: var(--sklearn-color-unfitted-level-0);\n",
       "}\n",
       "\n",
       "#sk-container-id-56 div.sk-toggleable__content.fitted pre {\n",
       "  /* unfitted */\n",
       "  background-color: var(--sklearn-color-fitted-level-0);\n",
       "}\n",
       "\n",
       "#sk-container-id-56 input.sk-toggleable__control:checked~div.sk-toggleable__content {\n",
       "  /* Expand drop-down */\n",
       "  max-height: 200px;\n",
       "  max-width: 100%;\n",
       "  overflow: auto;\n",
       "}\n",
       "\n",
       "#sk-container-id-56 input.sk-toggleable__control:checked~label.sk-toggleable__label-arrow:before {\n",
       "  content: \"▾\";\n",
       "}\n",
       "\n",
       "/* Pipeline/ColumnTransformer-specific style */\n",
       "\n",
       "#sk-container-id-56 div.sk-label input.sk-toggleable__control:checked~label.sk-toggleable__label {\n",
       "  color: var(--sklearn-color-text);\n",
       "  background-color: var(--sklearn-color-unfitted-level-2);\n",
       "}\n",
       "\n",
       "#sk-container-id-56 div.sk-label.fitted input.sk-toggleable__control:checked~label.sk-toggleable__label {\n",
       "  background-color: var(--sklearn-color-fitted-level-2);\n",
       "}\n",
       "\n",
       "/* Estimator-specific style */\n",
       "\n",
       "/* Colorize estimator box */\n",
       "#sk-container-id-56 div.sk-estimator input.sk-toggleable__control:checked~label.sk-toggleable__label {\n",
       "  /* unfitted */\n",
       "  background-color: var(--sklearn-color-unfitted-level-2);\n",
       "}\n",
       "\n",
       "#sk-container-id-56 div.sk-estimator.fitted input.sk-toggleable__control:checked~label.sk-toggleable__label {\n",
       "  /* fitted */\n",
       "  background-color: var(--sklearn-color-fitted-level-2);\n",
       "}\n",
       "\n",
       "#sk-container-id-56 div.sk-label label.sk-toggleable__label,\n",
       "#sk-container-id-56 div.sk-label label {\n",
       "  /* The background is the default theme color */\n",
       "  color: var(--sklearn-color-text-on-default-background);\n",
       "}\n",
       "\n",
       "/* On hover, darken the color of the background */\n",
       "#sk-container-id-56 div.sk-label:hover label.sk-toggleable__label {\n",
       "  color: var(--sklearn-color-text);\n",
       "  background-color: var(--sklearn-color-unfitted-level-2);\n",
       "}\n",
       "\n",
       "/* Label box, darken color on hover, fitted */\n",
       "#sk-container-id-56 div.sk-label.fitted:hover label.sk-toggleable__label.fitted {\n",
       "  color: var(--sklearn-color-text);\n",
       "  background-color: var(--sklearn-color-fitted-level-2);\n",
       "}\n",
       "\n",
       "/* Estimator label */\n",
       "\n",
       "#sk-container-id-56 div.sk-label label {\n",
       "  font-family: monospace;\n",
       "  font-weight: bold;\n",
       "  display: inline-block;\n",
       "  line-height: 1.2em;\n",
       "}\n",
       "\n",
       "#sk-container-id-56 div.sk-label-container {\n",
       "  text-align: center;\n",
       "}\n",
       "\n",
       "/* Estimator-specific */\n",
       "#sk-container-id-56 div.sk-estimator {\n",
       "  font-family: monospace;\n",
       "  border: 1px dotted var(--sklearn-color-border-box);\n",
       "  border-radius: 0.25em;\n",
       "  box-sizing: border-box;\n",
       "  margin-bottom: 0.5em;\n",
       "  /* unfitted */\n",
       "  background-color: var(--sklearn-color-unfitted-level-0);\n",
       "}\n",
       "\n",
       "#sk-container-id-56 div.sk-estimator.fitted {\n",
       "  /* fitted */\n",
       "  background-color: var(--sklearn-color-fitted-level-0);\n",
       "}\n",
       "\n",
       "/* on hover */\n",
       "#sk-container-id-56 div.sk-estimator:hover {\n",
       "  /* unfitted */\n",
       "  background-color: var(--sklearn-color-unfitted-level-2);\n",
       "}\n",
       "\n",
       "#sk-container-id-56 div.sk-estimator.fitted:hover {\n",
       "  /* fitted */\n",
       "  background-color: var(--sklearn-color-fitted-level-2);\n",
       "}\n",
       "\n",
       "/* Specification for estimator info (e.g. \"i\" and \"?\") */\n",
       "\n",
       "/* Common style for \"i\" and \"?\" */\n",
       "\n",
       ".sk-estimator-doc-link,\n",
       "a:link.sk-estimator-doc-link,\n",
       "a:visited.sk-estimator-doc-link {\n",
       "  float: right;\n",
       "  font-size: smaller;\n",
       "  line-height: 1em;\n",
       "  font-family: monospace;\n",
       "  background-color: var(--sklearn-color-background);\n",
       "  border-radius: 1em;\n",
       "  height: 1em;\n",
       "  width: 1em;\n",
       "  text-decoration: none !important;\n",
       "  margin-left: 0.5em;\n",
       "  text-align: center;\n",
       "  /* unfitted */\n",
       "  border: var(--sklearn-color-unfitted-level-1) 1pt solid;\n",
       "  color: var(--sklearn-color-unfitted-level-1);\n",
       "}\n",
       "\n",
       ".sk-estimator-doc-link.fitted,\n",
       "a:link.sk-estimator-doc-link.fitted,\n",
       "a:visited.sk-estimator-doc-link.fitted {\n",
       "  /* fitted */\n",
       "  border: var(--sklearn-color-fitted-level-1) 1pt solid;\n",
       "  color: var(--sklearn-color-fitted-level-1);\n",
       "}\n",
       "\n",
       "/* On hover */\n",
       "div.sk-estimator:hover .sk-estimator-doc-link:hover,\n",
       ".sk-estimator-doc-link:hover,\n",
       "div.sk-label-container:hover .sk-estimator-doc-link:hover,\n",
       ".sk-estimator-doc-link:hover {\n",
       "  /* unfitted */\n",
       "  background-color: var(--sklearn-color-unfitted-level-3);\n",
       "  color: var(--sklearn-color-background);\n",
       "  text-decoration: none;\n",
       "}\n",
       "\n",
       "div.sk-estimator.fitted:hover .sk-estimator-doc-link.fitted:hover,\n",
       ".sk-estimator-doc-link.fitted:hover,\n",
       "div.sk-label-container:hover .sk-estimator-doc-link.fitted:hover,\n",
       ".sk-estimator-doc-link.fitted:hover {\n",
       "  /* fitted */\n",
       "  background-color: var(--sklearn-color-fitted-level-3);\n",
       "  color: var(--sklearn-color-background);\n",
       "  text-decoration: none;\n",
       "}\n",
       "\n",
       "/* Span, style for the box shown on hovering the info icon */\n",
       ".sk-estimator-doc-link span {\n",
       "  display: none;\n",
       "  z-index: 9999;\n",
       "  position: relative;\n",
       "  font-weight: normal;\n",
       "  right: .2ex;\n",
       "  padding: .5ex;\n",
       "  margin: .5ex;\n",
       "  width: min-content;\n",
       "  min-width: 20ex;\n",
       "  max-width: 50ex;\n",
       "  color: var(--sklearn-color-text);\n",
       "  box-shadow: 2pt 2pt 4pt #999;\n",
       "  /* unfitted */\n",
       "  background: var(--sklearn-color-unfitted-level-0);\n",
       "  border: .5pt solid var(--sklearn-color-unfitted-level-3);\n",
       "}\n",
       "\n",
       ".sk-estimator-doc-link.fitted span {\n",
       "  /* fitted */\n",
       "  background: var(--sklearn-color-fitted-level-0);\n",
       "  border: var(--sklearn-color-fitted-level-3);\n",
       "}\n",
       "\n",
       ".sk-estimator-doc-link:hover span {\n",
       "  display: block;\n",
       "}\n",
       "\n",
       "/* \"?\"-specific style due to the `<a>` HTML tag */\n",
       "\n",
       "#sk-container-id-56 a.estimator_doc_link {\n",
       "  float: right;\n",
       "  font-size: 1rem;\n",
       "  line-height: 1em;\n",
       "  font-family: monospace;\n",
       "  background-color: var(--sklearn-color-background);\n",
       "  border-radius: 1rem;\n",
       "  height: 1rem;\n",
       "  width: 1rem;\n",
       "  text-decoration: none;\n",
       "  /* unfitted */\n",
       "  color: var(--sklearn-color-unfitted-level-1);\n",
       "  border: var(--sklearn-color-unfitted-level-1) 1pt solid;\n",
       "}\n",
       "\n",
       "#sk-container-id-56 a.estimator_doc_link.fitted {\n",
       "  /* fitted */\n",
       "  border: var(--sklearn-color-fitted-level-1) 1pt solid;\n",
       "  color: var(--sklearn-color-fitted-level-1);\n",
       "}\n",
       "\n",
       "/* On hover */\n",
       "#sk-container-id-56 a.estimator_doc_link:hover {\n",
       "  /* unfitted */\n",
       "  background-color: var(--sklearn-color-unfitted-level-3);\n",
       "  color: var(--sklearn-color-background);\n",
       "  text-decoration: none;\n",
       "}\n",
       "\n",
       "#sk-container-id-56 a.estimator_doc_link.fitted:hover {\n",
       "  /* fitted */\n",
       "  background-color: var(--sklearn-color-fitted-level-3);\n",
       "}\n",
       "</style><div id=\"sk-container-id-56\" class=\"sk-top-container\"><div class=\"sk-text-repr-fallback\"><pre>LinearRegression()</pre><b>In a Jupyter environment, please rerun this cell to show the HTML representation or trust the notebook. <br />On GitHub, the HTML representation is unable to render, please try loading this page with nbviewer.org.</b></div><div class=\"sk-container\" hidden><div class=\"sk-item\"><div class=\"sk-estimator fitted sk-toggleable\"><input class=\"sk-toggleable__control sk-hidden--visually\" id=\"sk-estimator-id-56\" type=\"checkbox\" checked><label for=\"sk-estimator-id-56\" class=\"sk-toggleable__label fitted sk-toggleable__label-arrow\"><div><div>LinearRegression</div></div><div><a class=\"sk-estimator-doc-link fitted\" rel=\"noreferrer\" target=\"_blank\" href=\"https://scikit-learn.org/1.6/modules/generated/sklearn.linear_model.LinearRegression.html\">?<span>Documentation for LinearRegression</span></a><span class=\"sk-estimator-doc-link fitted\">i<span>Fitted</span></span></div></label><div class=\"sk-toggleable__content fitted\"><pre>LinearRegression()</pre></div> </div></div></div></div>"
      ],
      "text/plain": [
       "LinearRegression()"
      ]
     },
     "metadata": {},
     "output_type": "display_data"
    },
    {
     "name": "stdout",
     "output_type": "stream",
     "text": [
      "Proviamo il modello 'TRAIN' per recuperare β₀, β₁ regressori\n",
      "Coefficienti angolari (vettore):  [1.28944624]  di cui la dimensione è  1\n",
      "Intercetta (scalare secco):  9.664498626786163\n",
      "\n",
      "\n",
      "\n",
      "\n",
      "------------------------\n",
      "4 - creare la predizione sul modello TEST, TRAIN o FULL e plot\n",
      "------------------------\n",
      "il modello ci serve per creare una retta (in questo caso di esempio, la più adatta ad approssimare i risultati del nostro esperimento anche per rilevazioni che non abbiamo.\n",
      "proviamo il modello 'FULL'\n"
     ]
    },
    {
     "data": {
      "image/png": "[encoded data removed]",
      "text/plain": [
       "<Figure size 640x480 with 1 Axes>"
      ]
     },
     "metadata": {},
     "output_type": "display_data"
    },
    {
     "name": "stdout",
     "output_type": "stream",
     "text": [
      "proviamo il modello 'TRAIN'\n"
     ]
    },
    {
     "data": {
      "image/png": "[encoded data removed]",
      "text/plain": [
       "<Figure size 640x480 with 1 Axes>"
      ]
     },
     "metadata": {},
     "output_type": "display_data"
    },
    {
     "name": "stdout",
     "output_type": "stream",
     "text": [
      "proviamo il modello 'TEST' partendo dal modello 'TRAIN'\n"
     ]
    },
    {
     "data": {
      "image/png": "[encoded data removed]",
      "text/plain": [
       "<Figure size 640x480 with 1 Axes>"
      ]
     },
     "metadata": {},
     "output_type": "display_data"
    },
    {
     "name": "stdout",
     "output_type": "stream",
     "text": [
      "Proviamo a plottare la distribuzione dell'errore assoluto delle previsioni rispetto ai dati reali\n",
      "errore 'FULL'\n"
     ]
    },
    {
     "data": {
      "image/png": "[encoded data removed]",
      "text/plain": [
       "<Figure size 640x480 with 1 Axes>"
      ]
     },
     "metadata": {},
     "output_type": "display_data"
    },
    {
     "name": "stdout",
     "output_type": "stream",
     "text": [
      "errore 'TRAIN'\n"
     ]
    },
    {
     "data": {
      "image/png": "[encoded data removed]",
      "text/plain": [
       "<Figure size 640x480 with 1 Axes>"
      ]
     },
     "metadata": {},
     "output_type": "display_data"
    },
    {
     "name": "stdout",
     "output_type": "stream",
     "text": [
      "errore 'TEST'\n"
     ]
    },
    {
     "data": {
      "image/png": "[encoded data removed]",
      "text/plain": [
       "<Figure size 640x480 with 1 Axes>"
      ]
     },
     "metadata": {},
     "output_type": "display_data"
    },
    {
     "name": "stdout",
     "output_type": "stream",
     "text": [
      "\n",
      "\n",
      "\n",
      "\n",
      "Ora visualizziamo un grafico più interattivo con plotly\n"
     ]
    },
    {
     "data": {
      "application/vnd.plotly.v1+json": {
       "config": {
        "plotlyServerURL": "https://plot.ly"
       },
       "data": [
        {
         "hovertemplate": "x=%{x}<br>y=%{y}<extra></extra>",
         "legendgroup": "",
         "marker": {
          "color": "#636efa",
          "opacity": 0.65,
          "symbol": "circle"
         },
         "mode": "markers",
         "name": "",
         "orientation": "v",
         "showlegend": false,
         "type": "scatter",
         "x": [
          32.50234526945303,
          53.42680403327502,
          61.53035802563644,
          47.4756396347861,
          59.81320786951232,
          55.14218841394382,
          52.211796692214,
          39.299566694317065,
          48.10504169176825,
          52.55001444273382,
          45.419730144973755,
          54.35163488122892,
          44.16404949677335,
          58.16847071685779,
          56.72720805709661,
          48.95588856609372,
          44.687196231480904,
          60.297326851333466,
          45.61864377295583,
          38.81681753744564,
          66.1898166067526,
          65.41605174513407,
          47.48120860786787,
          41.57564261748702,
          51.84518690563943,
          59.37082201108952,
          57.31000343834809,
          63.61556125145331,
          46.73761940797697,
          50.55676014854777,
          52.22399608555305,
          35.56783004774663,
          42.43647694405564,
          58.16454011019286,
          57.50444761534179,
          45.44053072531998,
          61.89622268029126,
          33.09383173616396,
          36.43600951138687,
          37.67565486085074,
          44.555608383275356,
          43.31828263186572,
          50.073145632289034,
          43.87061264521837,
          62.99748074755309,
          32.66904376346719,
          40.1668990087037,
          53.57507753167366,
          33.86421497177824,
          64.7071386661213,
          38.119824026822805,
          44.5025380646451,
          40.59953838455232,
          41.72067635634129,
          51.088634678336796,
          55.0780959049232,
          41.3777265348952,
          62.49469742726979,
          49.203887540826,
          41.102685187349664,
          41.18201610516982,
          50.1863894948806,
          52.37844621923622,
          50.13548548628612,
          33.64470600619178,
          39.55790122290683,
          56.13038881687547,
          57.36205213323824,
          60.269214393997906,
          35.67809388941073,
          31.58811699813283,
          53.66093226167304,
          46.68222864947192,
          43.107820219102464,
          70.34607561504933,
          44.49285588085407,
          57.50453330326841,
          36.93007660919181,
          55.80573335794274,
          38.954769073377065,
          56.901214702247074,
          56.868900661384046,
          34.33312470421609,
          59.04974121466681,
          57.78822399323067,
          54.28232870596741,
          51.08871989897914,
          50.28283634823073,
          44.21174175209011,
          38.00548800806069,
          32.940479942618296,
          53.691639571070056,
          68.76573426962166,
          46.23096649831025,
          68.31936081825536,
          50.03017434031214,
          49.23976534275376,
          50.03957593987599,
          48.14985889102886,
          25.128484647772304
         ],
         "xaxis": "x",
         "y": [
          31.70700584656992,
          68.77759598163891,
          62.5623822979458,
          71.54663223356778,
          87.23092513368739,
          78.21151827079923,
          79.64197304980874,
          59.17148932186951,
          75.33124229706306,
          71.30087988685035,
          55.16567714595912,
          82.47884675749792,
          62.008923245725825,
          75.39287042599496,
          81.43619215887864,
          60.723602440673965,
          82.89250373145371,
          97.37989686216608,
          48.84715331735507,
          56.877213186268506,
          83.87856466460276,
          118.5912173025225,
          57.25181946226897,
          51.39174407983231,
          75.38065166531236,
          74.76556403215137,
          95.45505292257474,
          95.22936601755531,
          79.05240616956559,
          83.43207142132371,
          63.35879031749788,
          41.41288530370056,
          76.61734128007404,
          96.7695664261082,
          74.08413011660252,
          66.5881444142286,
          77.76848241779302,
          50.71958891231208,
          62.12457081807178,
          60.81024664990221,
          52.68298336638778,
          58.56982471769287,
          82.90598148507051,
          61.42470980433912,
          115.24415280079529,
          45.570588823376085,
          54.08405479622361,
          87.99445275811041,
          52.725494375900425,
          93.57611869265824,
          80.16627544737096,
          65.10171157056033,
          65.56230126040037,
          65.28088692082282,
          73.4346415463243,
          71.13972785861894,
          79.10282968354986,
          86.52053844034715,
          84.74269780782622,
          59.35885024862493,
          61.68403752483363,
          69.84760415824918,
          86.0982912057741,
          59.10883926769964,
          69.89968164362763,
          44.8624907111644,
          85.49806777884022,
          95.53668684646722,
          70.25193441977159,
          52.72173496477499,
          50.3926701350799,
          63.64239877565775,
          72.24725106866237,
          57.8125129761814,
          104.25710158543822,
          86.642020318822,
          91.48677800011014,
          55.231660886212836,
          79.55043667850761,
          44.8471242424676,
          80.20752313968276,
          83.14274979204346,
          55.723489260543914,
          77.63418251167786,
          99.05141484174827,
          79.12064627468003,
          69.58889785111847,
          69.51050331149439,
          73.68756431831729,
          61.36690453724013,
          67.17065576899512,
          85.66820314500154,
          114.85387123391394,
          90.12357206996742,
          97.91982103524285,
          81.53699078301503,
          72.11183246961566,
          85.23200734232567,
          66.22495788805463,
          53.454394214850524
         ],
         "yaxis": "y"
        },
        {
         "hovertemplate": "<b>OLS trendline</b><br>y = 1.32243 * x + 7.99102<br>R<sup>2</sup>=0.598656<br><br>x=%{x}<br>y=%{y} <b>(trend)</b><extra></extra>",
         "legendgroup": "",
         "line": {
          "color": "darkblue"
         },
         "marker": {
          "color": "#636efa",
          "symbol": "circle"
         },
         "mode": "lines",
         "name": "",
         "showlegend": false,
         "type": "scatter",
         "x": [
          25.128484647772304,
          31.58811699813283,
          32.50234526945303,
          32.66904376346719,
          32.940479942618296,
          33.09383173616396,
          33.64470600619178,
          33.86421497177824,
          34.33312470421609,
          35.56783004774663,
          35.67809388941073,
          36.43600951138687,
          36.93007660919181,
          37.67565486085074,
          38.00548800806069,
          38.119824026822805,
          38.81681753744564,
          38.954769073377065,
          39.299566694317065,
          39.55790122290683,
          40.1668990087037,
          40.59953838455232,
          41.102685187349664,
          41.18201610516982,
          41.3777265348952,
          41.57564261748702,
          41.72067635634129,
          42.43647694405564,
          43.107820219102464,
          43.31828263186572,
          43.87061264521837,
          44.16404949677335,
          44.21174175209011,
          44.49285588085407,
          44.5025380646451,
          44.555608383275356,
          44.687196231480904,
          45.419730144973755,
          45.44053072531998,
          45.61864377295583,
          46.23096649831025,
          46.68222864947192,
          46.73761940797697,
          47.4756396347861,
          47.48120860786787,
          48.10504169176825,
          48.14985889102886,
          48.95588856609372,
          49.203887540826,
          49.23976534275376,
          50.03017434031214,
          50.03957593987599,
          50.073145632289034,
          50.13548548628612,
          50.1863894948806,
          50.28283634823073,
          50.55676014854777,
          51.088634678336796,
          51.08871989897914,
          51.84518690563943,
          52.211796692214,
          52.22399608555305,
          52.37844621923622,
          52.55001444273382,
          53.42680403327502,
          53.57507753167366,
          53.66093226167304,
          53.691639571070056,
          54.28232870596741,
          54.35163488122892,
          55.0780959049232,
          55.14218841394382,
          55.80573335794274,
          56.13038881687547,
          56.72720805709661,
          56.868900661384046,
          56.901214702247074,
          57.31000343834809,
          57.36205213323824,
          57.50444761534179,
          57.50453330326841,
          57.78822399323067,
          58.16454011019286,
          58.16847071685779,
          59.04974121466681,
          59.37082201108952,
          59.81320786951232,
          60.269214393997906,
          60.297326851333466,
          61.53035802563644,
          61.89622268029126,
          62.49469742726979,
          62.99748074755309,
          63.61556125145331,
          64.7071386661213,
          65.41605174513407,
          66.1898166067526,
          68.31936081825536,
          68.76573426962166,
          70.34607561504933
         ],
         "xaxis": "x",
         "y": [
          41.22170863531625,
          49.76412685102713,
          50.97313067890097,
          51.19357793883188,
          51.5525335628395,
          51.75533073201946,
          52.483823956341965,
          52.77410942220642,
          53.39421019925416,
          55.02702284950077,
          55.17283917440555,
          56.17513030553772,
          56.82849996299768,
          57.814475772883156,
          58.25065735908662,
          58.401858857315986,
          59.32358469842278,
          59.50601608917526,
          59.96198715967856,
          60.303616754534545,
          61.10897431926165,
          61.68111005154937,
          62.34648699256876,
          62.4513966593578,
          62.710210203103415,
          62.97194057062505,
          63.16373768623214,
          64.11033458953212,
          64.99813976337221,
          65.2764617871343,
          66.00688013159072,
          66.39493012730668,
          66.45799984528273,
          66.82975389009503,
          66.84255791030832,
          66.91273974605248,
          67.08675559873711,
          68.05548117116045,
          68.08298850390162,
          68.31853072365277,
          69.12828529159957,
          69.72504835969107,
          69.7982988171121,
          70.77427966046544,
          70.78164424323367,
          71.60662046640468,
          71.66588812105992,
          72.73180676862711,
          73.0597683064246,
          73.10721422472214,
          74.15247560375832,
          74.16490857068507,
          74.20930217335643,
          74.29174233023622,
          74.35905937038416,
          74.48660368130152,
          74.84884901271181,
          75.55221639111824,
          75.55232908953946,
          76.5527045268379,
          77.03752068184984,
          77.05365353806019,
          77.25790318631152,
          77.48479032758378,
          78.64428408254443,
          78.84036555667926,
          78.95390251508073,
          78.99451081365268,
          79.77565645044547,
          79.86730908667981,
          80.82800368123576,
          80.91276160349085,
          81.79025402242749,
          82.219588473027,
          83.00884075127273,
          83.19621944687742,
          83.23895253698528,
          83.77954744335821,
          83.84837825217488,
          84.03668645520882,
          84.03679977158126,
          84.41196114085423,
          84.90961324828785,
          84.9148112044798,
          86.08023065022152,
          86.50483785622191,
          87.08986263942847,
          87.69289981398707,
          87.7300765996935,
          89.36067527661622,
          89.84450604606144,
          90.6359476178015,
          91.30084387826808,
          92.118212711186,
          93.56174854808204,
          94.49923719620556,
          95.5224878535279,
          98.33866318314826,
          98.92896128296944,
          101.01885370470593
         ],
         "yaxis": "y"
        },
        {
         "line": {
          "color": "purple"
         },
         "mode": "lines",
         "name": "y_pred_full",
         "type": "scatter",
         "x": [
          32.50234526945303,
          53.42680403327502,
          61.53035802563644,
          47.4756396347861,
          59.81320786951232,
          55.14218841394382,
          52.211796692214,
          39.299566694317065,
          48.10504169176825,
          52.55001444273382,
          45.419730144973755,
          54.35163488122892,
          44.16404949677335,
          58.16847071685779,
          56.72720805709661,
          48.95588856609372,
          44.687196231480904,
          60.297326851333466,
          45.61864377295583,
          38.81681753744564,
          66.1898166067526,
          65.41605174513407,
          47.48120860786787,
          41.57564261748702,
          51.84518690563943,
          59.37082201108952,
          57.31000343834809,
          63.61556125145331,
          46.73761940797697,
          50.55676014854777,
          52.22399608555305,
          35.56783004774663,
          42.43647694405564,
          58.16454011019286,
          57.50444761534179,
          45.44053072531998,
          61.89622268029126,
          33.09383173616396,
          36.43600951138687,
          37.67565486085074,
          44.555608383275356,
          43.31828263186572,
          50.073145632289034,
          43.87061264521837,
          62.99748074755309,
          32.66904376346719,
          40.1668990087037,
          53.57507753167366,
          33.86421497177824,
          64.7071386661213,
          38.119824026822805,
          44.5025380646451,
          40.59953838455232,
          41.72067635634129,
          51.088634678336796,
          55.0780959049232,
          41.3777265348952,
          62.49469742726979,
          49.203887540826,
          41.102685187349664,
          41.18201610516982,
          50.1863894948806,
          52.37844621923622,
          50.13548548628612,
          33.64470600619178,
          39.55790122290683,
          56.13038881687547,
          57.36205213323824,
          60.269214393997906,
          35.67809388941073,
          31.58811699813283,
          53.66093226167304,
          46.68222864947192,
          43.107820219102464,
          70.34607561504933,
          44.49285588085407,
          57.50453330326841,
          36.93007660919181,
          55.80573335794274,
          38.954769073377065,
          56.901214702247074,
          56.868900661384046,
          34.33312470421609,
          59.04974121466681,
          57.78822399323067,
          54.28232870596741,
          51.08871989897914,
          50.28283634823073,
          44.21174175209011,
          38.00548800806069,
          32.940479942618296,
          53.691639571070056,
          68.76573426962166,
          46.23096649831025,
          68.31936081825536,
          50.03017434031214,
          49.23976534275376,
          50.03957593987599,
          48.14985889102886,
          25.128484647772304
         ],
         "y": [
          50.973130678901,
          78.64428408254446,
          89.36067527661625,
          70.77427966046548,
          87.0898626394285,
          80.91276160349088,
          77.03752068184987,
          59.961987159678586,
          71.6066204664047,
          77.48479032758381,
          68.0554811711605,
          79.86730908667984,
          66.39493012730671,
          84.91481120447983,
          83.00884075127276,
          72.73180676862714,
          67.08675559873714,
          87.73007659969353,
          68.3185307236528,
          59.32358469842281,
          95.52248785352793,
          94.49923719620558,
          70.7816442432337,
          62.97194057062508,
          76.55270452683793,
          86.50483785622194,
          83.77954744335824,
          92.11821271118603,
          69.79829881711214,
          74.84884901271184,
          77.05365353806022,
          55.027022849500796,
          64.11033458953214,
          84.90961324828788,
          84.03668645520885,
          68.08298850390165,
          89.84450604606147,
          51.755330732019495,
          56.175130305537756,
          57.814475772883185,
          66.91273974605251,
          65.27646178713432,
          74.20930217335646,
          66.00688013159075,
          91.30084387826811,
          51.193577938831915,
          61.108974319261684,
          78.84036555667929,
          52.77410942220646,
          93.56174854808206,
          58.401858857316014,
          66.84255791030836,
          61.6811100515494,
          63.16373768623217,
          75.55221639111826,
          80.82800368123578,
          62.71021020310345,
          90.63594761780153,
          73.05976830642463,
          62.34648699256879,
          62.451396659357826,
          74.35905937038419,
          77.25790318631155,
          74.29174233023625,
          52.48382395634199,
          60.30361675453457,
          82.21958847302703,
          83.84837825217491,
          87.6928998139871,
          55.17283917440558,
          49.76412685102716,
          78.95390251508076,
          69.7250483596911,
          64.99813976337225,
          101.01885370470596,
          66.82975389009508,
          84.03679977158129,
          56.82849996299771,
          81.79025402242752,
          59.50601608917529,
          83.23895253698531,
          83.19621944687745,
          53.39421019925419,
          86.08023065022155,
          84.41196114085426,
          79.7756564504455,
          75.55232908953948,
          74.48660368130155,
          66.45799984528276,
          58.25065735908665,
          51.55253356283953,
          78.99451081365271,
          98.92896128296947,
          69.1282852915996,
          98.33866318314828,
          74.15247560375835,
          73.10721422472217,
          74.1649085706851,
          71.66588812105995,
          41.22170863531628
         ]
        },
        {
         "line": {
          "color": "orange"
         },
         "mode": "lines",
         "name": "y_pred_train",
         "type": "scatter",
         "x": [
          62.99748074755309,
          44.555608383275356,
          55.14218841394382,
          33.86421497177824,
          41.57564261748702,
          39.55790122290683,
          45.44053072531998,
          50.073145632289034,
          64.7071386661213,
          45.419730144973755,
          39.299566694317065,
          53.691639571070056,
          44.49285588085407,
          43.107820219102464,
          42.43647694405564,
          47.48120860786787,
          38.81681753744564,
          45.61864377295583,
          32.66904376346719,
          53.42680403327502,
          49.23976534275376,
          40.1668990087037,
          52.22399608555305,
          57.78822399323067,
          59.81320786951232,
          50.1863894948806,
          44.687196231480904,
          54.35163488122892,
          36.43600951138687,
          48.14985889102886,
          52.55001444273382,
          70.34607561504933,
          53.66093226167304,
          58.16454011019286,
          44.16404949677335,
          66.1898166067526,
          68.31936081825536,
          57.36205213323824,
          50.13548548628612,
          44.5025380646451,
          25.128484647772304,
          55.0780959049232,
          63.61556125145331,
          46.73761940797697,
          62.49469742726979,
          36.93007660919181,
          50.03017434031214,
          35.67809388941073,
          68.76573426962166,
          50.28283634823073,
          57.31000343834809,
          41.102685187349664,
          48.10504169176825,
          50.55676014854777,
          59.37082201108952,
          38.954769073377065,
          31.58811699813283,
          46.68222864947192,
          46.23096649831025,
          52.37844621923622,
          51.088634678336796,
          38.119824026822805,
          59.04974121466681,
          56.13038881687547,
          37.67565486085074,
          56.72720805709661,
          44.21174175209011,
          41.3777265348952,
          51.08871989897914,
          60.297326851333466,
          53.57507753167366,
          61.89622268029126,
          32.50234526945303,
          33.64470600619178,
          61.53035802563644,
          32.940479942618296,
          47.4756396347861,
          38.00548800806069,
          48.95588856609372,
          54.28232870596741
         ],
         "y": [
          90.89636340654192,
          67.11656039848735,
          80.76738623035564,
          53.3305833466409,
          63.27405474171596,
          60.67228568396804,
          68.25762018653842,
          74.23112806707707,
          93.10087538404932,
          68.23079895638801,
          60.33917719700428,
          78.89698147666508,
          67.03564442008968,
          65.24971539157187,
          64.38405432874406,
          70.88896461249162,
          59.716698111044266,
          68.48728738639112,
          51.78947432402412,
          78.55549028781502,
          73.15652898491818,
          61.45755559000224,
          77.00453410026682,
          84.17930686318826,
          86.79041471174594,
          74.37714994007925,
          67.2862358547953,
          79.7480099488184,
          56.646774149888486,
          71.75115320705362,
          77.42491724562387,
          100.3719814394241,
          78.85738605197366,
          84.66454626585602,
          66.61166626392503,
          95.0127088820891,
          97.75864166191732,
          83.62978116004834,
          74.31151195751508,
          67.04812907558943,
          42.06632871278199,
          80.68474238548475,
          91.69334498929794,
          69.9301463134032,
          90.24805134386702,
          57.28384711224779,
          74.17571889614109,
          55.66948269968678,
          98.33421623112847,
          74.50151297264503,
          83.56266716604244,
          62.66420156099189,
          71.6933638379083,
          74.85472298744668,
          86.21998192926878,
          59.89457920057302,
          50.39567736902652,
          69.85872290802988,
          69.27684462324132,
          77.20368924465811,
          75.54054660088215,
          58.81796244835699,
          85.80596550307385,
          82.04161752585648,
          58.24523018666284,
          82.81118385207,
          66.67316286329631,
          63.01885259286714,
          75.54065648831914,
          87.41466011333901,
          78.74668099305299,
          89.47635033068727,
          51.574525577438365,
          53.047538335969485,
          89.0045875268109,
          52.13947668506287,
          70.8817837210818,
          58.67053229868547,
          72.79048514217837,
          79.65864336160826
         ]
        },
        {
         "line": {
          "color": "green"
         },
         "mode": "lines",
         "name": "y_pred_test",
         "type": "scatter",
         "x": [
          43.31828263186572,
          41.18201610516982,
          55.80573335794274,
          57.50453330326841,
          52.211796692214,
          56.901214702247074,
          49.203887540826,
          57.50444761534179,
          34.33312470421609,
          50.03957593987599,
          60.269214393997906,
          41.72067635634129,
          51.84518690563943,
          58.16847071685779,
          43.87061264521837,
          33.09383173616396,
          56.868900661384046,
          65.41605174513407,
          40.59953838455232,
          35.56783004774663
         ],
         "y": [
          65.52109535870605,
          62.76649451481721,
          81.62299176452305,
          83.81350296924151,
          76.98880363837608,
          83.03555606667146,
          73.11026648806582,
          83.81339247926658,
          53.93521723877923,
          74.18784175336364,
          87.37841061088574,
          63.461067951185775,
          76.5160800269463,
          84.66961457184729,
          66.2332952185426,
          52.337215578891865,
          82.99388884812993,
          94.01498068939841,
          62.01542080715535,
          55.52730340346941
         ]
        }
       ],
       "layout": {
        "height": 360,
        "legend": {
         "tracegroupgap": 0
        },
        "margin": {
         "t": 60
        },
        "template": {
         "data": {
          "bar": [
           {
            "error_x": {
             "color": "#2a3f5f"
            },
            "error_y": {
             "color": "#2a3f5f"
            },
            "marker": {
             "line": {
              "color": "#E5ECF6",
              "width": 0.5
             },
             "pattern": {
              "fillmode": "overlay",
              "size": 10,
              "solidity": 0.2
             }
            },
            "type": "bar"
           }
          ],
          "barpolar": [
           {
            "marker": {
             "line": {
              "color": "#E5ECF6",
              "width": 0.5
             },
             "pattern": {
              "fillmode": "overlay",
              "size": 10,
              "solidity": 0.2
             }
            },
            "type": "barpolar"
           }
          ],
          "carpet": [
           {
            "aaxis": {
             "endlinecolor": "#2a3f5f",
             "gridcolor": "white",
             "linecolor": "white",
             "minorgridcolor": "white",
             "startlinecolor": "#2a3f5f"
            },
            "baxis": {
             "endlinecolor": "#2a3f5f",
             "gridcolor": "white",
             "linecolor": "white",
             "minorgridcolor": "white",
             "startlinecolor": "#2a3f5f"
            },
            "type": "carpet"
           }
          ],
          "choropleth": [
           {
            "colorbar": {
             "outlinewidth": 0,
             "ticks": ""
            },
            "type": "choropleth"
           }
          ],
          "contour": [
           {
            "colorbar": {
             "outlinewidth": 0,
             "ticks": ""
            },
            "colorscale": [
             [
              0,
              "#0d0887"
             ],
             [
              0.1111111111111111,
              "#46039f"
             ],
             [
              0.2222222222222222,
              "#7201a8"
             ],
             [
              0.3333333333333333,
              "#9c179e"
             ],
             [
              0.4444444444444444,
              "#bd3786"
             ],
             [
              0.5555555555555556,
              "#d8576b"
             ],
             [
              0.6666666666666666,
              "#ed7953"
             ],
             [
              0.7777777777777778,
              "#fb9f3a"
             ],
             [
              0.8888888888888888,
              "#fdca26"
             ],
             [
              1,
              "#f0f921"
             ]
            ],
            "type": "contour"
           }
          ],
          "contourcarpet": [
           {
            "colorbar": {
             "outlinewidth": 0,
             "ticks": ""
            },
            "type": "contourcarpet"
           }
          ],
          "heatmap": [
           {
            "colorbar": {
             "outlinewidth": 0,
             "ticks": ""
            },
            "colorscale": [
             [
              0,
              "#0d0887"
             ],
             [
              0.1111111111111111,
              "#46039f"
             ],
             [
              0.2222222222222222,
              "#7201a8"
             ],
             [
              0.3333333333333333,
              "#9c179e"
             ],
             [
              0.4444444444444444,
              "#bd3786"
             ],
             [
              0.5555555555555556,
              "#d8576b"
             ],
             [
              0.6666666666666666,
              "#ed7953"
             ],
             [
              0.7777777777777778,
              "#fb9f3a"
             ],
             [
              0.8888888888888888,
              "#fdca26"
             ],
             [
              1,
              "#f0f921"
             ]
            ],
            "type": "heatmap"
           }
          ],
          "heatmapgl": [
           {
            "colorbar": {
             "outlinewidth": 0,
             "ticks": ""
            },
            "colorscale": [
             [
              0,
              "#0d0887"
             ],
             [
              0.1111111111111111,
              "#46039f"
             ],
             [
              0.2222222222222222,
              "#7201a8"
             ],
             [
              0.3333333333333333,
              "#9c179e"
             ],
             [
              0.4444444444444444,
              "#bd3786"
             ],
             [
              0.5555555555555556,
              "#d8576b"
             ],
             [
              0.6666666666666666,
              "#ed7953"
             ],
             [
              0.7777777777777778,
              "#fb9f3a"
             ],
             [
              0.8888888888888888,
              "#fdca26"
             ],
             [
              1,
              "#f0f921"
             ]
            ],
            "type": "heatmapgl"
           }
          ],
          "histogram": [
           {
            "marker": {
             "pattern": {
              "fillmode": "overlay",
              "size": 10,
              "solidity": 0.2
             }
            },
            "type": "histogram"
           }
          ],
          "histogram2d": [
           {
            "colorbar": {
             "outlinewidth": 0,
             "ticks": ""
            },
            "colorscale": [
             [
              0,
              "#0d0887"
             ],
             [
              0.1111111111111111,
              "#46039f"
             ],
             [
              0.2222222222222222,
              "#7201a8"
             ],
             [
              0.3333333333333333,
              "#9c179e"
             ],
             [
              0.4444444444444444,
              "#bd3786"
             ],
             [
              0.5555555555555556,
              "#d8576b"
             ],
             [
              0.6666666666666666,
              "#ed7953"
             ],
             [
              0.7777777777777778,
              "#fb9f3a"
             ],
             [
              0.8888888888888888,
              "#fdca26"
             ],
             [
              1,
              "#f0f921"
             ]
            ],
            "type": "histogram2d"
           }
          ],
          "histogram2dcontour": [
           {
            "colorbar": {
             "outlinewidth": 0,
             "ticks": ""
            },
            "colorscale": [
             [
              0,
              "#0d0887"
             ],
             [
              0.1111111111111111,
              "#46039f"
             ],
             [
              0.2222222222222222,
              "#7201a8"
             ],
             [
              0.3333333333333333,
              "#9c179e"
             ],
             [
              0.4444444444444444,
              "#bd3786"
             ],
             [
              0.5555555555555556,
              "#d8576b"
             ],
             [
              0.6666666666666666,
              "#ed7953"
             ],
             [
              0.7777777777777778,
              "#fb9f3a"
             ],
             [
              0.8888888888888888,
              "#fdca26"
             ],
             [
              1,
              "#f0f921"
             ]
            ],
            "type": "histogram2dcontour"
           }
          ],
          "mesh3d": [
           {
            "colorbar": {
             "outlinewidth": 0,
             "ticks": ""
            },
            "type": "mesh3d"
           }
          ],
          "parcoords": [
           {
            "line": {
             "colorbar": {
              "outlinewidth": 0,
              "ticks": ""
             }
            },
            "type": "parcoords"
           }
          ],
          "pie": [
           {
            "automargin": true,
            "type": "pie"
           }
          ],
          "scatter": [
           {
            "fillpattern": {
             "fillmode": "overlay",
             "size": 10,
             "solidity": 0.2
            },
            "type": "scatter"
           }
          ],
          "scatter3d": [
           {
            "line": {
             "colorbar": {
              "outlinewidth": 0,
              "ticks": ""
             }
            },
            "marker": {
             "colorbar": {
              "outlinewidth": 0,
              "ticks": ""
             }
            },
            "type": "scatter3d"
           }
          ],
          "scattercarpet": [
           {
            "marker": {
             "colorbar": {
              "outlinewidth": 0,
              "ticks": ""
             }
            },
            "type": "scattercarpet"
           }
          ],
          "scattergeo": [
           {
            "marker": {
             "colorbar": {
              "outlinewidth": 0,
              "ticks": ""
             }
            },
            "type": "scattergeo"
           }
          ],
          "scattergl": [
           {
            "marker": {
             "colorbar": {
              "outlinewidth": 0,
              "ticks": ""
             }
            },
            "type": "scattergl"
           }
          ],
          "scattermapbox": [
           {
            "marker": {
             "colorbar": {
              "outlinewidth": 0,
              "ticks": ""
             }
            },
            "type": "scattermapbox"
           }
          ],
          "scatterpolar": [
           {
            "marker": {
             "colorbar": {
              "outlinewidth": 0,
              "ticks": ""
             }
            },
            "type": "scatterpolar"
           }
          ],
          "scatterpolargl": [
           {
            "marker": {
             "colorbar": {
              "outlinewidth": 0,
              "ticks": ""
             }
            },
            "type": "scatterpolargl"
           }
          ],
          "scatterternary": [
           {
            "marker": {
             "colorbar": {
              "outlinewidth": 0,
              "ticks": ""
             }
            },
            "type": "scatterternary"
           }
          ],
          "surface": [
           {
            "colorbar": {
             "outlinewidth": 0,
             "ticks": ""
            },
            "colorscale": [
             [
              0,
              "#0d0887"
             ],
             [
              0.1111111111111111,
              "#46039f"
             ],
             [
              0.2222222222222222,
              "#7201a8"
             ],
             [
              0.3333333333333333,
              "#9c179e"
             ],
             [
              0.4444444444444444,
              "#bd3786"
             ],
             [
              0.5555555555555556,
              "#d8576b"
             ],
             [
              0.6666666666666666,
              "#ed7953"
             ],
             [
              0.7777777777777778,
              "#fb9f3a"
             ],
             [
              0.8888888888888888,
              "#fdca26"
             ],
             [
              1,
              "#f0f921"
             ]
            ],
            "type": "surface"
           }
          ],
          "table": [
           {
            "cells": {
             "fill": {
              "color": "#EBF0F8"
             },
             "line": {
              "color": "white"
             }
            },
            "header": {
             "fill": {
              "color": "#C8D4E3"
             },
             "line": {
              "color": "white"
             }
            },
            "type": "table"
           }
          ]
         },
         "layout": {
          "annotationdefaults": {
           "arrowcolor": "#2a3f5f",
           "arrowhead": 0,
           "arrowwidth": 1
          },
          "autotypenumbers": "strict",
          "coloraxis": {
           "colorbar": {
            "outlinewidth": 0,
            "ticks": ""
           }
          },
          "colorscale": {
           "diverging": [
            [
             0,
             "#8e0152"
            ],
            [
             0.1,
             "#c51b7d"
            ],
            [
             0.2,
             "#de77ae"
            ],
            [
             0.3,
             "#f1b6da"
            ],
            [
             0.4,
             "#fde0ef"
            ],
            [
             0.5,
             "#f7f7f7"
            ],
            [
             0.6,
             "#e6f5d0"
            ],
            [
             0.7,
             "#b8e186"
            ],
            [
             0.8,
             "#7fbc41"
            ],
            [
             0.9,
             "#4d9221"
            ],
            [
             1,
             "#276419"
            ]
           ],
           "sequential": [
            [
             0,
             "#0d0887"
            ],
            [
             0.1111111111111111,
             "#46039f"
            ],
            [
             0.2222222222222222,
             "#7201a8"
            ],
            [
             0.3333333333333333,
             "#9c179e"
            ],
            [
             0.4444444444444444,
             "#bd3786"
            ],
            [
             0.5555555555555556,
             "#d8576b"
            ],
            [
             0.6666666666666666,
             "#ed7953"
            ],
            [
             0.7777777777777778,
             "#fb9f3a"
            ],
            [
             0.8888888888888888,
             "#fdca26"
            ],
            [
             1,
             "#f0f921"
            ]
           ],
           "sequentialminus": [
            [
             0,
             "#0d0887"
            ],
            [
             0.1111111111111111,
             "#46039f"
            ],
            [
             0.2222222222222222,
             "#7201a8"
            ],
            [
             0.3333333333333333,
             "#9c179e"
            ],
            [
             0.4444444444444444,
             "#bd3786"
            ],
            [
             0.5555555555555556,
             "#d8576b"
            ],
            [
             0.6666666666666666,
             "#ed7953"
            ],
            [
             0.7777777777777778,
             "#fb9f3a"
            ],
            [
             0.8888888888888888,
             "#fdca26"
            ],
            [
             1,
             "#f0f921"
            ]
           ]
          },
          "colorway": [
           "#636efa",
           "#EF553B",
           "#00cc96",
           "#ab63fa",
           "#FFA15A",
           "#19d3f3",
           "#FF6692",
           "#B6E880",
           "#FF97FF",
           "#FECB52"
          ],
          "font": {
           "color": "#2a3f5f"
          },
          "geo": {
           "bgcolor": "white",
           "lakecolor": "white",
           "landcolor": "#E5ECF6",
           "showlakes": true,
           "showland": true,
           "subunitcolor": "white"
          },
          "hoverlabel": {
           "align": "left"
          },
          "hovermode": "closest",
          "mapbox": {
           "style": "light"
          },
          "paper_bgcolor": "white",
          "plot_bgcolor": "#E5ECF6",
          "polar": {
           "angularaxis": {
            "gridcolor": "white",
            "linecolor": "white",
            "ticks": ""
           },
           "bgcolor": "#E5ECF6",
           "radialaxis": {
            "gridcolor": "white",
            "linecolor": "white",
            "ticks": ""
           }
          },
          "scene": {
           "xaxis": {
            "backgroundcolor": "#E5ECF6",
            "gridcolor": "white",
            "gridwidth": 2,
            "linecolor": "white",
            "showbackground": true,
            "ticks": "",
            "zerolinecolor": "white"
           },
           "yaxis": {
            "backgroundcolor": "#E5ECF6",
            "gridcolor": "white",
            "gridwidth": 2,
            "linecolor": "white",
            "showbackground": true,
            "ticks": "",
            "zerolinecolor": "white"
           },
           "zaxis": {
            "backgroundcolor": "#E5ECF6",
            "gridcolor": "white",
            "gridwidth": 2,
            "linecolor": "white",
            "showbackground": true,
            "ticks": "",
            "zerolinecolor": "white"
           }
          },
          "shapedefaults": {
           "line": {
            "color": "#2a3f5f"
           }
          },
          "ternary": {
           "aaxis": {
            "gridcolor": "white",
            "linecolor": "white",
            "ticks": ""
           },
           "baxis": {
            "gridcolor": "white",
            "linecolor": "white",
            "ticks": ""
           },
           "bgcolor": "#E5ECF6",
           "caxis": {
            "gridcolor": "white",
            "linecolor": "white",
            "ticks": ""
           }
          },
          "title": {
           "x": 0.05
          },
          "xaxis": {
           "automargin": true,
           "gridcolor": "white",
           "linecolor": "white",
           "ticks": "",
           "title": {
            "standoff": 15
           },
           "zerolinecolor": "white",
           "zerolinewidth": 2
          },
          "yaxis": {
           "automargin": true,
           "gridcolor": "white",
           "linecolor": "white",
           "ticks": "",
           "title": {
            "standoff": 15
           },
           "zerolinecolor": "white",
           "zerolinewidth": 2
          }
         }
        },
        "width": 800,
        "xaxis": {
         "anchor": "y",
         "autorange": true,
         "domain": [
          0,
          1
         ],
         "range": [
          22.251479295699767,
          73.22308096712186
         ],
         "title": {
          "text": "x"
         },
         "type": "linear"
        },
        "yaxis": {
         "anchor": "x",
         "autorange": true,
         "domain": [
          0,
          1
         ],
         "range": [
          24.979750628851807,
          125.3184725202406
         ],
         "title": {
          "text": "y"
         },
         "type": "linear"
        }
       }
      },
      "image/png": "[encoded data removed]",
      "text/html": [
       "<div>                            <div id=\"70f6c68f-7ba0-449c-80dc-41236128a656\" class=\"plotly-graph-div\" style=\"height:525px; width:800px;\"></div>            <script type=\"text/javascript\">                require([\"plotly\"], function(Plotly) {                    window.PLOTLYENV=window.PLOTLYENV || {};                                    if (document.getElementById(\"70f6c68f-7ba0-449c-80dc-41236128a656\")) {                    Plotly.newPlot(                        \"70f6c68f-7ba0-449c-80dc-41236128a656\",                        [{\"hovertemplate\":\"x=%{x}\\u003cbr\\u003ey=%{y}\\u003cextra\\u003e\\u003c\\u002fextra\\u003e\",\"legendgroup\":\"\",\"marker\":{\"color\":\"#636efa\",\"opacity\":0.65,\"symbol\":\"circle\"},\"mode\":\"markers\",\"name\":\"\",\"orientation\":\"v\",\"showlegend\":false,\"x\":[32.50234526945303,53.42680403327502,61.53035802563644,47.4756396347861,59.81320786951232,55.14218841394382,52.211796692214,39.299566694317065,48.10504169176825,52.55001444273382,45.419730144973755,54.35163488122892,44.16404949677335,58.16847071685779,56.72720805709661,48.95588856609372,44.687196231480904,60.297326851333466,45.61864377295583,38.81681753744564,66.1898166067526,65.41605174513407,47.48120860786787,41.57564261748702,51.84518690563943,59.37082201108952,57.31000343834809,63.61556125145331,46.73761940797697,50.55676014854777,52.22399608555305,35.56783004774663,42.43647694405564,58.16454011019286,57.50444761534179,45.44053072531998,61.89622268029126,33.09383173616396,36.43600951138687,37.67565486085074,44.555608383275356,43.31828263186572,50.073145632289034,43.87061264521837,62.99748074755309,32.66904376346719,40.1668990087037,53.57507753167366,33.86421497177824,64.7071386661213,38.119824026822805,44.5025380646451,40.59953838455232,41.72067635634129,51.088634678336796,55.0780959049232,41.3777265348952,62.49469742726979,49.203887540826,41.102685187349664,41.18201610516982,50.1863894948806,52.37844621923622,50.13548548628612,33.64470600619178,39.55790122290683,56.13038881687547,57.36205213323824,60.269214393997906,35.67809388941073,31.58811699813283,53.66093226167304,46.68222864947192,43.107820219102464,70.34607561504933,44.49285588085407,57.50453330326841,36.93007660919181,55.80573335794274,38.954769073377065,56.901214702247074,56.868900661384046,34.33312470421609,59.04974121466681,57.78822399323067,54.28232870596741,51.08871989897914,50.28283634823073,44.21174175209011,38.00548800806069,32.940479942618296,53.691639571070056,68.76573426962166,46.23096649831025,68.31936081825536,50.03017434031214,49.23976534275376,50.03957593987599,48.14985889102886,25.128484647772304],\"xaxis\":\"x\",\"y\":[31.70700584656992,68.77759598163891,62.5623822979458,71.54663223356778,87.23092513368739,78.21151827079923,79.64197304980874,59.17148932186951,75.33124229706306,71.30087988685035,55.16567714595912,82.47884675749792,62.008923245725825,75.39287042599496,81.43619215887864,60.723602440673965,82.89250373145371,97.37989686216608,48.84715331735507,56.877213186268506,83.87856466460276,118.5912173025225,57.25181946226897,51.39174407983231,75.38065166531236,74.76556403215137,95.45505292257474,95.22936601755531,79.05240616956559,83.43207142132371,63.35879031749788,41.41288530370056,76.61734128007404,96.7695664261082,74.08413011660252,66.5881444142286,77.76848241779302,50.71958891231208,62.12457081807178,60.81024664990221,52.68298336638778,58.56982471769287,82.90598148507051,61.42470980433912,115.24415280079529,45.570588823376085,54.08405479622361,87.99445275811041,52.725494375900425,93.57611869265824,80.16627544737096,65.10171157056033,65.56230126040037,65.28088692082282,73.4346415463243,71.13972785861894,79.10282968354986,86.52053844034715,84.74269780782622,59.35885024862493,61.68403752483363,69.84760415824918,86.0982912057741,59.10883926769964,69.89968164362763,44.8624907111644,85.49806777884022,95.53668684646722,70.25193441977159,52.72173496477499,50.3926701350799,63.64239877565775,72.24725106866237,57.8125129761814,104.25710158543822,86.642020318822,91.48677800011014,55.231660886212836,79.55043667850761,44.8471242424676,80.20752313968276,83.14274979204346,55.723489260543914,77.63418251167786,99.05141484174827,79.12064627468003,69.58889785111847,69.51050331149439,73.68756431831729,61.36690453724013,67.17065576899512,85.66820314500154,114.85387123391394,90.12357206996742,97.91982103524285,81.53699078301503,72.11183246961566,85.23200734232567,66.22495788805463,53.454394214850524],\"yaxis\":\"y\",\"type\":\"scatter\"},{\"hovertemplate\":\"\\u003cb\\u003eOLS trendline\\u003c\\u002fb\\u003e\\u003cbr\\u003ey = 1.32243 * x + 7.99102\\u003cbr\\u003eR\\u003csup\\u003e2\\u003c\\u002fsup\\u003e=0.598656\\u003cbr\\u003e\\u003cbr\\u003ex=%{x}\\u003cbr\\u003ey=%{y} \\u003cb\\u003e(trend)\\u003c\\u002fb\\u003e\\u003cextra\\u003e\\u003c\\u002fextra\\u003e\",\"legendgroup\":\"\",\"line\":{\"color\":\"darkblue\"},\"marker\":{\"color\":\"#636efa\",\"symbol\":\"circle\"},\"mode\":\"lines\",\"name\":\"\",\"showlegend\":false,\"x\":[25.128484647772304,31.58811699813283,32.50234526945303,32.66904376346719,32.940479942618296,33.09383173616396,33.64470600619178,33.86421497177824,34.33312470421609,35.56783004774663,35.67809388941073,36.43600951138687,36.93007660919181,37.67565486085074,38.00548800806069,38.119824026822805,38.81681753744564,38.954769073377065,39.299566694317065,39.55790122290683,40.1668990087037,40.59953838455232,41.102685187349664,41.18201610516982,41.3777265348952,41.57564261748702,41.72067635634129,42.43647694405564,43.107820219102464,43.31828263186572,43.87061264521837,44.16404949677335,44.21174175209011,44.49285588085407,44.5025380646451,44.555608383275356,44.687196231480904,45.419730144973755,45.44053072531998,45.61864377295583,46.23096649831025,46.68222864947192,46.73761940797697,47.4756396347861,47.48120860786787,48.10504169176825,48.14985889102886,48.95588856609372,49.203887540826,49.23976534275376,50.03017434031214,50.03957593987599,50.073145632289034,50.13548548628612,50.1863894948806,50.28283634823073,50.55676014854777,51.088634678336796,51.08871989897914,51.84518690563943,52.211796692214,52.22399608555305,52.37844621923622,52.55001444273382,53.42680403327502,53.57507753167366,53.66093226167304,53.691639571070056,54.28232870596741,54.35163488122892,55.0780959049232,55.14218841394382,55.80573335794274,56.13038881687547,56.72720805709661,56.868900661384046,56.901214702247074,57.31000343834809,57.36205213323824,57.50444761534179,57.50453330326841,57.78822399323067,58.16454011019286,58.16847071685779,59.04974121466681,59.37082201108952,59.81320786951232,60.269214393997906,60.297326851333466,61.53035802563644,61.89622268029126,62.49469742726979,62.99748074755309,63.61556125145331,64.7071386661213,65.41605174513407,66.1898166067526,68.31936081825536,68.76573426962166,70.34607561504933],\"xaxis\":\"x\",\"y\":[41.22170863531625,49.76412685102713,50.97313067890097,51.19357793883188,51.5525335628395,51.75533073201946,52.483823956341965,52.77410942220642,53.39421019925416,55.02702284950077,55.17283917440555,56.17513030553772,56.82849996299768,57.814475772883156,58.25065735908662,58.401858857315986,59.32358469842278,59.50601608917526,59.96198715967856,60.303616754534545,61.10897431926165,61.68111005154937,62.34648699256876,62.4513966593578,62.710210203103415,62.97194057062505,63.16373768623214,64.11033458953212,64.99813976337221,65.2764617871343,66.00688013159072,66.39493012730668,66.45799984528273,66.82975389009503,66.84255791030832,66.91273974605248,67.08675559873711,68.05548117116045,68.08298850390162,68.31853072365277,69.12828529159957,69.72504835969107,69.7982988171121,70.77427966046544,70.78164424323367,71.60662046640468,71.66588812105992,72.73180676862711,73.0597683064246,73.10721422472214,74.15247560375832,74.16490857068507,74.20930217335643,74.29174233023622,74.35905937038416,74.48660368130152,74.84884901271181,75.55221639111824,75.55232908953946,76.5527045268379,77.03752068184984,77.05365353806019,77.25790318631152,77.48479032758378,78.64428408254443,78.84036555667926,78.95390251508073,78.99451081365268,79.77565645044547,79.86730908667981,80.82800368123576,80.91276160349085,81.79025402242749,82.219588473027,83.00884075127273,83.19621944687742,83.23895253698528,83.77954744335821,83.84837825217488,84.03668645520882,84.03679977158126,84.41196114085423,84.90961324828785,84.9148112044798,86.08023065022152,86.50483785622191,87.08986263942847,87.69289981398707,87.7300765996935,89.36067527661622,89.84450604606144,90.6359476178015,91.30084387826808,92.118212711186,93.56174854808204,94.49923719620556,95.5224878535279,98.33866318314826,98.92896128296944,101.01885370470593],\"yaxis\":\"y\",\"type\":\"scatter\"},{\"line\":{\"color\":\"purple\"},\"mode\":\"lines\",\"name\":\"y_pred_full\",\"x\":[32.50234526945303,53.42680403327502,61.53035802563644,47.4756396347861,59.81320786951232,55.14218841394382,52.211796692214,39.299566694317065,48.10504169176825,52.55001444273382,45.419730144973755,54.35163488122892,44.16404949677335,58.16847071685779,56.72720805709661,48.95588856609372,44.687196231480904,60.297326851333466,45.61864377295583,38.81681753744564,66.1898166067526,65.41605174513407,47.48120860786787,41.57564261748702,51.84518690563943,59.37082201108952,57.31000343834809,63.61556125145331,46.73761940797697,50.55676014854777,52.22399608555305,35.56783004774663,42.43647694405564,58.16454011019286,57.50444761534179,45.44053072531998,61.89622268029126,33.09383173616396,36.43600951138687,37.67565486085074,44.555608383275356,43.31828263186572,50.073145632289034,43.87061264521837,62.99748074755309,32.66904376346719,40.1668990087037,53.57507753167366,33.86421497177824,64.7071386661213,38.119824026822805,44.5025380646451,40.59953838455232,41.72067635634129,51.088634678336796,55.0780959049232,41.3777265348952,62.49469742726979,49.203887540826,41.102685187349664,41.18201610516982,50.1863894948806,52.37844621923622,50.13548548628612,33.64470600619178,39.55790122290683,56.13038881687547,57.36205213323824,60.269214393997906,35.67809388941073,31.58811699813283,53.66093226167304,46.68222864947192,43.107820219102464,70.34607561504933,44.49285588085407,57.50453330326841,36.93007660919181,55.80573335794274,38.954769073377065,56.901214702247074,56.868900661384046,34.33312470421609,59.04974121466681,57.78822399323067,54.28232870596741,51.08871989897914,50.28283634823073,44.21174175209011,38.00548800806069,32.940479942618296,53.691639571070056,68.76573426962166,46.23096649831025,68.31936081825536,50.03017434031214,49.23976534275376,50.03957593987599,48.14985889102886,25.128484647772304],\"y\":[50.973130678901,78.64428408254446,89.36067527661625,70.77427966046548,87.0898626394285,80.91276160349088,77.03752068184987,59.961987159678586,71.6066204664047,77.48479032758381,68.0554811711605,79.86730908667984,66.39493012730671,84.91481120447983,83.00884075127276,72.73180676862714,67.08675559873714,87.73007659969353,68.3185307236528,59.32358469842281,95.52248785352793,94.49923719620558,70.7816442432337,62.97194057062508,76.55270452683793,86.50483785622194,83.77954744335824,92.11821271118603,69.79829881711214,74.84884901271184,77.05365353806022,55.027022849500796,64.11033458953214,84.90961324828788,84.03668645520885,68.08298850390165,89.84450604606147,51.755330732019495,56.175130305537756,57.814475772883185,66.91273974605251,65.27646178713432,74.20930217335646,66.00688013159075,91.30084387826811,51.193577938831915,61.108974319261684,78.84036555667929,52.77410942220646,93.56174854808206,58.401858857316014,66.84255791030836,61.6811100515494,63.16373768623217,75.55221639111826,80.82800368123578,62.71021020310345,90.63594761780153,73.05976830642463,62.34648699256879,62.451396659357826,74.35905937038419,77.25790318631155,74.29174233023625,52.48382395634199,60.30361675453457,82.21958847302703,83.84837825217491,87.6928998139871,55.17283917440558,49.76412685102716,78.95390251508076,69.7250483596911,64.99813976337225,101.01885370470596,66.82975389009508,84.03679977158129,56.82849996299771,81.79025402242752,59.50601608917529,83.23895253698531,83.19621944687745,53.39421019925419,86.08023065022155,84.41196114085426,79.7756564504455,75.55232908953948,74.48660368130155,66.45799984528276,58.25065735908665,51.55253356283953,78.99451081365271,98.92896128296947,69.1282852915996,98.33866318314828,74.15247560375835,73.10721422472217,74.1649085706851,71.66588812105995,41.22170863531628],\"type\":\"scatter\"},{\"line\":{\"color\":\"orange\"},\"mode\":\"lines\",\"name\":\"y_pred_train\",\"x\":[62.99748074755309,44.555608383275356,55.14218841394382,33.86421497177824,41.57564261748702,39.55790122290683,45.44053072531998,50.073145632289034,64.7071386661213,45.419730144973755,39.299566694317065,53.691639571070056,44.49285588085407,43.107820219102464,42.43647694405564,47.48120860786787,38.81681753744564,45.61864377295583,32.66904376346719,53.42680403327502,49.23976534275376,40.1668990087037,52.22399608555305,57.78822399323067,59.81320786951232,50.1863894948806,44.687196231480904,54.35163488122892,36.43600951138687,48.14985889102886,52.55001444273382,70.34607561504933,53.66093226167304,58.16454011019286,44.16404949677335,66.1898166067526,68.31936081825536,57.36205213323824,50.13548548628612,44.5025380646451,25.128484647772304,55.0780959049232,63.61556125145331,46.73761940797697,62.49469742726979,36.93007660919181,50.03017434031214,35.67809388941073,68.76573426962166,50.28283634823073,57.31000343834809,41.102685187349664,48.10504169176825,50.55676014854777,59.37082201108952,38.954769073377065,31.58811699813283,46.68222864947192,46.23096649831025,52.37844621923622,51.088634678336796,38.119824026822805,59.04974121466681,56.13038881687547,37.67565486085074,56.72720805709661,44.21174175209011,41.3777265348952,51.08871989897914,60.297326851333466,53.57507753167366,61.89622268029126,32.50234526945303,33.64470600619178,61.53035802563644,32.940479942618296,47.4756396347861,38.00548800806069,48.95588856609372,54.28232870596741],\"y\":[90.89636340654192,67.11656039848735,80.76738623035564,53.3305833466409,63.27405474171596,60.67228568396804,68.25762018653842,74.23112806707707,93.10087538404932,68.23079895638801,60.33917719700428,78.89698147666508,67.03564442008968,65.24971539157187,64.38405432874406,70.88896461249162,59.716698111044266,68.48728738639112,51.78947432402412,78.55549028781502,73.15652898491818,61.45755559000224,77.00453410026682,84.17930686318826,86.79041471174594,74.37714994007925,67.2862358547953,79.7480099488184,56.646774149888486,71.75115320705362,77.42491724562387,100.3719814394241,78.85738605197366,84.66454626585602,66.61166626392503,95.0127088820891,97.75864166191732,83.62978116004834,74.31151195751508,67.04812907558943,42.06632871278199,80.68474238548475,91.69334498929794,69.9301463134032,90.24805134386702,57.28384711224779,74.17571889614109,55.66948269968678,98.33421623112847,74.50151297264503,83.56266716604244,62.66420156099189,71.6933638379083,74.85472298744668,86.21998192926878,59.89457920057302,50.39567736902652,69.85872290802988,69.27684462324132,77.20368924465811,75.54054660088215,58.81796244835699,85.80596550307385,82.04161752585648,58.24523018666284,82.81118385207,66.67316286329631,63.01885259286714,75.54065648831914,87.41466011333901,78.74668099305299,89.47635033068727,51.574525577438365,53.047538335969485,89.0045875268109,52.13947668506287,70.8817837210818,58.67053229868547,72.79048514217837,79.65864336160826],\"type\":\"scatter\"},{\"line\":{\"color\":\"green\"},\"mode\":\"lines\",\"name\":\"y_pred_test\",\"x\":[43.31828263186572,41.18201610516982,55.80573335794274,57.50453330326841,52.211796692214,56.901214702247074,49.203887540826,57.50444761534179,34.33312470421609,50.03957593987599,60.269214393997906,41.72067635634129,51.84518690563943,58.16847071685779,43.87061264521837,33.09383173616396,56.868900661384046,65.41605174513407,40.59953838455232,35.56783004774663],\"y\":[65.52109535870605,62.76649451481721,81.62299176452305,83.81350296924151,76.98880363837608,83.03555606667146,73.11026648806582,83.81339247926658,53.93521723877923,74.18784175336364,87.37841061088574,63.461067951185775,76.5160800269463,84.66961457184729,66.2332952185426,52.337215578891865,82.99388884812993,94.01498068939841,62.01542080715535,55.52730340346941],\"type\":\"scatter\"}],                        {\"template\":{\"data\":{\"histogram2dcontour\":[{\"type\":\"histogram2dcontour\",\"colorbar\":{\"outlinewidth\":0,\"ticks\":\"\"},\"colorscale\":[[0.0,\"#0d0887\"],[0.1111111111111111,\"#46039f\"],[0.2222222222222222,\"#7201a8\"],[0.3333333333333333,\"#9c179e\"],[0.4444444444444444,\"#bd3786\"],[0.5555555555555556,\"#d8576b\"],[0.6666666666666666,\"#ed7953\"],[0.7777777777777778,\"#fb9f3a\"],[0.8888888888888888,\"#fdca26\"],[1.0,\"#f0f921\"]]}],\"choropleth\":[{\"type\":\"choropleth\",\"colorbar\":{\"outlinewidth\":0,\"ticks\":\"\"}}],\"histogram2d\":[{\"type\":\"histogram2d\",\"colorbar\":{\"outlinewidth\":0,\"ticks\":\"\"},\"colorscale\":[[0.0,\"#0d0887\"],[0.1111111111111111,\"#46039f\"],[0.2222222222222222,\"#7201a8\"],[0.3333333333333333,\"#9c179e\"],[0.4444444444444444,\"#bd3786\"],[0.5555555555555556,\"#d8576b\"],[0.6666666666666666,\"#ed7953\"],[0.7777777777777778,\"#fb9f3a\"],[0.8888888888888888,\"#fdca26\"],[1.0,\"#f0f921\"]]}],\"heatmap\":[{\"type\":\"heatmap\",\"colorbar\":{\"outlinewidth\":0,\"ticks\":\"\"},\"colorscale\":[[0.0,\"#0d0887\"],[0.1111111111111111,\"#46039f\"],[0.2222222222222222,\"#7201a8\"],[0.3333333333333333,\"#9c179e\"],[0.4444444444444444,\"#bd3786\"],[0.5555555555555556,\"#d8576b\"],[0.6666666666666666,\"#ed7953\"],[0.7777777777777778,\"#fb9f3a\"],[0.8888888888888888,\"#fdca26\"],[1.0,\"#f0f921\"]]}],\"heatmapgl\":[{\"type\":\"heatmapgl\",\"colorbar\":{\"outlinewidth\":0,\"ticks\":\"\"},\"colorscale\":[[0.0,\"#0d0887\"],[0.1111111111111111,\"#46039f\"],[0.2222222222222222,\"#7201a8\"],[0.3333333333333333,\"#9c179e\"],[0.4444444444444444,\"#bd3786\"],[0.5555555555555556,\"#d8576b\"],[0.6666666666666666,\"#ed7953\"],[0.7777777777777778,\"#fb9f3a\"],[0.8888888888888888,\"#fdca26\"],[1.0,\"#f0f921\"]]}],\"contourcarpet\":[{\"type\":\"contourcarpet\",\"colorbar\":{\"outlinewidth\":0,\"ticks\":\"\"}}],\"contour\":[{\"type\":\"contour\",\"colorbar\":{\"outlinewidth\":0,\"ticks\":\"\"},\"colorscale\":[[0.0,\"#0d0887\"],[0.1111111111111111,\"#46039f\"],[0.2222222222222222,\"#7201a8\"],[0.3333333333333333,\"#9c179e\"],[0.4444444444444444,\"#bd3786\"],[0.5555555555555556,\"#d8576b\"],[0.6666666666666666,\"#ed7953\"],[0.7777777777777778,\"#fb9f3a\"],[0.8888888888888888,\"#fdca26\"],[1.0,\"#f0f921\"]]}],\"surface\":[{\"type\":\"surface\",\"colorbar\":{\"outlinewidth\":0,\"ticks\":\"\"},\"colorscale\":[[0.0,\"#0d0887\"],[0.1111111111111111,\"#46039f\"],[0.2222222222222222,\"#7201a8\"],[0.3333333333333333,\"#9c179e\"],[0.4444444444444444,\"#bd3786\"],[0.5555555555555556,\"#d8576b\"],[0.6666666666666666,\"#ed7953\"],[0.7777777777777778,\"#fb9f3a\"],[0.8888888888888888,\"#fdca26\"],[1.0,\"#f0f921\"]]}],\"mesh3d\":[{\"type\":\"mesh3d\",\"colorbar\":{\"outlinewidth\":0,\"ticks\":\"\"}}],\"scatter\":[{\"fillpattern\":{\"fillmode\":\"overlay\",\"size\":10,\"solidity\":0.2},\"type\":\"scatter\"}],\"parcoords\":[{\"type\":\"parcoords\",\"line\":{\"colorbar\":{\"outlinewidth\":0,\"ticks\":\"\"}}}],\"scatterpolargl\":[{\"type\":\"scatterpolargl\",\"marker\":{\"colorbar\":{\"outlinewidth\":0,\"ticks\":\"\"}}}],\"bar\":[{\"error_x\":{\"color\":\"#2a3f5f\"},\"error_y\":{\"color\":\"#2a3f5f\"},\"marker\":{\"line\":{\"color\":\"#E5ECF6\",\"width\":0.5},\"pattern\":{\"fillmode\":\"overlay\",\"size\":10,\"solidity\":0.2}},\"type\":\"bar\"}],\"scattergeo\":[{\"type\":\"scattergeo\",\"marker\":{\"colorbar\":{\"outlinewidth\":0,\"ticks\":\"\"}}}],\"scatterpolar\":[{\"type\":\"scatterpolar\",\"marker\":{\"colorbar\":{\"outlinewidth\":0,\"ticks\":\"\"}}}],\"histogram\":[{\"marker\":{\"pattern\":{\"fillmode\":\"overlay\",\"size\":10,\"solidity\":0.2}},\"type\":\"histogram\"}],\"scattergl\":[{\"type\":\"scattergl\",\"marker\":{\"colorbar\":{\"outlinewidth\":0,\"ticks\":\"\"}}}],\"scatter3d\":[{\"type\":\"scatter3d\",\"line\":{\"colorbar\":{\"outlinewidth\":0,\"ticks\":\"\"}},\"marker\":{\"colorbar\":{\"outlinewidth\":0,\"ticks\":\"\"}}}],\"scattermapbox\":[{\"type\":\"scattermapbox\",\"marker\":{\"colorbar\":{\"outlinewidth\":0,\"ticks\":\"\"}}}],\"scatterternary\":[{\"type\":\"scatterternary\",\"marker\":{\"colorbar\":{\"outlinewidth\":0,\"ticks\":\"\"}}}],\"scattercarpet\":[{\"type\":\"scattercarpet\",\"marker\":{\"colorbar\":{\"outlinewidth\":0,\"ticks\":\"\"}}}],\"carpet\":[{\"aaxis\":{\"endlinecolor\":\"#2a3f5f\",\"gridcolor\":\"white\",\"linecolor\":\"white\",\"minorgridcolor\":\"white\",\"startlinecolor\":\"#2a3f5f\"},\"baxis\":{\"endlinecolor\":\"#2a3f5f\",\"gridcolor\":\"white\",\"linecolor\":\"white\",\"minorgridcolor\":\"white\",\"startlinecolor\":\"#2a3f5f\"},\"type\":\"carpet\"}],\"table\":[{\"cells\":{\"fill\":{\"color\":\"#EBF0F8\"},\"line\":{\"color\":\"white\"}},\"header\":{\"fill\":{\"color\":\"#C8D4E3\"},\"line\":{\"color\":\"white\"}},\"type\":\"table\"}],\"barpolar\":[{\"marker\":{\"line\":{\"color\":\"#E5ECF6\",\"width\":0.5},\"pattern\":{\"fillmode\":\"overlay\",\"size\":10,\"solidity\":0.2}},\"type\":\"barpolar\"}],\"pie\":[{\"automargin\":true,\"type\":\"pie\"}]},\"layout\":{\"autotypenumbers\":\"strict\",\"colorway\":[\"#636efa\",\"#EF553B\",\"#00cc96\",\"#ab63fa\",\"#FFA15A\",\"#19d3f3\",\"#FF6692\",\"#B6E880\",\"#FF97FF\",\"#FECB52\"],\"font\":{\"color\":\"#2a3f5f\"},\"hovermode\":\"closest\",\"hoverlabel\":{\"align\":\"left\"},\"paper_bgcolor\":\"white\",\"plot_bgcolor\":\"#E5ECF6\",\"polar\":{\"bgcolor\":\"#E5ECF6\",\"angularaxis\":{\"gridcolor\":\"white\",\"linecolor\":\"white\",\"ticks\":\"\"},\"radialaxis\":{\"gridcolor\":\"white\",\"linecolor\":\"white\",\"ticks\":\"\"}},\"ternary\":{\"bgcolor\":\"#E5ECF6\",\"aaxis\":{\"gridcolor\":\"white\",\"linecolor\":\"white\",\"ticks\":\"\"},\"baxis\":{\"gridcolor\":\"white\",\"linecolor\":\"white\",\"ticks\":\"\"},\"caxis\":{\"gridcolor\":\"white\",\"linecolor\":\"white\",\"ticks\":\"\"}},\"coloraxis\":{\"colorbar\":{\"outlinewidth\":0,\"ticks\":\"\"}},\"colorscale\":{\"sequential\":[[0.0,\"#0d0887\"],[0.1111111111111111,\"#46039f\"],[0.2222222222222222,\"#7201a8\"],[0.3333333333333333,\"#9c179e\"],[0.4444444444444444,\"#bd3786\"],[0.5555555555555556,\"#d8576b\"],[0.6666666666666666,\"#ed7953\"],[0.7777777777777778,\"#fb9f3a\"],[0.8888888888888888,\"#fdca26\"],[1.0,\"#f0f921\"]],\"sequentialminus\":[[0.0,\"#0d0887\"],[0.1111111111111111,\"#46039f\"],[0.2222222222222222,\"#7201a8\"],[0.3333333333333333,\"#9c179e\"],[0.4444444444444444,\"#bd3786\"],[0.5555555555555556,\"#d8576b\"],[0.6666666666666666,\"#ed7953\"],[0.7777777777777778,\"#fb9f3a\"],[0.8888888888888888,\"#fdca26\"],[1.0,\"#f0f921\"]],\"diverging\":[[0,\"#8e0152\"],[0.1,\"#c51b7d\"],[0.2,\"#de77ae\"],[0.3,\"#f1b6da\"],[0.4,\"#fde0ef\"],[0.5,\"#f7f7f7\"],[0.6,\"#e6f5d0\"],[0.7,\"#b8e186\"],[0.8,\"#7fbc41\"],[0.9,\"#4d9221\"],[1,\"#276419\"]]},\"xaxis\":{\"gridcolor\":\"white\",\"linecolor\":\"white\",\"ticks\":\"\",\"title\":{\"standoff\":15},\"zerolinecolor\":\"white\",\"automargin\":true,\"zerolinewidth\":2},\"yaxis\":{\"gridcolor\":\"white\",\"linecolor\":\"white\",\"ticks\":\"\",\"title\":{\"standoff\":15},\"zerolinecolor\":\"white\",\"automargin\":true,\"zerolinewidth\":2},\"scene\":{\"xaxis\":{\"backgroundcolor\":\"#E5ECF6\",\"gridcolor\":\"white\",\"linecolor\":\"white\",\"showbackground\":true,\"ticks\":\"\",\"zerolinecolor\":\"white\",\"gridwidth\":2},\"yaxis\":{\"backgroundcolor\":\"#E5ECF6\",\"gridcolor\":\"white\",\"linecolor\":\"white\",\"showbackground\":true,\"ticks\":\"\",\"zerolinecolor\":\"white\",\"gridwidth\":2},\"zaxis\":{\"backgroundcolor\":\"#E5ECF6\",\"gridcolor\":\"white\",\"linecolor\":\"white\",\"showbackground\":true,\"ticks\":\"\",\"zerolinecolor\":\"white\",\"gridwidth\":2}},\"shapedefaults\":{\"line\":{\"color\":\"#2a3f5f\"}},\"annotationdefaults\":{\"arrowcolor\":\"#2a3f5f\",\"arrowhead\":0,\"arrowwidth\":1},\"geo\":{\"bgcolor\":\"white\",\"landcolor\":\"#E5ECF6\",\"subunitcolor\":\"white\",\"showland\":true,\"showlakes\":true,\"lakecolor\":\"white\"},\"title\":{\"x\":0.05},\"mapbox\":{\"style\":\"light\"}}},\"xaxis\":{\"anchor\":\"y\",\"domain\":[0.0,1.0],\"title\":{\"text\":\"x\"}},\"yaxis\":{\"anchor\":\"x\",\"domain\":[0.0,1.0],\"title\":{\"text\":\"y\"}},\"legend\":{\"tracegroupgap\":0},\"margin\":{\"t\":60},\"width\":800},                        {\"responsive\": true}                    ).then(function(){\n",
       "                            \n",
       "var gd = document.getElementById('70f6c68f-7ba0-449c-80dc-41236128a656');\n",
       "var x = new MutationObserver(function (mutations, observer) {{\n",
       "        var display = window.getComputedStyle(gd).display;\n",
       "        if (!display || display === 'none') {{\n",
       "            console.log([gd, 'removed!']);\n",
       "            Plotly.purge(gd);\n",
       "            observer.disconnect();\n",
       "        }}\n",
       "}});\n",
       "\n",
       "// Listen for the removal of the full notebook cells\n",
       "var notebookContainer = gd.closest('#notebook-container');\n",
       "if (notebookContainer) {{\n",
       "    x.observe(notebookContainer, {childList: true});\n",
       "}}\n",
       "\n",
       "// Listen for the clearing of the current output cell\n",
       "var outputEl = gd.closest('.output');\n",
       "if (outputEl) {{\n",
       "    x.observe(outputEl, {childList: true});\n",
       "}}\n",
       "\n",
       "                        })                };                });            </script>        </div>"
      ]
     },
     "metadata": {},
     "output_type": "display_data"
    },
    {
     "name": "stdout",
     "output_type": "stream",
     "text": [
      "I due modelli non si disconstano molto, questo ci piace\n",
      "\n",
      "\n",
      "\n",
      "\n",
      "Ora valutiamo la bontà del modello, possiamo solo farlo con il modello TRAIN perchè abbiamo conservato dei dati di paragone\n",
      "------------------------\n",
      "5 -  Misurare l'errore del mio modello\n",
      "------------------------\n",
      "MAE:  6.781298361926278\n",
      "MSE:  85.41860729715405\n",
      "RMSE:  85.41860729715405\n",
      "R2_score:  0.6805246518467417\n",
      "Adjusted_R2_score:  0.662776021393783\n"
     ]
    }
   ],
   "source": [
    "import numpy as np\n",
    "import matplotlib.pyplot as plt\n",
    "import pandas as pd\n",
    "import seaborn as sns\n",
    "\n",
    "# the new one\n",
    "from sklearn.linear_model import LinearRegression # il modello\n",
    "from sklearn.model_selection import train_test_split # per trattare i dati\n",
    "from sklearn.metrics import r2_score, mean_absolute_error, mean_squared_error\n",
    "\n",
    "print(\"\\n\\n\\n\")\n",
    "print(\"------------------------\")\n",
    "print(\"0 - Problem understanding\")\n",
    "print(\"------------------------\")\n",
    "\n",
    "\n",
    "path = \"https://frenzy86.s3.eu-west-2.amazonaws.com/python/data/datalr.csv\"\n",
    "points = np.genfromtxt(path, delimiter=',') # att.ne path delimiter se cambia\n",
    "\n",
    "\n",
    "print(\"abbiamo già studiato il dataset, ma diamoci un'occhiata con pandas\")\n",
    "df = pd.read_csv(path, header=None)\n",
    "print(df.head(2))\n",
    "\n",
    "print(\"il dataset è solo numerico, assumiamo che la colonna zero siano i termini noti (X) mentre le (y) siano le incognite della nostra distribuzione di esempio\\n\")\n",
    "\n",
    "x = np.array(points[:,0]) # prima colonna indice 0\n",
    "y = np.array(points[:,1]) # seconda colonna indice 1\n",
    "\n",
    "print(\"\\n\\n\\n\")\n",
    "print(\"diamo un'occhiata alla distribuzione\")\n",
    "\n",
    "#Plot the dataset\n",
    "plt.scatter(x,y)\n",
    "plt.xlabel('Hours of study')\n",
    "plt.ylabel('Test scores')\n",
    "plt.title('Original Dataset')\n",
    "plt.show()\n",
    "\n",
    "print(\"Controlliamo lo shape -> :\", x.shape   ) # (100,) # vettore\n",
    "print(\"Controlliamo il tipo x\" , type(x[0]) ) \n",
    "\n",
    "print(\"x deve essere una matrice di input con shape (vet_dim, mat_dim) e deve diventare X, usiamo reshape\" ) # (100,)\n",
    "\n",
    "print(\"Creiamo i nostri valori da darein pasto (to feed) al modello in modo che rispettino le regole dell'algebra lineare (rango)\")\n",
    "\n",
    "print(\"\\n\\n\\n\")\n",
    "print(\"------------------------\")\n",
    "print(\"1 - Declare Features and target\")\n",
    "print(\"------------------------\")\n",
    "\n",
    "\n",
    "print(\"Feature is a matrix X\")\n",
    "#X = x.reshape(-1, 1) # reashape when features number==1\n",
    "X = x.reshape(-1, x.size//len(x)) # X--> features\n",
    "Y = y # non ha senso usare la notazione matriciale !!!!, da qui in avanti verrà ignorata\n",
    "\n",
    "\n",
    "print(\"------------------------\")\n",
    "print(\"2 split dataset in Training and Test with sklearn built-in function\")\n",
    "print(\"------------------------\")\n",
    "\n",
    "X_train, X_test, y_train, y_test = train_test_split(X, y,  test_size = 0.2,  random_state = 667 )\n",
    "\n",
    "print(\"Ricontrolliamo lo shape -> :\",  X.shape  ) # (100,1) # matrice\n",
    "print(\"Controlliamo il tipo X\" ,type(X[0]) ) \n",
    "print(\"Ora abbiamo una matrice (vettore nested)\"  ) \n",
    "\n",
    "print(\"\\n\\n\\n\")\n",
    "\n",
    "print(\"train del modello 'FULL' con tutti i dati\")\n",
    "model_full = LinearRegression()\n",
    "from IPython.display import display # per visualizzare l'output del modello\n",
    "display(model_full.fit(X, y))\n",
    "\n",
    "print(\"Proviamo il modello 'FULL' per recuperare β₀, β₁ regressori\")\n",
    "print(\"Coefficienti angolari (vettore): \", model_full.coef_, \" di cui la dimensione è \" , len(model_full.coef_) ) # retta len 1, piano len 2 iperpiano len 3\n",
    "print(\"Intercetta (scalare secco): \", model_full.intercept_) \n",
    "print(\"\\n\\n\\n\")\n",
    "print(\"------------------------\")\n",
    "print(\"3 - in real world we need to train the model whith a partition of the problem as we have seen\")\n",
    "print(\"------------------------\")\n",
    "\n",
    "print(\"train del modello con una partizione dei dati\")\n",
    "model_train = LinearRegression()\n",
    "from IPython.display import display # per visualizzare l'output del modello\n",
    "display(model_train.fit(X_train, y_train))\n",
    "\n",
    "\n",
    "print(\"Proviamo il modello 'TRAIN' per recuperare β₀, β₁ regressori\")\n",
    "print(\"Coefficienti angolari (vettore): \", model_train.coef_, \" di cui la dimensione è \" , len(model_train.coef_) ) # retta len 1, piano len 2 iperpiano len 3\n",
    "print(\"Intercetta (scalare secco): \", model_train.intercept_) \n",
    "\n",
    "\n",
    "print(\"\\n\\n\\n\")\n",
    "print(\"------------------------\")\n",
    "print(\"4 - creare la predizione sul modello TEST, TRAIN o FULL e plot\")\n",
    "print(\"------------------------\")\n",
    "print(\"il modello ci serve per creare una retta (in questo caso di esempio, la più adatta ad approssimare i risultati del nostro esperimento anche per rilevazioni che non abbiamo.\")\n",
    "\n",
    "print(\"proviamo il modello 'FULL'\")\n",
    "y_pred_full = model_full.predict(X)\n",
    "plt.scatter(X,y_pred_full,) # https://matplotlib.org/stable/users/explain/colors/colormaps.html\n",
    "plt.scatter(X,y, ) # default distrib\n",
    "plt.plot(x, y_pred_full,'-r') # retta\n",
    "plt.xlabel('Hours of study')\n",
    "plt.ylabel('Test scores')\n",
    "plt.title('FULL model - Simple Linear Regression')\n",
    "plt.show()\n",
    "\n",
    "print(\"proviamo il modello 'TRAIN'\")\n",
    "y_pred_train = model_train.predict(X_train)\n",
    "plt.scatter(X,y, ) # default distrib\n",
    "x_train = X_train.reshape(-1) # contrario di reshape\n",
    "plt.plot(x_train, y_pred_train,'-r') # retta\n",
    "plt.xlabel('Hours of study')\n",
    "plt.ylabel('Test scores')\n",
    "plt.title('TRAIN - Simple Linear Regression')\n",
    "plt.show()\n",
    "\n",
    "print(\"proviamo il modello 'TEST' partendo dal modello 'TRAIN'\")\n",
    "y_pred_test = model_train.predict(X_test)\n",
    "plt.scatter(X,y, ) # default distrib\n",
    "x_test = X_test.reshape(-1) # contrario di reshape\n",
    "plt.plot(x_test, y_pred_test,'or') # retta\n",
    "plt.xlabel('Hours of study')\n",
    "plt.ylabel('Test scores')\n",
    "plt.title('TRAIN - Simple Linear Regression')\n",
    "plt.show()\n",
    "\n",
    "\n",
    "\n",
    "print(\"Proviamo a plottare la distribuzione dell'errore assoluto delle previsioni rispetto ai dati reali\")\n",
    "print(\"errore 'FULL'\")\n",
    "fig = plt.figure()\n",
    "#sns.distplot((Y - y_pred), bins = 20) # deprecated\n",
    "sns.histplot((y - y_pred_full), kde=True);\n",
    "fig.suptitle('Error Terms FULL model', fontsize = 20)                  # Plot heading\n",
    "plt.xlabel('Errors', fontsize = 18)\n",
    "plt.show()\n",
    "\n",
    "\n",
    "print(\"errore 'TRAIN'\")\n",
    "fig = plt.figure()\n",
    "sns.histplot((y_train - y_pred_train), kde=True);\n",
    "fig.suptitle('Error Terms TRAIN model', fontsize = 20)                  # Plot heading\n",
    "plt.xlabel('Errors', fontsize = 18)\n",
    "plt.show()\n",
    "\n",
    "\n",
    "print(\"errore 'TEST'\")\n",
    "fig = plt.figure()\n",
    "sns.histplot((y_test - y_pred_test), kde=True);\n",
    "fig.suptitle('Error Terms TRAIN model with TEST data', fontsize = 20)                  # Plot heading\n",
    "plt.xlabel('Errors', fontsize = 18)\n",
    "plt.show()\n",
    "\n",
    "\n",
    "\n",
    "print(\"\\n\\n\\n\")\n",
    "print(\"Ora visualizziamo un grafico più interattivo con plotly\")\n",
    "import plotly.express as px\n",
    "import plotly.graph_objects as go\n",
    "# prende in input i vettori e non le matrici\n",
    "fig = px.scatter(x=x, y=y, opacity=0.65, trendline='ols', trendline_color_override='darkblue', width=800) # default distrib\n",
    "fig.add_trace(go.Scatter(x=x, y=y_pred_full, mode='lines', name='y_pred_full', line=dict(color='purple'))) # aggiunge la retta del modello lineare\n",
    "fig.add_trace(go.Scatter(x=x_train, y=y_pred_train, mode='lines', name='y_pred_train', line=dict(color='orange'))) # aggiunge la retta del modello lineare\n",
    "fig.add_trace(go.Scatter(x=x_test, y=y_pred_test, mode='lines', name='y_pred_test', line=dict(color='green'))) # aggiunge la retta del modello lineare\n",
    "fig.show()\n",
    "\n",
    "print(\"I due modelli non si disconstano molto, questo ci piace\")\n",
    "\n",
    "\n",
    "print(\"\\n\\n\\n\")\n",
    "print(\"Ora valutiamo la bontà del modello, possiamo solo farlo con il modello TRAIN perchè abbiamo conservato dei dati di paragone\")\n",
    "\n",
    "print(\"------------------------\")\n",
    "print(\"5 -  Misurare l'errore del mio modello\")\n",
    "print(\"------------------------\")\n",
    "\n",
    "mae = mean_absolute_error(y_test, y_pred_test) # metrica sempre con input y_test da dataset splittato\n",
    "mse = mean_squared_error(y_test, y_pred_test)\n",
    "rmse = mean_squared_error(y_test, y_pred_test)\n",
    "r2score = r2_score(y_test, y_pred_test)\n",
    "\n",
    "# aggiustato\n",
    "ad_r2score = 1-(1-r2score)*(len(X_test)-1)/(len(X_test)-X_test.shape[1]-1) # confrontare con variabili aggiustato\n",
    "\n",
    "print('MAE: ', mae)\n",
    "print('MSE: ', mse)\n",
    "print('RMSE: ', rmse)\n",
    "print('R2_score: ', r2score)\n",
    "print('Adjusted_R2_score: ', ad_r2score)"
   ]
  },
  {
   "cell_type": "code",
   "execution_count": null,
   "id": "15277ce7-35ea-45df-a59f-63d650dd2987",
   "metadata": {},
   "outputs": [],
   "source": []
  }
 ],
 "metadata": {
  "kernelspec": {
   "display_name": "Python 3 (ipykernel)",
   "language": "python",
   "name": "python3"
  },
  "language_info": {
   "codemirror_mode": {
    "name": "ipython",
    "version": 3
   },
   "file_extension": ".py",
   "mimetype": "text/x-python",
   "name": "python",
   "nbconvert_exporter": "python",
   "pygments_lexer": "ipython3",
   "version": "3.11.2"
  }
 },
 "nbformat": 4,
 "nbformat_minor": 5
}
