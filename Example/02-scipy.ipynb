{
 "cells": [
  {
   "cell_type": "markdown",
   "id": "180d90ad-b1ad-4d2d-91dd-08e8e709e309",
   "metadata": {
    "tags": []
   },
   "source": [
    "\n",
    "# Strategie per stime intervallari\n",
    "\n",
    "# Introduzione\n",
    "\n",
    "Siamo nel campo delle stime di parametro. Useremo quello che è detto **Metodo dei momenti** come strategia per la stima prima puntuale poi per intervallo.\n",
    "\n",
    "Brevemente useremo i primi $k$ momenti (2) ipoizzando che appartengano ad un modello, da cui dedurremo una stima puntuale e una stima di un intervallo.\n",
    "\n",
    "L'idea è quella di usare uno **stimatore puntuale** $ξ_F$ di un **parametro** $ξ$ (stimatore banale cioè la **convergenza in probabilità** $T_n \\overset{ℙ}⟶ξ_F$ per la ==legge dei grandi numeri== considerando vero quasi certamente che $n$ detta **taglia** sia sufficientemente \"grande\" ) di un riassunto/momento ricavato dalla **realizzazione di una distribuzione** ($x_1,...,x_n$) usando tali riassunti (es, la media o momento primo, la varianza o momento secondo centrato) per poi stimare sotto quale probabilità il riassunto del nostro campione di **popolazione** (cioè una $X: 𝕊_0 ⟶ℝ$    su uno spazio $𝕊_0,𝓕_0,ℙ_0$) sia in qualche modo rappresentativo della nostra distribuzione. Usiamo il pedice $(.)_0$ per considerare un'entità nota.\n",
    "\n",
    "Trattiamo quindi il campione $x_1,...,x_n$ detto **empirico** per studiarne le proprietà fidandoci che queste siano effettivamente un **campione casuale** $X_1,...,X_n$ e chiamereremo **grandezze campionarie** o **statistiche** le loro trasformazioni  $T=g(X_{1:n})=g(X_1,...,X_n)$\n",
    "\n",
    "## Analogia\n",
    "\n",
    "Per ipotesi assumenremo che le misure empiriche e quelle campionarie corrispondano $x_1,...,x_n=X_1,...,X_n$ puntualmente e potremmo identificare il campione osservato con una realizzazione statistica di tale osservazione assumendo che tali osservazioni siano:\n",
    "- indipendenti\n",
    "- identicamente distribuite\n",
    "- di taglia signiticativamente grande rispetto alla popolazione originale come già detto\n",
    "\n",
    "## Definizione del modello $𝓜$\n",
    "\n",
    "Dato $𝓜=\\{F_θ|θ∈H⊆ℝⁿ\\}$ cioè un modello in forma parametrica n-dimensionale con parametrizzazione identificabile (sappiamo cosa stiamo cercando), matematicamente ben definito $F_θ⟶θ$ non costante.\n",
    "Considereremo una **funzione parametrica** $ξ=h(θ)$ con $θ∈H$ e ora sappiamo che stimare $ξ$ è sufficiente  stimare $θ$. Daremo per vere:\n",
    "- $h$ continua e $T_k$ uno stimatore puntuale per $θ\\overset{allora}⟹h(T)$ è uno **stimatore puntuale** per $ξ$\n",
    "- $h$ crescente e un intervallo $\\underline T,   \\overline T \\overset{allora}⟹h(\\underline T),   h(\\overline T)$ è un **intervallo di confidenza** per $ξ$\n",
    "\n",
    "### Primi modelli considerati, calcolo della media\n",
    "\n",
    "\n",
    "Per esempio(verrà indicato un parametro **noto** con il pedice $(.)_0$, un parametro **certo** senza pedici e un parametro **discusso** con il pedice $(.)_θ):\n",
    "- Modello T di student\n",
    "\t- Media di una popolazione con varianza nota $σ_0$  $𝓜=\\{Ƭ(n-1)|1<n<<N\\}$\n",
    "- Modello normale\n",
    "\t- Media di una popolazione con varianza nota $σ_0$ $𝓜=\\{Norm(μ_θ,σ_0)|1<n<<N\\}$\n",
    "\n",
    "\n",
    "Introducendo un **modello** $𝓜$ e useremo la stima per intervallo partendo da un **parametro**  $ξ_F$ ipotizzando appartengano al modello $ξ_F:𝓜 ⟶ℝ$  sia  $F∈𝓜$  . \n",
    "Useremo tale modello per stimare il comportamento delle **statistiche** $T$. \n",
    "Formalizzeremo come segue $\\underline T ≤ ξ_{Fₓ} ≤   \\overline T$ lo **stimatore intervallare** o per intervallo detto \"di confidenza\"\n",
    "Si deduce l'utilizzo dell'intervallo chiuso $[\\underline T,   \\overline T]$ la cui **distanza** tra media reale (sconosciuta) e media delle medie campionarie $d(μ,x̄_n)={ |x̄_n - μ| \\over se(x̄_n) }$.\n",
    "\n",
    "Introduciamo i seguenti strumenti iniziali:\n",
    "\n",
    "- **Errore standard corretto** $se(x̄_n)={S \\over \\sqrt n}$ per cui sappiamo che per $n$ molto grandi $se(ξ)$\n",
    "- **Varianza campionaria corretta** $S²={1\\over n-1}\\underset{i=1}{\\overset{n}{∑}}(X_i-x̄_n)^2$  con la $n$ di  $x̄_n$ che in questo caso non è un operatore della sommatoria, ma solo un riferimento agli oggetti da cui ricavare il momento\n",
    "- **Momento campionario h-esimo** $⟨x^h⟩$ dove $⟨x^1⟩=x̄$ è la media campionaria con $n$ definitore della taglia $x̄_n$ come già detto.\n",
    "\n",
    "Useremo $S²$  e non il momento centrato secondo $⟨x^2⟩=D^2$ perchè $S²⊥⊥ X̄$ come di consueto, anche se la correzione $S$ risulta inessenziale per valori grandi, mentre invece con valori piccoli di $n$ la correzione è significativa, oltre a non dover dipendere dalla stessa $σ$ a volte sconosciuta (come vedremo). Quindi nel passagio da $D$ a $S$ visto che $D²<S²$ e $𝔼(D²)<σ²$ che è la nostra **varianza di popolazione**.\n",
    "Linearmente:\n",
    "$$\n",
    "𝔼(S)=𝔼(\\sqrt {S²}) <  \\sqrt {𝔼(S²)}) = \\sqrt{σ²}=σ\n",
    "$$\n",
    "\n",
    "\n",
    "Potremo dunque esprimere da distanza detta distanza pivot come segue\n",
    "$$[\\underline T,   \\overline T]={\\{ μ ∈ ℝ | {|x̄_n - μ| \\over se(x̄_n) } ≤2 \\}}$$\n",
    "oppure più semplicemente (per la media con $F(.)=2$ ad esempio):\n",
    "$$[\\underline T,   \\overline T]= x̄_n ± 2se(x̄_n) $$\n",
    "\n",
    "Imponiamo quindi la nostra **probabilità di copertura** $γ=\\underset {F∈𝓜} {sup} \\ ℙ_F \\ \\{\\underline T ≤ ξ_{Fₓ} ≤   \\overline T\\}$ con $γ$ interessante quando $γ≥50\\%$, solitamente  verrà considerato $γ=95\\%$. Altri valori comunemente usati sono: $90\\%$, $99\\%$\n",
    "\n",
    "Calcolo dell'**intervallo di Wald** tramite ${1+γ} \\over 2$ e ottere così un margine di errore $me(T_n)=ξ_{Fₓ=Fₙ}±F_𝓜({{1+γ} \\over 2})se(T_n)$ brevemente $me(T)=ξ±F_𝓜({{1+γ} \\over 2})se(T_n)$ con $F_𝓜$ la funzione quantile del modello che si ritiene opportuno\n",
    "\n",
    "**Errore quadratico medio** $MSE(X̄_n)=Var(X̄)={σ_0^2 \\over {n}}$ e sempre per analogia ne consegue l'**errore standard** $se_0(X̄_n)={σ_0 \\over \\sqrt{n}}$\n"
   ]
  },
  {
   "cell_type": "markdown",
   "id": "f3ee539a-13be-430b-97cc-921df1397451",
   "metadata": {},
   "source": [
    "# Norm\n",
    "\n",
    "\n",
    "Questa stima si può effettuare chiamando in soccorso il **teorema del limite centrale** \n",
    "- informalmente:\n",
    "$$\\underset {n→∞} {lim}X̄^∗_n=Z∼Norm(0,1)$$\n",
    "- formalmente:\n",
    "$$\\underset {n→∞} {lim}F_{X̄^∗_n}(t)=Φ(t)$$\n",
    "\n",
    "dove la $t=γ$\n",
    "\n",
    "Usando questo risultato per il nostro esempio\n",
    "\n",
    "\n",
    "$$\n",
    "[\\underline T,   \\overline T]=x̄_n ± Φ_γ^{-1}({1+γ \\over 2} ){σ_0\\over \\sqrt n} \n",
    "$$\n",
    "\n",
    "In sintesi la Probability Density Function si trova con\n",
    "$$\n",
    "Φ=f(x) = \\frac{1}{\\sigma \\sqrt{2\\pi}} e^{-\\frac{(x-\\mu)^2}{2\\sigma^2}}\n",
    "$$\n",
    "e il suo quantile $Φ^{-1}=Z$\n",
    "\n",
    "\n",
    "## Formalmente\n",
    "\n",
    "\n",
    "Per un valore fissato $x$, la **PDF** e la **CDF** della normale standard sono definite come segue:\n",
    "\n",
    "- **Probability Density Function (PDF)**:\n",
    "  $$\n",
    "  f(x) = \\frac{1}{\\sqrt{2\\pi}} e^{-\\frac{x^2}{2}}\n",
    "  $$\n",
    "  che fornisce la densità di probabilità in un punto specifico $x$.\n",
    "\n",
    "- **Cumulative Distribution Function (CDF)**:\n",
    "  $$\n",
    "  \\Phi(x) = \\int_{-\\infty}^{x} \\frac{1}{\\sqrt{2\\pi}} e^{-\\frac{t^2}{2}} dt\n",
    "  $$\n",
    "  che rappresenta la probabilità cumulativa fino al valore $x$, ossia $ℙ(X \\leq x)$.\n"
   ]
  },
  {
   "cell_type": "code",
   "execution_count": 1,
   "id": "62969d6e-9f4c-4895-8326-66cb3d00ed02",
   "metadata": {
    "tags": []
   },
   "outputs": [
    {
     "name": "stdout",
     "output_type": "stream",
     "text": [
      "PDF normale standard in x=1.5: 0.1295\n",
      "CDF normale standard in x=1.5: 0.9332\n"
     ]
    }
   ],
   "source": [
    "from scipy.stats import norm\n",
    "\n",
    "x = 1.5  # interesse\n",
    "\n",
    "# Probability Density Function (PDF) e Cumulative Distribution Function (CDF)\n",
    "pdf_value = norm.pdf(x)  # PDF in x\n",
    "cdf_value = norm.cdf(x)  # CDF in x\n",
    "\n",
    "print(f\"PDF normale standard in x={x}: {pdf_value:.4f}\")\n",
    "print(f\"CDF normale standard in x={x}: {cdf_value:.4f}\")"
   ]
  },
  {
   "cell_type": "markdown",
   "id": "eadbcf70-2cd2-4d59-9252-dd6de7b10141",
   "metadata": {},
   "source": [
    "# Distribuzione t di Student\n",
    "\n",
    "\n",
    "Presa ${Z\\over \\sqrt {Y\\over K} }∼T∼Ƭ(k)$ è la distribuzione **t di student** con $k=n-1$ gradi di libertà definendo come segue la funzione di ripartizone espansa per completezza.\n",
    "\n",
    "$$\n",
    "f_{k}(t) = \\frac{\\Gamma\\left(\\frac{k + 1}{2}\\right)}{\\sqrt{k \\pi} \\Gamma\\left(\\frac{k}{2}\\right)} \\left(1 + \\frac{t^2}{k}\\right)^{-\\frac{k + 1}{2}}\n",
    "$$\n",
    "\n",
    "sappiamo che $t$ è la nostra statistica ${|x̄_n - μ| \\over se(x̄_n)}=t$"
   ]
  },
  {
   "cell_type": "code",
   "execution_count": 2,
   "id": "bcc1f557-2888-4bf1-97eb-6e77ee483abf",
   "metadata": {
    "tags": []
   },
   "outputs": [
    {
     "name": "stdout",
     "output_type": "stream",
     "text": [
      "PDF in x=1.5: 0.1274\n",
      "CDF in x=1.5: 0.9177\n"
     ]
    }
   ],
   "source": [
    "from scipy.stats import t\n",
    "\n",
    "\n",
    "df = 10  # gradi di libertà\n",
    "x = 1.5  # interesse\n",
    "\n",
    "# Probability Density Function e Cumulative Distribution Function\n",
    "pdf_value = t.pdf(x, df)  # PDF in x\n",
    "cdf_value = t.cdf(x, df)  # CDF in x\n",
    "\n",
    "print(f\"PDF in x={x}: {pdf_value:.4f}\")\n",
    "print(f\"CDF in x={x}: {cdf_value:.4f}\")"
   ]
  },
  {
   "cell_type": "markdown",
   "id": "6a3fa777-4f18-4f7c-ba6d-b95d581c9216",
   "metadata": {},
   "source": [
    "# chiquadro\n",
    "\n",
    "\n",
    "Dove $chisq(k) ∼Y∼χ²(k)$ è una distribuzione $gamma({k\\over 2},{1\\over 2}) ∼Y∼Γ({k\\over 2},{1\\over 2})$ , notare che a denominatore la $Γ(.)$ si sua come funzione gamma di Eulero che è l'analogo della funzione fattoriale, ma nel continuo cioè $Γ(j+1)=j\\underset{0}{\\overset{∞}{∫}}x^{α-1}e^{-x}dx=jΓ(j)$.\n",
    "Otteniamo quindi una distribuzione dipendente solo dalla taglia campionaria $n$ che determina il nostro $k=n-1$ oltre che (ovviamente) dalla scelta del valore $γ$ per il nostro intervallo di confidenza."
   ]
  },
  {
   "cell_type": "code",
   "execution_count": 3,
   "id": "c8bb3921-a4a2-494d-9afa-40cbb2a77286",
   "metadata": {
    "tags": []
   },
   "outputs": [
    {
     "name": "stdout",
     "output_type": "stream",
     "text": [
      "PDF chi-quadrato in x=3.0: 0.1542\n",
      "CDF chi-quadrato in x=3.0: 0.3000\n"
     ]
    }
   ],
   "source": [
    "from scipy.stats import chi2\n",
    "\n",
    "\n",
    "df = 5 # gradi di libertà\n",
    "\n",
    "# Probability Density Function (PDF) e Cumulative Distribution Function (CDF)\n",
    "x = 3.0  # Valore di interesse\n",
    "\n",
    "pdf_value = chi2.pdf(x, df)  # PDF in x\n",
    "cdf_value = chi2.cdf(x, df)  # CDF in x\n",
    "\n",
    "print(f\"PDF chi-quadrato in x={x}: {pdf_value:.4f}\")\n",
    "print(f\"CDF chi-quadrato in x={x}: {cdf_value:.4f}\")"
   ]
  },
  {
   "cell_type": "markdown",
   "id": "9efb56c6-44b7-4283-9af2-ca1aec8db036",
   "metadata": {},
   "source": [
    "# Correlazione di Pearson\n",
    "La formula del coefficiente di correlazione di Pearson tra due variabili $X$ e $Y$ è:  \n",
    "$$\n",
    "\\rho_{X,Y} = \\frac{\\sum_{i=1}^{n} (x_i - \\bar{x})(y_i - \\bar{y})}{\\sqrt{\\sum_{i=1}^{n} (x_i - \\bar{x})^2} \\sqrt{\\sum_{i=1}^{n} (y_i - \\bar{y})^2}}\n",
    "$$\n",
    "Dove:\n",
    "- $x_i, y_i$ sono i valori osservati  \n",
    "- $\\bar{x}, \\bar{y}$ sono le medie dei rispettivi dati  "
   ]
  },
  {
   "cell_type": "code",
   "execution_count": 4,
   "id": "9db43567-14a7-433c-8157-6a28ad9ee01d",
   "metadata": {
    "tags": []
   },
   "outputs": [
    {
     "name": "stdout",
     "output_type": "stream",
     "text": [
      "Correlazione di Pearson : 1.0000\n",
      "P-value: 0.0000\n"
     ]
    }
   ],
   "source": [
    "from scipy.stats import pearsonr\n",
    "\n",
    "# double linear correlation\n",
    "x = [1, 2, 3, 4, 5]\n",
    "y = [2, 4, 6, 8, 10]\n",
    "\n",
    "# correlazione e p-value\n",
    "corr, p_value = pearsonr(x, y)\n",
    "\n",
    "print(f\"Correlazione di Pearson : {corr:.4f}\")\n",
    "print(f\"P-value: {p_value:.4f}\")"
   ]
  },
  {
   "cell_type": "code",
   "execution_count": 5,
   "id": "ddacf1c4-302f-474c-b90a-ed940ab33df5",
   "metadata": {
    "tags": []
   },
   "outputs": [
    {
     "name": "stdout",
     "output_type": "stream",
     "text": [
      "Correlazione di Pearson: 0.3254\n",
      "P-value: 0.5931\n"
     ]
    }
   ],
   "source": [
    "from scipy.stats import pearsonr\n",
    "\n",
    "\n",
    "# empiric correlation\n",
    "x = [1, 2, 3, 4, 5]\n",
    "y = [2, 3, 4, -1, 7]\n",
    "\n",
    "# correlazione e p-value\n",
    "corr, p_value = pearsonr(x, y)\n",
    "\n",
    "print(f\"Correlazione di Pearson: {corr:.4f}\")\n",
    "print(f\"P-value: {p_value:.4f}\")"
   ]
  },
  {
   "cell_type": "markdown",
   "id": "658798fe-18cc-49c7-bb7b-52820846fcc7",
   "metadata": {},
   "source": [
    "# Distribuzione di Poisson\n",
    "\n",
    "La funzione di massa di probabilità (PMF) della distribuzione di Poisson è:  \n",
    "$$\n",
    "ℙ(X = k) = \\frac{\\lambda^k e^{-\\lambda}}{k!}\n",
    "$$\n",
    "Dove:\n",
    "- $\\lambda$ è il valore atteso (media)  \n",
    "- $k$ è un numero intero non negativo  \n",
    "\n",
    "La distribuzione di Poisson è adatta per modellare il numero di eventi che si verificano in un intervallo di tempo fisso, quando gli eventi si verificano con un tasso medio noto e indipendentemente l'uno dall'altro.\n",
    "\n",
    "#### Dati del problema di esempio:\n",
    "- Inetnsità di eventi: $\\lambda = 2$ eventi ogni 10 minuti.\n",
    "- Intervallo di interesse: 5 minuti.\n",
    "- Numero di eventi $k$: più di 3.\n",
    "\n",
    "### Calcolo del parametro $\\lambda$ per 5 minuti:\n",
    "Poiché $\\lambda$ rappresenta il tasso medio di eventi per 10 minuti, dobbiamo scalarlo per ottenere il tasso medio di eventi per 5 minuti:\n",
    "\n",
    "$$ \\lambda_{5} = \\lambda \\times \\frac{5}{10} = 2 \\times 0.5 = 1 $$\n",
    "\n",
    "\n",
    "### Calcolo di $ℙ(X \\leq 3)$:\n",
    "$$ ℙ(X \\leq 3) = \\sum_{k=0}^{3} \\frac{e^{-\\lambda} \\lambda^k}{k!} $$"
   ]
  },
  {
   "cell_type": "code",
   "execution_count": 6,
   "id": "6088b703-bd0a-446d-93b6-beb8e869ff1e",
   "metadata": {
    "tags": []
   },
   "outputs": [
    {
     "name": "stdout",
     "output_type": "stream",
     "text": [
      "PMF per k=2: 0.2240\n",
      "CDF per k=2: 0.4232\n"
     ]
    }
   ],
   "source": [
    "from scipy.stats import poisson\n",
    "\n",
    "\n",
    "mu = 3 # intensità lambda \n",
    "k = 2  # target t\n",
    "\n",
    "# Probability Mass Function e Cumulative Distribution Functions\n",
    "pmf_value = poisson.pmf(k, mu)  # ℙ di k eventi\n",
    "cdf_value = poisson.cdf(k, mu)  # ℙ cumulativa fino a k eventi\n",
    "\n",
    "print(f\"PMF per k={k}: {pmf_value:.4f}\")\n",
    "print(f\"CDF per k={k}: {cdf_value:.4f}\")"
   ]
  },
  {
   "cell_type": "code",
   "execution_count": 7,
   "id": "f031c742-0974-4be3-ad73-a8cf0f80e44a",
   "metadata": {
    "tags": []
   },
   "outputs": [
    {
     "name": "stdout",
     "output_type": "stream",
     "text": [
      "Probabilità accadimento di più di 3 eventi nei prossimi 5 minuti (Poisson): 0.0190\n"
     ]
    }
   ],
   "source": [
    "from scipy.stats import poisson\n",
    "\n",
    "# parametri\n",
    "lambda_10min = 2  # eventi ogni 10 minuti\n",
    "lambda_5min = lambda_10min * (5 / 10)  # eventi ogni 5 minuti\n",
    "\n",
    "# probabilità di Poisson\n",
    "k = 3\n",
    "P_leq_3 = poisson.cdf(k, lambda_5min)  # P(X <= 3)\n",
    "P_greater_than_3 = 1 - P_leq_3  # P(X > 3)\n",
    "\n",
    "print(f\"Probabilità accadimento di più di 3 eventi nei prossimi 5 minuti (Poisson): {P_greater_than_3:.4f}\")"
   ]
  },
  {
   "cell_type": "markdown",
   "id": "3d322ed2-f99b-4783-990f-7a6b45c391b6",
   "metadata": {},
   "source": [
    "# Distribuzione esponenziale\n",
    "La funzione di densità di probabilità (PDF) della distribuzione esponenziale è:  \n",
    "$$\n",
    "f(x) = \\lambda e^{-\\lambda x}, \\quad x \\geq 0\n",
    "$$\n",
    "Dove:\n",
    "- $\\lambda > 0$ è il parametro della distribuzione  "
   ]
  },
  {
   "cell_type": "code",
   "execution_count": 8,
   "id": "c88470c5-6c5b-4b00-b955-099ee7f58a34",
   "metadata": {
    "tags": []
   },
   "outputs": [
    {
     "name": "stdout",
     "output_type": "stream",
     "text": [
      "PDF esponenziale in x=2.0: 0.1839\n",
      "CDF esponenziale in x=2.0: 0.6321\n"
     ]
    }
   ],
   "source": [
    "from scipy.stats import expon\n",
    "\n",
    "# parametri\n",
    "lambda_param = 0.5 # intensità\n",
    "x = 2.0  # interesse\n",
    "\n",
    "# Probability Density Function (PDF) e Cumulative Distribution Function (CDF)\n",
    "pdf_value = expon.pdf(x, scale=1/lambda_param)  \n",
    "cdf_value = expon.cdf(x, scale=1/lambda_param) \n",
    "\n",
    "print(f\"PDF esponenziale in x={x}: {pdf_value:.4f}\")\n",
    "print(f\"CDF esponenziale in x={x}: {cdf_value:.4f}\")"
   ]
  },
  {
   "cell_type": "markdown",
   "id": "ffac755e-3e8d-4c51-bfd3-24f5fa725fe7",
   "metadata": {},
   "source": [
    "# Cauchy\n",
    "La funzione di densità di probabilità (PDF) della distribuzione di Cauchy è:  \n",
    "$$\n",
    "f(x) = \\frac{1}{\\pi \\gamma} \\left[ \\frac{1}{1 + \\left( \\frac{x - x_0}{\\gamma} \\right)^2} \\right]\n",
    "$$\n",
    "Dove:\n",
    "- $x_0$ è il parametro di posizione (mediana)  \n",
    "- $\\gamma$ è il parametro di scala  "
   ]
  },
  {
   "cell_type": "code",
   "execution_count": 9,
   "id": "ee6f75c8-7307-47d7-b825-4b4ba1f3bae6",
   "metadata": {},
   "outputs": [
    {
     "name": "stdout",
     "output_type": "stream",
     "text": [
      "PDF Cauchy in x=1.5: 0.0979\n",
      "CDF Cauchy in x=1.5: 0.8128\n"
     ]
    }
   ],
   "source": [
    "from scipy.stats import cauchy\n",
    "\n",
    "# parametri\n",
    "x = 1.5  # interesse\n",
    "\n",
    "# Probability Density Function (PDF) e Cumulative Distribution Function (CDF)\n",
    "pdf_value = cauchy.pdf(x)  \n",
    "cdf_value = cauchy.cdf(x)  \n",
    "\n",
    "print(f\"PDF Cauchy in x={x}: {pdf_value:.4f}\")\n",
    "print(f\"CDF Cauchy in x={x}: {cdf_value:.4f}\")"
   ]
  },
  {
   "cell_type": "markdown",
   "id": "1a7c529b-e611-4060-bb3f-29d47c88b9b4",
   "metadata": {},
   "source": [
    "# Distribuzione F\n",
    "Utilizzata per test di confronto tra varianze\n",
    "\n",
    "La funzione di densità di probabilità (PDF) della distribuzione F è:  \n",
    "$$\n",
    "f(x) = \\frac{\\left( \\frac{d_1}{d_2} \\right)^{\\frac{d_1}{2}} x^{\\frac{d_1}{2}-1} }{ B\\left(\\frac{d_1}{2}, \\frac{d_2}{2}\\right) \\left( 1 + \\frac{d_1}{d_2} x \\right)^{\\frac{d_1 + d_2}{2}} }\n",
    "$$\n",
    "Dove:\n",
    "- $d_1$ e $d_2$ sono i gradi di libertà  \n",
    "- $B(a, b)$ è la funzione Beta  "
   ]
  },
  {
   "cell_type": "code",
   "execution_count": 10,
   "id": "6954ec48-ebfe-498c-bb37-f798f137a936",
   "metadata": {
    "tags": []
   },
   "outputs": [
    {
     "name": "stdout",
     "output_type": "stream",
     "text": [
      "PDF F in x=2.0: 0.1620\n",
      "CDF F in x=2.0: 0.8358\n"
     ]
    }
   ],
   "source": [
    "from scipy.stats import f\n",
    "\n",
    "# parametri\n",
    "x = 2.0 \n",
    "dfn = 5  # libertà  numeratore\n",
    "dfd = 10  # libertà denominatore\n",
    "\n",
    "# Probability Density Function (PDF) e Cumulative Distribution Function (CDF)\n",
    "\n",
    "pdf_value = f.pdf(x, dfn, dfd) \n",
    "cdf_value = f.cdf(x, dfn, dfd)  \n",
    "\n",
    "print(f\"PDF F in x={x}: {pdf_value:.4f}\")\n",
    "print(f\"CDF F in x={x}: {cdf_value:.4f}\")"
   ]
  },
  {
   "cell_type": "markdown",
   "id": "230743ea-c0c9-4e2d-a6b0-0f09b9b9c943",
   "metadata": {},
   "source": [
    "# Distribuzione Gamma\n",
    "La distribuzione gamma è utilizzata per modellare tempi attesa.\n",
    "\n",
    "La funzione di densità di probabilità (PDF) della distribuzione Gamma è:  \n",
    "$$\n",
    "f(x) = \\frac{\\lambda^k x^{k-1} e^{-\\lambda x}}{\\Gamma(k)}, \\quad x > 0\n",
    "$$\n",
    "Dove:\n",
    "- $k$ è il parametro di forma  \n",
    "- $\\lambda$ è il parametro di scala  \n",
    "- $\\Gamma(k)$ è la funzione Gamma  "
   ]
  },
  {
   "cell_type": "code",
   "execution_count": 11,
   "id": "9e8fb850-ea69-4471-8d51-0fa56dad893a",
   "metadata": {},
   "outputs": [
    {
     "name": "stdout",
     "output_type": "stream",
     "text": [
      "PDF Gamma in x=3.0: 0.1494\n",
      "CDF Gamma in x=3.0: 0.8009\n"
     ]
    }
   ],
   "source": [
    "from scipy.stats import gamma\n",
    "\n",
    "# parametri\n",
    "a = 2.0 # shape\n",
    "x = 3.0  \n",
    "\n",
    "# Probability Density Function (PDF) e Cumulative Distribution Function (CDF)\n",
    "pdf_value = gamma.pdf(x, a)  # PDF in x\n",
    "cdf_value = gamma.cdf(x, a)  # CDF in x\n",
    "\n",
    "print(f\"PDF Gamma in x={x}: {pdf_value:.4f}\")\n",
    "print(f\"CDF Gamma in x={x}: {cdf_value:.4f}\")"
   ]
  },
  {
   "cell_type": "markdown",
   "id": "a7818f49-00c1-48b8-9ba6-0d016363e6ce",
   "metadata": {},
   "source": [
    "# Distribuzione Beta\n",
    "Modellare variabili casuali limitate in un intervallo [0, 1].\n",
    "\n",
    "La funzione di densità di probabilità (PDF) della distribuzione Beta è:  \n",
    "$$\n",
    "f(x) = \\frac{x^{\\alpha-1} (1-x)^{\\beta-1}}{B(\\alpha, \\beta)}, \\quad 0 \\leq x \\leq 1\n",
    "$$\n",
    "Dove:\n",
    "- $\\alpha, \\beta$ sono i parametri di forma  \n",
    "- $B(\\alpha, \\beta)$ è la funzione Beta definita come:  \n",
    "   $$\n",
    "   B(\\alpha, \\beta) = \\int_0^1 t^{\\alpha-1} (1-t)^{\\beta-1} dt\n",
    "   $$"
   ]
  },
  {
   "cell_type": "code",
   "execution_count": 12,
   "id": "a4f58ce9-e6fd-4303-aa86-73c6d4e0f203",
   "metadata": {
    "tags": []
   },
   "outputs": [
    {
     "name": "stdout",
     "output_type": "stream",
     "text": [
      "PDF Beta in x=0.3: 2.1609\n",
      "CDF Beta in x=0.3: 0.5798\n"
     ]
    }
   ],
   "source": [
    "from scipy.stats import beta\n",
    "\n",
    "# parametri\n",
    "x = 0.3  \n",
    "a, b = 2.0, 5.0 # shape\n",
    "\n",
    "# Probability Density Function (PDF) e Cumulative Distribution Function (CDF)\n",
    "pdf_value = beta.pdf(x, a, b)  # PDF in x\n",
    "cdf_value = beta.cdf(x, a, b)  # CDF in x\n",
    "\n",
    "print(f\"PDF Beta in x={x}: {pdf_value:.4f}\")\n",
    "print(f\"CDF Beta in x={x}: {cdf_value:.4f}\")"
   ]
  },
  {
   "cell_type": "markdown",
   "id": "8ea5407e-8812-4507-9ae7-7a318891f7fb",
   "metadata": {
    "tags": []
   },
   "source": [
    "# Analisi delle distribuzioni A, B e della loro differenza\n",
    "Metodo dei momenti\n",
    "\n",
    "## Passaggi\n",
    "\n",
    "### 1. **Statistiche dei vettori $A$ e $B$**\n",
    "\n",
    "1. **Media empirica**:  \n",
    "   - $\\bar{A} = \\frac{1}{n} \\sum_{i=1}^{n} A_i$  \n",
    "   - $\\bar{B} = \\frac{1}{n} \\sum_{i=1}^{n} B_i$\n",
    "\n",
    "2. **Varianza empirica**:  \n",
    "   - $s_A^2 = \\frac{1}{n-1} \\sum_{i=1}^{n} (A_i - \\bar{A})^2$  \n",
    "   - $s_B^2 = \\frac{1}{n-1} \\sum_{i=1}^{n} (B_i - \\bar{B})^2$\n",
    "\n",
    "3. **Covarianza tra $A$ e $B$**:  \n",
    "   - $\\text{Cov}(A, B) = \\frac{1}{n-1} \\sum_{i=1}^{n} (A_i - \\bar{A}) (B_i - \\bar{B})$\n",
    "\n",
    "---\n",
    "\n",
    "### 2. **Intervalli di confidenza per $A$ e $B$**\n",
    "\n",
    "1. **Intervallo di confidenza per la media** (usando la distribuzione t di Student):  \n",
    "   - $\\bar{X} \\pm t_{\\alpha/2, n-1} \\cdot \\frac{s_X}{\\sqrt{n}}$\n",
    "   \n",
    "2. **Intervallo di confidenza per la varianza** (usando la distribuzione chi-quadrato):  \n",
    "   - $\\left( \\frac{(n-1)s_X^2}{\\chi^2_{\\alpha/2, n-1}}, \\frac{(n-1)s_X^2}{\\chi^2_{1-\\alpha/2, n-1}} \\right)$\n",
    "\n",
    "---\n",
    "\n",
    "### 3. **Analisi della differenza $D = B - A$**\n",
    "\n",
    "1. **Media della differenza**:  \n",
    "   - $\\bar{D} = \\frac{1}{n} \\sum_{i=1}^{n} D_i$ con $D_i = B_i - A_i$\n",
    "\n",
    "2. **Varianza della differenza**:  \n",
    "   - $s_D^2 = \\frac{1}{n-1} \\sum_{i=1}^{n} (D_i - \\bar{D})^2$\n",
    "\n",
    "3. **Intervallo di confidenza per la media di $D$**:\n",
    "   - Usando **t di Student**:  \n",
    "     $\\bar{D} \\pm t_{\\alpha/2, n-1} \\cdot \\frac{s_D}{\\sqrt{n}}$\n",
    "   - Usando **distribuzione normale standard**:  \n",
    "     $\\bar{D} \\pm Z_{\\alpha/2} \\cdot \\frac{s_D}{\\sqrt{n}}$\n",
    "\n",
    "4. **Intervallo di confidenza per la varianza di $D$** (usando chi-quadrato):  \n",
    "   - $\\left( \\frac{(n-1)s_D^2}{\\chi^2_{\\alpha/2, n-1}}, \\frac{(n-1)s_D^2}{\\chi^2_{1-\\alpha/2, n-1}} \\right)$\n",
    "\n",
    "---\n",
    "\n",
    "## **Schematizzazione dell'algoritmo**\n",
    "\n",
    "|  | **`Algoritmo Unificato per l'Analisi Statistica`** |\n",
    "| --- | --- |\n",
    "|  | **`STAT_ANALYSIS(A, B)`** |\n",
    "| 1. | Calcola la media $\\bar{A}$ e $\\bar{B}$ |\n",
    "| 2. | Calcola la varianza $s_A^2$ e $s_B^2$ |\n",
    "| 3. | Calcola la covarianza tra $A$ e $B$ |\n",
    "| 4. | Calcola gli intervalli di confidenza per le medie di $A$ e $B$ |\n",
    "| 5. | Calcola gli intervalli di confidenza per le varianze di $A$ e $B$ |\n",
    "| 6. | Calcola la differenza $D = B - A$ |\n",
    "| 7. | Calcola la media $\\bar{D}$ e la varianza $s_D^2$ |\n",
    "| 8. | Calcola gli intervalli di confidenza per la media di $D$ (t di Student e Normale) |\n",
    "| 9. | Calcola l'intervallo di confidenza per la varianza di $D$ |\n",
    "\n"
   ]
  },
  {
   "cell_type": "code",
   "execution_count": 13,
   "id": "469d266f-4ee5-4939-8821-4a2efc7b91fa",
   "metadata": {
    "tags": []
   },
   "outputs": [
    {
     "name": "stdout",
     "output_type": "stream",
     "text": [
      "Media:\n",
      "  A: 1.060, B: 0.778, D: -0.283\n",
      "\n",
      "Varianza (campionaria corretta):\n",
      "  A: 0.642, B: 0.600, D: 1.206\n",
      "\n",
      "Covarianza AB: 0.018\n",
      "\n",
      "Intervalli di confidenza per la media (t di Student):\n",
      "  A: (0.7295450454526855, 1.3909349545473142), \n",
      "  B: (0.4577595375439806, 1.0972804624560193), \n",
      "  D: (-0.7360273605878829, 0.17058736058788276)\n",
      "\n",
      "Intervalli di confidenza per la media (normale):\n",
      "  A: (0.7461983058817676, 1.374281694118232), \n",
      "  B: (0.47386215472328785, 1.081177845276712), \n",
      "  D: (-0.7131995386738059, 0.14775953867380587)\n",
      "\n",
      "Intervalli di confidenza per la varianza:\n",
      "  A: (0.39131781369062496, 1.2421319224350422) \n",
      "  B: (0.3658676470495292, 1.1613472933938782), \n",
      "  D: (0.7352923077667578, 2.3339853588165513)\n",
      "\n",
      "Varianza campionaria corretta di D: 1.206\n",
      "Errore standard di D: 0.220\n"
     ]
    }
   ],
   "source": [
    "import numpy as np\n",
    "import scipy.stats as stats\n",
    "\n",
    "# dati esempio t(algoritmi) \n",
    "A = np.array([0.067, 0.678, 0.835, 3.032, 1.023, 0.559, 2.456, 0.469, 0.409, 0.621, 0.966, 1.827, 0.616, 0.620, 1.986, 2.499, 0.973, 0.376, 0.253, 1.697, 1.206, 0.728, 0.397, 1.862, 0.351])\n",
    "B = np.array([0.189, 1.092, 0.300, 0.587, 0.428, 0.704, 0.598, 0.165, 0.743, 1.278, 0.410, 0.176, 0.105, 0.901, 0.873, 1.230, 0.816, 0.797, 2.007, 0.872, 3.830, 0.559, 0.406, 0.155, 0.217])\n",
    "\n",
    "# distribiuzione differenza D = B - A\n",
    "D = B - A\n",
    "n = len(A)\n",
    "alpha = 0.05\n",
    "\n",
    "# medie\n",
    "µ_A = np.mean(A)\n",
    "µ_B = np.mean(B)\n",
    "µ_D = np.mean(D)\n",
    "\n",
    "# varianze\n",
    "σσ_A = np.var(A, ddof=1)\n",
    "σσ_B = np.var(B, ddof=1)\n",
    "c_ss_B = np.var(D, ddof=1) # campionaria corretta di D ramite ddof\n",
    "\n",
    "# covarianza tra A e B (campionaria corretta)\n",
    "cov_AB = np.cov(A, B, ddof=1)[0, 1]\n",
    "\n",
    "# intervalli di confidenza per la media (t di Student)\n",
    "t_stima = stats.t.ppf(1 - alpha/2, df=n-1)\n",
    "conf_int_µ_A_t = (µ_A - t_stima * np.sqrt(σσ_A/n), µ_A + t_stima * np.sqrt(σσ_A/n))\n",
    "conf_int_µ_B_t = (µ_B - t_stima * np.sqrt(σσ_B/n), µ_B + t_stima * np.sqrt(σσ_B/n))\n",
    "conf_int_µ_D_t = (µ_D - t_stima * np.sqrt(c_ss_B/n), µ_D + t_stima * np.sqrt(c_ss_B/n))\n",
    "\n",
    "# intervalli di confidenza per la media (normale)\n",
    "z_stima = stats.norm.ppf(1 - alpha/2)\n",
    "conf_int_µ_A_z = (µ_A - z_stima * np.sqrt(σσ_A/n), µ_A + z_stima * np.sqrt(σσ_A/n))\n",
    "conf_int_µ_B_z = (µ_B - z_stima * np.sqrt(σσ_B/n), µ_B + z_stima * np.sqrt(σσ_B/n))\n",
    "conf_int_µ_D_z = (µ_D - z_stima * np.sqrt(c_ss_B/n), µ_D + z_stima * np.sqrt(c_ss_B/n))\n",
    "\n",
    "# intervalli di confidenza per la varianza\n",
    "chi2_lower = stats.chi2.ppf(alpha/2, df=n-1)\n",
    "chi2_upper = stats.chi2.ppf(1 - alpha/2, df=n-1)\n",
    "conf_int_σσ_A = ((n-1)*σσ_A/chi2_upper, (n-1)*σσ_A/chi2_lower)\n",
    "conf_int_σσ_B = ((n-1)*σσ_B/chi2_upper, (n-1)*σσ_B/chi2_lower)\n",
    "conf_int_c_ss_B = ((n-1)*c_ss_B/chi2_upper, (n-1)*c_ss_B/chi2_lower)\n",
    "\n",
    "\n",
    "# errore standard di D\n",
    "std_error_D = np.sqrt(c_ss_B / n)\n",
    "\n",
    "# stampa dei risultati\n",
    "print(\"Media:\")\n",
    "print(f\"  A: {µ_A:.3f}, B: {µ_B:.3f}, D: {µ_D:.3f}\")\n",
    "print(\"\\nVarianza (campionaria corretta):\")\n",
    "print(f\"  A: {σσ_A:.3f}, B: {σσ_B:.3f}, D: {c_ss_B:.3f}\")\n",
    "print(f\"\\nCovarianza AB: {cov_AB:.3f}\")\n",
    "print(\"\\nIntervalli di confidenza per la media (t di Student):\")\n",
    "print(f\"  A: {conf_int_µ_A_t}, \\n  B: {conf_int_µ_B_t}, \\n  D: {conf_int_µ_D_t}\")\n",
    "print(\"\\nIntervalli di confidenza per la media (normale):\")\n",
    "print(f\"  A: {conf_int_µ_A_z}, \\n  B: {conf_int_µ_B_z}, \\n  D: {conf_int_µ_D_z}\")\n",
    "print(\"\\nIntervalli di confidenza per la varianza:\")\n",
    "print(f\"  A: {conf_int_σσ_A} \\n  B: {conf_int_σσ_B}, \\n  D: {conf_int_c_ss_B}\")\n",
    "print(f\"\\nVarianza campionaria corretta di D: {c_ss_B:.3f}\")\n",
    "print(f\"Errore standard di D: {std_error_D:.3f}\")"
   ]
  }
 ],
 "metadata": {
  "kernelspec": {
   "display_name": "Python 3 (ipykernel)",
   "language": "python",
   "name": "python3"
  },
  "language_info": {
   "codemirror_mode": {
    "name": "ipython",
    "version": 3
   },
   "file_extension": ".py",
   "mimetype": "text/x-python",
   "name": "python",
   "nbconvert_exporter": "python",
   "pygments_lexer": "ipython3",
   "version": "3.11.2"
  }
 },
 "nbformat": 4,
 "nbformat_minor": 5
}
