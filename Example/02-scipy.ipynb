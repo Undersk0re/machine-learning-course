{
 "cells": [
  {
   "cell_type": "markdown",
   "id": "f3ee539a-13be-430b-97cc-921df1397451",
   "metadata": {},
   "source": [
    "# Norm"
   ]
  },
  {
   "cell_type": "code",
   "execution_count": 1,
   "id": "62969d6e-9f4c-4895-8326-66cb3d00ed02",
   "metadata": {
    "tags": []
   },
   "outputs": [
    {
     "name": "stdout",
     "output_type": "stream",
     "text": [
      "PDF normale standard in x=1.5: 0.1295\n",
      "CDF normale standard in x=1.5: 0.9332\n"
     ]
    }
   ],
   "source": [
    "from scipy.stats import norm\n",
    "\n",
    "x = 1.5  # interesse\n",
    "\n",
    "# Probability Density Function (PDF) e Cumulative Distribution Function (CDF)\n",
    "pdf_value = norm.pdf(x)  # PDF in x\n",
    "cdf_value = norm.cdf(x)  # CDF in x\n",
    "\n",
    "print(f\"PDF normale standard in x={x}: {pdf_value:.4f}\")\n",
    "print(f\"CDF normale standard in x={x}: {cdf_value:.4f}\")"
   ]
  },
  {
   "cell_type": "markdown",
   "id": "eadbcf70-2cd2-4d59-9252-dd6de7b10141",
   "metadata": {},
   "source": [
    "# Distribuzione t di Student"
   ]
  },
  {
   "cell_type": "code",
   "execution_count": 2,
   "id": "bcc1f557-2888-4bf1-97eb-6e77ee483abf",
   "metadata": {
    "tags": []
   },
   "outputs": [
    {
     "name": "stdout",
     "output_type": "stream",
     "text": [
      "PDF in x=1.5: 0.1274\n",
      "CDF in x=1.5: 0.9177\n"
     ]
    }
   ],
   "source": [
    "from scipy.stats import t\n",
    "\n",
    "\n",
    "df = 10  # gradi di libertà\n",
    "x = 1.5  # interesse\n",
    "\n",
    "# Probability Density Function e Cumulative Distribution Function\n",
    "pdf_value = t.pdf(x, df)  # PDF in x\n",
    "cdf_value = t.cdf(x, df)  # CDF in x\n",
    "\n",
    "print(f\"PDF in x={x}: {pdf_value:.4f}\")\n",
    "print(f\"CDF in x={x}: {cdf_value:.4f}\")"
   ]
  },
  {
   "cell_type": "markdown",
   "id": "6a3fa777-4f18-4f7c-ba6d-b95d581c9216",
   "metadata": {},
   "source": [
    "# chiquadro"
   ]
  },
  {
   "cell_type": "code",
   "execution_count": 3,
   "id": "c8bb3921-a4a2-494d-9afa-40cbb2a77286",
   "metadata": {
    "tags": []
   },
   "outputs": [
    {
     "name": "stdout",
     "output_type": "stream",
     "text": [
      "PDF chi-quadrato in x=3.0: 0.1542\n",
      "CDF chi-quadrato in x=3.0: 0.3000\n"
     ]
    }
   ],
   "source": [
    "from scipy.stats import chi2\n",
    "\n",
    "\n",
    "df = 5 # gradi di libertà\n",
    "\n",
    "# Probability Density Function (PDF) e Cumulative Distribution Function (CDF)\n",
    "x = 3.0  # Valore di interesse\n",
    "\n",
    "pdf_value = chi2.pdf(x, df)  # PDF in x\n",
    "cdf_value = chi2.cdf(x, df)  # CDF in x\n",
    "\n",
    "print(f\"PDF chi-quadrato in x={x}: {pdf_value:.4f}\")\n",
    "print(f\"CDF chi-quadrato in x={x}: {cdf_value:.4f}\")"
   ]
  },
  {
   "cell_type": "markdown",
   "id": "9efb56c6-44b7-4283-9af2-ca1aec8db036",
   "metadata": {},
   "source": [
    "# Correlazione di Pearson"
   ]
  },
  {
   "cell_type": "code",
   "execution_count": 4,
   "id": "9db43567-14a7-433c-8157-6a28ad9ee01d",
   "metadata": {
    "tags": []
   },
   "outputs": [
    {
     "name": "stdout",
     "output_type": "stream",
     "text": [
      "Correlazione di Pearson : 1.0000\n",
      "P-value: 0.0000\n"
     ]
    }
   ],
   "source": [
    "from scipy.stats import pearsonr\n",
    "\n",
    "# double linear correlation\n",
    "x = [1, 2, 3, 4, 5]\n",
    "y = [2, 4, 6, 8, 10]\n",
    "\n",
    "# correlazione e p-value\n",
    "corr, p_value = pearsonr(x, y)\n",
    "\n",
    "print(f\"Correlazione di Pearson : {corr:.4f}\")\n",
    "print(f\"P-value: {p_value:.4f}\")"
   ]
  },
  {
   "cell_type": "code",
   "execution_count": 5,
   "id": "ddacf1c4-302f-474c-b90a-ed940ab33df5",
   "metadata": {
    "tags": []
   },
   "outputs": [
    {
     "name": "stdout",
     "output_type": "stream",
     "text": [
      "Correlazione di Pearson: 0.3254\n",
      "P-value: 0.5931\n"
     ]
    }
   ],
   "source": [
    "from scipy.stats import pearsonr\n",
    "\n",
    "\n",
    "# empiric correlation\n",
    "x = [1, 2, 3, 4, 5]\n",
    "y = [2, 3, 4, -1, 7]\n",
    "\n",
    "# correlazione e p-value\n",
    "corr, p_value = pearsonr(x, y)\n",
    "\n",
    "print(f\"Correlazione di Pearson: {corr:.4f}\")\n",
    "print(f\"P-value: {p_value:.4f}\")"
   ]
  },
  {
   "cell_type": "markdown",
   "id": "658798fe-18cc-49c7-bb7b-52820846fcc7",
   "metadata": {},
   "source": [
    "# Distribuzione di Poisson"
   ]
  },
  {
   "cell_type": "code",
   "execution_count": 6,
   "id": "6088b703-bd0a-446d-93b6-beb8e869ff1e",
   "metadata": {
    "tags": []
   },
   "outputs": [
    {
     "name": "stdout",
     "output_type": "stream",
     "text": [
      "PMF per k=2: 0.2240\n",
      "CDF per k=2: 0.4232\n"
     ]
    }
   ],
   "source": [
    "from scipy.stats import poisson\n",
    "\n",
    "\n",
    "mu = 3 # intensità lambda \n",
    "k = 2  # target t\n",
    "\n",
    "# Probability Mass Function e Cumulative Distribution Functions\n",
    "pmf_value = poisson.pmf(k, mu)  # ℙ di k eventi\n",
    "cdf_value = poisson.cdf(k, mu)  # ℙ cumulativa fino a k eventi\n",
    "\n",
    "print(f\"PMF per k={k}: {pmf_value:.4f}\")\n",
    "print(f\"CDF per k={k}: {cdf_value:.4f}\")"
   ]
  },
  {
   "cell_type": "markdown",
   "id": "ef28284a-abba-4e97-9ab4-626de76ec51b",
   "metadata": {},
   "source": [
    "La distribuzione di Poisson è adatta per modellare il numero di eventi che si verificano in un intervallo di tempo fisso, quando gli eventi si verificano con un tasso medio noto e indipendentemente l'uno dall'altro.\n",
    "#### Dati del problema di esempio:\n",
    "- Inetnsità di eventi: $\\lambda = 2$ eventi ogni 10 minuti.\n",
    "- Intervallo di interesse: 5 minuti.\n",
    "- Numero di eventi $k$: più di 3.\n",
    "\n",
    "### Calcolo del parametro $\\lambda$ per 5 minuti:\n",
    "Poiché $\\lambda$ rappresenta il tasso medio di eventi per 10 minuti, dobbiamo scalarlo per ottenere il tasso medio di eventi per 5 minuti:\n",
    "\n",
    "$$ \\lambda_{5} = \\lambda \\times \\frac{5}{10} = 2 \\times 0.5 = 1 $$\n",
    "\n",
    "\n",
    "### Formula della distribuzione di Poisson:\n",
    "La probabilità di ottenere esattamente $k$ eventi in un intervallo continuo di tempo è data da:\n",
    "$$ ℙ(X = k) = \\frac{e^{-\\lambda} \\lambda^k}{k!} $$\n",
    "\n",
    "### Calcolo di $ℙ(X \\leq 3)$:\n",
    "$$ ℙ(X \\leq 3) = \\sum_{k=0}^{3} \\frac{e^{-\\lambda} \\lambda^k}{k!} $$"
   ]
  },
  {
   "cell_type": "code",
   "execution_count": 7,
   "id": "f031c742-0974-4be3-ad73-a8cf0f80e44a",
   "metadata": {
    "tags": []
   },
   "outputs": [
    {
     "name": "stdout",
     "output_type": "stream",
     "text": [
      "Probabilità accadimento di più di 3 eventi nei prossimi 5 minuti (Poisson): 0.0190\n"
     ]
    }
   ],
   "source": [
    "from scipy.stats import poisson\n",
    "\n",
    "# parametri\n",
    "lambda_10min = 2  # eventi ogni 10 minuti\n",
    "lambda_5min = lambda_10min * (5 / 10)  # eventi ogni 5 minuti\n",
    "\n",
    "# probabilità di Poisson\n",
    "k = 3\n",
    "P_leq_3 = poisson.cdf(k, lambda_5min)  # P(X <= 3)\n",
    "P_greater_than_3 = 1 - P_leq_3  # P(X > 3)\n",
    "\n",
    "print(f\"Probabilità accadimento di più di 3 eventi nei prossimi 5 minuti (Poisson): {P_greater_than_3:.4f}\")"
   ]
  },
  {
   "cell_type": "markdown",
   "id": "3d322ed2-f99b-4783-990f-7a6b45c391b6",
   "metadata": {},
   "source": [
    "# Distribuzione esponenziale"
   ]
  },
  {
   "cell_type": "code",
   "execution_count": 8,
   "id": "c88470c5-6c5b-4b00-b955-099ee7f58a34",
   "metadata": {
    "tags": []
   },
   "outputs": [
    {
     "name": "stdout",
     "output_type": "stream",
     "text": [
      "PDF esponenziale in x=2.0: 0.1839\n",
      "CDF esponenziale in x=2.0: 0.6321\n"
     ]
    }
   ],
   "source": [
    "from scipy.stats import expon\n",
    "\n",
    "# parametri\n",
    "lambda_param = 0.5 # intensità\n",
    "x = 2.0  # interesse\n",
    "\n",
    "# Probability Density Function (PDF) e Cumulative Distribution Function (CDF)\n",
    "pdf_value = expon.pdf(x, scale=1/lambda_param)  \n",
    "cdf_value = expon.cdf(x, scale=1/lambda_param) \n",
    "\n",
    "print(f\"PDF esponenziale in x={x}: {pdf_value:.4f}\")\n",
    "print(f\"CDF esponenziale in x={x}: {cdf_value:.4f}\")"
   ]
  },
  {
   "cell_type": "markdown",
   "id": "ffac755e-3e8d-4c51-bfd3-24f5fa725fe7",
   "metadata": {},
   "source": [
    "# Cauchy"
   ]
  },
  {
   "cell_type": "code",
   "execution_count": 9,
   "id": "ee6f75c8-7307-47d7-b825-4b4ba1f3bae6",
   "metadata": {},
   "outputs": [
    {
     "name": "stdout",
     "output_type": "stream",
     "text": [
      "PDF Cauchy in x=1.5: 0.0979\n",
      "CDF Cauchy in x=1.5: 0.8128\n"
     ]
    }
   ],
   "source": [
    "from scipy.stats import cauchy\n",
    "\n",
    "\n",
    "# parametri\n",
    "x = 1.5  # interesse\n",
    "\n",
    "# Probability Density Function (PDF) e Cumulative Distribution Function (CDF)\n",
    "pdf_value = cauchy.pdf(x)  \n",
    "cdf_value = cauchy.cdf(x)  \n",
    "\n",
    "print(f\"PDF Cauchy in x={x}: {pdf_value:.4f}\")\n",
    "print(f\"CDF Cauchy in x={x}: {cdf_value:.4f}\")"
   ]
  },
  {
   "cell_type": "markdown",
   "id": "1d0fa6f3-6497-4639-a521-65fedcb77d0e",
   "metadata": {},
   "source": [
    "# Analisi delle distribuzioni A, B e della loro differenza"
   ]
  },
  {
   "cell_type": "markdown",
   "id": "8ea5407e-8812-4507-9ae7-7a318891f7fb",
   "metadata": {
    "tags": []
   },
   "source": [
    "## Passaggi\n",
    "\n",
    "### 1. **Statistiche dei vettori $A$ e $B$**\n",
    "\n",
    "1. **Media empirica**:  \n",
    "   - $\\bar{A} = \\frac{1}{n} \\sum_{i=1}^{n} A_i$  \n",
    "   - $\\bar{B} = \\frac{1}{n} \\sum_{i=1}^{n} B_i$\n",
    "\n",
    "2. **Varianza empirica**:  \n",
    "   - $s_A^2 = \\frac{1}{n-1} \\sum_{i=1}^{n} (A_i - \\bar{A})^2$  \n",
    "   - $s_B^2 = \\frac{1}{n-1} \\sum_{i=1}^{n} (B_i - \\bar{B})^2$\n",
    "\n",
    "3. **Covarianza tra $A$ e $B$**:  \n",
    "   - $\\text{Cov}(A, B) = \\frac{1}{n-1} \\sum_{i=1}^{n} (A_i - \\bar{A}) (B_i - \\bar{B})$\n",
    "\n",
    "---\n",
    "\n",
    "### 2. **Intervalli di confidenza per $A$ e $B$**\n",
    "\n",
    "1. **Intervallo di confidenza per la media** (usando la distribuzione t di Student):  \n",
    "   - $\\bar{X} \\pm t_{\\alpha/2, n-1} \\cdot \\frac{s_X}{\\sqrt{n}}$\n",
    "   \n",
    "2. **Intervallo di confidenza per la varianza** (usando la distribuzione chi-quadrato):  \n",
    "   - $\\left( \\frac{(n-1)s_X^2}{\\chi^2_{\\alpha/2, n-1}}, \\frac{(n-1)s_X^2}{\\chi^2_{1-\\alpha/2, n-1}} \\right)$\n",
    "\n",
    "---\n",
    "\n",
    "### 3. **Analisi della differenza $Δ = B - A$**\n",
    "\n",
    "1. **Media della differenza**:  \n",
    "   - $\\bar{Δ} = \\frac{1}{n} \\sum_{i=1}^{n} Δ_i$ con $Δ_i = B_i - A_i$\n",
    "\n",
    "2. **Varianza della differenza**:  \n",
    "   - $s_Δ^2 = \\frac{1}{n-1} \\sum_{i=1}^{n} (Δ_i - \\bar{Δ})^2$\n",
    "\n",
    "3. **Intervallo di confidenza per la media di $Δ$**:\n",
    "   - Usando **t di Student**:  \n",
    "     $\\bar{Δ} \\pm t_{\\alpha/2, n-1} \\cdot \\frac{s_Δ}{\\sqrt{n}}$\n",
    "   - Usando **distribuzione normale standard**:  \n",
    "     $\\bar{Δ} \\pm Z_{\\alpha/2} \\cdot \\frac{s_Δ}{\\sqrt{n}}$\n",
    "\n",
    "4. **Intervallo di confidenza per la varianza di $Δ$** (usando chi-quadrato):  \n",
    "   - $\\left( \\frac{(n-1)s_Δ^2}{\\chi^2_{\\alpha/2, n-1}}, \\frac{(n-1)s_Δ^2}{\\chi^2_{1-\\alpha/2, n-1}} \\right)$\n",
    "\n",
    "---\n",
    "\n",
    "## **Schematizzazione dell'algoritmo**\n",
    "\n",
    "|  | **`Algoritmo Unificato per l'Analisi Statistica`** |\n",
    "| --- | --- |\n",
    "|  | **`STAT_ANALYSIS(A, B)`** |\n",
    "| 1. | Calcola la media $\\bar{A}$ e $\\bar{B}$ |\n",
    "| 2. | Calcola la varianza $s_A^2$ e $s_B^2$ |\n",
    "| 3. | Calcola la covarianza tra $A$ e $B$ |\n",
    "| 4. | Calcola gli intervalli di confidenza per le medie di $A$ e $B$ |\n",
    "| 5. | Calcola gli intervalli di confidenza per le varianze di $A$ e $B$ |\n",
    "| 6. | Calcola la differenza $Δ = B - A$ |\n",
    "| 7. | Calcola la media $\\bar{Δ}$ e la varianza $s_Δ^2$ |\n",
    "| 8. | Calcola gli intervalli di confidenza per la media di $Δ$ (t di Student e Normale) |\n",
    "| 9. | Calcola l'intervallo di confidenza per la varianza di $Δ$ |\n",
    "\n"
   ]
  },
  {
   "cell_type": "code",
   "execution_count": 10,
   "id": "469d266f-4ee5-4939-8821-4a2efc7b91fa",
   "metadata": {
    "tags": []
   },
   "outputs": [
    {
     "name": "stdout",
     "output_type": "stream",
     "text": [
      "Media:\n",
      "  A: 1.060, B: 0.778, D: -0.283\n",
      "\n",
      "Varianza (campionaria corretta):\n",
      "  A: 0.642, B: 0.600, D: 1.206\n",
      "\n",
      "Covarianza AB: 0.018\n",
      "\n",
      "Intervalli di confidenza per la media (t di Student):\n",
      "  A: (0.7295450454526855, 1.3909349545473142), \n",
      "  B: (0.4577595375439806, 1.0972804624560193), \n",
      "  D: (-0.7360273605878829, 0.17058736058788276)\n",
      "\n",
      "Intervalli di confidenza per la media (normale):\n",
      "  A: (0.7461983058817676, 1.374281694118232), \n",
      "  B: (0.47386215472328785, 1.081177845276712), \n",
      "  D: (-0.7131995386738059, 0.14775953867380587)\n",
      "\n",
      "Intervalli di confidenza per la varianza:\n",
      "  A: (0.39131781369062496, 1.2421319224350422) \n",
      "  B: (0.3658676470495292, 1.1613472933938782), \n",
      "  D: (0.7352923077667578, 2.3339853588165513)\n",
      "\n",
      "Varianza campionaria corretta di D: 1.206\n",
      "Errore standard di D: 0.220\n"
     ]
    }
   ],
   "source": [
    "import numpy as np\n",
    "import scipy.stats as stats\n",
    "\n",
    "# dati esempio t(algoritmi) \n",
    "A = np.array([0.067, 0.678, 0.835, 3.032, 1.023, 0.559, 2.456, 0.469, 0.409, 0.621, 0.966, 1.827, 0.616, 0.620, 1.986, 2.499, 0.973, 0.376, 0.253, 1.697, 1.206, 0.728, 0.397, 1.862, 0.351])\n",
    "B = np.array([0.189, 1.092, 0.300, 0.587, 0.428, 0.704, 0.598, 0.165, 0.743, 1.278, 0.410, 0.176, 0.105, 0.901, 0.873, 1.230, 0.816, 0.797, 2.007, 0.872, 3.830, 0.559, 0.406, 0.155, 0.217])\n",
    "\n",
    "# distribiuzione differenza D = B - A\n",
    "D = B - A\n",
    "n = len(A)\n",
    "alpha = 0.05\n",
    "\n",
    "# medie\n",
    "mean_A = np.mean(A)\n",
    "mean_B = np.mean(B)\n",
    "mean_D = np.mean(D)\n",
    "\n",
    "# varianze\n",
    "var_A = np.var(A, ddof=1)\n",
    "var_B = np.var(B, ddof=1)\n",
    "c_var_D = np.var(D, ddof=1) # campionaria corretta di D ramite ddof\n",
    "\n",
    "# covarianza tra A e B\n",
    "cov_AB = np.cov(A, B, ddof=1)[0, 1]\n",
    "\n",
    "# intervalli di confidenza per la media (t di Student)\n",
    "t_stima = stats.t.ppf(1 - alpha/2, df=n-1)\n",
    "conf_int_mean_A_t = (mean_A - t_stima * np.sqrt(var_A/n), mean_A + t_stima * np.sqrt(var_A/n))\n",
    "conf_int_mean_B_t = (mean_B - t_stima * np.sqrt(var_B/n), mean_B + t_stima * np.sqrt(var_B/n))\n",
    "conf_int_mean_D_t = (mean_D - t_stima * np.sqrt(c_var_D/n), mean_D + t_stima * np.sqrt(c_var_D/n))\n",
    "\n",
    "# intervalli di confidenza per la media (normale)\n",
    "z_stima = stats.norm.ppf(1 - alpha/2)\n",
    "conf_int_mean_A_z = (mean_A - z_stima * np.sqrt(var_A/n), mean_A + z_stima * np.sqrt(var_A/n))\n",
    "conf_int_mean_B_z = (mean_B - z_stima * np.sqrt(var_B/n), mean_B + z_stima * np.sqrt(var_B/n))\n",
    "conf_int_mean_D_z = (mean_D - z_stima * np.sqrt(c_var_D/n), mean_D + z_stima * np.sqrt(c_var_D/n))\n",
    "\n",
    "# intervalli di confidenza per la varianza\n",
    "chi2_lower = stats.chi2.ppf(alpha/2, df=n-1)\n",
    "chi2_upper = stats.chi2.ppf(1 - alpha/2, df=n-1)\n",
    "conf_int_var_A = ((n-1)*var_A/chi2_upper, (n-1)*var_A/chi2_lower)\n",
    "conf_int_var_B = ((n-1)*var_B/chi2_upper, (n-1)*var_B/chi2_lower)\n",
    "conf_int_c_var_D = ((n-1)*c_var_D/chi2_upper, (n-1)*c_var_D/chi2_lower)\n",
    "\n",
    "\n",
    "# errore standard di D\n",
    "std_error_D = np.sqrt(c_var_D / n)\n",
    "\n",
    "# stampa dei risultati\n",
    "print(\"Media:\")\n",
    "print(f\"  A: {mean_A:.3f}, B: {mean_B:.3f}, D: {mean_D:.3f}\")\n",
    "print(\"\\nVarianza (campionaria corretta):\")\n",
    "print(f\"  A: {var_A:.3f}, B: {var_B:.3f}, D: {c_var_D:.3f}\")\n",
    "print(f\"\\nCovarianza AB: {cov_AB:.3f}\")\n",
    "print(\"\\nIntervalli di confidenza per la media (t di Student):\")\n",
    "print(f\"  A: {conf_int_mean_A_t}, \\n  B: {conf_int_mean_B_t}, \\n  D: {conf_int_mean_D_t}\")\n",
    "print(\"\\nIntervalli di confidenza per la media (normale):\")\n",
    "print(f\"  A: {conf_int_mean_A_z}, \\n  B: {conf_int_mean_B_z}, \\n  D: {conf_int_mean_D_z}\")\n",
    "print(\"\\nIntervalli di confidenza per la varianza:\")\n",
    "print(f\"  A: {conf_int_var_A} \\n  B: {conf_int_var_B}, \\n  D: {conf_int_c_var_D}\")\n",
    "print(f\"\\nVarianza campionaria corretta di D: {c_var_D:.3f}\")\n",
    "print(f\"Errore standard di D: {std_error_D:.3f}\")"
   ]
  },
  {
   "cell_type": "code",
   "execution_count": null,
   "id": "6954ec48-ebfe-498c-bb37-f798f137a936",
   "metadata": {},
   "outputs": [],
   "source": []
  }
 ],
 "metadata": {
  "kernelspec": {
   "display_name": "Python 3 (ipykernel)",
   "language": "python",
   "name": "python3"
  },
  "language_info": {
   "codemirror_mode": {
    "name": "ipython",
    "version": 3
   },
   "file_extension": ".py",
   "mimetype": "text/x-python",
   "name": "python",
   "nbconvert_exporter": "python",
   "pygments_lexer": "ipython3",
   "version": "3.11.2"
  }
 },
 "nbformat": 4,
 "nbformat_minor": 5
}
