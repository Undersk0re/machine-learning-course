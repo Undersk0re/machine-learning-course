{
 "cells": [
  {
   "cell_type": "markdown",
   "metadata": {
    "id": "-K_OCOOHLNcw"
   },
   "source": [
    "## 1 Calcolare il valore massimo:"
   ]
  },
  {
   "cell_type": "code",
   "execution_count": 1,
   "metadata": {
    "colab": {
     "base_uri": "https://localhost:8080/"
    },
    "executionInfo": {
     "elapsed": 26,
     "status": "ok",
     "timestamp": 1741008351083,
     "user": {
      "displayName": "Simone Pellacani",
      "userId": "10538417230609006453"
     },
     "user_tz": -60
    },
    "id": "nRL0Os66LNcz",
    "outputId": "84cdaba6-a337-431e-b741-f3d1bbb2210a"
   },
   "outputs": [
    {
     "name": "stdout",
     "output_type": "stream",
     "text": [
      "Valore massimo: 8\n"
     ]
    }
   ],
   "source": [
    "import numpy as np\n",
    "\n",
    "array = np.array([1, 5, 8, 3, 2, 7])\n",
    "max_value = array.max()\n",
    "print(\"Valore massimo:\", max_value)"
   ]
  },
  {
   "cell_type": "markdown",
   "metadata": {
    "id": "G4c-sSSHLNc2"
   },
   "source": [
    "## 2 Calcolare il valore minimo:"
   ]
  },
  {
   "cell_type": "code",
   "execution_count": 2,
   "metadata": {
    "colab": {
     "base_uri": "https://localhost:8080/"
    },
    "executionInfo": {
     "elapsed": 22,
     "status": "ok",
     "timestamp": 1741008386814,
     "user": {
      "displayName": "Simone Pellacani",
      "userId": "10538417230609006453"
     },
     "user_tz": -60
    },
    "id": "Gutk5ym9LNc2",
    "outputId": "ff04f93c-a8cf-4471-e6ad-b032ebe86dd7"
   },
   "outputs": [
    {
     "name": "stdout",
     "output_type": "stream",
     "text": [
      "Valore minimo: 1\n"
     ]
    }
   ],
   "source": [
    "import numpy as np\n",
    "\n",
    "array = np.array([1, 5, 8, 3, 2, 7])\n",
    "min_value = array.min()\n",
    "print(\"Valore minimo:\", min_value)"
   ]
  },
  {
   "cell_type": "markdown",
   "metadata": {
    "id": "8JnU6qQGLNc5"
   },
   "source": [
    "## 3 Calcolare la somma di tutti gli elementi:"
   ]
  },
  {
   "cell_type": "code",
   "execution_count": 3,
   "metadata": {
    "colab": {
     "base_uri": "https://localhost:8080/"
    },
    "executionInfo": {
     "elapsed": 25,
     "status": "ok",
     "timestamp": 1741008407247,
     "user": {
      "displayName": "Simone Pellacani",
      "userId": "10538417230609006453"
     },
     "user_tz": -60
    },
    "id": "YcYqahAALNc6",
    "outputId": "e5a984f5-0872-405a-b1f1-1db6de9c9141"
   },
   "outputs": [
    {
     "name": "stdout",
     "output_type": "stream",
     "text": [
      "Somma di tutti gli elementi: 26\n"
     ]
    }
   ],
   "source": [
    "import numpy as np\n",
    "\n",
    "array = np.array([1, 5, 8, 3, 2, 7])\n",
    "sum_value = array.sum()\n",
    "print(\"Somma di tutti gli elementi:\", sum_value)"
   ]
  },
  {
   "cell_type": "markdown",
   "metadata": {
    "id": "jGrphyhpLNc7"
   },
   "source": [
    "## 4 Calcolare la media degli elementi:"
   ]
  },
  {
   "cell_type": "code",
   "execution_count": 4,
   "metadata": {
    "colab": {
     "base_uri": "https://localhost:8080/"
    },
    "executionInfo": {
     "elapsed": 24,
     "status": "ok",
     "timestamp": 1741008444540,
     "user": {
      "displayName": "Simone Pellacani",
      "userId": "10538417230609006453"
     },
     "user_tz": -60
    },
    "id": "-lqVeeFuLNc9",
    "outputId": "a1089233-bdf9-4a0d-c6eb-6f542338bd2d"
   },
   "outputs": [
    {
     "name": "stdout",
     "output_type": "stream",
     "text": [
      "Media degli elementi: 4.333333333333333\n"
     ]
    }
   ],
   "source": [
    "import numpy as np\n",
    "\n",
    "array = np.array([1, 5, 8, 3, 2, 7])\n",
    "mean_value = array.mean()\n",
    "print(\"Media degli elementi:\", mean_value)"
   ]
  },
  {
   "cell_type": "markdown",
   "metadata": {
    "id": "xyKIz7WcLNc-"
   },
   "source": [
    "## 5 Contare il numero totale di elementi:"
   ]
  },
  {
   "cell_type": "code",
   "execution_count": 5,
   "metadata": {
    "colab": {
     "base_uri": "https://localhost:8080/"
    },
    "executionInfo": {
     "elapsed": 40,
     "status": "ok",
     "timestamp": 1741008814062,
     "user": {
      "displayName": "Simone Pellacani",
      "userId": "10538417230609006453"
     },
     "user_tz": -60
    },
    "id": "4JEH07mBLNdA",
    "outputId": "8f43aff6-1401-4a68-a326-86c5f08937a2"
   },
   "outputs": [
    {
     "name": "stdout",
     "output_type": "stream",
     "text": [
      "Numero totale di elementi: 6\n"
     ]
    }
   ],
   "source": [
    "import numpy as np\n",
    "\n",
    "array = np.array([1, 5, 8, 3, 2, 7])\n",
    "count_value = array.size\n",
    "count_value = len(array)\n",
    "print(\"Numero totale di elementi:\", count_value)"
   ]
  },
  {
   "cell_type": "markdown",
   "metadata": {
    "id": "klSkyq3lLNdB"
   },
   "source": [
    "## 6 Contare il numero di elementi distinti:\n"
   ]
  },
  {
   "cell_type": "code",
   "execution_count": 6,
   "metadata": {
    "colab": {
     "base_uri": "https://localhost:8080/"
    },
    "executionInfo": {
     "elapsed": 70,
     "status": "ok",
     "timestamp": 1741008942487,
     "user": {
      "displayName": "Simone Pellacani",
      "userId": "10538417230609006453"
     },
     "user_tz": -60
    },
    "id": "4G2sww2dLNdC",
    "outputId": "345b56a8-0ac4-42c5-aece-06e23b81d6f3"
   },
   "outputs": [
    {
     "name": "stdout",
     "output_type": "stream",
     "text": [
      "Numero di elementi distinti: 6\n"
     ]
    }
   ],
   "source": [
    "import numpy as np\n",
    "\n",
    "array = np.array([1, 5, 8, 3, 2, 7, 5, 3])\n",
    "unique_count=len(set(array))\n",
    "print(\"Numero di elementi distinti:\", unique_count)"
   ]
  },
  {
   "cell_type": "markdown",
   "metadata": {
    "id": "MlcTzaIiLNdD"
   },
   "source": [
    "## 7 Trova gli indici degli elementi massimi:"
   ]
  },
  {
   "cell_type": "code",
   "execution_count": 7,
   "metadata": {
    "colab": {
     "base_uri": "https://localhost:8080/"
    },
    "executionInfo": {
     "elapsed": 68,
     "status": "ok",
     "timestamp": 1741010146103,
     "user": {
      "displayName": "Simone Pellacani",
      "userId": "10538417230609006453"
     },
     "user_tz": -60
    },
    "id": "cb9c2ZKALNdE",
    "outputId": "ee51b69c-70ca-4b93-c506-05a3cb21b792"
   },
   "outputs": [
    {
     "name": "stdout",
     "output_type": "stream",
     "text": [
      "Indice dell'elemento massimo: 2\n"
     ]
    }
   ],
   "source": [
    "import numpy as np\n",
    "\n",
    "array = np.array([1, 5, 8, 3, 2, 7])\n",
    "max_indices = list(array).index(array.max())\n",
    "print(\"Indice dell'elemento massimo:\", max_indices)"
   ]
  },
  {
   "cell_type": "markdown",
   "metadata": {
    "id": "B8Bd7XwtLNdF"
   },
   "source": [
    "## 8 Trova gli indici degli elementi minimi:\n"
   ]
  },
  {
   "cell_type": "code",
   "execution_count": 8,
   "metadata": {
    "colab": {
     "base_uri": "https://localhost:8080/"
    },
    "executionInfo": {
     "elapsed": 22,
     "status": "ok",
     "timestamp": 1741010169497,
     "user": {
      "displayName": "Simone Pellacani",
      "userId": "10538417230609006453"
     },
     "user_tz": -60
    },
    "id": "6oLT9MkbLNdG",
    "outputId": "10385e32-13f1-4e43-dc75-8d42443383e5"
   },
   "outputs": [
    {
     "name": "stdout",
     "output_type": "stream",
     "text": [
      "Indice dell'elemento minimo: 0\n"
     ]
    }
   ],
   "source": [
    "import numpy as np\n",
    "\n",
    "array = np.array([1, 5, 8, 3, 2, 7])\n",
    "min_indices = list(array).index(array.min())\n",
    "print(\"Indice dell'elemento minimo:\", min_indices)"
   ]
  },
  {
   "cell_type": "markdown",
   "metadata": {
    "id": "1WUyHM0wLNdG"
   },
   "source": [
    "## 9 Calcolare la deviazione standard:\n",
    "$$\n",
    "σ=\\sqrt{{1 \\over N}\\underset{i=1}{\\overset{n}{∑}}(x_i- µ_x)^2}\n",
    "$$\n",
    "\n"
   ]
  },
  {
   "cell_type": "code",
   "execution_count": 9,
   "metadata": {
    "colab": {
     "base_uri": "https://localhost:8080/"
    },
    "executionInfo": {
     "elapsed": 112,
     "status": "ok",
     "timestamp": 1741010262497,
     "user": {
      "displayName": "Simone Pellacani",
      "userId": "10538417230609006453"
     },
     "user_tz": -60
    },
    "id": "XrZ-AB0GLNdH",
    "outputId": "c94b61d3-0d61-4ddc-c3fe-235ba6840bdb"
   },
   "outputs": [
    {
     "name": "stdout",
     "output_type": "stream",
     "text": [
      "Deviazione standard: 2.560381915956203\n"
     ]
    }
   ],
   "source": [
    "import numpy as np\n",
    "\n",
    "array = np.array([1, 5, 8, 3, 2, 7])\n",
    "std_dev = array.std()\n",
    "print(\"Deviazione standard:\", std_dev)"
   ]
  },
  {
   "cell_type": "markdown",
   "metadata": {
    "id": "KZgJz1piLNdJ"
   },
   "source": [
    "## 10 Calcolare la varianza:\n",
    "$$\n",
    "σ^2={{1 \\over N}\\underset{i=1}{\\overset{n}{∑}}(x_i- µ_x)^2}\n",
    "$$"
   ]
  },
  {
   "cell_type": "code",
   "execution_count": 10,
   "metadata": {
    "colab": {
     "base_uri": "https://localhost:8080/"
    },
    "executionInfo": {
     "elapsed": 38,
     "status": "ok",
     "timestamp": 1741010899734,
     "user": {
      "displayName": "Simone Pellacani",
      "userId": "10538417230609006453"
     },
     "user_tz": -60
    },
    "id": "U9EbctqlLNdJ",
    "outputId": "1e91f296-28c0-48e2-e3c5-76135cb05d91"
   },
   "outputs": [
    {
     "name": "stdout",
     "output_type": "stream",
     "text": [
      "Varianza:  6.555555555555556\n"
     ]
    }
   ],
   "source": [
    "import numpy as np\n",
    "\n",
    "# quanto i valori di un insieme di dati si discostano dalla loro media\n",
    "array = np.array([1, 5, 8, 3, 2, 7])\n",
    "variance = (array.std())**2\n",
    "print(\"Varianza: \", variance)"
   ]
  },
  {
   "cell_type": "markdown",
   "metadata": {
    "id": "Nm3S0gJ5LNdK"
   },
   "source": [
    "## 11 Concatenare due array di stringhe:"
   ]
  },
  {
   "cell_type": "code",
   "execution_count": 11,
   "metadata": {},
   "outputs": [
    {
     "name": "stdout",
     "output_type": "stream",
     "text": [
      "Array concatenato: ['hello' 'world' 'good' 'morning']\n"
     ]
    }
   ],
   "source": [
    "import numpy as np\n",
    "\n",
    "array1 = np.array([\"hello\", \"world\"])\n",
    "array2 = np.array([\"good\", \"morning\"])\n",
    "\n",
    "concatenated_array = np.concatenate([array1 , array2], axis=0) # axis 0 single dimension\n",
    "print(\"Array concatenato:\", concatenated_array)"
   ]
  },
  {
   "cell_type": "markdown",
   "metadata": {},
   "source": [
    "## 12 Trova la lunghezza di ciascuna stringa nell'array:"
   ]
  },
  {
   "cell_type": "code",
   "execution_count": 12,
   "metadata": {},
   "outputs": [
    {
     "name": "stdout",
     "output_type": "stream",
     "text": [
      "Lunghezza di ciascuna stringa: [5 6 4]\n"
     ]
    }
   ],
   "source": [
    "#vectorize\n",
    "import numpy as np\n",
    "\n",
    "array = np.array([\"apple\", \"banana\", \"kiwi\"])\n",
    "lengths = np.vectorize(len)(array) # funzionale\n",
    "lengts =  np.char.str_len(array)\n",
    "print(\"Lunghezza di ciascuna stringa:\", lengths) # [5 6 4]"
   ]
  },
  {
   "cell_type": "markdown",
   "metadata": {},
   "source": [
    "## 13 Convertire tutte le stringhe in maiuscolo:"
   ]
  },
  {
   "cell_type": "code",
   "execution_count": 13,
   "metadata": {},
   "outputs": [
    {
     "name": "stdout",
     "output_type": "stream",
     "text": [
      "Stringhe in maiuscolo: ['HELLO' 'WORLD']\n"
     ]
    }
   ],
   "source": [
    "#char\n",
    "import numpy as np\n",
    "\n",
    "array = np.array([\"hello\", \"world\"])\n",
    "uppercase_array = np.vectorize(str.upper)(array) # pass classfunction\n",
    "# https://numpy.org/doc/stable/reference/generated/numpy.char.lower.html\n",
    "print(\"Stringhe in maiuscolo:\", uppercase_array) # ['HELLO' 'WORLD']"
   ]
  },
  {
   "cell_type": "markdown",
   "metadata": {},
   "source": [
    "## 14 Contare il numero totale di caratteri in tutto l'array:"
   ]
  },
  {
   "cell_type": "code",
   "execution_count": 14,
   "metadata": {},
   "outputs": [
    {
     "name": "stdout",
     "output_type": "stream",
     "text": [
      "Numero totale di caratteri: 15\n"
     ]
    }
   ],
   "source": [
    "import numpy as np\n",
    "\n",
    "array = np.array([\"apple\", \"banana\", \"kiwi\"])\n",
    "\n",
    "total_characters = np.char.str_len(array).sum()\n",
    "print(\"Numero totale di caratteri:\", total_characters) # 15"
   ]
  },
  {
   "cell_type": "markdown",
   "metadata": {},
   "source": [
    "## 15 Trova l'indice della stringa più lunga:"
   ]
  },
  {
   "cell_type": "code",
   "execution_count": 15,
   "metadata": {},
   "outputs": [
    {
     "name": "stdout",
     "output_type": "stream",
     "text": [
      "Indice della stringa più lunga: 2\n"
     ]
    }
   ],
   "source": [
    "#argmax\n",
    "\n",
    "import numpy as np\n",
    "array = np.array([\"apple\", \"banana\", \"kiwi\"])\n",
    "index_longest_string = array.argmax()\n",
    "print(\"Indice della stringa più lunga:\", index_longest_string)"
   ]
  },
  {
   "cell_type": "markdown",
   "metadata": {
    "tags": []
   },
   "source": [
    "## 16 Verifica se ogni stringa inizia con una determinata sottostringa:"
   ]
  },
  {
   "cell_type": "code",
   "execution_count": 16,
   "metadata": {},
   "outputs": [
    {
     "name": "stdout",
     "output_type": "stream",
     "text": [
      "Inizia con 'a': [ True False False]\n"
     ]
    }
   ],
   "source": [
    "#char\n",
    "import numpy as np\n",
    "\n",
    "array = np.array([\"apple\", \"banana\", \"kiwi\"])\n",
    "#starts_with_a = np.strings.startswith(array,'a') # __version__ 2.2\n",
    "starts_with_a = np.char.startswith(array,'a') # np.__version__ 1.26.4\n",
    "print(\"Inizia con 'a':\", starts_with_a)"
   ]
  },
  {
   "cell_type": "markdown",
   "metadata": {},
   "source": [
    "## 17 Contare il numero di stringhe uniche:"
   ]
  },
  {
   "cell_type": "code",
   "execution_count": 17,
   "metadata": {},
   "outputs": [
    {
     "name": "stdout",
     "output_type": "stream",
     "text": [
      "Numero di stringhe uniche: 3\n"
     ]
    }
   ],
   "source": [
    "import numpy as np\n",
    "\n",
    "array = np.array([\"apple\", \"banana\", \"kiwi\", \"apple\"])\n",
    "_ , unique_count = np.unique(array, return_counts=True) # both version\n",
    "\n",
    "print(\"Numero di stringhe uniche:\", len(unique_count) )"
   ]
  },
  {
   "cell_type": "markdown",
   "metadata": {},
   "source": [
    "## 18 Unire tutte le stringhe in un'unica stringa:"
   ]
  },
  {
   "cell_type": "code",
   "execution_count": 18,
   "metadata": {},
   "outputs": [
    {
     "name": "stdout",
     "output_type": "stream",
     "text": [
      "Stringa risultante: hello world \n"
     ]
    }
   ],
   "source": [
    "#char\n",
    "import numpy as np\n",
    "\n",
    "array = np.array([\"hello\", \"world\"])\n",
    "joined_string = np.char.add(array, \" \") # add ' ' at end for each\n",
    "result = ''.join(joined_string) # not works result = np.char.join(\"\", joined_string)\n",
    "print(\"Stringa risultante:\", result)"
   ]
  },
  {
   "cell_type": "markdown",
   "metadata": {},
   "source": [
    "## 19 Verificare se una determinata sottostringa è presente in ogni stringa:"
   ]
  },
  {
   "cell_type": "code",
   "execution_count": 19,
   "metadata": {},
   "outputs": [
    {
     "name": "stdout",
     "output_type": "stream",
     "text": [
      "Contiene 'ki': [False, False, True]\n"
     ]
    }
   ],
   "source": [
    "#list compr\n",
    "import numpy as np\n",
    "# https://numpy.org/doc/1.26/reference/generated/numpy.char.find.html\n",
    "array = np.array([\"apple\", \"banana\", \"kiwi\"])\n",
    "contains_ki = np.char.find(array, \"ki\", start=0, end=None)\n",
    "contains_ki = [True if i==0 else False for i in contains_ki   ]\n",
    "print(\"Contiene 'ki':\", contains_ki)"
   ]
  },
  {
   "cell_type": "markdown",
   "metadata": {},
   "source": [
    "## 20 Sostituire una sottostringa con un'altra in tutte le stringhe:"
   ]
  },
  {
   "cell_type": "code",
   "execution_count": 20,
   "metadata": {
    "tags": []
   },
   "outputs": [
    {
     "name": "stdout",
     "output_type": "stream",
     "text": [
      "Array con sostituzioni: ['Xpple' 'bXnXnX' 'kiwi']\n"
     ]
    }
   ],
   "source": [
    "#char\n",
    "import numpy as np\n",
    "\n",
    "array = np.array([\"apple\", \"banana\", \"kiwi\"])\n",
    "replaced_array = np.char.replace(array,'a' , 'X')\n",
    "print(\"Array con sostituzioni:\", replaced_array)"
   ]
  },
  {
   "cell_type": "markdown",
   "metadata": {},
   "source": [
    "# 21 impila 2 vettori numpy"
   ]
  },
  {
   "cell_type": "code",
   "execution_count": 21,
   "metadata": {
    "tags": []
   },
   "outputs": [
    {
     "name": "stdout",
     "output_type": "stream",
     "text": [
      "Pila due array compatibili: \n",
      " [[1 1]\n",
      " [2 0]\n",
      " [3 3]\n",
      " [4 1]\n",
      " [5 5]\n",
      " [6 6]\n",
      " [7 4]\n",
      " [8 4]]\n"
     ]
    }
   ],
   "source": [
    "import numpy as np\n",
    "\n",
    "np1 = np.array([[1, 2, 3, 4, 5, 6, 7, 8]])\n",
    "np2 = np.array([[1, 0, 3, 1, 5, 6, 4, 4]])\n",
    "\n",
    "pila = np.column_stack((np1[0], np2[0]))\n",
    "\n",
    "print(\"Pila due array compatibili: \\n\" , pila)"
   ]
  },
  {
   "cell_type": "markdown",
   "metadata": {},
   "source": [
    "# 22 Prodotto matriciale"
   ]
  },
  {
   "cell_type": "markdown",
   "metadata": {
    "tags": []
   },
   "source": [
    "$$\n",
    "\\mathbf{z} = \\mathbf{W} \\overline{\\mathbf{x}} + \\overline{\\mathbf{b}}\n",
    "$$"
   ]
  },
  {
   "cell_type": "code",
   "execution_count": 22,
   "metadata": {
    "tags": []
   },
   "outputs": [
    {
     "name": "stdout",
     "output_type": "stream",
     "text": [
      "Vettore risultati rank theorem: \n",
      " [ 2 -1  2 16 35 48 55 66]\n"
     ]
    }
   ],
   "source": [
    "import numpy as np\n",
    "\n",
    "#weights = np.random.uniform(-0.1, 0.1, (8, 2))  # 3x2 con valori tra -0.1 e 0.1 for a random test\n",
    "np1 = np.array([[1, 2, 3, 4, 5, 6, 7, 8]])\n",
    "np2 = np.array([[1, 0, 3, 1, 5, 6, 4, 4]])\n",
    "\n",
    "W = np.column_stack((np1[0], np2[0])) # shape (8, 2)\n",
    "\n",
    "#b = np.random.uniform(-0.1, 0.1, 3)  # 3x1 con valori tra -0.1 e 0.1\n",
    "b = np.array([-1,-3,-7,10, 20, 30, 40, 50]) # shape (8, 1)\n",
    "x = np.array([1, 2]) # 2x1\n",
    "\n",
    "out_l = np.dot(W, x) + b # dot is matricial multiplication built.in\n",
    "\n",
    "# rank\n",
    "# [1x2][2x8]+[8]\n",
    "print(\"Vettore risultati rank theorem: \\n\" , out_l)"
   ]
  },
  {
   "cell_type": "markdown",
   "metadata": {},
   "source": [
    "# 23 standardizzazione dataset"
   ]
  },
  {
   "cell_type": "markdown",
   "metadata": {
    "tags": []
   },
   "source": [
    "La formula per trasformare ogni elemento $x$ di un dataset è:\n",
    "$$\n",
    "z = \\frac{x - \\mu}{\\sigma}\n",
    "$$\n",
    "Dove:\n",
    "- $x$ = valore originale.\n",
    "- $\\mu$ = media dei dati. $\\mu = \\frac{1}{n} \\sum_{i=1}^n x_i$\n",
    "- $\\sigma$ = deviazione standard dei dati.\n",
    "\n",
    "Dopo la standardizzazione:\n",
    "- La media dei dati sarà 0: $\\mu' = 0$.\n",
    "- La deviazione standard sarà 1: $\\sigma' = 1$.\n"
   ]
  },
  {
   "cell_type": "code",
   "execution_count": 23,
   "metadata": {
    "tags": []
   },
   "outputs": [
    {
     "name": "stdout",
     "output_type": "stream",
     "text": [
      "Dataset standardizzato: \n",
      " [-0.92691456 -1.02780322 -1.22958054 -0.37202693  0.13241637  0.63685967\n",
      "  1.14130297  1.64574627]\n"
     ]
    }
   ],
   "source": [
    "import numpy as np\n",
    "\n",
    "x = np.array([-1,-3,-7,10, 20, 30, 40, 50])\n",
    "\n",
    "mean = np.mean(x)\n",
    "std = np.std(x)\n",
    "z = (x - mean) / std\n",
    "print(\"Dataset standardizzato: \\n\" , z)"
   ]
  },
  {
   "cell_type": "markdown",
   "metadata": {},
   "source": [
    "# 24 Normalizzazione in ℙ"
   ]
  },
  {
   "cell_type": "markdown",
   "metadata": {},
   "source": [
    "## Softmax\n",
    "### **Definizione matematica**\n",
    "Data una sequenza di valori reali $z_1, z_2, \\dots, z_n$, la funzione softmax è definita come:\n",
    "\n",
    "$$\n",
    "\\sigma(z_i) = \\frac{e^{z_i}}{\\sum_{j=1}^{n} e^{z_j}}\n",
    "$$\n",
    "\n",
    "dove:\n",
    "- $e^{z_i}$ esegue un'esponenziazione sui valori in ingresso, rendendoli tutti positivi.\n",
    "- Il denominatore normalizza i valori, facendo sì che la somma degli output sia sempre $!$, trasformando il vettore in una distribuzione di probabilità.\n",
    "\n",
    "### **Proprietà**\n",
    "1. **Output normalizzato**: La somma degli elementi dell'output è sempre \\( 1 \\).\n",
    "2. **Enfatizza i valori maggiori**: L'esponenziale amplifica le differenze tra i valori in ingresso.\n",
    "3. **Sensibile agli outlier**: I valori più grandi hanno un impatto molto maggiore rispetto a quelli piccoli.\n",
    "\n",
    "### **Uso nel Machine Learning**\n",
    "- In **reti neurali** per classificazione multi-classe (ad esempio, nella classificazione di immagini con CNN).\n",
    "- In **modelli probabilistici**, per interpretare l'output come una distribuzione di probabilità.\n",
    "- In **reinforcement learning**, per selezionare azioni basate su probabilità.\n",
    "\n",
    "Hai bisogno di un'implementazione in Python?"
   ]
  },
  {
   "cell_type": "code",
   "execution_count": 24,
   "metadata": {
    "tags": []
   },
   "outputs": [
    {
     "name": "stdout",
     "output_type": "stream",
     "text": [
      "Dataset normalizzato softmax: \n",
      " [7.09515203e-23 9.60224409e-24 1.75871235e-25 4.24816138e-18\n",
      " 9.35719813e-14 2.06106005e-09 4.53978686e-05 9.99954600e-01]\n"
     ]
    }
   ],
   "source": [
    "import numpy as np\n",
    "\n",
    "def softmax(x):\n",
    "    exp_x = np.exp(x - np.max(x)) \n",
    "    return exp_x / np.sum(exp_x)\n",
    "\n",
    "dataset = np.array([-1,-3,-7,10, 20, 30, 40, 50])\n",
    "\n",
    "normalized = softmax(dataset)\n",
    "print(\"Dataset normalizzato softmax: \\n\" , normalized)"
   ]
  },
  {
   "cell_type": "code",
   "execution_count": 25,
   "metadata": {
    "tags": []
   },
   "outputs": [
    {
     "name": "stdout",
     "output_type": "stream",
     "text": [
      "Normalized Data:\n",
      " [[0.16666667 0.33333333]\n",
      " [0.5        0.66666667]\n",
      " [0.83333333 1.        ]]\n"
     ]
    }
   ],
   "source": [
    "data = np.array([[1, 2], [3, 4], [5, 6]])\n",
    "max_val = np.max(np.abs(data))  \n",
    "data_normalized = data / max_val  \n",
    "print(\"Normalized Data:\\n\", data_normalized)"
   ]
  },
  {
   "cell_type": "markdown",
   "metadata": {},
   "source": [
    "# 25 Trasformazioni in ℝ"
   ]
  },
  {
   "cell_type": "markdown",
   "metadata": {},
   "source": [
    "## Cauchy\n",
    "\n",
    "### **Analisi della trasformazione**\n",
    "La funzione implementata:\n",
    "\n",
    "$$\n",
    "y = \\frac{1}{\\pi} \\arctan\\left(\\frac{x - x_0}{\\gamma}\\right) + 0.5\n",
    "$$\n",
    "\n",
    "è la **funzione di ripartizione (CDF) della distribuzione di Cauchy** centrata in $x_0$ (la mediana dei dati) e con un parametro di scala $\\gamma$ (qui derivato dall'intervallo interquartile, $IQR / 2$\n",
    "\n",
    "### **Proprietà**\n",
    "- Il denominatore normalizza rispetto a $\\gamma$, che controlla la dispersione dei dati.\n",
    "- Il risultato è sempre tra $(0,1)$, rendendolo simile a una trasformazione sigmoide."
   ]
  },
  {
   "cell_type": "code",
   "execution_count": 26,
   "metadata": {
    "tags": []
   },
   "outputs": [
    {
     "name": "stdout",
     "output_type": "stream",
     "text": [
      "Dataset trasformato Cauchy: \n",
      " [0.2596428  0.24090791 0.20941245 0.408947   0.591053   0.73013148\n",
      " 0.80991277 0.85607496]\n"
     ]
    }
   ],
   "source": [
    "import numpy as np\n",
    "\n",
    "def cauchy(data):\n",
    "    x0 = np.median(data)\n",
    "    IQR = np.percentile(data, 75) - np.percentile(data, 25)\n",
    "    gamma = IQR / 2\n",
    "    y = (1 / np.pi) * np.arctan((data - x0) / gamma) + 0.5\n",
    "    return y\n",
    "\n",
    "dataset = np.array([-1,-3,-7,10, 20, 30, 40, 50])\n",
    "\n",
    "normalized = cauchy(dataset)\n",
    "print(\"Dataset trasformato Cauchy: \\n\" , normalized)"
   ]
  },
  {
   "cell_type": "markdown",
   "metadata": {},
   "source": [
    "## Relu\n",
    "$$\n",
    "ReLU(x)=max⁡(0,x)\n",
    "$$"
   ]
  },
  {
   "cell_type": "code",
   "execution_count": 27,
   "metadata": {
    "tags": []
   },
   "outputs": [
    {
     "name": "stdout",
     "output_type": "stream",
     "text": [
      "ReLU(x):\n",
      " [ 0  0  0 10 20 30 40 50]\n",
      "ReLU Derivative(x):\n",
      " [0. 0. 0. 1. 1. 1. 1. 1.]\n"
     ]
    }
   ],
   "source": [
    "def relu(x):\n",
    "    return np.maximum(0, x)  # ReLU: max(0, x)\n",
    "\n",
    "def relu_derivative(x):\n",
    "    return (x > 0).astype(float)  # derivata 1 se x > 0, altrimenti 0\n",
    "\n",
    "dataset = np.array([-1,-3,-7,10, 20, 30, 40, 50])\n",
    "print(\"ReLU(x):\\n\", relu(dataset))\n",
    "print(\"ReLU Derivative(x):\\n\", relu_derivative(dataset))"
   ]
  },
  {
   "cell_type": "markdown",
   "metadata": {},
   "source": [
    "# 26 Loss Function"
   ]
  },
  {
   "cell_type": "markdown",
   "metadata": {},
   "source": [
    "## Mean Squared Error\n",
    "$$\n",
    "\\text{MSE} = \\frac{1}{n} \\sum_{i=1}^n (y_{{t}}^{(i)} - y_{{t-1}}^{(i)})^2\n",
    "$$"
   ]
  },
  {
   "cell_type": "code",
   "execution_count": 28,
   "metadata": {
    "tags": []
   },
   "outputs": [
    {
     "name": "stdout",
     "output_type": "stream",
     "text": [
      "MSE: 0.020000000000000035\n"
     ]
    }
   ],
   "source": [
    "y_t = np.array([1, 2, 3])\n",
    "y_t_1 = np.array([1.1, 1.9, 3.2])\n",
    "mse = np.mean((y_t - y_t_1) ** 2)  # as is\n",
    "print(\"MSE:\", mse)"
   ]
  },
  {
   "cell_type": "code",
   "execution_count": null,
   "metadata": {},
   "outputs": [],
   "source": []
  }
 ],
 "metadata": {
  "colab": {
   "provenance": []
  },
  "kernelspec": {
   "display_name": "Python 3 (ipykernel)",
   "language": "python",
   "name": "python3"
  },
  "language_info": {
   "codemirror_mode": {
    "name": "ipython",
    "version": 3
   },
   "file_extension": ".py",
   "mimetype": "text/x-python",
   "name": "python",
   "nbconvert_exporter": "python",
   "pygments_lexer": "ipython3",
   "version": "3.11.2"
  }
 },
 "nbformat": 4,
 "nbformat_minor": 4
}
