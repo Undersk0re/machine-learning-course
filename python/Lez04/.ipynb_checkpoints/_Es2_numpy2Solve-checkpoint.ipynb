{
 "cells": [
  {
   "cell_type": "markdown",
   "metadata": {
    "id": "yDYYg78eVwJq"
   },
   "source": [
    "## 1 Concatenare due array di stringhe:\n"
   ]
  },
  {
   "cell_type": "code",
   "execution_count": 1,
   "metadata": {
    "colab": {
     "base_uri": "https://localhost:8080/"
    },
    "executionInfo": {
     "elapsed": 25,
     "status": "ok",
     "timestamp": 1741011271269,
     "user": {
      "displayName": "Simone Pellacani",
      "userId": "10538417230609006453"
     },
     "user_tz": -60
    },
    "id": "fB3rNvVLVwJv",
    "outputId": "6186e250-0c35-42a7-8f26-2742c067c4e0"
   },
   "outputs": [
    {
     "name": "stdout",
     "output_type": "stream",
     "text": [
      "Array concatenato: ['hello' 'world' 'good' 'morning']\n"
     ]
    }
   ],
   "source": [
    "import numpy as np\n",
    "\n",
    "array1 = np.array([\"hello\", \"world\"])\n",
    "array2 = np.array([\"good\", \"morning\"])\n",
    "\n",
    "concatenated_array = np.concatenate([array1 , array2], axis=0) # axis 0 single dimension\n",
    "print(\"Array concatenato:\", concatenated_array)"
   ]
  },
  {
   "cell_type": "markdown",
   "metadata": {
    "id": "9_UEcWS5VwJy"
   },
   "source": [
    "## 2 Trova la lunghezza di ciascuna stringa nell'array:"
   ]
  },
  {
   "cell_type": "code",
   "execution_count": 2,
   "metadata": {
    "colab": {
     "base_uri": "https://localhost:8080/"
    },
    "executionInfo": {
     "elapsed": 51,
     "status": "ok",
     "timestamp": 1741015289813,
     "user": {
      "displayName": "Simone Pellacani",
      "userId": "10538417230609006453"
     },
     "user_tz": -60
    },
    "id": "78ybTCbSVwJz",
    "outputId": "daf216d2-5caa-4604-cb8b-e4600895a7fb"
   },
   "outputs": [
    {
     "name": "stdout",
     "output_type": "stream",
     "text": [
      "Lunghezza di ciascuna stringa: [5 6 4]\n"
     ]
    }
   ],
   "source": [
    "#vectorize\n",
    "import numpy as np\n",
    "\n",
    "array = np.array([\"apple\", \"banana\", \"kiwi\"])\n",
    "lengths = np.vectorize(len)(array) # funzionale\n",
    "lengts =  np.char.str_len(array)\n",
    "print(\"Lunghezza di ciascuna stringa:\", lengths) # [5 6 4]"
   ]
  },
  {
   "cell_type": "markdown",
   "metadata": {
    "id": "WTewyx6RVwJ1"
   },
   "source": [
    "## 3 Convertire tutte le stringhe in maiuscolo:\n"
   ]
  },
  {
   "cell_type": "code",
   "execution_count": 3,
   "metadata": {
    "colab": {
     "base_uri": "https://localhost:8080/"
    },
    "executionInfo": {
     "elapsed": 42,
     "status": "ok",
     "timestamp": 1741013630396,
     "user": {
      "displayName": "Simone Pellacani",
      "userId": "10538417230609006453"
     },
     "user_tz": -60
    },
    "id": "oWzzShrlVwJ2",
    "outputId": "c9d50d76-1f8d-43f9-b666-86eacdb1b272"
   },
   "outputs": [
    {
     "name": "stdout",
     "output_type": "stream",
     "text": [
      "Stringhe in maiuscolo: ['HELLO' 'WORLD']\n"
     ]
    }
   ],
   "source": [
    "#char\n",
    "import numpy as np\n",
    "\n",
    "array = np.array([\"hello\", \"world\"])\n",
    "uppercase_array = np.vectorize(str.upper)(array) # pass classfunction\n",
    "# https://numpy.org/doc/stable/reference/generated/numpy.char.lower.html\n",
    "print(\"Stringhe in maiuscolo:\", uppercase_array) # ['HELLO' 'WORLD']"
   ]
  },
  {
   "cell_type": "markdown",
   "metadata": {
    "id": "SjNQXUEzVwJ3"
   },
   "source": [
    "## 4 Contare il numero totale di caratteri in tutto l'array:\n"
   ]
  },
  {
   "cell_type": "code",
   "execution_count": 4,
   "metadata": {
    "colab": {
     "base_uri": "https://localhost:8080/"
    },
    "executionInfo": {
     "elapsed": 23,
     "status": "ok",
     "timestamp": 1741015254125,
     "user": {
      "displayName": "Simone Pellacani",
      "userId": "10538417230609006453"
     },
     "user_tz": -60
    },
    "id": "JqhBso1kVwJ4",
    "outputId": "51ed2c82-2ca2-4971-b40e-8ee1ce3e0707"
   },
   "outputs": [
    {
     "name": "stdout",
     "output_type": "stream",
     "text": [
      "Numero totale di caratteri: 15\n"
     ]
    }
   ],
   "source": [
    "import numpy as np\n",
    "\n",
    "array = np.array([\"apple\", \"banana\", \"kiwi\"])\n",
    "\n",
    "total_characters = np.char.str_len(array).sum()\n",
    "print(\"Numero totale di caratteri:\", total_characters) # 15"
   ]
  },
  {
   "cell_type": "markdown",
   "metadata": {
    "id": "mK55Urn4VwJ5"
   },
   "source": [
    "## 5 Trova l'indice della stringa più lunga:\n"
   ]
  },
  {
   "cell_type": "code",
   "execution_count": 5,
   "metadata": {
    "colab": {
     "base_uri": "https://localhost:8080/"
    },
    "executionInfo": {
     "elapsed": 38,
     "status": "ok",
     "timestamp": 1741015807912,
     "user": {
      "displayName": "Simone Pellacani",
      "userId": "10538417230609006453"
     },
     "user_tz": -60
    },
    "id": "e3CFzH04VwJ7",
    "outputId": "a4ddba46-cb10-4682-dcb2-5fa4ee73b704"
   },
   "outputs": [
    {
     "name": "stdout",
     "output_type": "stream",
     "text": [
      "Indice della stringa più lunga: 2\n"
     ]
    }
   ],
   "source": [
    "#argmax\n",
    "\n",
    "import numpy as np\n",
    "array = np.array([\"apple\", \"banana\", \"kiwi\"])\n",
    "index_longest_string = array.argmax()\n",
    "print(\"Indice della stringa più lunga:\", index_longest_string)"
   ]
  },
  {
   "cell_type": "markdown",
   "metadata": {
    "id": "a7_Je0mMVwJ8"
   },
   "source": [
    "## 6 Verifica se ogni stringa inizia con una determinata sottostringa:\n"
   ]
  },
  {
   "cell_type": "code",
   "execution_count": 6,
   "metadata": {
    "colab": {
     "base_uri": "https://localhost:8080/"
    },
    "executionInfo": {
     "elapsed": 11,
     "status": "ok",
     "timestamp": 1741016257437,
     "user": {
      "displayName": "Simone Pellacani",
      "userId": "10538417230609006453"
     },
     "user_tz": -60
    },
    "id": "9sbIxgnLVwJ9",
    "outputId": "90ea8cbe-4780-4bad-dc26-c550e4a21b39"
   },
   "outputs": [
    {
     "name": "stdout",
     "output_type": "stream",
     "text": [
      "Inizia con 'a': [ True False False]\n"
     ]
    }
   ],
   "source": [
    "#char\n",
    "import numpy as np\n",
    "\n",
    "array = np.array([\"apple\", \"banana\", \"kiwi\"])\n",
    "#starts_with_a = np.strings.startswith(array,'a') # __version__ 2.2\n",
    "starts_with_a = np.char.startswith(array,'a') # np.__version__ 1.26.4\n",
    "print(\"Inizia con 'a':\", starts_with_a)"
   ]
  },
  {
   "cell_type": "markdown",
   "metadata": {
    "id": "UaBKdWCZVwJ-"
   },
   "source": [
    "## 7 Contare il numero di stringhe uniche:\n"
   ]
  },
  {
   "cell_type": "code",
   "execution_count": 7,
   "metadata": {
    "colab": {
     "base_uri": "https://localhost:8080/"
    },
    "executionInfo": {
     "elapsed": 22,
     "status": "ok",
     "timestamp": 1741016668021,
     "user": {
      "displayName": "Simone Pellacani",
      "userId": "10538417230609006453"
     },
     "user_tz": -60
    },
    "id": "yDznqbBHVwJ-",
    "outputId": "3c229120-08c8-48f8-e247-beb6cba790ec"
   },
   "outputs": [
    {
     "name": "stdout",
     "output_type": "stream",
     "text": [
      "Numero di stringhe uniche: 3\n"
     ]
    }
   ],
   "source": [
    "import numpy as np\n",
    "\n",
    "array = np.array([\"apple\", \"banana\", \"kiwi\", \"apple\"])\n",
    "_ , unique_count = np.unique(array, return_counts=True) # both version\n",
    "\n",
    "print(\"Numero di stringhe uniche:\", len(unique_count) )"
   ]
  },
  {
   "cell_type": "markdown",
   "metadata": {
    "id": "aKjxa1zDVwJ_"
   },
   "source": [
    "## 8 Unire tutte le stringhe in un'unica stringa:\n"
   ]
  },
  {
   "cell_type": "code",
   "execution_count": 8,
   "metadata": {
    "colab": {
     "base_uri": "https://localhost:8080/"
    },
    "executionInfo": {
     "elapsed": 26,
     "status": "ok",
     "timestamp": 1741018035277,
     "user": {
      "displayName": "Simone Pellacani",
      "userId": "10538417230609006453"
     },
     "user_tz": -60
    },
    "id": "eR_FeNLRVwJ_",
    "outputId": "685dc8e6-eeec-471c-8915-dc6ce14f9418"
   },
   "outputs": [
    {
     "name": "stdout",
     "output_type": "stream",
     "text": [
      "Stringa risultante: hello world \n"
     ]
    }
   ],
   "source": [
    "#char\n",
    "import numpy as np\n",
    "\n",
    "array = np.array([\"hello\", \"world\"])\n",
    "joined_string = np.char.add(array, \" \") # add ' ' at end for each\n",
    "result = ''.join(joined_string) # not works result = np.char.join(\"\", joined_string)\n",
    "print(\"Stringa risultante:\", result)"
   ]
  },
  {
   "cell_type": "markdown",
   "metadata": {
    "id": "2TDLfnulVwKA"
   },
   "source": [
    "## 9 Verificare se una determinata sottostringa è presente in ogni stringa:\n"
   ]
  },
  {
   "cell_type": "code",
   "execution_count": 9,
   "metadata": {
    "colab": {
     "base_uri": "https://localhost:8080/"
    },
    "executionInfo": {
     "elapsed": 47,
     "status": "ok",
     "timestamp": 1741018482050,
     "user": {
      "displayName": "Simone Pellacani",
      "userId": "10538417230609006453"
     },
     "user_tz": -60
    },
    "id": "WUInEGxrVwKA",
    "outputId": "9d856414-60c7-46bf-e765-49fe73f530dc"
   },
   "outputs": [
    {
     "name": "stdout",
     "output_type": "stream",
     "text": [
      "Contiene 'ki': [False, False, True]\n"
     ]
    }
   ],
   "source": [
    "#list compr\n",
    "import numpy as np\n",
    "# https://numpy.org/doc/1.26/reference/generated/numpy.char.find.html\n",
    "array = np.array([\"apple\", \"banana\", \"kiwi\"])\n",
    "contains_ki = np.char.find(array, \"ki\", start=0, end=None)\n",
    "contains_ki = [True if i==0 else False for i in contains_ki   ]\n",
    "print(\"Contiene 'ki':\", contains_ki)"
   ]
  },
  {
   "cell_type": "markdown",
   "metadata": {
    "id": "GllsTPoVVwKB"
   },
   "source": [
    "## 10 Sostituire una sottostringa con un'altra in tutte le stringhe:\n"
   ]
  },
  {
   "cell_type": "code",
   "execution_count": 10,
   "metadata": {
    "colab": {
     "base_uri": "https://localhost:8080/"
    },
    "executionInfo": {
     "elapsed": 24,
     "status": "ok",
     "timestamp": 1741018621074,
     "user": {
      "displayName": "Simone Pellacani",
      "userId": "10538417230609006453"
     },
     "user_tz": -60
    },
    "id": "nKHb1N1tVwKC",
    "outputId": "9a610430-6cc8-4f82-a9c2-4f1257e5c0b6"
   },
   "outputs": [
    {
     "name": "stdout",
     "output_type": "stream",
     "text": [
      "Array con sostituzioni: ['Xpple' 'bXnXnX' 'kiwi']\n"
     ]
    }
   ],
   "source": [
    "#char\n",
    "import numpy as np\n",
    "\n",
    "array = np.array([\"apple\", \"banana\", \"kiwi\"])\n",
    "replaced_array = np.char.replace(array,'a' , 'X')\n",
    "print(\"Array con sostituzioni:\", replaced_array)"
   ]
  },
  {
   "cell_type": "code",
   "execution_count": null,
   "metadata": {
    "id": "qPm-loTfVwKD"
   },
   "outputs": [],
   "source": []
  }
 ],
 "metadata": {
  "colab": {
   "provenance": []
  },
  "kernelspec": {
   "display_name": "Python 3 (ipykernel)",
   "language": "python",
   "name": "python3"
  },
  "language_info": {
   "codemirror_mode": {
    "name": "ipython",
    "version": 3
   },
   "file_extension": ".py",
   "mimetype": "text/x-python",
   "name": "python",
   "nbconvert_exporter": "python",
   "pygments_lexer": "ipython3",
   "version": "3.11.2"
  }
 },
 "nbformat": 4,
 "nbformat_minor": 4
}
