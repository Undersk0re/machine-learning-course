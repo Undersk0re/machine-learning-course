{
 "cells": [
  {
   "cell_type": "markdown",
   "metadata": {},
   "source": [
    "## Try Except\n",
    "L'istruzione **try** viene utilizzata insieme all'istruzione **except** per gestire eccezioni. L'obiettivo è consentire al programma di gestire situazioni anomale o errori in modo controllato, evitando che l'esecuzione del programma venga interrotta improvvisamente."
   ]
  },
  {
   "cell_type": "code",
   "execution_count": 2,
   "metadata": {
    "tags": []
   },
   "outputs": [
    {
     "data": {
      "text/plain": [
       "'Error'"
      ]
     },
     "execution_count": 2,
     "metadata": {},
     "output_type": "execute_result"
    }
   ],
   "source": [
    "## ES1 ZERODIVISION\n",
    "## risolvi l'esercizio con try except\n",
    "\n",
    "def divisione_sicura(dividendo, divisore):\n",
    "    \"\"\"\n",
    "    questa funzione compie la divisione tra numeri\n",
    "    reali\n",
    "    \"\"\"\n",
    "    try:\n",
    "        return dividendo/divisore\n",
    "    except :\n",
    "        return \"Error\"\n",
    "        \n",
    "\n",
    "###### RUN ###########\n",
    "divisione_sicura(10, 2)\n",
    "divisione_sicura(5, 0)"
   ]
  },
  {
   "cell_type": "code",
   "execution_count": 3,
   "metadata": {
    "tags": []
   },
   "outputs": [
    {
     "data": {
      "text/plain": [
       "'Error'"
      ]
     },
     "execution_count": 3,
     "metadata": {},
     "output_type": "execute_result"
    }
   ],
   "source": [
    "## ES2 VALUEERROR\n",
    "## risolvi l'esercizio con try except\n",
    "\n",
    "def conversione_a_float(stringa):\n",
    "    \"\"\"\n",
    "    questa funzione trasforma stringhe numeriche in\n",
    "    float number \n",
    "    \"\"\"\n",
    "    try:\n",
    "        return float(stringa)\n",
    "    except :\n",
    "        return \"Error\"\n",
    "\n",
    "# Esempio di utilizzo\n",
    "conversione_a_float(\"123.45\")\n",
    "conversione_a_float(\"abc\")"
   ]
  },
  {
   "cell_type": "code",
   "execution_count": 4,
   "metadata": {
    "tags": []
   },
   "outputs": [
    {
     "data": {
      "text/plain": [
       "'Error'"
      ]
     },
     "execution_count": 4,
     "metadata": {},
     "output_type": "execute_result"
    }
   ],
   "source": [
    "## ES3 INDEXERROR\n",
    "## risolvi l'esercizio con try except\n",
    "\n",
    "def elemento_in_lista(lista, indice):\n",
    "    \"\"\"\n",
    "    questa funzione permette di trova il valore\n",
    "    specificando l'indice della lista di rif.\n",
    "    \"\"\"\n",
    "    try:\n",
    "        return lista[indice]\n",
    "    except :\n",
    "        return \"Error\"\n",
    "    \n",
    "\n",
    "###### RUN ###########\n",
    "lista = [1, 2, 3, 4, 5]\n",
    "elemento_in_lista(lista, 2)\n",
    "elemento_in_lista(lista, 10)"
   ]
  },
  {
   "cell_type": "code",
   "execution_count": 6,
   "metadata": {
    "tags": []
   },
   "outputs": [
    {
     "data": {
      "text/plain": [
       "'Error'"
      ]
     },
     "execution_count": 6,
     "metadata": {},
     "output_type": "execute_result"
    }
   ],
   "source": [
    "## ES4 KEYERROR\n",
    "## risolvi l'esercizio con try except\n",
    "\n",
    "def stampa_valore_dict(dizionario, chiave):\n",
    "    \"\"\"\n",
    "    questa funzione permette di ricavare la value specidifcando\n",
    "    la key di un dizionario\n",
    "    \"\"\"\n",
    "    try:\n",
    "        return dizionario[chiave]\n",
    "    except :\n",
    "        return \"Error\"\n",
    "\n",
    "###### RUN ###########\n",
    "mio_dizionario = {\"a\": 1, \"b\": 2, \"c\": 3}\n",
    "stampa_valore_dict(mio_dizionario, \"b\")\n",
    "stampa_valore_dict(mio_dizionario, \"z\")"
   ]
  },
  {
   "cell_type": "code",
   "execution_count": 10,
   "metadata": {
    "tags": []
   },
   "outputs": [
    {
     "data": {
      "text/plain": [
       "'Error file file_inesistente.txt not exist'"
      ]
     },
     "execution_count": 10,
     "metadata": {},
     "output_type": "execute_result"
    }
   ],
   "source": [
    "## ES5 FILENOTFOUND\n",
    "## risolvi l'esercizio con try except\n",
    "\n",
    "def leggi_file(nome_file):\n",
    "    \"\"\"\n",
    "    questa funzione permette di leggere il contenuto\n",
    "    di un file se esiste\n",
    "    \"\"\"\n",
    "    try:\n",
    "        return open(nome_file) \n",
    "    except :\n",
    "        return f\"Error file {nome_file} not exist\"\n",
    "\n",
    "###### RUN ###########\n",
    "leggi_file(\"esempio.txt\")\n",
    "leggi_file(\"file_inesistente.txt\")"
   ]
  },
  {
   "cell_type": "code",
   "execution_count": 12,
   "metadata": {
    "tags": []
   },
   "outputs": [
    {
     "name": "stdout",
     "output_type": "stream",
     "text": [
      "Connessione stabilita con www.google.com:80\n"
     ]
    }
   ],
   "source": [
    "## ES6 OSError\n",
    "## risolvi l'esercizio con try except\n",
    "\n",
    "import socket\n",
    "\n",
    "def connetti_server(indirizzo, porta):\n",
    "    \"\"\"\n",
    "    questa funzione di connettersi ad un webserver online\n",
    "    specificando il dns e la porta relativa\n",
    "    \"\"\"\n",
    "    try:\n",
    "        with socket.create_connection((indirizzo, porta), timeout=5) as connessione:\n",
    "            print(f\"Connessione stabilita con {indirizzo}:{porta}\")\n",
    "    except OSError:\n",
    "        print(f\"Errore: impossibile connettersi a {indirizzo}:{porta}\")\n",
    "\n",
    "###### RUN ###########\n",
    "connetti_server(\"www.google.com\", 80)\n"
   ]
  },
  {
   "cell_type": "code",
   "execution_count": 13,
   "metadata": {
    "tags": []
   },
   "outputs": [
    {
     "name": "stdout",
     "output_type": "stream",
     "text": [
      "Errore: impossibile connettersi a www.google.comzzz:8080\n"
     ]
    }
   ],
   "source": [
    "connetti_server(\"www.google.comzzz\", 8080)"
   ]
  },
  {
   "cell_type": "code",
   "execution_count": null,
   "metadata": {},
   "outputs": [],
   "source": []
  }
 ],
 "metadata": {
  "kernelspec": {
   "display_name": "Python 3 (ipykernel)",
   "language": "python",
   "name": "python3"
  },
  "language_info": {
   "codemirror_mode": {
    "name": "ipython",
    "version": 3
   },
   "file_extension": ".py",
   "mimetype": "text/x-python",
   "name": "python",
   "nbconvert_exporter": "python",
   "pygments_lexer": "ipython3",
   "version": "3.11.2"
  }
 },
 "nbformat": 4,
 "nbformat_minor": 4
}
