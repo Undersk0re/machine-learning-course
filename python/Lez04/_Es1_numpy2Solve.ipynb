{
 "cells": [
  {
   "cell_type": "markdown",
   "metadata": {
    "id": "-K_OCOOHLNcw"
   },
   "source": [
    "## 1 Calcolare il valore massimo:"
   ]
  },
  {
   "cell_type": "code",
   "execution_count": 1,
   "metadata": {
    "colab": {
     "base_uri": "https://localhost:8080/"
    },
    "executionInfo": {
     "elapsed": 26,
     "status": "ok",
     "timestamp": 1741008351083,
     "user": {
      "displayName": "Simone Pellacani",
      "userId": "10538417230609006453"
     },
     "user_tz": -60
    },
    "id": "nRL0Os66LNcz",
    "outputId": "84cdaba6-a337-431e-b741-f3d1bbb2210a"
   },
   "outputs": [
    {
     "name": "stdout",
     "output_type": "stream",
     "text": [
      "Valore massimo: 8\n"
     ]
    }
   ],
   "source": [
    "import numpy as np\n",
    "\n",
    "array = np.array([1, 5, 8, 3, 2, 7])\n",
    "max_value = array.max()\n",
    "print(\"Valore massimo:\", max_value)"
   ]
  },
  {
   "cell_type": "markdown",
   "metadata": {
    "id": "G4c-sSSHLNc2"
   },
   "source": [
    "## 2 Calcolare il valore minimo:"
   ]
  },
  {
   "cell_type": "code",
   "execution_count": 2,
   "metadata": {
    "colab": {
     "base_uri": "https://localhost:8080/"
    },
    "executionInfo": {
     "elapsed": 22,
     "status": "ok",
     "timestamp": 1741008386814,
     "user": {
      "displayName": "Simone Pellacani",
      "userId": "10538417230609006453"
     },
     "user_tz": -60
    },
    "id": "Gutk5ym9LNc2",
    "outputId": "ff04f93c-a8cf-4471-e6ad-b032ebe86dd7"
   },
   "outputs": [
    {
     "name": "stdout",
     "output_type": "stream",
     "text": [
      "Valore minimo: 1\n"
     ]
    }
   ],
   "source": [
    "import numpy as np\n",
    "\n",
    "array = np.array([1, 5, 8, 3, 2, 7])\n",
    "min_value = array.min()\n",
    "print(\"Valore minimo:\", min_value)"
   ]
  },
  {
   "cell_type": "markdown",
   "metadata": {
    "id": "8JnU6qQGLNc5"
   },
   "source": [
    "## 3 Calcolare la somma di tutti gli elementi:"
   ]
  },
  {
   "cell_type": "code",
   "execution_count": 3,
   "metadata": {
    "colab": {
     "base_uri": "https://localhost:8080/"
    },
    "executionInfo": {
     "elapsed": 25,
     "status": "ok",
     "timestamp": 1741008407247,
     "user": {
      "displayName": "Simone Pellacani",
      "userId": "10538417230609006453"
     },
     "user_tz": -60
    },
    "id": "YcYqahAALNc6",
    "outputId": "e5a984f5-0872-405a-b1f1-1db6de9c9141"
   },
   "outputs": [
    {
     "name": "stdout",
     "output_type": "stream",
     "text": [
      "Somma di tutti gli elementi: 26\n"
     ]
    }
   ],
   "source": [
    "import numpy as np\n",
    "\n",
    "array = np.array([1, 5, 8, 3, 2, 7])\n",
    "sum_value = array.sum()\n",
    "print(\"Somma di tutti gli elementi:\", sum_value)"
   ]
  },
  {
   "cell_type": "markdown",
   "metadata": {
    "id": "jGrphyhpLNc7"
   },
   "source": [
    "## 4 Calcolare la media degli elementi:"
   ]
  },
  {
   "cell_type": "code",
   "execution_count": 4,
   "metadata": {
    "colab": {
     "base_uri": "https://localhost:8080/"
    },
    "executionInfo": {
     "elapsed": 24,
     "status": "ok",
     "timestamp": 1741008444540,
     "user": {
      "displayName": "Simone Pellacani",
      "userId": "10538417230609006453"
     },
     "user_tz": -60
    },
    "id": "-lqVeeFuLNc9",
    "outputId": "a1089233-bdf9-4a0d-c6eb-6f542338bd2d"
   },
   "outputs": [
    {
     "name": "stdout",
     "output_type": "stream",
     "text": [
      "Media degli elementi: 4.333333333333333\n"
     ]
    }
   ],
   "source": [
    "import numpy as np\n",
    "\n",
    "array = np.array([1, 5, 8, 3, 2, 7])\n",
    "mean_value = array.mean()\n",
    "print(\"Media degli elementi:\", mean_value)"
   ]
  },
  {
   "cell_type": "markdown",
   "metadata": {
    "id": "xyKIz7WcLNc-"
   },
   "source": [
    "## 5 Contare il numero totale di elementi:"
   ]
  },
  {
   "cell_type": "code",
   "execution_count": 5,
   "metadata": {
    "colab": {
     "base_uri": "https://localhost:8080/"
    },
    "executionInfo": {
     "elapsed": 40,
     "status": "ok",
     "timestamp": 1741008814062,
     "user": {
      "displayName": "Simone Pellacani",
      "userId": "10538417230609006453"
     },
     "user_tz": -60
    },
    "id": "4JEH07mBLNdA",
    "outputId": "8f43aff6-1401-4a68-a326-86c5f08937a2"
   },
   "outputs": [
    {
     "name": "stdout",
     "output_type": "stream",
     "text": [
      "Numero totale di elementi: 6\n"
     ]
    }
   ],
   "source": [
    "import numpy as np\n",
    "\n",
    "array = np.array([1, 5, 8, 3, 2, 7])\n",
    "count_value = array.size\n",
    "count_value = len(array)\n",
    "print(\"Numero totale di elementi:\", count_value)"
   ]
  },
  {
   "cell_type": "markdown",
   "metadata": {
    "id": "klSkyq3lLNdB"
   },
   "source": [
    "## 6 Contare il numero di elementi distinti:\n"
   ]
  },
  {
   "cell_type": "code",
   "execution_count": 6,
   "metadata": {
    "colab": {
     "base_uri": "https://localhost:8080/"
    },
    "executionInfo": {
     "elapsed": 70,
     "status": "ok",
     "timestamp": 1741008942487,
     "user": {
      "displayName": "Simone Pellacani",
      "userId": "10538417230609006453"
     },
     "user_tz": -60
    },
    "id": "4G2sww2dLNdC",
    "outputId": "345b56a8-0ac4-42c5-aece-06e23b81d6f3"
   },
   "outputs": [
    {
     "name": "stdout",
     "output_type": "stream",
     "text": [
      "Numero di elementi distinti: 6\n"
     ]
    }
   ],
   "source": [
    "import numpy as np\n",
    "\n",
    "array = np.array([1, 5, 8, 3, 2, 7, 5, 3])\n",
    "unique_count=len(set(array))\n",
    "print(\"Numero di elementi distinti:\", unique_count)"
   ]
  },
  {
   "cell_type": "markdown",
   "metadata": {
    "id": "MlcTzaIiLNdD"
   },
   "source": [
    "## 7 Trova gli indici degli elementi massimi:"
   ]
  },
  {
   "cell_type": "code",
   "execution_count": 7,
   "metadata": {
    "colab": {
     "base_uri": "https://localhost:8080/"
    },
    "executionInfo": {
     "elapsed": 68,
     "status": "ok",
     "timestamp": 1741010146103,
     "user": {
      "displayName": "Simone Pellacani",
      "userId": "10538417230609006453"
     },
     "user_tz": -60
    },
    "id": "cb9c2ZKALNdE",
    "outputId": "ee51b69c-70ca-4b93-c506-05a3cb21b792"
   },
   "outputs": [
    {
     "name": "stdout",
     "output_type": "stream",
     "text": [
      "Indice dell'elemento massimo: 2\n"
     ]
    }
   ],
   "source": [
    "import numpy as np\n",
    "\n",
    "array = np.array([1, 5, 8, 3, 2, 7])\n",
    "max_indices = list(array).index(array.max())\n",
    "print(\"Indice dell'elemento massimo:\", max_indices)"
   ]
  },
  {
   "cell_type": "markdown",
   "metadata": {
    "id": "B8Bd7XwtLNdF"
   },
   "source": [
    "## 8 Trova gli indici degli elementi minimi:\n"
   ]
  },
  {
   "cell_type": "code",
   "execution_count": 8,
   "metadata": {
    "colab": {
     "base_uri": "https://localhost:8080/"
    },
    "executionInfo": {
     "elapsed": 22,
     "status": "ok",
     "timestamp": 1741010169497,
     "user": {
      "displayName": "Simone Pellacani",
      "userId": "10538417230609006453"
     },
     "user_tz": -60
    },
    "id": "6oLT9MkbLNdG",
    "outputId": "10385e32-13f1-4e43-dc75-8d42443383e5"
   },
   "outputs": [
    {
     "name": "stdout",
     "output_type": "stream",
     "text": [
      "Indice dell'elemento minimo: 0\n"
     ]
    }
   ],
   "source": [
    "import numpy as np\n",
    "\n",
    "array = np.array([1, 5, 8, 3, 2, 7])\n",
    "min_indices = list(array).index(array.min())\n",
    "print(\"Indice dell'elemento minimo:\", min_indices)"
   ]
  },
  {
   "cell_type": "markdown",
   "metadata": {
    "id": "1WUyHM0wLNdG"
   },
   "source": [
    "## 9 Calcolare la deviazione standard:\n",
    "$$\n",
    "σ=\\sqrt{{1 \\over N}\\underset{i=1}{\\overset{n}{∑}}(x_i- µ_x)^2}\n",
    "$$\n",
    "\n"
   ]
  },
  {
   "cell_type": "code",
   "execution_count": 9,
   "metadata": {
    "colab": {
     "base_uri": "https://localhost:8080/"
    },
    "executionInfo": {
     "elapsed": 112,
     "status": "ok",
     "timestamp": 1741010262497,
     "user": {
      "displayName": "Simone Pellacani",
      "userId": "10538417230609006453"
     },
     "user_tz": -60
    },
    "id": "XrZ-AB0GLNdH",
    "outputId": "c94b61d3-0d61-4ddc-c3fe-235ba6840bdb"
   },
   "outputs": [
    {
     "name": "stdout",
     "output_type": "stream",
     "text": [
      "Deviazione standard: 2.560381915956203\n"
     ]
    }
   ],
   "source": [
    "import numpy as np\n",
    "\n",
    "array = np.array([1, 5, 8, 3, 2, 7])\n",
    "std_dev = array.std()\n",
    "print(\"Deviazione standard:\", std_dev)"
   ]
  },
  {
   "cell_type": "markdown",
   "metadata": {
    "id": "KZgJz1piLNdJ"
   },
   "source": [
    "## 10 Calcolare la varianza:\n",
    "$$\n",
    "σ^2={{1 \\over N}\\underset{i=1}{\\overset{n}{∑}}(x_i- µ_x)^2}\n",
    "$$"
   ]
  },
  {
   "cell_type": "code",
   "execution_count": 10,
   "metadata": {
    "colab": {
     "base_uri": "https://localhost:8080/"
    },
    "executionInfo": {
     "elapsed": 38,
     "status": "ok",
     "timestamp": 1741010899734,
     "user": {
      "displayName": "Simone Pellacani",
      "userId": "10538417230609006453"
     },
     "user_tz": -60
    },
    "id": "U9EbctqlLNdJ",
    "outputId": "1e91f296-28c0-48e2-e3c5-76135cb05d91"
   },
   "outputs": [
    {
     "name": "stdout",
     "output_type": "stream",
     "text": [
      "Varianza:  6.555555555555556\n"
     ]
    }
   ],
   "source": [
    "import numpy as np\n",
    "\n",
    "# quanto i valori di un insieme di dati si discostano dalla loro media\n",
    "array = np.array([1, 5, 8, 3, 2, 7])\n",
    "variance = (array.std())**2\n",
    "print(\"Varianza: \", variance)"
   ]
  },
  {
   "cell_type": "code",
   "execution_count": null,
   "metadata": {
    "id": "Nm3S0gJ5LNdK"
   },
   "outputs": [],
   "source": []
  }
 ],
 "metadata": {
  "colab": {
   "provenance": []
  },
  "kernelspec": {
   "display_name": "Python 3 (ipykernel)",
   "language": "python",
   "name": "python3"
  },
  "language_info": {
   "codemirror_mode": {
    "name": "ipython",
    "version": 3
   },
   "file_extension": ".py",
   "mimetype": "text/x-python",
   "name": "python",
   "nbconvert_exporter": "python",
   "pygments_lexer": "ipython3",
   "version": "3.11.2"
  }
 },
 "nbformat": 4,
 "nbformat_minor": 4
}
