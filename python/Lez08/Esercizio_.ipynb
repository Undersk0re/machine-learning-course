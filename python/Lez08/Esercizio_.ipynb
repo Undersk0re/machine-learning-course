{
 "cells": [
  {
   "cell_type": "code",
   "execution_count": 3,
   "id": "da6f8125-aeda-4877-a720-11158894ff54",
   "metadata": {
    "tags": []
   },
   "outputs": [
    {
     "name": "stdout",
     "output_type": "stream",
     "text": [
      "   R&D Spend  Administration  Marketing Spend     Profit\n",
      "0   165349.2       136897.80        471784.10  192261.83\n",
      "1   162597.7       151377.59        443898.53  191792.06\n"
     ]
    }
   ],
   "source": [
    "import numpy as np\n",
    "import pandas as pd\n",
    "import seaborn as sns\n",
    "import matplotlib.pyplot as plt\n",
    "preview_window=2\n",
    "\n",
    "\n",
    "\n",
    "url = \"https://frenzy86.s3.eu-west-2.amazonaws.com/python/data/Startup.csv\"\n",
    "\n",
    "profit_df = pd.read_csv(url)\n",
    "\n",
    "print(profit_df.head(preview_window))\n",
    "\n"
   ]
  },
  {
   "cell_type": "code",
   "execution_count": 4,
   "id": "710f1bde-51e9-41c3-a0fc-385f0ac855f2",
   "metadata": {
    "tags": []
   },
   "outputs": [],
   "source": [
    "# carica pandas\n"
   ]
  },
  {
   "cell_type": "code",
   "execution_count": 11,
   "id": "fd686133-387a-4c72-9b5e-d22b47a0cae0",
   "metadata": {
    "tags": []
   },
   "outputs": [],
   "source": [
    "# carica in numpy \n",
    "\n",
    "\n",
    "#points = np.genfromtxt(url, delimiter=',')\n",
    "\n",
    "#x = np.array(points[0:3]) # prima colonna indice 0\n",
    "#y = np.array(points[:,3]) # seconda colonna indice 1\n",
    "\n",
    "#X = x.reshape(-1, 1) # X--> features "
   ]
  },
  {
   "cell_type": "code",
   "execution_count": 39,
   "id": "ed100e46-0f91-4074-ad37-1f4a14239d6d",
   "metadata": {
    "tags": []
   },
   "outputs": [
    {
     "name": "stdout",
     "output_type": "stream",
     "text": [
      "Coef angol  [ 0.82291293 -0.02641158  0.0337919 ]\n",
      "Intercept  46722.40988316955\n"
     ]
    }
   ],
   "source": [
    "from sklearn.model_selection import train_test_split\n",
    "\n",
    "\n",
    "x = profit_df.drop(columns='Profit')\n",
    "y = profit_df['Profit']\n",
    "\n",
    "\n",
    "x = x.to_numpy()\n",
    "y = y.to_numpy()\n",
    "\n",
    "\n",
    "X = x.reshape(-1, x.size//len(x)) # X--> features \n",
    "\n",
    "X_train, X_test, y_train, y_test = train_test_split(X, y, test_size = 0.2,   random_state = 667 )\n",
    "\n",
    "\n",
    "from sklearn.linear_model import LinearRegression\n",
    "\n",
    "model = LinearRegression()\n",
    "model.fit(X_train, y_train)\n",
    "print(\"Coef angol \" , model.coef_)\n",
    "print(\"Intercept \" , model.intercept_)\n",
    "y_pred = model.predict(X)"
   ]
  },
  {
   "cell_type": "code",
   "execution_count": 44,
   "id": "11dbe3c6-5528-484a-bed9-e40ba8f1f110",
   "metadata": {
    "tags": []
   },
   "outputs": [
    {
     "data": {
      "text/plain": [
       "3"
      ]
     },
     "execution_count": 44,
     "metadata": {},
     "output_type": "execute_result"
    }
   ],
   "source": [
    "x.size//len(x)"
   ]
  },
  {
   "cell_type": "code",
   "execution_count": null,
   "id": "aa587fb8-f4b1-48f1-a6d5-ef9f8da2b4cf",
   "metadata": {},
   "outputs": [],
   "source": []
  }
 ],
 "metadata": {
  "kernelspec": {
   "display_name": "Python 3 (ipykernel)",
   "language": "python",
   "name": "python3"
  },
  "language_info": {
   "codemirror_mode": {
    "name": "ipython",
    "version": 3
   },
   "file_extension": ".py",
   "mimetype": "text/x-python",
   "name": "python",
   "nbconvert_exporter": "python",
   "pygments_lexer": "ipython3",
   "version": "3.11.2"
  }
 },
 "nbformat": 4,
 "nbformat_minor": 5
}
