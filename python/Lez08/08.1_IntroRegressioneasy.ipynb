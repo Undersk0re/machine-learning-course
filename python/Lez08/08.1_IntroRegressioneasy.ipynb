{
 "cells": [
  {
   "cell_type": "markdown",
   "metadata": {
    "id": "IkC35Bji-oLT"
   },
   "source": [
    "# Linear Regression\n",
    "\n"
   ]
  },
  {
   "cell_type": "markdown",
   "metadata": {
    "id": "bPSM9wIGL6NK"
   },
   "source": [
    "## Regressione\n",
    "La regressione lineare è uno strumento di ML supervisionato per analizzare e modellare la relazione tra una variabile dipendente (o target) e una o più variabili indipendenti (o predittori) attraverso una relazione lineare. In altre parole, la regressione lineare cerca di trovare una linea retta (in un contesto bidimensionale) o un iperpiano (in un contesto multidimensionale) che meglio rappresenti la relazione tra le variabili coinvolte.\n",
    "\n",
    "### Modello di regressione lineare semplice\n",
    "Nel caso della regressione lineare semplice, c'è una sola variabile indipendente che influenza la variabile dipendente. Il modello può essere rappresentato dall'equazione:\n",
    "\n",
    "La regressione lineare è un metodo statistico utilizzato per analizzare e modellare la relazione tra una variabile dipendente (o target) e una o più variabili indipendenti (o predittori) attraverso una relazione lineare. In altre parole, la regressione lineare cerca di trovare una linea retta (in un contesto bidimensionale) o un iperpiano (in un contesto multidimensionale) che meglio rappresenti la relazione tra le variabili coinvolte.\n",
    "\n",
    "### Modello di regressione lineare semplice\n",
    "\n",
    "Nel caso della regressione lineare semplice, c'è una sola variabile indipendente che influenza la variabile dipendente. Il modello può essere rappresentato dall'equazione:\n",
    "\n",
    "$Y = {\\beta_0}+{\\beta_1}X +{\\epsilon}$\n",
    "\n",
    "- Y è la variabile dipendente.\n",
    "- X è la variabile indipendente.\n",
    "- ${\\beta_0}$ è l'intercetta, che rappresenta il valore di Y quando X è uguale a zero.\n",
    "- ${\\beta_1}$ è il coefficiente di regressione, che rappresenta la pendenza della retta.\n",
    "- ${\\epsilon}$ rappresenta l'errore residuo, che tiene conto di tutte le influenze non considerate nel modello.\n",
    "\n",
    "L'obiettivo è trovare i valori ottimali di ${\\beta_0}$ e ${\\beta_1}$ in modo che il modello si adatti meglio ai dati osservati.\n"
   ]
  },
  {
   "cell_type": "markdown",
   "metadata": {
    "id": "o2P-z6Bo-oLY"
   },
   "source": [
    "<img src= 'https://frenzy86.s3.eu-west-2.amazonaws.com/fav/lin_reg.png' width=600>"
   ]
  },
  {
   "cell_type": "code",
   "execution_count": 5,
   "metadata": {
    "collapsed": true,
    "id": "x0eUqpr9-oLZ",
    "jupyter": {
     "outputs_hidden": true
    }
   },
   "outputs": [],
   "source": [
    "import numpy as np\n",
    "import pandas as pd\n",
    "import matplotlib.pyplot as plt\n",
    "\n",
    "import warnings\n",
    "warnings.filterwarnings('ignore')"
   ]
  },
  {
   "cell_type": "markdown",
   "metadata": {
    "id": "HCNknnwV-oLa"
   },
   "source": [
    "#### Import the data\n",
    "Here, we're using a dataset with two columns containing the amount of hours studied and the test scores students achieved, respectively."
   ]
  },
  {
   "cell_type": "code",
   "execution_count": null,
   "metadata": {
    "id": "Vzre5rbW-oLa"
   },
   "outputs": [],
   "source": [
    "#!wget https://frenzy86.s3.eu-west-2.amazonaws.com/python/data/datalr.csv"
   ]
  },
  {
   "cell_type": "code",
   "execution_count": null,
   "metadata": {
    "id": "_EtHoIjs-oLb"
   },
   "outputs": [],
   "source": [
    "path = \"https://frenzy86.s3.eu-west-2.amazonaws.com/python/data/datalr.csv\""
   ]
  },
  {
   "cell_type": "code",
   "execution_count": null,
   "metadata": {
    "colab": {
     "base_uri": "https://localhost:8080/",
     "height": 489
    },
    "executionInfo": {
     "elapsed": 2507,
     "status": "ok",
     "timestamp": 1682675028131,
     "user": {
      "displayName": "T3Lab Vision",
      "userId": "14779383426442114373"
     },
     "user_tz": -120
    },
    "id": "LuQsGSXm-oLb",
    "outputId": "8c3e0d49-6e09-4e91-c6ac-0d1d9233a0da"
   },
   "outputs": [
    {
     "data": {
      "text/plain": [
       "Text(0.5, 1.0, 'Dataset')"
      ]
     },
     "execution_count": 16,
     "metadata": {},
     "output_type": "execute_result"
    },
    {
     "data": {
      "image/png": "[encoded data removed]",
      "text/plain": [
       "<Figure size 640x480 with 1 Axes>"
      ]
     },
     "metadata": {},
     "output_type": "display_data"
    }
   ],
   "source": [
    "points = np.genfromtxt(path, delimiter=',')\n",
    "\n",
    "#Extract columns\n",
    "x = np.array(points[:,0]) # prima colonna indice 0\n",
    "y = np.array(points[:,1]) # seconda colonna indice 1\n",
    "\n",
    "#Plot the dataset\n",
    "plt.scatter(x,y)\n",
    "plt.xlabel('Hours of study')\n",
    "plt.ylabel('Test scores')\n",
    "plt.title('Dataset')\n",
    "#plt.show()"
   ]
  },
  {
   "cell_type": "markdown",
   "metadata": {
    "id": "308nlTBjLtaE"
   },
   "source": [
    "## Esempio Semplice (errori non quadrati)\n",
    "\n",
    "Esisterà sempre una retta interpolatrice che minimizzerà la sommma degli errori totali,\n",
    "tale per cui lìequazione di questa retta sarà:\n",
    "<img src=\"https://frenzy86.s3.eu-west-2.amazonaws.com/python/lr.gif\">\n",
    "\n",
    "\n",
    "\n",
    "\n",
    "\n",
    "<img src= \"https://frenzy86.s3.eu-west-2.amazonaws.com/python/gradient.png\" width=1000>\n",
    "\n",
    "\n",
    "\n",
    "\n",
    "\n",
    "$$y = {\\beta_0}+{\\beta_1}x +{\\epsilon}$$\n",
    "\n",
    "L'obiettivo della regressione lineare è trovare i valori ottimali di\n",
    "${\\beta_0}$  e  ${\\beta_1}$\n",
    "che minimizzano la funzione di costo J, per farlo ho bisogno di calcolare la derivata parziale rispetto entrambi i beta (cosiddetto gradiente)\n",
    "\n",
    "\n",
    "$\\frac{\\partial\\beta_0}{\\partial J} = \\frac{1}{m} \\sum_{i} (h_{\\beta}(x^{(i)}) - y^{(i)})$\n",
    "\n",
    "dove :\n",
    "- J è la funzione di costo (solitamente l'errore quadratico medio) che vogliamo minimizzare.\n",
    "- m è il numero di esempi di addestramento.\n",
    "- h_β(x^(i)) rappresenta la previsione del modello basata sui parametri β₀ e β₁ per l'input x^(i).\n",
    "- y^(i) è il valore reale per l'input x^(i).\n",
    "\n",
    "\n",
    "\n",
    "$\\frac{\\partial\\beta_1}{\\partial J} = \\frac{1}{m} \\sum_{i} (h_{\\beta}(x^{(i)}) - y^{(i)}) x^{(i)}$\n",
    "\n",
    "dove :\n",
    "- J è la funzione di costo (solitamente l'errore quadratico medio) che vogliamo minimizzare.\n",
    "- m è il numero di esempi di addestramento.\n",
    "- h_β(x^(i)) rappresenta la previsione del modello basata sui parametri β₀ e β₁ per l'input x^(i).\n",
    "- y^(i) è il valore reale per l'input x^(i).\n",
    "- x^(i) è il valore reale dell'input i-esimo"
   ]
  },
  {
   "cell_type": "code",
   "execution_count": null,
   "metadata": {
    "id": "_fJOZ5TKLtaF"
   },
   "outputs": [],
   "source": [
    "import numpy as np\n",
    "import matplotlib.pyplot as plt\n",
    "# Dati di inzio\n",
    "X = np.array([1, 2, 3, 4, 5])  # Input\n",
    "y = np.array([2, 4, 5, 4, 5])  # Output\n",
    "\n",
    "def grad_desc(X,y):\n",
    "    \"\"\" Calcolo del valora ottimale di beta0 e beta1, minimizzando la funzione di costo J\n",
    "    \"\"\"\n",
    "    # Inizializzazione dei parametri del modello # parte come retta y=0+0\n",
    "    beta0 = 0.0  # Termine di intercetta\n",
    "    beta1 = 0.0  # Coefficiente angolare\n",
    "\n",
    "    # Iperparametri dell'algoritmo\n",
    "    learning_rate = 0.01  # Tasso di apprendimento\n",
    "    num_iterations = 100  # Numero di iterazioni\n",
    "\n",
    "    errors = []\n",
    "\n",
    "    # Addestramento del modello\n",
    "    for i in range(num_iterations):\n",
    "        # Calcola le previsioni del modello\n",
    "        pred = beta0 + beta1 * X\n",
    "\n",
    "        # Calcola l'errore\n",
    "        error = pred - y # y predetto e y reale\n",
    "        errors.append(np.mean(np.square(error)))  # Calcola l'errore quadratico medio\n",
    "\n",
    "        # Calcola i gradienti\n",
    "        gradient_beta0 = (1/len(X)) * np.sum(error)\n",
    "        gradient_beta1 = (1/len(X)) * np.sum(error * X)\n",
    "\n",
    "        # Aggiorna i parametri\n",
    "        beta0 = beta0 - learning_rate * gradient_beta0 # se il gradiente è positovo, aumenta\n",
    "        beta1 = beta1 - learning_rate * gradient_beta1\n",
    "\n",
    "    return beta0,beta1,errors # best fit (approssimazione)"
   ]
  },
  {
   "cell_type": "code",
   "execution_count": null,
   "metadata": {
    "id": "6MavcNJbLtaG",
    "outputId": "de134fcb-87d9-470a-e05b-69d5c5c785be"
   },
   "outputs": [
    {
     "data": {
      "text/plain": [
       "Text(0.5, 1.0, \"Andamento dell'errore durante l'addestramento\")"
      ]
     },
     "execution_count": 35,
     "metadata": {},
     "output_type": "execute_result"
    },
    {
     "data": {
      "image/png": "[encoded data removed]",
      "text/plain": [
       "<Figure size 640x480 with 1 Axes>"
      ]
     },
     "metadata": {},
     "output_type": "display_data"
    }
   ],
   "source": [
    "# Crea il grafico dell'errore\n",
    "beta0,beta1,errors = grad_desc(X,y) # beta0 intercetta, beta1 coeff angolare\n",
    "\n",
    "plt.plot(errors)\n",
    "plt.xlabel('Iterazioni')\n",
    "plt.ylabel('Errore quadratico medio')\n",
    "plt.title('Andamento dell\\'errore durante l\\'addestramento')"
   ]
  },
  {
   "cell_type": "markdown",
   "metadata": {
    "id": "FoAkc1b0-oLf"
   },
   "source": [
    "#### Plot line of best fit"
   ]
  },
  {
   "cell_type": "code",
   "execution_count": null,
   "metadata": {
    "colab": {
     "base_uri": "https://localhost:8080/",
     "height": 489
    },
    "executionInfo": {
     "elapsed": 1156,
     "status": "ok",
     "timestamp": 1682675061336,
     "user": {
      "displayName": "T3Lab Vision",
      "userId": "14779383426442114373"
     },
     "user_tz": -120
    },
    "id": "NAo1UoR3-oLf",
    "outputId": "2aecfd59-5864-40e3-d396-68b2fcb80e9c"
   },
   "outputs": [
    {
     "data": {
      "text/plain": [
       "<matplotlib.legend.Legend at 0x2551353c6a0>"
      ]
     },
     "execution_count": 30,
     "metadata": {},
     "output_type": "execute_result"
    },
    {
     "data": {
      "image/png": "[encoded data removed]",
      "text/plain": [
       "<Figure size 640x480 with 1 Axes>"
      ]
     },
     "metadata": {},
     "output_type": "display_data"
    }
   ],
   "source": [
    "X = np.array([1, 2, 3, 4, 5])  # Input\n",
    "y = np.array([2, 4, 5, 4, 5])\n",
    "\n",
    "#Plot dataset\n",
    "plt.scatter(X, y)\n",
    "#Predict y values\n",
    "beta0,beta1,_ = grad_desc(X,y)\n",
    "\n",
    "y_pred = beta0 + beta1*X\n",
    "#Plot predictions as line of best fit\n",
    "plt.plot(X, y_pred, c='r',label='regression line')\n",
    "plt.xlabel('Hours of study')\n",
    "plt.ylabel('Test scores')\n",
    "plt.title('Line of best fit')\n",
    "plt.legend(loc=2)\n",
    "#plt.show()"
   ]
  },
  {
   "cell_type": "markdown",
   "metadata": {
    "id": "Xcz4XsKy-oLf"
   },
   "source": [
    "## Life is easier with Sklearn 🎉"
   ]
  },
  {
   "cell_type": "code",
   "execution_count": null,
   "metadata": {
    "colab": {
     "base_uri": "https://localhost:8080/",
     "height": 489
    },
    "executionInfo": {
     "elapsed": 696,
     "status": "ok",
     "timestamp": 1682675066980,
     "user": {
      "displayName": "T3Lab Vision",
      "userId": "14779383426442114373"
     },
     "user_tz": -120
    },
    "id": "QbBMUpyx-oLg",
    "outputId": "d9e0ccca-54b3-4046-c3a1-4650808b619b"
   },
   "outputs": [
    {
     "data": {
      "text/plain": [
       "Text(0.5, 1.0, 'Original Dataset')"
      ]
     },
     "execution_count": 17,
     "metadata": {},
     "output_type": "execute_result"
    },
    {
     "data": {
      "image/png": "[encoded data removed]",
      "text/plain": [
       "<Figure size 640x480 with 1 Axes>"
      ]
     },
     "metadata": {},
     "output_type": "display_data"
    }
   ],
   "source": [
    "points = np.genfromtxt(path, delimiter=',')\n",
    "\n",
    "#Extract columns\n",
    "x = np.array(points[:,0]) # prima colonna indice 0\n",
    "y = np.array(points[:,1]) # seconda colonna indice 1\n",
    "\n",
    "#Plot the dataset\n",
    "plt.scatter(x,y)\n",
    "plt.xlabel('Hours of study')\n",
    "plt.ylabel('Test scores')\n",
    "plt.title('Original Dataset')\n",
    "#plt.show()"
   ]
  },
  {
   "cell_type": "code",
   "execution_count": null,
   "metadata": {
    "colab": {
     "base_uri": "https://localhost:8080/"
    },
    "executionInfo": {
     "elapsed": 229,
     "status": "ok",
     "timestamp": 1682675068598,
     "user": {
      "displayName": "T3Lab Vision",
      "userId": "14779383426442114373"
     },
     "user_tz": -120
    },
    "id": "I-jH039O-oLg",
    "outputId": "d1e945c5-e0a5-44d9-dac2-4ea372d42dc9"
   },
   "outputs": [
    {
     "data": {
      "text/plain": [
       "1"
      ]
     },
     "execution_count": 49,
     "metadata": {},
     "output_type": "execute_result"
    }
   ],
   "source": [
    "# Verifica dimensionalità!!!\n",
    "x.ndim"
   ]
  },
  {
   "cell_type": "code",
   "execution_count": null,
   "metadata": {
    "colab": {
     "base_uri": "https://localhost:8080/"
    },
    "executionInfo": {
     "elapsed": 267,
     "status": "ok",
     "timestamp": 1682675220488,
     "user": {
      "displayName": "T3Lab Vision",
      "userId": "14779383426442114373"
     },
     "user_tz": -120
    },
    "id": "tUSeKvS5-oLg",
    "outputId": "ab664a2a-6b1d-4dbc-8f0d-c32d64649d17"
   },
   "outputs": [
    {
     "data": {
      "text/plain": [
       "2"
      ]
     },
     "execution_count": 50,
     "metadata": {},
     "output_type": "execute_result"
    }
   ],
   "source": [
    "x.reshape(-1, 1).ndim # reashape when features number==1"
   ]
  },
  {
   "cell_type": "code",
   "execution_count": null,
   "metadata": {
    "id": "GSSd91k2-oLg"
   },
   "outputs": [],
   "source": [
    "# preprocession\n",
    "\n",
    "# STEP N1: declare Features and Target\n",
    "\n",
    "X = x.reshape(-1, 1) # X--> features \n",
    "y = y # y--> target"
   ]
  },
  {
   "cell_type": "code",
   "execution_count": null,
   "metadata": {
    "colab": {
     "base_uri": "https://localhost:8080/",
     "height": 75
    },
    "executionInfo": {
     "elapsed": 8,
     "status": "ok",
     "timestamp": 1682675223558,
     "user": {
      "displayName": "T3Lab Vision",
      "userId": "14779383426442114373"
     },
     "user_tz": -120
    },
    "id": "ZwK6UkOg-oLg",
    "outputId": "1072de05-6faa-4f87-e4dc-3618cfe82f51"
   },
   "outputs": [
    {
     "data": {
      "text/html": [
       "<style>#sk-container-id-3 {color: black;background-color: white;}#sk-container-id-3 pre{padding: 0;}#sk-container-id-3 div.sk-toggleable {background-color: white;}#sk-container-id-3 label.sk-toggleable__label {cursor: pointer;display: block;width: 100%;margin-bottom: 0;padding: 0.3em;box-sizing: border-box;text-align: center;}#sk-container-id-3 label.sk-toggleable__label-arrow:before {content: \"▸\";float: left;margin-right: 0.25em;color: #696969;}#sk-container-id-3 label.sk-toggleable__label-arrow:hover:before {color: black;}#sk-container-id-3 div.sk-estimator:hover label.sk-toggleable__label-arrow:before {color: black;}#sk-container-id-3 div.sk-toggleable__content {max-height: 0;max-width: 0;overflow: hidden;text-align: left;background-color: #f0f8ff;}#sk-container-id-3 div.sk-toggleable__content pre {margin: 0.2em;color: black;border-radius: 0.25em;background-color: #f0f8ff;}#sk-container-id-3 input.sk-toggleable__control:checked~div.sk-toggleable__content {max-height: 200px;max-width: 100%;overflow: auto;}#sk-container-id-3 input.sk-toggleable__control:checked~label.sk-toggleable__label-arrow:before {content: \"▾\";}#sk-container-id-3 div.sk-estimator input.sk-toggleable__control:checked~label.sk-toggleable__label {background-color: #d4ebff;}#sk-container-id-3 div.sk-label input.sk-toggleable__control:checked~label.sk-toggleable__label {background-color: #d4ebff;}#sk-container-id-3 input.sk-hidden--visually {border: 0;clip: rect(1px 1px 1px 1px);clip: rect(1px, 1px, 1px, 1px);height: 1px;margin: -1px;overflow: hidden;padding: 0;position: absolute;width: 1px;}#sk-container-id-3 div.sk-estimator {font-family: monospace;background-color: #f0f8ff;border: 1px dotted black;border-radius: 0.25em;box-sizing: border-box;margin-bottom: 0.5em;}#sk-container-id-3 div.sk-estimator:hover {background-color: #d4ebff;}#sk-container-id-3 div.sk-parallel-item::after {content: \"\";width: 100%;border-bottom: 1px solid gray;flex-grow: 1;}#sk-container-id-3 div.sk-label:hover label.sk-toggleable__label {background-color: #d4ebff;}#sk-container-id-3 div.sk-serial::before {content: \"\";position: absolute;border-left: 1px solid gray;box-sizing: border-box;top: 0;bottom: 0;left: 50%;z-index: 0;}#sk-container-id-3 div.sk-serial {display: flex;flex-direction: column;align-items: center;background-color: white;padding-right: 0.2em;padding-left: 0.2em;position: relative;}#sk-container-id-3 div.sk-item {position: relative;z-index: 1;}#sk-container-id-3 div.sk-parallel {display: flex;align-items: stretch;justify-content: center;background-color: white;position: relative;}#sk-container-id-3 div.sk-item::before, #sk-container-id-3 div.sk-parallel-item::before {content: \"\";position: absolute;border-left: 1px solid gray;box-sizing: border-box;top: 0;bottom: 0;left: 50%;z-index: -1;}#sk-container-id-3 div.sk-parallel-item {display: flex;flex-direction: column;z-index: 1;position: relative;background-color: white;}#sk-container-id-3 div.sk-parallel-item:first-child::after {align-self: flex-end;width: 50%;}#sk-container-id-3 div.sk-parallel-item:last-child::after {align-self: flex-start;width: 50%;}#sk-container-id-3 div.sk-parallel-item:only-child::after {width: 0;}#sk-container-id-3 div.sk-dashed-wrapped {border: 1px dashed gray;margin: 0 0.4em 0.5em 0.4em;box-sizing: border-box;padding-bottom: 0.4em;background-color: white;}#sk-container-id-3 div.sk-label label {font-family: monospace;font-weight: bold;display: inline-block;line-height: 1.2em;}#sk-container-id-3 div.sk-label-container {text-align: center;}#sk-container-id-3 div.sk-container {/* jupyter's `normalize.less` sets `[hidden] { display: none; }` but bootstrap.min.css set `[hidden] { display: none !important; }` so we also need the `!important` here to be able to override the default hidden behavior on the sphinx rendered scikit-learn.org. See: https://github.com/scikit-learn/scikit-learn/issues/21755 */display: inline-block !important;position: relative;}#sk-container-id-3 div.sk-text-repr-fallback {display: none;}</style><div id=\"sk-container-id-3\" class=\"sk-top-container\"><div class=\"sk-text-repr-fallback\"><pre>LinearRegression()</pre><b>In a Jupyter environment, please rerun this cell to show the HTML representation or trust the notebook. <br />On GitHub, the HTML representation is unable to render, please try loading this page with nbviewer.org.</b></div><div class=\"sk-container\" hidden><div class=\"sk-item\"><div class=\"sk-estimator sk-toggleable\"><input class=\"sk-toggleable__control sk-hidden--visually\" id=\"sk-estimator-id-3\" type=\"checkbox\" checked><label for=\"sk-estimator-id-3\" class=\"sk-toggleable__label sk-toggleable__label-arrow\">LinearRegression</label><div class=\"sk-toggleable__content\"><pre>LinearRegression()</pre></div></div></div></div></div>"
      ],
      "text/plain": [
       "LinearRegression()"
      ]
     },
     "execution_count": 52,
     "metadata": {},
     "output_type": "execute_result"
    }
   ],
   "source": [
    "from sklearn.linear_model import LinearRegression\n",
    "\n",
    "model = LinearRegression()\n",
    "model.fit(X, y)"
   ]
  },
  {
   "cell_type": "code",
   "execution_count": null,
   "metadata": {
    "colab": {
     "base_uri": "https://localhost:8080/"
    },
    "executionInfo": {
     "elapsed": 6,
     "status": "ok",
     "timestamp": 1682675224512,
     "user": {
      "displayName": "T3Lab Vision",
      "userId": "14779383426442114373"
     },
     "user_tz": -120
    },
    "id": "zD5bJz17-oLh",
    "outputId": "e3e262a5-cd46-48eb-a1ed-8b23a0b7911f"
   },
   "outputs": [
    {
     "data": {
      "text/plain": [
       "array([1.32243102])"
      ]
     },
     "execution_count": 53,
     "metadata": {},
     "output_type": "execute_result"
    }
   ],
   "source": [
    "# Beta regressor\n",
    "model.coef_"
   ]
  },
  {
   "cell_type": "code",
   "execution_count": null,
   "metadata": {
    "colab": {
     "base_uri": "https://localhost:8080/"
    },
    "executionInfo": {
     "elapsed": 5,
     "status": "ok",
     "timestamp": 1682675225636,
     "user": {
      "displayName": "T3Lab Vision",
      "userId": "14779383426442114373"
     },
     "user_tz": -120
    },
    "id": "g5_pIB-u-oLh",
    "outputId": "b481a0a2-23a5-4a68-ff7b-ed7e82abf8c1"
   },
   "outputs": [
    {
     "data": {
      "text/plain": [
       "7.991020982270399"
      ]
     },
     "execution_count": 54,
     "metadata": {},
     "output_type": "execute_result"
    }
   ],
   "source": [
    "# Intercept\n",
    "model.intercept_"
   ]
  },
  {
   "cell_type": "code",
   "execution_count": null,
   "metadata": {
    "id": "vG0BQ7qo-oLh"
   },
   "outputs": [],
   "source": [
    "# y = 7.99 + 1.32*x"
   ]
  },
  {
   "cell_type": "code",
   "execution_count": null,
   "metadata": {
    "id": "XR0AP0kx-oLh"
   },
   "outputs": [],
   "source": [
    "y_pred = model.predict(X)"
   ]
  },
  {
   "cell_type": "code",
   "execution_count": null,
   "metadata": {
    "colab": {
     "base_uri": "https://localhost:8080/",
     "height": 735
    },
    "executionInfo": {
     "elapsed": 21,
     "status": "ok",
     "timestamp": 1682675232225,
     "user": {
      "displayName": "T3Lab Vision",
      "userId": "14779383426442114373"
     },
     "user_tz": -120
    },
    "id": "RyaRPv-a-oLh",
    "outputId": "daf1d9dd-6bf8-45fe-eb0f-d38d1fe2c825"
   },
   "outputs": [
    {
     "data": {
      "text/plain": [
       "Text(0, 0.5, 'Test scores')"
      ]
     },
     "execution_count": 57,
     "metadata": {},
     "output_type": "execute_result"
    },
    {
     "data": {
      "image/png": "[encoded data removed]",
      "text/plain": [
       "<Figure size 1000x800 with 1 Axes>"
      ]
     },
     "metadata": {},
     "output_type": "display_data"
    }
   ],
   "source": [
    "plt.figure(figsize = (10, 8))\n",
    "\n",
    "plt.scatter(x, y)\n",
    "plt.plot(x, y_pred,'-r');\n",
    "plt.title('Simple Linear Regression')\n",
    "plt.xlabel('Hours of study')\n",
    "plt.ylabel('Test scores')"
   ]
  },
  {
   "cell_type": "code",
   "execution_count": null,
   "metadata": {
    "colab": {
     "base_uri": "https://localhost:8080/",
     "height": 524
    },
    "executionInfo": {
     "elapsed": 792,
     "status": "ok",
     "timestamp": 1682675238754,
     "user": {
      "displayName": "T3Lab Vision",
      "userId": "14779383426442114373"
     },
     "user_tz": -120
    },
    "id": "nRI6JHOa-oLh",
    "outputId": "e5c22312-ab22-42a9-c54b-ce4450ca7b5f"
   },
   "outputs": [
    {
     "data": {
      "text/plain": [
       "Text(0.5, 0, 'Errors')"
      ]
     },
     "execution_count": 58,
     "metadata": {},
     "output_type": "execute_result"
    },
    {
     "data": {
      "image/png": "[encoded data removed]",
      "text/plain": [
       "<Figure size 640x480 with 1 Axes>"
      ]
     },
     "metadata": {},
     "output_type": "display_data"
    }
   ],
   "source": [
    "import seaborn as sns\n",
    "\n",
    "# Plot the histogram of the error terms\n",
    "fig = plt.figure()\n",
    "sns.distplot((y - y_pred), bins = 20)\n",
    "fig.suptitle('Error Terms', fontsize = 20)                  # Plot heading\n",
    "plt.xlabel('Errors', fontsize = 18)"
   ]
  },
  {
   "cell_type": "code",
   "execution_count": null,
   "metadata": {
    "colab": {
     "base_uri": "https://localhost:8080/",
     "height": 542
    },
    "executionInfo": {
     "elapsed": 259,
     "status": "ok",
     "timestamp": 1682675256261,
     "user": {
      "displayName": "T3Lab Vision",
      "userId": "14779383426442114373"
     },
     "user_tz": -120
    },
    "id": "QqdOzM5a-oLi",
    "outputId": "fc83b2ac-d495-4728-9457-7a8e9ee82253"
   },
   "outputs": [
    {
     "data": {
      "application/vnd.plotly.v1+json": {
       "config": {
        "plotlyServerURL": "https://plot.ly"
       },
       "data": [
        {
         "hovertemplate": "x=%{x}<br>y=%{y}<extra></extra>",
         "legendgroup": "",
         "marker": {
          "color": "#636efa",
          "opacity": 0.65,
          "symbol": "circle"
         },
         "mode": "markers",
         "name": "",
         "orientation": "v",
         "showlegend": false,
         "type": "scatter",
         "x": [
          32.50234526945303,
          53.42680403327502,
          61.53035802563644,
          47.4756396347861,
          59.81320786951232,
          55.14218841394382,
          52.211796692214,
          39.299566694317065,
          48.10504169176825,
          52.55001444273382,
          45.419730144973755,
          54.35163488122892,
          44.16404949677335,
          58.16847071685779,
          56.72720805709661,
          48.95588856609372,
          44.687196231480904,
          60.297326851333466,
          45.61864377295583,
          38.81681753744564,
          66.1898166067526,
          65.41605174513407,
          47.48120860786787,
          41.57564261748702,
          51.84518690563943,
          59.37082201108952,
          57.31000343834809,
          63.61556125145331,
          46.73761940797697,
          50.55676014854777,
          52.22399608555305,
          35.56783004774663,
          42.43647694405564,
          58.16454011019286,
          57.50444761534179,
          45.44053072531998,
          61.89622268029126,
          33.09383173616396,
          36.43600951138687,
          37.67565486085074,
          44.555608383275356,
          43.31828263186572,
          50.073145632289034,
          43.87061264521837,
          62.99748074755309,
          32.66904376346719,
          40.1668990087037,
          53.57507753167366,
          33.86421497177824,
          64.7071386661213,
          38.119824026822805,
          44.5025380646451,
          40.59953838455232,
          41.72067635634129,
          51.088634678336796,
          55.0780959049232,
          41.3777265348952,
          62.49469742726979,
          49.203887540826,
          41.102685187349664,
          41.18201610516982,
          50.1863894948806,
          52.37844621923622,
          50.13548548628612,
          33.64470600619178,
          39.55790122290683,
          56.13038881687547,
          57.36205213323824,
          60.269214393997906,
          35.67809388941073,
          31.58811699813283,
          53.66093226167304,
          46.68222864947192,
          43.107820219102464,
          70.34607561504933,
          44.49285588085407,
          57.50453330326841,
          36.93007660919181,
          55.80573335794274,
          38.954769073377065,
          56.901214702247074,
          56.868900661384046,
          34.33312470421609,
          59.04974121466681,
          57.78822399323067,
          54.28232870596741,
          51.08871989897914,
          50.28283634823073,
          44.21174175209011,
          38.00548800806069,
          32.940479942618296,
          53.691639571070056,
          68.76573426962166,
          46.23096649831025,
          68.31936081825536,
          50.03017434031214,
          49.23976534275376,
          50.03957593987599,
          48.14985889102886,
          25.128484647772304
         ],
         "xaxis": "x",
         "y": [
          31.70700584656992,
          68.77759598163891,
          62.5623822979458,
          71.54663223356778,
          87.23092513368739,
          78.21151827079923,
          79.64197304980874,
          59.17148932186951,
          75.33124229706306,
          71.30087988685035,
          55.16567714595912,
          82.47884675749792,
          62.008923245725825,
          75.39287042599496,
          81.43619215887864,
          60.723602440673965,
          82.89250373145371,
          97.37989686216608,
          48.84715331735507,
          56.877213186268506,
          83.87856466460276,
          118.5912173025225,
          57.25181946226897,
          51.39174407983231,
          75.38065166531236,
          74.76556403215137,
          95.45505292257474,
          95.22936601755531,
          79.05240616956559,
          83.43207142132371,
          63.35879031749788,
          41.41288530370056,
          76.61734128007404,
          96.7695664261082,
          74.08413011660252,
          66.5881444142286,
          77.76848241779302,
          50.71958891231208,
          62.12457081807178,
          60.81024664990221,
          52.68298336638778,
          58.56982471769287,
          82.90598148507051,
          61.42470980433912,
          115.24415280079529,
          45.570588823376085,
          54.08405479622361,
          87.99445275811041,
          52.725494375900425,
          93.57611869265824,
          80.16627544737096,
          65.10171157056033,
          65.56230126040037,
          65.28088692082282,
          73.4346415463243,
          71.13972785861894,
          79.10282968354986,
          86.52053844034715,
          84.74269780782622,
          59.35885024862493,
          61.68403752483363,
          69.84760415824918,
          86.0982912057741,
          59.10883926769964,
          69.89968164362763,
          44.8624907111644,
          85.49806777884022,
          95.53668684646722,
          70.25193441977159,
          52.72173496477499,
          50.3926701350799,
          63.64239877565775,
          72.24725106866237,
          57.8125129761814,
          104.25710158543822,
          86.642020318822,
          91.48677800011014,
          55.231660886212836,
          79.55043667850761,
          44.8471242424676,
          80.20752313968276,
          83.14274979204346,
          55.723489260543914,
          77.63418251167786,
          99.05141484174827,
          79.12064627468003,
          69.58889785111847,
          69.51050331149439,
          73.68756431831729,
          61.36690453724013,
          67.17065576899512,
          85.66820314500154,
          114.85387123391394,
          90.12357206996742,
          97.91982103524285,
          81.53699078301503,
          72.11183246961566,
          85.23200734232567,
          66.22495788805463,
          53.454394214850524
         ],
         "yaxis": "y"
        },
        {
         "hovertemplate": "<b>OLS trendline</b><br>y = 1.32243 * x + 7.99102<br>R<sup>2</sup>=0.598656<br><br>x=%{x}<br>y=%{y} <b>(trend)</b><extra></extra>",
         "legendgroup": "",
         "line": {
          "color": "darkblue"
         },
         "marker": {
          "color": "#636efa",
          "symbol": "circle"
         },
         "mode": "lines",
         "name": "",
         "showlegend": false,
         "type": "scatter",
         "x": [
          25.128484647772304,
          31.58811699813283,
          32.50234526945303,
          32.66904376346719,
          32.940479942618296,
          33.09383173616396,
          33.64470600619178,
          33.86421497177824,
          34.33312470421609,
          35.56783004774663,
          35.67809388941073,
          36.43600951138687,
          36.93007660919181,
          37.67565486085074,
          38.00548800806069,
          38.119824026822805,
          38.81681753744564,
          38.954769073377065,
          39.299566694317065,
          39.55790122290683,
          40.1668990087037,
          40.59953838455232,
          41.102685187349664,
          41.18201610516982,
          41.3777265348952,
          41.57564261748702,
          41.72067635634129,
          42.43647694405564,
          43.107820219102464,
          43.31828263186572,
          43.87061264521837,
          44.16404949677335,
          44.21174175209011,
          44.49285588085407,
          44.5025380646451,
          44.555608383275356,
          44.687196231480904,
          45.419730144973755,
          45.44053072531998,
          45.61864377295583,
          46.23096649831025,
          46.68222864947192,
          46.73761940797697,
          47.4756396347861,
          47.48120860786787,
          48.10504169176825,
          48.14985889102886,
          48.95588856609372,
          49.203887540826,
          49.23976534275376,
          50.03017434031214,
          50.03957593987599,
          50.073145632289034,
          50.13548548628612,
          50.1863894948806,
          50.28283634823073,
          50.55676014854777,
          51.088634678336796,
          51.08871989897914,
          51.84518690563943,
          52.211796692214,
          52.22399608555305,
          52.37844621923622,
          52.55001444273382,
          53.42680403327502,
          53.57507753167366,
          53.66093226167304,
          53.691639571070056,
          54.28232870596741,
          54.35163488122892,
          55.0780959049232,
          55.14218841394382,
          55.80573335794274,
          56.13038881687547,
          56.72720805709661,
          56.868900661384046,
          56.901214702247074,
          57.31000343834809,
          57.36205213323824,
          57.50444761534179,
          57.50453330326841,
          57.78822399323067,
          58.16454011019286,
          58.16847071685779,
          59.04974121466681,
          59.37082201108952,
          59.81320786951232,
          60.269214393997906,
          60.297326851333466,
          61.53035802563644,
          61.89622268029126,
          62.49469742726979,
          62.99748074755309,
          63.61556125145331,
          64.7071386661213,
          65.41605174513407,
          66.1898166067526,
          68.31936081825536,
          68.76573426962166,
          70.34607561504933
         ],
         "xaxis": "x",
         "y": [
          41.22170863531628,
          49.764126851027164,
          50.97313067890101,
          51.19357793883192,
          51.552533562839535,
          51.7553307320195,
          52.483823956342,
          52.77410942220647,
          53.3942101992542,
          55.0270228495008,
          55.172839174405595,
          56.17513030553776,
          56.828499962997725,
          57.8144757728832,
          58.25065735908667,
          58.40185885731603,
          59.323584698422835,
          59.506016089175304,
          59.96198715967861,
          60.30361675453459,
          61.1089743192617,
          61.681110051549425,
          62.346486992568806,
          62.45139665935784,
          62.71021020310347,
          62.9719405706251,
          63.16373768623219,
          64.11033458953217,
          64.99813976337227,
          65.27646178713435,
          66.00688013159078,
          66.39493012730674,
          66.4579998452828,
          66.8297538900951,
          66.84255791030837,
          66.91273974605254,
          67.08675559873717,
          68.05548117116051,
          68.08298850390167,
          68.31853072365283,
          69.12828529159962,
          69.72504835969113,
          69.79829881711217,
          70.77427966046551,
          70.78164424323373,
          71.60662046640473,
          71.66588812105998,
          72.73180676862718,
          73.05976830642467,
          73.10721422472221,
          74.15247560375838,
          74.16490857068513,
          74.2093021733565,
          74.29174233023629,
          74.35905937038423,
          74.48660368130157,
          74.84884901271187,
          75.55221639111831,
          75.55232908953953,
          76.55270452683797,
          77.03752068184991,
          77.05365353806026,
          77.2579031863116,
          77.48479032758385,
          78.6442840825445,
          78.84036555667933,
          78.9539025150808,
          78.99451081365277,
          79.77565645044555,
          79.86730908667988,
          80.82800368123583,
          80.91276160349092,
          81.79025402242756,
          82.21958847302707,
          83.0088407512728,
          83.1962194468775,
          83.23895253698535,
          83.7795474433583,
          83.84837825217495,
          84.0366864552089,
          84.03679977158133,
          84.4119611408543,
          84.90961324828794,
          84.91481120447989,
          86.0802306502216,
          86.504837856222,
          87.08986263942856,
          87.69289981398715,
          87.73007659969358,
          89.3606752766163,
          89.84450604606151,
          90.63594761780159,
          91.30084387826817,
          92.11821271118609,
          93.56174854808212,
          94.49923719620564,
          95.52248785352799,
          98.33866318314836,
          98.92896128296952,
          101.01885370470602
         ],
         "yaxis": "y"
        }
       ],
       "layout": {
        "height": 360,
        "legend": {
         "tracegroupgap": 0
        },
        "margin": {
         "t": 60
        },
        "template": {
         "data": {
          "bar": [
           {
            "error_x": {
             "color": "#2a3f5f"
            },
            "error_y": {
             "color": "#2a3f5f"
            },
            "marker": {
             "line": {
              "color": "#E5ECF6",
              "width": 0.5
             },
             "pattern": {
              "fillmode": "overlay",
              "size": 10,
              "solidity": 0.2
             }
            },
            "type": "bar"
           }
          ],
          "barpolar": [
           {
            "marker": {
             "line": {
              "color": "#E5ECF6",
              "width": 0.5
             },
             "pattern": {
              "fillmode": "overlay",
              "size": 10,
              "solidity": 0.2
             }
            },
            "type": "barpolar"
           }
          ],
          "carpet": [
           {
            "aaxis": {
             "endlinecolor": "#2a3f5f",
             "gridcolor": "white",
             "linecolor": "white",
             "minorgridcolor": "white",
             "startlinecolor": "#2a3f5f"
            },
            "baxis": {
             "endlinecolor": "#2a3f5f",
             "gridcolor": "white",
             "linecolor": "white",
             "minorgridcolor": "white",
             "startlinecolor": "#2a3f5f"
            },
            "type": "carpet"
           }
          ],
          "choropleth": [
           {
            "colorbar": {
             "outlinewidth": 0,
             "ticks": ""
            },
            "type": "choropleth"
           }
          ],
          "contour": [
           {
            "colorbar": {
             "outlinewidth": 0,
             "ticks": ""
            },
            "colorscale": [
             [
              0,
              "#0d0887"
             ],
             [
              0.1111111111111111,
              "#46039f"
             ],
             [
              0.2222222222222222,
              "#7201a8"
             ],
             [
              0.3333333333333333,
              "#9c179e"
             ],
             [
              0.4444444444444444,
              "#bd3786"
             ],
             [
              0.5555555555555556,
              "#d8576b"
             ],
             [
              0.6666666666666666,
              "#ed7953"
             ],
             [
              0.7777777777777778,
              "#fb9f3a"
             ],
             [
              0.8888888888888888,
              "#fdca26"
             ],
             [
              1,
              "#f0f921"
             ]
            ],
            "type": "contour"
           }
          ],
          "contourcarpet": [
           {
            "colorbar": {
             "outlinewidth": 0,
             "ticks": ""
            },
            "type": "contourcarpet"
           }
          ],
          "heatmap": [
           {
            "colorbar": {
             "outlinewidth": 0,
             "ticks": ""
            },
            "colorscale": [
             [
              0,
              "#0d0887"
             ],
             [
              0.1111111111111111,
              "#46039f"
             ],
             [
              0.2222222222222222,
              "#7201a8"
             ],
             [
              0.3333333333333333,
              "#9c179e"
             ],
             [
              0.4444444444444444,
              "#bd3786"
             ],
             [
              0.5555555555555556,
              "#d8576b"
             ],
             [
              0.6666666666666666,
              "#ed7953"
             ],
             [
              0.7777777777777778,
              "#fb9f3a"
             ],
             [
              0.8888888888888888,
              "#fdca26"
             ],
             [
              1,
              "#f0f921"
             ]
            ],
            "type": "heatmap"
           }
          ],
          "heatmapgl": [
           {
            "colorbar": {
             "outlinewidth": 0,
             "ticks": ""
            },
            "colorscale": [
             [
              0,
              "#0d0887"
             ],
             [
              0.1111111111111111,
              "#46039f"
             ],
             [
              0.2222222222222222,
              "#7201a8"
             ],
             [
              0.3333333333333333,
              "#9c179e"
             ],
             [
              0.4444444444444444,
              "#bd3786"
             ],
             [
              0.5555555555555556,
              "#d8576b"
             ],
             [
              0.6666666666666666,
              "#ed7953"
             ],
             [
              0.7777777777777778,
              "#fb9f3a"
             ],
             [
              0.8888888888888888,
              "#fdca26"
             ],
             [
              1,
              "#f0f921"
             ]
            ],
            "type": "heatmapgl"
           }
          ],
          "histogram": [
           {
            "marker": {
             "pattern": {
              "fillmode": "overlay",
              "size": 10,
              "solidity": 0.2
             }
            },
            "type": "histogram"
           }
          ],
          "histogram2d": [
           {
            "colorbar": {
             "outlinewidth": 0,
             "ticks": ""
            },
            "colorscale": [
             [
              0,
              "#0d0887"
             ],
             [
              0.1111111111111111,
              "#46039f"
             ],
             [
              0.2222222222222222,
              "#7201a8"
             ],
             [
              0.3333333333333333,
              "#9c179e"
             ],
             [
              0.4444444444444444,
              "#bd3786"
             ],
             [
              0.5555555555555556,
              "#d8576b"
             ],
             [
              0.6666666666666666,
              "#ed7953"
             ],
             [
              0.7777777777777778,
              "#fb9f3a"
             ],
             [
              0.8888888888888888,
              "#fdca26"
             ],
             [
              1,
              "#f0f921"
             ]
            ],
            "type": "histogram2d"
           }
          ],
          "histogram2dcontour": [
           {
            "colorbar": {
             "outlinewidth": 0,
             "ticks": ""
            },
            "colorscale": [
             [
              0,
              "#0d0887"
             ],
             [
              0.1111111111111111,
              "#46039f"
             ],
             [
              0.2222222222222222,
              "#7201a8"
             ],
             [
              0.3333333333333333,
              "#9c179e"
             ],
             [
              0.4444444444444444,
              "#bd3786"
             ],
             [
              0.5555555555555556,
              "#d8576b"
             ],
             [
              0.6666666666666666,
              "#ed7953"
             ],
             [
              0.7777777777777778,
              "#fb9f3a"
             ],
             [
              0.8888888888888888,
              "#fdca26"
             ],
             [
              1,
              "#f0f921"
             ]
            ],
            "type": "histogram2dcontour"
           }
          ],
          "mesh3d": [
           {
            "colorbar": {
             "outlinewidth": 0,
             "ticks": ""
            },
            "type": "mesh3d"
           }
          ],
          "parcoords": [
           {
            "line": {
             "colorbar": {
              "outlinewidth": 0,
              "ticks": ""
             }
            },
            "type": "parcoords"
           }
          ],
          "pie": [
           {
            "automargin": true,
            "type": "pie"
           }
          ],
          "scatter": [
           {
            "fillpattern": {
             "fillmode": "overlay",
             "size": 10,
             "solidity": 0.2
            },
            "type": "scatter"
           }
          ],
          "scatter3d": [
           {
            "line": {
             "colorbar": {
              "outlinewidth": 0,
              "ticks": ""
             }
            },
            "marker": {
             "colorbar": {
              "outlinewidth": 0,
              "ticks": ""
             }
            },
            "type": "scatter3d"
           }
          ],
          "scattercarpet": [
           {
            "marker": {
             "colorbar": {
              "outlinewidth": 0,
              "ticks": ""
             }
            },
            "type": "scattercarpet"
           }
          ],
          "scattergeo": [
           {
            "marker": {
             "colorbar": {
              "outlinewidth": 0,
              "ticks": ""
             }
            },
            "type": "scattergeo"
           }
          ],
          "scattergl": [
           {
            "marker": {
             "colorbar": {
              "outlinewidth": 0,
              "ticks": ""
             }
            },
            "type": "scattergl"
           }
          ],
          "scattermapbox": [
           {
            "marker": {
             "colorbar": {
              "outlinewidth": 0,
              "ticks": ""
             }
            },
            "type": "scattermapbox"
           }
          ],
          "scatterpolar": [
           {
            "marker": {
             "colorbar": {
              "outlinewidth": 0,
              "ticks": ""
             }
            },
            "type": "scatterpolar"
           }
          ],
          "scatterpolargl": [
           {
            "marker": {
             "colorbar": {
              "outlinewidth": 0,
              "ticks": ""
             }
            },
            "type": "scatterpolargl"
           }
          ],
          "scatterternary": [
           {
            "marker": {
             "colorbar": {
              "outlinewidth": 0,
              "ticks": ""
             }
            },
            "type": "scatterternary"
           }
          ],
          "surface": [
           {
            "colorbar": {
             "outlinewidth": 0,
             "ticks": ""
            },
            "colorscale": [
             [
              0,
              "#0d0887"
             ],
             [
              0.1111111111111111,
              "#46039f"
             ],
             [
              0.2222222222222222,
              "#7201a8"
             ],
             [
              0.3333333333333333,
              "#9c179e"
             ],
             [
              0.4444444444444444,
              "#bd3786"
             ],
             [
              0.5555555555555556,
              "#d8576b"
             ],
             [
              0.6666666666666666,
              "#ed7953"
             ],
             [
              0.7777777777777778,
              "#fb9f3a"
             ],
             [
              0.8888888888888888,
              "#fdca26"
             ],
             [
              1,
              "#f0f921"
             ]
            ],
            "type": "surface"
           }
          ],
          "table": [
           {
            "cells": {
             "fill": {
              "color": "#EBF0F8"
             },
             "line": {
              "color": "white"
             }
            },
            "header": {
             "fill": {
              "color": "#C8D4E3"
             },
             "line": {
              "color": "white"
             }
            },
            "type": "table"
           }
          ]
         },
         "layout": {
          "annotationdefaults": {
           "arrowcolor": "#2a3f5f",
           "arrowhead": 0,
           "arrowwidth": 1
          },
          "autotypenumbers": "strict",
          "coloraxis": {
           "colorbar": {
            "outlinewidth": 0,
            "ticks": ""
           }
          },
          "colorscale": {
           "diverging": [
            [
             0,
             "#8e0152"
            ],
            [
             0.1,
             "#c51b7d"
            ],
            [
             0.2,
             "#de77ae"
            ],
            [
             0.3,
             "#f1b6da"
            ],
            [
             0.4,
             "#fde0ef"
            ],
            [
             0.5,
             "#f7f7f7"
            ],
            [
             0.6,
             "#e6f5d0"
            ],
            [
             0.7,
             "#b8e186"
            ],
            [
             0.8,
             "#7fbc41"
            ],
            [
             0.9,
             "#4d9221"
            ],
            [
             1,
             "#276419"
            ]
           ],
           "sequential": [
            [
             0,
             "#0d0887"
            ],
            [
             0.1111111111111111,
             "#46039f"
            ],
            [
             0.2222222222222222,
             "#7201a8"
            ],
            [
             0.3333333333333333,
             "#9c179e"
            ],
            [
             0.4444444444444444,
             "#bd3786"
            ],
            [
             0.5555555555555556,
             "#d8576b"
            ],
            [
             0.6666666666666666,
             "#ed7953"
            ],
            [
             0.7777777777777778,
             "#fb9f3a"
            ],
            [
             0.8888888888888888,
             "#fdca26"
            ],
            [
             1,
             "#f0f921"
            ]
           ],
           "sequentialminus": [
            [
             0,
             "#0d0887"
            ],
            [
             0.1111111111111111,
             "#46039f"
            ],
            [
             0.2222222222222222,
             "#7201a8"
            ],
            [
             0.3333333333333333,
             "#9c179e"
            ],
            [
             0.4444444444444444,
             "#bd3786"
            ],
            [
             0.5555555555555556,
             "#d8576b"
            ],
            [
             0.6666666666666666,
             "#ed7953"
            ],
            [
             0.7777777777777778,
             "#fb9f3a"
            ],
            [
             0.8888888888888888,
             "#fdca26"
            ],
            [
             1,
             "#f0f921"
            ]
           ]
          },
          "colorway": [
           "#636efa",
           "#EF553B",
           "#00cc96",
           "#ab63fa",
           "#FFA15A",
           "#19d3f3",
           "#FF6692",
           "#B6E880",
           "#FF97FF",
           "#FECB52"
          ],
          "font": {
           "color": "#2a3f5f"
          },
          "geo": {
           "bgcolor": "white",
           "lakecolor": "white",
           "landcolor": "#E5ECF6",
           "showlakes": true,
           "showland": true,
           "subunitcolor": "white"
          },
          "hoverlabel": {
           "align": "left"
          },
          "hovermode": "closest",
          "mapbox": {
           "style": "light"
          },
          "paper_bgcolor": "white",
          "plot_bgcolor": "#E5ECF6",
          "polar": {
           "angularaxis": {
            "gridcolor": "white",
            "linecolor": "white",
            "ticks": ""
           },
           "bgcolor": "#E5ECF6",
           "radialaxis": {
            "gridcolor": "white",
            "linecolor": "white",
            "ticks": ""
           }
          },
          "scene": {
           "xaxis": {
            "backgroundcolor": "#E5ECF6",
            "gridcolor": "white",
            "gridwidth": 2,
            "linecolor": "white",
            "showbackground": true,
            "ticks": "",
            "zerolinecolor": "white"
           },
           "yaxis": {
            "backgroundcolor": "#E5ECF6",
            "gridcolor": "white",
            "gridwidth": 2,
            "linecolor": "white",
            "showbackground": true,
            "ticks": "",
            "zerolinecolor": "white"
           },
           "zaxis": {
            "backgroundcolor": "#E5ECF6",
            "gridcolor": "white",
            "gridwidth": 2,
            "linecolor": "white",
            "showbackground": true,
            "ticks": "",
            "zerolinecolor": "white"
           }
          },
          "shapedefaults": {
           "line": {
            "color": "#2a3f5f"
           }
          },
          "ternary": {
           "aaxis": {
            "gridcolor": "white",
            "linecolor": "white",
            "ticks": ""
           },
           "baxis": {
            "gridcolor": "white",
            "linecolor": "white",
            "ticks": ""
           },
           "bgcolor": "#E5ECF6",
           "caxis": {
            "gridcolor": "white",
            "linecolor": "white",
            "ticks": ""
           }
          },
          "title": {
           "x": 0.05
          },
          "xaxis": {
           "automargin": true,
           "gridcolor": "white",
           "linecolor": "white",
           "ticks": "",
           "title": {
            "standoff": 15
           },
           "zerolinecolor": "white",
           "zerolinewidth": 2
          },
          "yaxis": {
           "automargin": true,
           "gridcolor": "white",
           "linecolor": "white",
           "ticks": "",
           "title": {
            "standoff": 15
           },
           "zerolinecolor": "white",
           "zerolinewidth": 2
          }
         }
        },
        "width": 800,
        "xaxis": {
         "anchor": "y",
         "autorange": true,
         "domain": [
          0,
          1
         ],
         "range": [
          22.284986183251366,
          73.18957407957026
         ],
         "title": {
          "text": "x"
         },
         "type": "linear"
        },
        "yaxis": {
         "anchor": "x",
         "autorange": true,
         "domain": [
          0,
          1
         ],
         "range": [
          24.979750628851807,
          125.3184725202406
         ],
         "title": {
          "text": "y"
         },
         "type": "linear"
        }
       }
      },
      "image/png": "[encoded data removed]"
     },
     "metadata": {},
     "output_type": "display_data"
    }
   ],
   "source": [
    "import plotly.express as px\n",
    "\n",
    "fig = px.scatter(x=x, y=y,\n",
    "                 opacity=0.65,\n",
    "                trendline='ols',\n",
    "                 trendline_color_override='darkblue',\n",
    "                 width=800\n",
    "                )\n",
    "fig.show()"
   ]
  },
  {
   "cell_type": "markdown",
   "metadata": {
    "id": "H0kiLH17-oLi"
   },
   "source": [
    "## Train Test Set\n",
    "\n",
    "The training set contains a known output and the model learns on this data in order to be generalized to other data later on. We have the test dataset (or subset) in order to test our model’s prediction on this subset."
   ]
  },
  {
   "cell_type": "markdown",
   "metadata": {
    "id": "pStmGq2m-oLi"
   },
   "source": [
    "<img src='https://frenzy86.s3.eu-west-2.amazonaws.com/fav/iris_8.png' width=650>"
   ]
  },
  {
   "cell_type": "code",
   "execution_count": null,
   "metadata": {
    "id": "khhvpxHF-oLi"
   },
   "outputs": [],
   "source": [
    "from sklearn.model_selection import train_test_split"
   ]
  },
  {
   "cell_type": "code",
   "execution_count": null,
   "metadata": {
    "id": "jYtvuaJ9-oLi"
   },
   "outputs": [],
   "source": [
    "X_train, X_test, y_train, y_test = train_test_split(X, y,\n",
    "                                                    test_size = 0.2, # decidiamo quanti punti avere in % nel test\n",
    "                                                    random_state = 667 # seed\n",
    "                                                    )"
   ]
  },
  {
   "cell_type": "code",
   "execution_count": null,
   "metadata": {
    "colab": {
     "base_uri": "https://localhost:8080/"
    },
    "executionInfo": {
     "elapsed": 6,
     "status": "ok",
     "timestamp": 1682675637488,
     "user": {
      "displayName": "T3Lab Vision",
      "userId": "14779383426442114373"
     },
     "user_tz": -120
    },
    "id": "MyQv51a1-oLi",
    "outputId": "c6e08eb6-9960-4045-b763-e7e9f8d0adc0"
   },
   "outputs": [
    {
     "data": {
      "text/plain": [
       "((80, 1), (20, 1))"
      ]
     },
     "execution_count": 62,
     "metadata": {},
     "output_type": "execute_result"
    }
   ],
   "source": [
    "X_train.shape, X_test.shape"
   ]
  },
  {
   "cell_type": "code",
   "execution_count": null,
   "metadata": {
    "colab": {
     "base_uri": "https://localhost:8080/",
     "height": 75
    },
    "executionInfo": {
     "elapsed": 8,
     "status": "ok",
     "timestamp": 1682675638396,
     "user": {
      "displayName": "T3Lab Vision",
      "userId": "14779383426442114373"
     },
     "user_tz": -120
    },
    "id": "3WM_APdc-oLj",
    "outputId": "af1bda04-7882-490c-da25-868166e293bf"
   },
   "outputs": [
    {
     "data": {
      "text/html": [
       "<style>#sk-container-id-4 {color: black;background-color: white;}#sk-container-id-4 pre{padding: 0;}#sk-container-id-4 div.sk-toggleable {background-color: white;}#sk-container-id-4 label.sk-toggleable__label {cursor: pointer;display: block;width: 100%;margin-bottom: 0;padding: 0.3em;box-sizing: border-box;text-align: center;}#sk-container-id-4 label.sk-toggleable__label-arrow:before {content: \"▸\";float: left;margin-right: 0.25em;color: #696969;}#sk-container-id-4 label.sk-toggleable__label-arrow:hover:before {color: black;}#sk-container-id-4 div.sk-estimator:hover label.sk-toggleable__label-arrow:before {color: black;}#sk-container-id-4 div.sk-toggleable__content {max-height: 0;max-width: 0;overflow: hidden;text-align: left;background-color: #f0f8ff;}#sk-container-id-4 div.sk-toggleable__content pre {margin: 0.2em;color: black;border-radius: 0.25em;background-color: #f0f8ff;}#sk-container-id-4 input.sk-toggleable__control:checked~div.sk-toggleable__content {max-height: 200px;max-width: 100%;overflow: auto;}#sk-container-id-4 input.sk-toggleable__control:checked~label.sk-toggleable__label-arrow:before {content: \"▾\";}#sk-container-id-4 div.sk-estimator input.sk-toggleable__control:checked~label.sk-toggleable__label {background-color: #d4ebff;}#sk-container-id-4 div.sk-label input.sk-toggleable__control:checked~label.sk-toggleable__label {background-color: #d4ebff;}#sk-container-id-4 input.sk-hidden--visually {border: 0;clip: rect(1px 1px 1px 1px);clip: rect(1px, 1px, 1px, 1px);height: 1px;margin: -1px;overflow: hidden;padding: 0;position: absolute;width: 1px;}#sk-container-id-4 div.sk-estimator {font-family: monospace;background-color: #f0f8ff;border: 1px dotted black;border-radius: 0.25em;box-sizing: border-box;margin-bottom: 0.5em;}#sk-container-id-4 div.sk-estimator:hover {background-color: #d4ebff;}#sk-container-id-4 div.sk-parallel-item::after {content: \"\";width: 100%;border-bottom: 1px solid gray;flex-grow: 1;}#sk-container-id-4 div.sk-label:hover label.sk-toggleable__label {background-color: #d4ebff;}#sk-container-id-4 div.sk-serial::before {content: \"\";position: absolute;border-left: 1px solid gray;box-sizing: border-box;top: 0;bottom: 0;left: 50%;z-index: 0;}#sk-container-id-4 div.sk-serial {display: flex;flex-direction: column;align-items: center;background-color: white;padding-right: 0.2em;padding-left: 0.2em;position: relative;}#sk-container-id-4 div.sk-item {position: relative;z-index: 1;}#sk-container-id-4 div.sk-parallel {display: flex;align-items: stretch;justify-content: center;background-color: white;position: relative;}#sk-container-id-4 div.sk-item::before, #sk-container-id-4 div.sk-parallel-item::before {content: \"\";position: absolute;border-left: 1px solid gray;box-sizing: border-box;top: 0;bottom: 0;left: 50%;z-index: -1;}#sk-container-id-4 div.sk-parallel-item {display: flex;flex-direction: column;z-index: 1;position: relative;background-color: white;}#sk-container-id-4 div.sk-parallel-item:first-child::after {align-self: flex-end;width: 50%;}#sk-container-id-4 div.sk-parallel-item:last-child::after {align-self: flex-start;width: 50%;}#sk-container-id-4 div.sk-parallel-item:only-child::after {width: 0;}#sk-container-id-4 div.sk-dashed-wrapped {border: 1px dashed gray;margin: 0 0.4em 0.5em 0.4em;box-sizing: border-box;padding-bottom: 0.4em;background-color: white;}#sk-container-id-4 div.sk-label label {font-family: monospace;font-weight: bold;display: inline-block;line-height: 1.2em;}#sk-container-id-4 div.sk-label-container {text-align: center;}#sk-container-id-4 div.sk-container {/* jupyter's `normalize.less` sets `[hidden] { display: none; }` but bootstrap.min.css set `[hidden] { display: none !important; }` so we also need the `!important` here to be able to override the default hidden behavior on the sphinx rendered scikit-learn.org. See: https://github.com/scikit-learn/scikit-learn/issues/21755 */display: inline-block !important;position: relative;}#sk-container-id-4 div.sk-text-repr-fallback {display: none;}</style><div id=\"sk-container-id-4\" class=\"sk-top-container\"><div class=\"sk-text-repr-fallback\"><pre>LinearRegression()</pre><b>In a Jupyter environment, please rerun this cell to show the HTML representation or trust the notebook. <br />On GitHub, the HTML representation is unable to render, please try loading this page with nbviewer.org.</b></div><div class=\"sk-container\" hidden><div class=\"sk-item\"><div class=\"sk-estimator sk-toggleable\"><input class=\"sk-toggleable__control sk-hidden--visually\" id=\"sk-estimator-id-4\" type=\"checkbox\" checked><label for=\"sk-estimator-id-4\" class=\"sk-toggleable__label sk-toggleable__label-arrow\">LinearRegression</label><div class=\"sk-toggleable__content\"><pre>LinearRegression()</pre></div></div></div></div></div>"
      ],
      "text/plain": [
       "LinearRegression()"
      ]
     },
     "execution_count": 63,
     "metadata": {},
     "output_type": "execute_result"
    }
   ],
   "source": [
    "model = LinearRegression()\n",
    "model.fit(X_train, y_train) # "
   ]
  },
  {
   "cell_type": "code",
   "execution_count": null,
   "metadata": {
    "colab": {
     "base_uri": "https://localhost:8080/"
    },
    "executionInfo": {
     "elapsed": 5,
     "status": "ok",
     "timestamp": 1682675639655,
     "user": {
      "displayName": "T3Lab Vision",
      "userId": "14779383426442114373"
     },
     "user_tz": -120
    },
    "id": "n_XQApog-oLj",
    "outputId": "c433d905-58bd-4152-9bac-d82c78c42b07"
   },
   "outputs": [
    {
     "data": {
      "text/plain": [
       "array([1.28944624])"
      ]
     },
     "execution_count": 64,
     "metadata": {},
     "output_type": "execute_result"
    }
   ],
   "source": [
    "model.coef_"
   ]
  },
  {
   "cell_type": "code",
   "execution_count": null,
   "metadata": {
    "colab": {
     "base_uri": "https://localhost:8080/"
    },
    "executionInfo": {
     "elapsed": 5,
     "status": "ok",
     "timestamp": 1682675640009,
     "user": {
      "displayName": "T3Lab Vision",
      "userId": "14779383426442114373"
     },
     "user_tz": -120
    },
    "id": "o6vZjZjC-oLj",
    "outputId": "5e1aad69-e4cc-41bc-a7c3-d09c38907e58"
   },
   "outputs": [
    {
     "data": {
      "text/plain": [
       "9.664498626786127"
      ]
     },
     "execution_count": 65,
     "metadata": {},
     "output_type": "execute_result"
    }
   ],
   "source": [
    "model.intercept_"
   ]
  },
  {
   "cell_type": "code",
   "execution_count": null,
   "metadata": {
    "id": "38Bhv241-oLj"
   },
   "outputs": [],
   "source": [
    "y_pred = model.predict(X_test) #input che non ha mai visto"
   ]
  },
  {
   "cell_type": "code",
   "execution_count": null,
   "metadata": {
    "colab": {
     "base_uri": "https://localhost:8080/",
     "height": 677
    },
    "executionInfo": {
     "elapsed": 13,
     "status": "ok",
     "timestamp": 1682675640727,
     "user": {
      "displayName": "T3Lab Vision",
      "userId": "14779383426442114373"
     },
     "user_tz": -120
    },
    "id": "1cNZh95w-oLj",
    "outputId": "493878c4-5d21-422e-f574-ee05d40d544a"
   },
   "outputs": [
    {
     "data": {
      "text/html": [
       "<div>\n",
       "<style scoped>\n",
       "    .dataframe tbody tr th:only-of-type {\n",
       "        vertical-align: middle;\n",
       "    }\n",
       "\n",
       "    .dataframe tbody tr th {\n",
       "        vertical-align: top;\n",
       "    }\n",
       "\n",
       "    .dataframe thead th {\n",
       "        text-align: right;\n",
       "    }\n",
       "</style>\n",
       "<table border=\"1\" class=\"dataframe\">\n",
       "  <thead>\n",
       "    <tr style=\"text-align: right;\">\n",
       "      <th></th>\n",
       "      <th>predicted</th>\n",
       "      <th>real</th>\n",
       "    </tr>\n",
       "  </thead>\n",
       "  <tbody>\n",
       "    <tr>\n",
       "      <th>0</th>\n",
       "      <td>65.521095</td>\n",
       "      <td>58.569825</td>\n",
       "    </tr>\n",
       "    <tr>\n",
       "      <th>1</th>\n",
       "      <td>62.766495</td>\n",
       "      <td>61.684038</td>\n",
       "    </tr>\n",
       "    <tr>\n",
       "      <th>2</th>\n",
       "      <td>81.622992</td>\n",
       "      <td>79.550437</td>\n",
       "    </tr>\n",
       "    <tr>\n",
       "      <th>3</th>\n",
       "      <td>83.813503</td>\n",
       "      <td>91.486778</td>\n",
       "    </tr>\n",
       "    <tr>\n",
       "      <th>4</th>\n",
       "      <td>76.988804</td>\n",
       "      <td>79.641973</td>\n",
       "    </tr>\n",
       "    <tr>\n",
       "      <th>5</th>\n",
       "      <td>83.035556</td>\n",
       "      <td>80.207523</td>\n",
       "    </tr>\n",
       "    <tr>\n",
       "      <th>6</th>\n",
       "      <td>73.110266</td>\n",
       "      <td>84.742698</td>\n",
       "    </tr>\n",
       "    <tr>\n",
       "      <th>7</th>\n",
       "      <td>83.813392</td>\n",
       "      <td>74.084130</td>\n",
       "    </tr>\n",
       "    <tr>\n",
       "      <th>8</th>\n",
       "      <td>53.935217</td>\n",
       "      <td>55.723489</td>\n",
       "    </tr>\n",
       "    <tr>\n",
       "      <th>9</th>\n",
       "      <td>74.187842</td>\n",
       "      <td>85.232007</td>\n",
       "    </tr>\n",
       "    <tr>\n",
       "      <th>10</th>\n",
       "      <td>87.378411</td>\n",
       "      <td>70.251934</td>\n",
       "    </tr>\n",
       "    <tr>\n",
       "      <th>11</th>\n",
       "      <td>63.461068</td>\n",
       "      <td>65.280887</td>\n",
       "    </tr>\n",
       "    <tr>\n",
       "      <th>12</th>\n",
       "      <td>76.516080</td>\n",
       "      <td>75.380652</td>\n",
       "    </tr>\n",
       "    <tr>\n",
       "      <th>13</th>\n",
       "      <td>84.669615</td>\n",
       "      <td>75.392870</td>\n",
       "    </tr>\n",
       "    <tr>\n",
       "      <th>14</th>\n",
       "      <td>66.233295</td>\n",
       "      <td>61.424710</td>\n",
       "    </tr>\n",
       "    <tr>\n",
       "      <th>15</th>\n",
       "      <td>52.337216</td>\n",
       "      <td>50.719589</td>\n",
       "    </tr>\n",
       "    <tr>\n",
       "      <th>16</th>\n",
       "      <td>82.993889</td>\n",
       "      <td>83.142750</td>\n",
       "    </tr>\n",
       "    <tr>\n",
       "      <th>17</th>\n",
       "      <td>94.014981</td>\n",
       "      <td>118.591217</td>\n",
       "    </tr>\n",
       "    <tr>\n",
       "      <th>18</th>\n",
       "      <td>62.015421</td>\n",
       "      <td>65.562301</td>\n",
       "    </tr>\n",
       "    <tr>\n",
       "      <th>19</th>\n",
       "      <td>55.527303</td>\n",
       "      <td>41.412885</td>\n",
       "    </tr>\n",
       "  </tbody>\n",
       "</table>\n",
       "</div>"
      ],
      "text/plain": [
       "    predicted        real\n",
       "0   65.521095   58.569825\n",
       "1   62.766495   61.684038\n",
       "2   81.622992   79.550437\n",
       "3   83.813503   91.486778\n",
       "4   76.988804   79.641973\n",
       "5   83.035556   80.207523\n",
       "6   73.110266   84.742698\n",
       "7   83.813392   74.084130\n",
       "8   53.935217   55.723489\n",
       "9   74.187842   85.232007\n",
       "10  87.378411   70.251934\n",
       "11  63.461068   65.280887\n",
       "12  76.516080   75.380652\n",
       "13  84.669615   75.392870\n",
       "14  66.233295   61.424710\n",
       "15  52.337216   50.719589\n",
       "16  82.993889   83.142750\n",
       "17  94.014981  118.591217\n",
       "18  62.015421   65.562301\n",
       "19  55.527303   41.412885"
      ]
     },
     "execution_count": 67,
     "metadata": {},
     "output_type": "execute_result"
    }
   ],
   "source": [
    "\n",
    "res_df = pd.DataFrame(data=list(zip(y_pred, y_test)),columns=['predicted', 'real'])\n",
    "res_df"
   ]
  },
  {
   "cell_type": "code",
   "execution_count": null,
   "metadata": {
    "colab": {
     "base_uri": "https://localhost:8080/",
     "height": 677
    },
    "executionInfo": {
     "elapsed": 12,
     "status": "ok",
     "timestamp": 1682675640728,
     "user": {
      "displayName": "T3Lab Vision",
      "userId": "14779383426442114373"
     },
     "user_tz": -120
    },
    "id": "XlQPCyDY-oLj",
    "outputId": "93e156fa-4532-42a3-b3af-c8349eafdfeb"
   },
   "outputs": [
    {
     "data": {
      "text/html": [
       "<div>\n",
       "<style scoped>\n",
       "    .dataframe tbody tr th:only-of-type {\n",
       "        vertical-align: middle;\n",
       "    }\n",
       "\n",
       "    .dataframe tbody tr th {\n",
       "        vertical-align: top;\n",
       "    }\n",
       "\n",
       "    .dataframe thead th {\n",
       "        text-align: right;\n",
       "    }\n",
       "</style>\n",
       "<table border=\"1\" class=\"dataframe\">\n",
       "  <thead>\n",
       "    <tr style=\"text-align: right;\">\n",
       "      <th></th>\n",
       "      <th>predicted</th>\n",
       "      <th>real</th>\n",
       "      <th>error</th>\n",
       "    </tr>\n",
       "  </thead>\n",
       "  <tbody>\n",
       "    <tr>\n",
       "      <th>0</th>\n",
       "      <td>65.521095</td>\n",
       "      <td>58.569825</td>\n",
       "      <td>-6.951271</td>\n",
       "    </tr>\n",
       "    <tr>\n",
       "      <th>1</th>\n",
       "      <td>62.766495</td>\n",
       "      <td>61.684038</td>\n",
       "      <td>-1.082457</td>\n",
       "    </tr>\n",
       "    <tr>\n",
       "      <th>2</th>\n",
       "      <td>81.622992</td>\n",
       "      <td>79.550437</td>\n",
       "      <td>-2.072555</td>\n",
       "    </tr>\n",
       "    <tr>\n",
       "      <th>3</th>\n",
       "      <td>83.813503</td>\n",
       "      <td>91.486778</td>\n",
       "      <td>7.673275</td>\n",
       "    </tr>\n",
       "    <tr>\n",
       "      <th>4</th>\n",
       "      <td>76.988804</td>\n",
       "      <td>79.641973</td>\n",
       "      <td>2.653169</td>\n",
       "    </tr>\n",
       "    <tr>\n",
       "      <th>5</th>\n",
       "      <td>83.035556</td>\n",
       "      <td>80.207523</td>\n",
       "      <td>-2.828033</td>\n",
       "    </tr>\n",
       "    <tr>\n",
       "      <th>6</th>\n",
       "      <td>73.110266</td>\n",
       "      <td>84.742698</td>\n",
       "      <td>11.632431</td>\n",
       "    </tr>\n",
       "    <tr>\n",
       "      <th>7</th>\n",
       "      <td>83.813392</td>\n",
       "      <td>74.084130</td>\n",
       "      <td>-9.729262</td>\n",
       "    </tr>\n",
       "    <tr>\n",
       "      <th>8</th>\n",
       "      <td>53.935217</td>\n",
       "      <td>55.723489</td>\n",
       "      <td>1.788272</td>\n",
       "    </tr>\n",
       "    <tr>\n",
       "      <th>9</th>\n",
       "      <td>74.187842</td>\n",
       "      <td>85.232007</td>\n",
       "      <td>11.044166</td>\n",
       "    </tr>\n",
       "    <tr>\n",
       "      <th>10</th>\n",
       "      <td>87.378411</td>\n",
       "      <td>70.251934</td>\n",
       "      <td>-17.126476</td>\n",
       "    </tr>\n",
       "    <tr>\n",
       "      <th>11</th>\n",
       "      <td>63.461068</td>\n",
       "      <td>65.280887</td>\n",
       "      <td>1.819819</td>\n",
       "    </tr>\n",
       "    <tr>\n",
       "      <th>12</th>\n",
       "      <td>76.516080</td>\n",
       "      <td>75.380652</td>\n",
       "      <td>-1.135428</td>\n",
       "    </tr>\n",
       "    <tr>\n",
       "      <th>13</th>\n",
       "      <td>84.669615</td>\n",
       "      <td>75.392870</td>\n",
       "      <td>-9.276744</td>\n",
       "    </tr>\n",
       "    <tr>\n",
       "      <th>14</th>\n",
       "      <td>66.233295</td>\n",
       "      <td>61.424710</td>\n",
       "      <td>-4.808585</td>\n",
       "    </tr>\n",
       "    <tr>\n",
       "      <th>15</th>\n",
       "      <td>52.337216</td>\n",
       "      <td>50.719589</td>\n",
       "      <td>-1.617627</td>\n",
       "    </tr>\n",
       "    <tr>\n",
       "      <th>16</th>\n",
       "      <td>82.993889</td>\n",
       "      <td>83.142750</td>\n",
       "      <td>0.148861</td>\n",
       "    </tr>\n",
       "    <tr>\n",
       "      <th>17</th>\n",
       "      <td>94.014981</td>\n",
       "      <td>118.591217</td>\n",
       "      <td>24.576237</td>\n",
       "    </tr>\n",
       "    <tr>\n",
       "      <th>18</th>\n",
       "      <td>62.015421</td>\n",
       "      <td>65.562301</td>\n",
       "      <td>3.546880</td>\n",
       "    </tr>\n",
       "    <tr>\n",
       "      <th>19</th>\n",
       "      <td>55.527303</td>\n",
       "      <td>41.412885</td>\n",
       "      <td>-14.114418</td>\n",
       "    </tr>\n",
       "  </tbody>\n",
       "</table>\n",
       "</div>"
      ],
      "text/plain": [
       "    predicted        real      error\n",
       "0   65.521095   58.569825  -6.951271\n",
       "1   62.766495   61.684038  -1.082457\n",
       "2   81.622992   79.550437  -2.072555\n",
       "3   83.813503   91.486778   7.673275\n",
       "4   76.988804   79.641973   2.653169\n",
       "5   83.035556   80.207523  -2.828033\n",
       "6   73.110266   84.742698  11.632431\n",
       "7   83.813392   74.084130  -9.729262\n",
       "8   53.935217   55.723489   1.788272\n",
       "9   74.187842   85.232007  11.044166\n",
       "10  87.378411   70.251934 -17.126476\n",
       "11  63.461068   65.280887   1.819819\n",
       "12  76.516080   75.380652  -1.135428\n",
       "13  84.669615   75.392870  -9.276744\n",
       "14  66.233295   61.424710  -4.808585\n",
       "15  52.337216   50.719589  -1.617627\n",
       "16  82.993889   83.142750   0.148861\n",
       "17  94.014981  118.591217  24.576237\n",
       "18  62.015421   65.562301   3.546880\n",
       "19  55.527303   41.412885 -14.114418"
      ]
     },
     "execution_count": 68,
     "metadata": {},
     "output_type": "execute_result"
    }
   ],
   "source": [
    "res_df['error'] = res_df['real'] - res_df['predicted']\n",
    "res_df"
   ]
  },
  {
   "cell_type": "code",
   "execution_count": null,
   "metadata": {
    "colab": {
     "base_uri": "https://localhost:8080/"
    },
    "executionInfo": {
     "elapsed": 5,
     "status": "ok",
     "timestamp": 1682675640966,
     "user": {
      "displayName": "T3Lab Vision",
      "userId": "14779383426442114373"
     },
     "user_tz": -120
    },
    "id": "teDN8-hb-oLj",
    "outputId": "33bc1b75-970c-4f43-ae86-e674ae87e4c5"
   },
   "outputs": [
    {
     "data": {
      "text/plain": [
       "-0.29298732665546756"
      ]
     },
     "execution_count": 69,
     "metadata": {},
     "output_type": "execute_result"
    }
   ],
   "source": [
    "res_df['error'].mean()"
   ]
  },
  {
   "cell_type": "code",
   "execution_count": null,
   "metadata": {
    "colab": {
     "base_uri": "https://localhost:8080/",
     "height": 599
    },
    "executionInfo": {
     "elapsed": 731,
     "status": "ok",
     "timestamp": 1682675642996,
     "user": {
      "displayName": "T3Lab Vision",
      "userId": "14779383426442114373"
     },
     "user_tz": -120
    },
    "id": "uUlZigEo-oLk",
    "outputId": "0689422e-5a26-4100-ea43-a30c13e49fa3"
   },
   "outputs": [
    {
     "data": {
      "image/png": "[encoded data removed]",
      "text/plain": [
       "<Figure size 1000x700 with 1 Axes>"
      ]
     },
     "metadata": {},
     "output_type": "display_data"
    }
   ],
   "source": [
    "length = y_pred.shape[0] #\n",
    "x = np.linspace(0,length,length)\n",
    "\n",
    "plt.figure(figsize=(10,7))\n",
    "plt.plot(x, y_test, label='real y')\n",
    "plt.plot(x, y_pred, label=\"predicted y'\")\n",
    "plt.legend(loc=2);"
   ]
  },
  {
   "cell_type": "code",
   "execution_count": null,
   "metadata": {
    "colab": {
     "base_uri": "https://localhost:8080/",
     "height": 542
    },
    "executionInfo": {
     "elapsed": 18,
     "status": "ok",
     "timestamp": 1682675642996,
     "user": {
      "displayName": "T3Lab Vision",
      "userId": "14779383426442114373"
     },
     "user_tz": -120
    },
    "id": "Bi8d7zYE-oLk",
    "outputId": "8d1a1654-a426-4f5c-8f6e-e9375fc09521"
   },
   "outputs": [
    {
     "data": {
      "application/vnd.plotly.v1+json": {
       "config": {
        "plotlyServerURL": "https://plot.ly"
       },
       "data": [
        {
         "mode": "lines",
         "name": "real",
         "type": "scatter",
         "x": [
          0,
          1.0526315789473684,
          2.1052631578947367,
          3.1578947368421053,
          4.2105263157894735,
          5.263157894736842,
          6.315789473684211,
          7.368421052631579,
          8.421052631578947,
          9.473684210526315,
          10.526315789473683,
          11.578947368421051,
          12.631578947368421,
          13.68421052631579,
          14.736842105263158,
          15.789473684210526,
          16.842105263157894,
          17.894736842105264,
          18.94736842105263,
          20
         ],
         "y": [
          58.56982471769287,
          61.68403752483363,
          79.55043667850761,
          91.48677800011014,
          79.64197304980874,
          80.20752313968276,
          84.74269780782622,
          74.08413011660252,
          55.723489260543914,
          85.23200734232567,
          70.25193441977159,
          65.28088692082282,
          75.38065166531236,
          75.39287042599496,
          61.42470980433912,
          50.71958891231208,
          83.14274979204346,
          118.5912173025225,
          65.56230126040037,
          41.41288530370056
         ]
        },
        {
         "mode": "lines",
         "name": "predicted",
         "type": "scatter",
         "x": [
          0,
          1.0526315789473684,
          2.1052631578947367,
          3.1578947368421053,
          4.2105263157894735,
          5.263157894736842,
          6.315789473684211,
          7.368421052631579,
          8.421052631578947,
          9.473684210526315,
          10.526315789473683,
          11.578947368421051,
          12.631578947368421,
          13.68421052631579,
          14.736842105263158,
          15.789473684210526,
          16.842105263157894,
          17.894736842105264,
          18.94736842105263,
          20
         ],
         "y": [
          65.52109535870603,
          62.766494514817204,
          81.62299176452305,
          83.81350296924153,
          76.98880363837607,
          83.03555606667146,
          73.1102664880658,
          83.8133924792666,
          53.935217238779224,
          74.18784175336364,
          87.37841061088574,
          63.46106795118577,
          76.5160800269463,
          84.66961457184729,
          66.2332952185426,
          52.33721557889185,
          82.99388884812994,
          94.01498068939841,
          62.015420807155344,
          55.527303403469396
         ]
        }
       ],
       "layout": {
        "height": 360,
        "template": {
         "data": {
          "bar": [
           {
            "error_x": {
             "color": "#2a3f5f"
            },
            "error_y": {
             "color": "#2a3f5f"
            },
            "marker": {
             "line": {
              "color": "#E5ECF6",
              "width": 0.5
             },
             "pattern": {
              "fillmode": "overlay",
              "size": 10,
              "solidity": 0.2
             }
            },
            "type": "bar"
           }
          ],
          "barpolar": [
           {
            "marker": {
             "line": {
              "color": "#E5ECF6",
              "width": 0.5
             },
             "pattern": {
              "fillmode": "overlay",
              "size": 10,
              "solidity": 0.2
             }
            },
            "type": "barpolar"
           }
          ],
          "carpet": [
           {
            "aaxis": {
             "endlinecolor": "#2a3f5f",
             "gridcolor": "white",
             "linecolor": "white",
             "minorgridcolor": "white",
             "startlinecolor": "#2a3f5f"
            },
            "baxis": {
             "endlinecolor": "#2a3f5f",
             "gridcolor": "white",
             "linecolor": "white",
             "minorgridcolor": "white",
             "startlinecolor": "#2a3f5f"
            },
            "type": "carpet"
           }
          ],
          "choropleth": [
           {
            "colorbar": {
             "outlinewidth": 0,
             "ticks": ""
            },
            "type": "choropleth"
           }
          ],
          "contour": [
           {
            "colorbar": {
             "outlinewidth": 0,
             "ticks": ""
            },
            "colorscale": [
             [
              0,
              "#0d0887"
             ],
             [
              0.1111111111111111,
              "#46039f"
             ],
             [
              0.2222222222222222,
              "#7201a8"
             ],
             [
              0.3333333333333333,
              "#9c179e"
             ],
             [
              0.4444444444444444,
              "#bd3786"
             ],
             [
              0.5555555555555556,
              "#d8576b"
             ],
             [
              0.6666666666666666,
              "#ed7953"
             ],
             [
              0.7777777777777778,
              "#fb9f3a"
             ],
             [
              0.8888888888888888,
              "#fdca26"
             ],
             [
              1,
              "#f0f921"
             ]
            ],
            "type": "contour"
           }
          ],
          "contourcarpet": [
           {
            "colorbar": {
             "outlinewidth": 0,
             "ticks": ""
            },
            "type": "contourcarpet"
           }
          ],
          "heatmap": [
           {
            "colorbar": {
             "outlinewidth": 0,
             "ticks": ""
            },
            "colorscale": [
             [
              0,
              "#0d0887"
             ],
             [
              0.1111111111111111,
              "#46039f"
             ],
             [
              0.2222222222222222,
              "#7201a8"
             ],
             [
              0.3333333333333333,
              "#9c179e"
             ],
             [
              0.4444444444444444,
              "#bd3786"
             ],
             [
              0.5555555555555556,
              "#d8576b"
             ],
             [
              0.6666666666666666,
              "#ed7953"
             ],
             [
              0.7777777777777778,
              "#fb9f3a"
             ],
             [
              0.8888888888888888,
              "#fdca26"
             ],
             [
              1,
              "#f0f921"
             ]
            ],
            "type": "heatmap"
           }
          ],
          "heatmapgl": [
           {
            "colorbar": {
             "outlinewidth": 0,
             "ticks": ""
            },
            "colorscale": [
             [
              0,
              "#0d0887"
             ],
             [
              0.1111111111111111,
              "#46039f"
             ],
             [
              0.2222222222222222,
              "#7201a8"
             ],
             [
              0.3333333333333333,
              "#9c179e"
             ],
             [
              0.4444444444444444,
              "#bd3786"
             ],
             [
              0.5555555555555556,
              "#d8576b"
             ],
             [
              0.6666666666666666,
              "#ed7953"
             ],
             [
              0.7777777777777778,
              "#fb9f3a"
             ],
             [
              0.8888888888888888,
              "#fdca26"
             ],
             [
              1,
              "#f0f921"
             ]
            ],
            "type": "heatmapgl"
           }
          ],
          "histogram": [
           {
            "marker": {
             "pattern": {
              "fillmode": "overlay",
              "size": 10,
              "solidity": 0.2
             }
            },
            "type": "histogram"
           }
          ],
          "histogram2d": [
           {
            "colorbar": {
             "outlinewidth": 0,
             "ticks": ""
            },
            "colorscale": [
             [
              0,
              "#0d0887"
             ],
             [
              0.1111111111111111,
              "#46039f"
             ],
             [
              0.2222222222222222,
              "#7201a8"
             ],
             [
              0.3333333333333333,
              "#9c179e"
             ],
             [
              0.4444444444444444,
              "#bd3786"
             ],
             [
              0.5555555555555556,
              "#d8576b"
             ],
             [
              0.6666666666666666,
              "#ed7953"
             ],
             [
              0.7777777777777778,
              "#fb9f3a"
             ],
             [
              0.8888888888888888,
              "#fdca26"
             ],
             [
              1,
              "#f0f921"
             ]
            ],
            "type": "histogram2d"
           }
          ],
          "histogram2dcontour": [
           {
            "colorbar": {
             "outlinewidth": 0,
             "ticks": ""
            },
            "colorscale": [
             [
              0,
              "#0d0887"
             ],
             [
              0.1111111111111111,
              "#46039f"
             ],
             [
              0.2222222222222222,
              "#7201a8"
             ],
             [
              0.3333333333333333,
              "#9c179e"
             ],
             [
              0.4444444444444444,
              "#bd3786"
             ],
             [
              0.5555555555555556,
              "#d8576b"
             ],
             [
              0.6666666666666666,
              "#ed7953"
             ],
             [
              0.7777777777777778,
              "#fb9f3a"
             ],
             [
              0.8888888888888888,
              "#fdca26"
             ],
             [
              1,
              "#f0f921"
             ]
            ],
            "type": "histogram2dcontour"
           }
          ],
          "mesh3d": [
           {
            "colorbar": {
             "outlinewidth": 0,
             "ticks": ""
            },
            "type": "mesh3d"
           }
          ],
          "parcoords": [
           {
            "line": {
             "colorbar": {
              "outlinewidth": 0,
              "ticks": ""
             }
            },
            "type": "parcoords"
           }
          ],
          "pie": [
           {
            "automargin": true,
            "type": "pie"
           }
          ],
          "scatter": [
           {
            "fillpattern": {
             "fillmode": "overlay",
             "size": 10,
             "solidity": 0.2
            },
            "type": "scatter"
           }
          ],
          "scatter3d": [
           {
            "line": {
             "colorbar": {
              "outlinewidth": 0,
              "ticks": ""
             }
            },
            "marker": {
             "colorbar": {
              "outlinewidth": 0,
              "ticks": ""
             }
            },
            "type": "scatter3d"
           }
          ],
          "scattercarpet": [
           {
            "marker": {
             "colorbar": {
              "outlinewidth": 0,
              "ticks": ""
             }
            },
            "type": "scattercarpet"
           }
          ],
          "scattergeo": [
           {
            "marker": {
             "colorbar": {
              "outlinewidth": 0,
              "ticks": ""
             }
            },
            "type": "scattergeo"
           }
          ],
          "scattergl": [
           {
            "marker": {
             "colorbar": {
              "outlinewidth": 0,
              "ticks": ""
             }
            },
            "type": "scattergl"
           }
          ],
          "scattermapbox": [
           {
            "marker": {
             "colorbar": {
              "outlinewidth": 0,
              "ticks": ""
             }
            },
            "type": "scattermapbox"
           }
          ],
          "scatterpolar": [
           {
            "marker": {
             "colorbar": {
              "outlinewidth": 0,
              "ticks": ""
             }
            },
            "type": "scatterpolar"
           }
          ],
          "scatterpolargl": [
           {
            "marker": {
             "colorbar": {
              "outlinewidth": 0,
              "ticks": ""
             }
            },
            "type": "scatterpolargl"
           }
          ],
          "scatterternary": [
           {
            "marker": {
             "colorbar": {
              "outlinewidth": 0,
              "ticks": ""
             }
            },
            "type": "scatterternary"
           }
          ],
          "surface": [
           {
            "colorbar": {
             "outlinewidth": 0,
             "ticks": ""
            },
            "colorscale": [
             [
              0,
              "#0d0887"
             ],
             [
              0.1111111111111111,
              "#46039f"
             ],
             [
              0.2222222222222222,
              "#7201a8"
             ],
             [
              0.3333333333333333,
              "#9c179e"
             ],
             [
              0.4444444444444444,
              "#bd3786"
             ],
             [
              0.5555555555555556,
              "#d8576b"
             ],
             [
              0.6666666666666666,
              "#ed7953"
             ],
             [
              0.7777777777777778,
              "#fb9f3a"
             ],
             [
              0.8888888888888888,
              "#fdca26"
             ],
             [
              1,
              "#f0f921"
             ]
            ],
            "type": "surface"
           }
          ],
          "table": [
           {
            "cells": {
             "fill": {
              "color": "#EBF0F8"
             },
             "line": {
              "color": "white"
             }
            },
            "header": {
             "fill": {
              "color": "#C8D4E3"
             },
             "line": {
              "color": "white"
             }
            },
            "type": "table"
           }
          ]
         },
         "layout": {
          "annotationdefaults": {
           "arrowcolor": "#2a3f5f",
           "arrowhead": 0,
           "arrowwidth": 1
          },
          "autotypenumbers": "strict",
          "coloraxis": {
           "colorbar": {
            "outlinewidth": 0,
            "ticks": ""
           }
          },
          "colorscale": {
           "diverging": [
            [
             0,
             "#8e0152"
            ],
            [
             0.1,
             "#c51b7d"
            ],
            [
             0.2,
             "#de77ae"
            ],
            [
             0.3,
             "#f1b6da"
            ],
            [
             0.4,
             "#fde0ef"
            ],
            [
             0.5,
             "#f7f7f7"
            ],
            [
             0.6,
             "#e6f5d0"
            ],
            [
             0.7,
             "#b8e186"
            ],
            [
             0.8,
             "#7fbc41"
            ],
            [
             0.9,
             "#4d9221"
            ],
            [
             1,
             "#276419"
            ]
           ],
           "sequential": [
            [
             0,
             "#0d0887"
            ],
            [
             0.1111111111111111,
             "#46039f"
            ],
            [
             0.2222222222222222,
             "#7201a8"
            ],
            [
             0.3333333333333333,
             "#9c179e"
            ],
            [
             0.4444444444444444,
             "#bd3786"
            ],
            [
             0.5555555555555556,
             "#d8576b"
            ],
            [
             0.6666666666666666,
             "#ed7953"
            ],
            [
             0.7777777777777778,
             "#fb9f3a"
            ],
            [
             0.8888888888888888,
             "#fdca26"
            ],
            [
             1,
             "#f0f921"
            ]
           ],
           "sequentialminus": [
            [
             0,
             "#0d0887"
            ],
            [
             0.1111111111111111,
             "#46039f"
            ],
            [
             0.2222222222222222,
             "#7201a8"
            ],
            [
             0.3333333333333333,
             "#9c179e"
            ],
            [
             0.4444444444444444,
             "#bd3786"
            ],
            [
             0.5555555555555556,
             "#d8576b"
            ],
            [
             0.6666666666666666,
             "#ed7953"
            ],
            [
             0.7777777777777778,
             "#fb9f3a"
            ],
            [
             0.8888888888888888,
             "#fdca26"
            ],
            [
             1,
             "#f0f921"
            ]
           ]
          },
          "colorway": [
           "#636efa",
           "#EF553B",
           "#00cc96",
           "#ab63fa",
           "#FFA15A",
           "#19d3f3",
           "#FF6692",
           "#B6E880",
           "#FF97FF",
           "#FECB52"
          ],
          "font": {
           "color": "#2a3f5f"
          },
          "geo": {
           "bgcolor": "white",
           "lakecolor": "white",
           "landcolor": "#E5ECF6",
           "showlakes": true,
           "showland": true,
           "subunitcolor": "white"
          },
          "hoverlabel": {
           "align": "left"
          },
          "hovermode": "closest",
          "mapbox": {
           "style": "light"
          },
          "paper_bgcolor": "white",
          "plot_bgcolor": "#E5ECF6",
          "polar": {
           "angularaxis": {
            "gridcolor": "white",
            "linecolor": "white",
            "ticks": ""
           },
           "bgcolor": "#E5ECF6",
           "radialaxis": {
            "gridcolor": "white",
            "linecolor": "white",
            "ticks": ""
           }
          },
          "scene": {
           "xaxis": {
            "backgroundcolor": "#E5ECF6",
            "gridcolor": "white",
            "gridwidth": 2,
            "linecolor": "white",
            "showbackground": true,
            "ticks": "",
            "zerolinecolor": "white"
           },
           "yaxis": {
            "backgroundcolor": "#E5ECF6",
            "gridcolor": "white",
            "gridwidth": 2,
            "linecolor": "white",
            "showbackground": true,
            "ticks": "",
            "zerolinecolor": "white"
           },
           "zaxis": {
            "backgroundcolor": "#E5ECF6",
            "gridcolor": "white",
            "gridwidth": 2,
            "linecolor": "white",
            "showbackground": true,
            "ticks": "",
            "zerolinecolor": "white"
           }
          },
          "shapedefaults": {
           "line": {
            "color": "#2a3f5f"
           }
          },
          "ternary": {
           "aaxis": {
            "gridcolor": "white",
            "linecolor": "white",
            "ticks": ""
           },
           "baxis": {
            "gridcolor": "white",
            "linecolor": "white",
            "ticks": ""
           },
           "bgcolor": "#E5ECF6",
           "caxis": {
            "gridcolor": "white",
            "linecolor": "white",
            "ticks": ""
           }
          },
          "title": {
           "x": 0.05
          },
          "xaxis": {
           "automargin": true,
           "gridcolor": "white",
           "linecolor": "white",
           "ticks": "",
           "title": {
            "standoff": 15
           },
           "zerolinecolor": "white",
           "zerolinewidth": 2
          },
          "yaxis": {
           "automargin": true,
           "gridcolor": "white",
           "linecolor": "white",
           "ticks": "",
           "title": {
            "standoff": 15
           },
           "zerolinecolor": "white",
           "zerolinewidth": 2
          }
         }
        },
        "title": {
         "text": "Error from prediction on Test Set"
        },
        "width": 900,
        "xaxis": {
         "autorange": true,
         "range": [
          0,
          20
         ],
         "title": {
          "text": "Obeservation"
         },
         "type": "linear"
        },
        "yaxis": {
         "autorange": true,
         "range": [
          37.1252001926549,
          122.87890241356816
         ],
         "title": {
          "text": "Value"
         },
         "type": "linear"
        }
       }
      },
      "image/png": "[encoded data removed]"
     },
     "metadata": {},
     "output_type": "display_data"
    }
   ],
   "source": [
    "import plotly.graph_objects as go\n",
    "\n",
    "fig = go.Figure()\n",
    "fig.add_trace(go.Scatter(x=x, y=y_test, name=\"real\", mode=\"lines\"))\n",
    "fig.add_trace(go.Scatter(x=x, y=y_pred, name=\"predicted\", mode=\"lines\"))\n",
    "fig.update_layout(title=\"Error from prediction on Test Set\", xaxis_title=\"Obeservation\", yaxis_title=\"Value\",width=900)\n",
    "fig.show()"
   ]
  },
  {
   "cell_type": "code",
   "execution_count": null,
   "metadata": {
    "colab": {
     "base_uri": "https://localhost:8080/"
    },
    "executionInfo": {
     "elapsed": 5,
     "status": "ok",
     "timestamp": 1682675954564,
     "user": {
      "displayName": "T3Lab Vision",
      "userId": "14779383426442114373"
     },
     "user_tz": -120
    },
    "id": "nkEaFo0hSkDL",
    "outputId": "ae8dbbe8-04e0-49de-93ec-278b33dbe6f7"
   },
   "outputs": [
    {
     "data": {
      "text/plain": [
       "(20,)"
      ]
     },
     "execution_count": 72,
     "metadata": {},
     "output_type": "execute_result"
    }
   ],
   "source": [
    "y_test.shape"
   ]
  },
  {
   "cell_type": "code",
   "execution_count": null,
   "metadata": {
    "colab": {
     "base_uri": "https://localhost:8080/"
    },
    "executionInfo": {
     "elapsed": 9,
     "status": "ok",
     "timestamp": 1682675965113,
     "user": {
      "displayName": "T3Lab Vision",
      "userId": "14779383426442114373"
     },
     "user_tz": -120
    },
    "id": "pYe742aRTS-8",
    "outputId": "faf373b2-1c95-478b-dd65-b1263ea9db33"
   },
   "outputs": [
    {
     "data": {
      "text/plain": [
       "(20,)"
      ]
     },
     "execution_count": 73,
     "metadata": {},
     "output_type": "execute_result"
    }
   ],
   "source": [
    "y_pred.shape"
   ]
  },
  {
   "cell_type": "code",
   "execution_count": null,
   "metadata": {
    "colab": {
     "base_uri": "https://localhost:8080/",
     "height": 696
    },
    "executionInfo": {
     "elapsed": 1055,
     "status": "ok",
     "timestamp": 1682676042654,
     "user": {
      "displayName": "T3Lab Vision",
      "userId": "14779383426442114373"
     },
     "user_tz": -120
    },
    "id": "HMkCCAS1Q2-7",
    "outputId": "6432c66c-3388-42cf-d393-531443de5025"
   },
   "outputs": [
    {
     "data": {
      "image/png": "[encoded data removed]",
      "text/plain": [
       "<Figure size 1000x800 with 1 Axes>"
      ]
     },
     "metadata": {},
     "output_type": "display_data"
    }
   ],
   "source": [
    "plt.figure(figsize = (10, 8))\n",
    "\n",
    "plt.scatter(X_train, y_train,label='Training_set')\n",
    "plt.scatter(X_test, y_test,color='orange',label='Test_set')\n",
    "plt.plot(X_test, y_pred,color='red',label='regression line')\n",
    "plt.xlabel('Hours of study')\n",
    "plt.ylabel('Test scores')\n",
    "plt.legend();"
   ]
  },
  {
   "cell_type": "markdown",
   "metadata": {
    "id": "P-kvtONV-oLk"
   },
   "source": [
    "## Ripetere esercizio di ML Linear Regression con dati generati random secondo l'equazione y=3x+noise"
   ]
  },
  {
   "cell_type": "code",
   "execution_count": 3,
   "metadata": {
    "id": "Y_IbJCMf-oLk"
   },
   "outputs": [],
   "source": [
    "import numpy as np\n",
    "generate_random = np.random.RandomState(667)\n",
    "x = 10 * generate_random.rand(100)\n",
    "\n",
    "noise = np.random.randn(100) #... normally distributed\n",
    "y =  3 * x + noise"
   ]
  },
  {
   "cell_type": "code",
   "execution_count": null,
   "metadata": {
    "id": "pKYnt24nLtat"
   },
   "outputs": [],
   "source": []
  },
  {
   "cell_type": "code",
   "execution_count": 6,
   "metadata": {
    "colab": {
     "base_uri": "https://localhost:8080/",
     "height": 676
    },
    "executionInfo": {
     "elapsed": 563,
     "status": "ok",
     "timestamp": 1682676165212,
     "user": {
      "displayName": "T3Lab Vision",
      "userId": "14779383426442114373"
     },
     "user_tz": -120
    },
    "id": "Of7tuIhs-oLk",
    "outputId": "00dc6337-61c7-47d4-bbb2-208e2ae49ceb"
   },
   "outputs": [
    {
     "data": {
      "image/png": "[encoded data removed]",
      "text/plain": [
       "<Figure size 1000x800 with 1 Axes>"
      ]
     },
     "metadata": {},
     "output_type": "display_data"
    }
   ],
   "source": [
    "plt.figure(figsize = (10, 8))\n",
    "plt.scatter(x, y);"
   ]
  },
  {
   "cell_type": "code",
   "execution_count": null,
   "metadata": {
    "id": "3MnXIppu-oLk"
   },
   "outputs": [],
   "source": [
    "## definire vettore Feature e target X y ..."
   ]
  },
  {
   "cell_type": "code",
   "execution_count": null,
   "metadata": {
    "id": "xxkbX0Ub-r4C"
   },
   "outputs": [],
   "source": []
  },
  {
   "cell_type": "markdown",
   "metadata": {
    "id": "4Fasc4Mx-syg"
   },
   "source": [
    "## Modello di Regressione Lineare Multipla\n",
    "\n",
    "Nel caso della regressione lineare multipla, ci sono più variabili indipendenti che influenzano la variabile dipendente. Il modello può essere rappresentato dall'equazione:\n",
    "\n",
    "$Y = {\\beta_0} + {\\beta_1}X_1 + {\\beta_2}X_2 + {\\ldots} + {\\beta_p}X_p + {\\epsilon}$\n",
    "\n",
    "- Y è la variabile dipendente.\n",
    "- X_1, X_2, ${\\ldots}$ , X_p sono le variabili indipendenti.\n",
    "- ${\\beta_0}$ è ancora l'intercetta.\n",
    "- $({\\beta_1}, {\\beta_2}, {\\ldots}, {\\beta_p})$ sono i coefficienti di regressione associati a ciascuna variabile indipendente.\n",
    "- ${\\epsilon}$ rappresenta l'errore residuo.\n",
    "\n",
    "L'obiettivo è trovare i valori ottimali dei coefficienti ${\\beta}$ in modo che il modello si adatti meglio ai dati osservati, tenendo conto delle influenze di tutte le variabili indipendenti.\n",
    "\n",
    "La regressione lineare è ampiamente utilizzata nell'analisi dei dati, nell'ambito della statistica e nell'applicazione pratica di previsioni e modellazione. È un metodo fondamentale per comprendere e prevedere le relazioni tra le variabili in molte discipline, compresa l'economia, la scienza, la finanza e molti altri settori."
   ]
  },
  {
   "cell_type": "code",
   "execution_count": null,
   "metadata": {
    "id": "ivTcWHgW-sak"
   },
   "outputs": [],
   "source": [
    "import numpy as np\n",
    "import pandas as pd\n",
    "from sklearn.linear_model import LinearRegression\n",
    "import plotly.express as px\n",
    "import plotly.graph_objs as go\n",
    "\n",
    "# create sample data\n",
    "np.random.seed(667)\n",
    "n_samples = 100\n",
    "x1 = np.random.randn(n_samples)\n",
    "x2 = np.random.randn(n_samples)\n",
    "y = 2*x1 + 3*x2 + np.random.randn(n_samples) # bisogna conoscere l'equazione, il modello ritorneà dei coefficienti\n",
    "\n",
    "# create pandas dataframe\n",
    "df = pd.DataFrame({'x1': x1, 'x2': x2, 'y': y})\n",
    "\n",
    "# perform multiple linear regression\n",
    "X = df[['x1', 'x2']]\n",
    "y = df['y']"
   ]
  },
  {
   "cell_type": "code",
   "execution_count": null,
   "metadata": {
    "id": "TSDwCwG1Ltav",
    "outputId": "36a289b1-6d16-433f-c318-1f456be0aed8"
   },
   "outputs": [
    {
     "data": {
      "application/vnd.plotly.v1+json": {
       "config": {
        "plotlyServerURL": "https://plot.ly"
       },
       "data": [
        {
         "mode": "markers",
         "name": "Data Points",
         "type": "scatter3d",
         "x": [
          -1.4172385595793309,
          -0.06283052189777874,
          -2.2412373314972487,
          0.48384505095893443,
          -0.7080385962618923,
          0.9215030619430522,
          0.279037592644775,
          -2.119163870898829,
          0.9943198125892452,
          -0.910619100304985,
          0.45828080279274946,
          0.7569159391786338,
          0.5215321820052851,
          -0.8799627406533369,
          0.3345562902060521,
          0.6402031389263764,
          1.4538908973521911,
          0.6189735929042963,
          0.2220062456349815,
          -1.707783073746772,
          -2.126461082161626,
          -0.7726259564887956,
          -0.18116755142155969,
          0.714367026497984,
          1.0001469028394063,
          0.10439277208280692,
          -0.12574068288283943,
          1.3023536028298244,
          -1.10541939773409,
          2.511284946298746,
          -0.7443313548772162,
          1.7051677960431466,
          -0.4168100652240883,
          0.6505048303005612,
          -2.5568796592185414,
          1.3364871541568866,
          -0.311511729501044,
          -0.5736642112509386,
          1.1228004498121111,
          1.0616813732119723,
          0.26621492684138365,
          -1.9920474961106156,
          0.3951334409403765,
          -0.6561715168347078,
          0.819037355921508,
          -0.05809867322378438,
          -0.8330864492249339,
          -0.08252598056212701,
          0.13914621306590544,
          0.41852362542639676,
          -1.1408606443474114,
          -0.5878041614275794,
          -1.0936834968776588,
          -0.8616036065771988,
          0.258242544270413,
          0.32015980366181623,
          1.4571001050351782,
          -0.007329954149133316,
          -0.10019682591624053,
          -2.192906090685638,
          -1.3708415108314793,
          0.550312986874161,
          0.6317800701743628,
          0.8146611569522129,
          1.2369993833632706,
          -0.8126173704494152,
          0.33302733955708697,
          0.531996451447422,
          -0.5626211849583285,
          -1.2819179939886316,
          1.403316834512285,
          1.6742288924778435,
          0.9800448636364673,
          0.6222089500909979,
          1.444115155520889,
          -0.5849998464266416,
          0.26804933236481604,
          1.0577508006438086,
          -0.6756310258478649,
          3.4269082510953384,
          1.6595990638833267,
          -0.15352022344105068,
          0.6649082111691422,
          1.0793815011464292,
          0.4250416492995151,
          -0.4854215348226394,
          -0.5500258976719092,
          -1.181145578774351,
          -1.0713403635338024,
          -1.4615217040830266,
          -0.8445300579610822,
          -0.33334884711321017,
          -0.937261570501364,
          0.2752631813984363,
          -0.725280911290511,
          0.6571076687786127,
          -1.2336237868236948,
          -0.1509593635600142,
          -0.8792064650413062,
          1.3280060712169204
         ],
         "y": [
          0.21020450259986512,
          0.5236267335331561,
          -0.3682900929726525,
          -0.04716003311714687,
          1.0939543934329716,
          0.04470760308318094,
          0.25111741220539235,
          -0.05920937169440573,
          0.08778594896081705,
          0.332767970891155,
          -0.728159082866778,
          1.3430401868052386,
          -1.0288760472163825,
          0.20256212602213766,
          0.2750100459821727,
          1.0797323136741293,
          -2.2539017546239286,
          -0.21551957734251345,
          -0.7755482692786538,
          -0.48359133656203596,
          -1.612696814714512,
          -0.8871180204317737,
          -0.727056006340436,
          0.7896854973058917,
          -0.723373069076448,
          0.08743484851243309,
          -2.1628531217701283,
          1.0687333689659608,
          0.07084134941526599,
          1.2428025611142286,
          -0.49678087266620996,
          -1.6212701508763714,
          -0.056601156953486505,
          0.02066851434380983,
          1.1956329747553438,
          1.7702420736871058,
          0.05684733742196951,
          0.42729762002708305,
          1.6490456358689436,
          0.5109365010974578,
          -2.0835141182709123,
          -1.5488740022511762,
          -0.8863354131619572,
          -0.6132482634103854,
          0.46485320162352634,
          -0.13913813525048446,
          1.4955467337028077,
          -1.352515362576303,
          0.5007373345822468,
          -1.2103136621783948,
          -0.17605401822014416,
          0.2503028669513215,
          -0.17804921781062458,
          0.37155162330771097,
          0.14259728862881402,
          0.3297156595986733,
          -1.143123223510206,
          1.2575967830235397,
          -0.04667446712726502,
          1.1323875611351064,
          1.855105775270352,
          -1.3333013566232725,
          2.682863559275354,
          0.30838267742764963,
          -1.660249925031375,
          1.2321414243892035,
          -0.7135424854972148,
          0.1784061844704105,
          -0.19010784050792756,
          1.3180961430839708,
          0.3487717024294055,
          1.2741645297565243,
          -0.6012421777268189,
          0.08453825957361831,
          1.3145439195511697,
          1.039251073426557,
          1.219916984310899,
          0.5599901345554184,
          0.0013699950208538485,
          -0.4465616735973089,
          -0.6762704675033594,
          -0.41841745163912164,
          1.2013968424780523,
          0.5419725692956652,
          -0.3906902844319932,
          0.7687547274964303,
          0.4206860690735865,
          1.5272233282092738,
          -1.343148296961762,
          1.6474485275924657,
          -0.49799286529956144,
          -0.25897936351069645,
          -0.8371127739276418,
          0.1302014901357113,
          -0.24611591047362308,
          1.9195471361133805,
          -0.35049757093968004,
          0.22880567719388592,
          0.1264996991462721,
          -0.3240828020505757
         ],
         "z": [
          -2.188711936893867,
          0.08155863978681643,
          -5.6849840661178455,
          2.6453737259074757,
          1.8678629220201244,
          0.3507448290797843,
          0.8681354844359443,
          -4.161520003343212,
          1.8956881805662387,
          -3.131602456075405,
          -3.5285627764151117,
          6.985359389154339,
          -3.45650069918106,
          -2.93317087413589,
          1.7279199652912456,
          6.057400088854265,
          -3.5241607748991233,
          0.3107221439208233,
          -3.0309454344031397,
          -6.837358839478638,
          -9.495364356161442,
          -4.828613416466062,
          -2.1450845387300066,
          4.271223410137519,
          -0.961817571640978,
          -0.2861059560670829,
          -7.577358170291369,
          5.719793313237752,
          -2.462808981899133,
          9.194319366768571,
          -3.2483525089075354,
          -3.0050948463014375,
          -0.6102688325782712,
          0.8418109605877317,
          -1.1119338366982778,
          7.81733413634239,
          -1.5334308535321768,
          0.13350423587494717,
          6.724892933969654,
          5.895581220085839,
          -4.779229045283519,
          -9.969581225217201,
          0.1744980247133341,
          -2.1330238262714207,
          2.7317214450362215,
          -0.9233905832252276,
          2.377562837220998,
          -5.453706725962667,
          3.5710536458677637,
          -2.3593472759737075,
          -2.850044617664957,
          -0.7385385726784887,
          -2.1348395267327964,
          -1.2236916334568275,
          -0.45398148442552033,
          2.314319734847753,
          -1.0970282108608236,
          3.343086087419114,
          0.15980821331775413,
          -0.44106739823677477,
          2.072318372651532,
          -2.791791958464549,
          9.159821544981057,
          2.4802874412369733,
          -1.8139691997161673,
          2.5595304756627044,
          -0.8006984971580802,
          2.978265562681935,
          -1.927128290429701,
          1.152050489608091,
          5.460017027869102,
          8.32929465115967,
          -0.2384522414058899,
          1.411901812605564,
          5.242587539890594,
          1.773076516671293,
          4.323133429608097,
          3.980921863038124,
          -0.9465769810040331,
          5.0084484430932035,
          -0.19086469439509623,
          -1.8387567500765605,
          4.257075292695898,
          4.802526735263398,
          2.4610404749346477,
          1.0363838871434432,
          -0.38033125647664334,
          2.2147273073571494,
          -4.4833842466236575,
          0.674722072434738,
          -2.5045569855866887,
          0.40487394882795424,
          -3.295438331302396,
          1.359752823451134,
          -1.4279041409213242,
          6.989537267118475,
          -3.2482246995334623,
          2.3120387620569347,
          -0.4915733757364352,
          1.1346534852014336
         ]
        }
       ],
       "layout": {
        "autosize": true,
        "scene": {
         "aspectmode": "auto",
         "aspectratio": {
          "x": 0.7233391933440728,
          "y": 0.5967717929523993,
          "z": 2.31659286781203
         },
         "xaxis": {
          "title": {
           "text": "x1"
          },
          "type": "linear"
         },
         "yaxis": {
          "title": {
           "text": "x2"
          },
          "type": "linear"
         },
         "zaxis": {
          "title": {
           "text": "y"
          },
          "type": "linear"
         }
        },
        "template": {
         "data": {
          "bar": [
           {
            "error_x": {
             "color": "#2a3f5f"
            },
            "error_y": {
             "color": "#2a3f5f"
            },
            "marker": {
             "line": {
              "color": "#E5ECF6",
              "width": 0.5
             },
             "pattern": {
              "fillmode": "overlay",
              "size": 10,
              "solidity": 0.2
             }
            },
            "type": "bar"
           }
          ],
          "barpolar": [
           {
            "marker": {
             "line": {
              "color": "#E5ECF6",
              "width": 0.5
             },
             "pattern": {
              "fillmode": "overlay",
              "size": 10,
              "solidity": 0.2
             }
            },
            "type": "barpolar"
           }
          ],
          "carpet": [
           {
            "aaxis": {
             "endlinecolor": "#2a3f5f",
             "gridcolor": "white",
             "linecolor": "white",
             "minorgridcolor": "white",
             "startlinecolor": "#2a3f5f"
            },
            "baxis": {
             "endlinecolor": "#2a3f5f",
             "gridcolor": "white",
             "linecolor": "white",
             "minorgridcolor": "white",
             "startlinecolor": "#2a3f5f"
            },
            "type": "carpet"
           }
          ],
          "choropleth": [
           {
            "colorbar": {
             "outlinewidth": 0,
             "ticks": ""
            },
            "type": "choropleth"
           }
          ],
          "contour": [
           {
            "colorbar": {
             "outlinewidth": 0,
             "ticks": ""
            },
            "colorscale": [
             [
              0,
              "#0d0887"
             ],
             [
              0.1111111111111111,
              "#46039f"
             ],
             [
              0.2222222222222222,
              "#7201a8"
             ],
             [
              0.3333333333333333,
              "#9c179e"
             ],
             [
              0.4444444444444444,
              "#bd3786"
             ],
             [
              0.5555555555555556,
              "#d8576b"
             ],
             [
              0.6666666666666666,
              "#ed7953"
             ],
             [
              0.7777777777777778,
              "#fb9f3a"
             ],
             [
              0.8888888888888888,
              "#fdca26"
             ],
             [
              1,
              "#f0f921"
             ]
            ],
            "type": "contour"
           }
          ],
          "contourcarpet": [
           {
            "colorbar": {
             "outlinewidth": 0,
             "ticks": ""
            },
            "type": "contourcarpet"
           }
          ],
          "heatmap": [
           {
            "colorbar": {
             "outlinewidth": 0,
             "ticks": ""
            },
            "colorscale": [
             [
              0,
              "#0d0887"
             ],
             [
              0.1111111111111111,
              "#46039f"
             ],
             [
              0.2222222222222222,
              "#7201a8"
             ],
             [
              0.3333333333333333,
              "#9c179e"
             ],
             [
              0.4444444444444444,
              "#bd3786"
             ],
             [
              0.5555555555555556,
              "#d8576b"
             ],
             [
              0.6666666666666666,
              "#ed7953"
             ],
             [
              0.7777777777777778,
              "#fb9f3a"
             ],
             [
              0.8888888888888888,
              "#fdca26"
             ],
             [
              1,
              "#f0f921"
             ]
            ],
            "type": "heatmap"
           }
          ],
          "heatmapgl": [
           {
            "colorbar": {
             "outlinewidth": 0,
             "ticks": ""
            },
            "colorscale": [
             [
              0,
              "#0d0887"
             ],
             [
              0.1111111111111111,
              "#46039f"
             ],
             [
              0.2222222222222222,
              "#7201a8"
             ],
             [
              0.3333333333333333,
              "#9c179e"
             ],
             [
              0.4444444444444444,
              "#bd3786"
             ],
             [
              0.5555555555555556,
              "#d8576b"
             ],
             [
              0.6666666666666666,
              "#ed7953"
             ],
             [
              0.7777777777777778,
              "#fb9f3a"
             ],
             [
              0.8888888888888888,
              "#fdca26"
             ],
             [
              1,
              "#f0f921"
             ]
            ],
            "type": "heatmapgl"
           }
          ],
          "histogram": [
           {
            "marker": {
             "pattern": {
              "fillmode": "overlay",
              "size": 10,
              "solidity": 0.2
             }
            },
            "type": "histogram"
           }
          ],
          "histogram2d": [
           {
            "colorbar": {
             "outlinewidth": 0,
             "ticks": ""
            },
            "colorscale": [
             [
              0,
              "#0d0887"
             ],
             [
              0.1111111111111111,
              "#46039f"
             ],
             [
              0.2222222222222222,
              "#7201a8"
             ],
             [
              0.3333333333333333,
              "#9c179e"
             ],
             [
              0.4444444444444444,
              "#bd3786"
             ],
             [
              0.5555555555555556,
              "#d8576b"
             ],
             [
              0.6666666666666666,
              "#ed7953"
             ],
             [
              0.7777777777777778,
              "#fb9f3a"
             ],
             [
              0.8888888888888888,
              "#fdca26"
             ],
             [
              1,
              "#f0f921"
             ]
            ],
            "type": "histogram2d"
           }
          ],
          "histogram2dcontour": [
           {
            "colorbar": {
             "outlinewidth": 0,
             "ticks": ""
            },
            "colorscale": [
             [
              0,
              "#0d0887"
             ],
             [
              0.1111111111111111,
              "#46039f"
             ],
             [
              0.2222222222222222,
              "#7201a8"
             ],
             [
              0.3333333333333333,
              "#9c179e"
             ],
             [
              0.4444444444444444,
              "#bd3786"
             ],
             [
              0.5555555555555556,
              "#d8576b"
             ],
             [
              0.6666666666666666,
              "#ed7953"
             ],
             [
              0.7777777777777778,
              "#fb9f3a"
             ],
             [
              0.8888888888888888,
              "#fdca26"
             ],
             [
              1,
              "#f0f921"
             ]
            ],
            "type": "histogram2dcontour"
           }
          ],
          "mesh3d": [
           {
            "colorbar": {
             "outlinewidth": 0,
             "ticks": ""
            },
            "type": "mesh3d"
           }
          ],
          "parcoords": [
           {
            "line": {
             "colorbar": {
              "outlinewidth": 0,
              "ticks": ""
             }
            },
            "type": "parcoords"
           }
          ],
          "pie": [
           {
            "automargin": true,
            "type": "pie"
           }
          ],
          "scatter": [
           {
            "fillpattern": {
             "fillmode": "overlay",
             "size": 10,
             "solidity": 0.2
            },
            "type": "scatter"
           }
          ],
          "scatter3d": [
           {
            "line": {
             "colorbar": {
              "outlinewidth": 0,
              "ticks": ""
             }
            },
            "marker": {
             "colorbar": {
              "outlinewidth": 0,
              "ticks": ""
             }
            },
            "type": "scatter3d"
           }
          ],
          "scattercarpet": [
           {
            "marker": {
             "colorbar": {
              "outlinewidth": 0,
              "ticks": ""
             }
            },
            "type": "scattercarpet"
           }
          ],
          "scattergeo": [
           {
            "marker": {
             "colorbar": {
              "outlinewidth": 0,
              "ticks": ""
             }
            },
            "type": "scattergeo"
           }
          ],
          "scattergl": [
           {
            "marker": {
             "colorbar": {
              "outlinewidth": 0,
              "ticks": ""
             }
            },
            "type": "scattergl"
           }
          ],
          "scattermapbox": [
           {
            "marker": {
             "colorbar": {
              "outlinewidth": 0,
              "ticks": ""
             }
            },
            "type": "scattermapbox"
           }
          ],
          "scatterpolar": [
           {
            "marker": {
             "colorbar": {
              "outlinewidth": 0,
              "ticks": ""
             }
            },
            "type": "scatterpolar"
           }
          ],
          "scatterpolargl": [
           {
            "marker": {
             "colorbar": {
              "outlinewidth": 0,
              "ticks": ""
             }
            },
            "type": "scatterpolargl"
           }
          ],
          "scatterternary": [
           {
            "marker": {
             "colorbar": {
              "outlinewidth": 0,
              "ticks": ""
             }
            },
            "type": "scatterternary"
           }
          ],
          "surface": [
           {
            "colorbar": {
             "outlinewidth": 0,
             "ticks": ""
            },
            "colorscale": [
             [
              0,
              "#0d0887"
             ],
             [
              0.1111111111111111,
              "#46039f"
             ],
             [
              0.2222222222222222,
              "#7201a8"
             ],
             [
              0.3333333333333333,
              "#9c179e"
             ],
             [
              0.4444444444444444,
              "#bd3786"
             ],
             [
              0.5555555555555556,
              "#d8576b"
             ],
             [
              0.6666666666666666,
              "#ed7953"
             ],
             [
              0.7777777777777778,
              "#fb9f3a"
             ],
             [
              0.8888888888888888,
              "#fdca26"
             ],
             [
              1,
              "#f0f921"
             ]
            ],
            "type": "surface"
           }
          ],
          "table": [
           {
            "cells": {
             "fill": {
              "color": "#EBF0F8"
             },
             "line": {
              "color": "white"
             }
            },
            "header": {
             "fill": {
              "color": "#C8D4E3"
             },
             "line": {
              "color": "white"
             }
            },
            "type": "table"
           }
          ]
         },
         "layout": {
          "annotationdefaults": {
           "arrowcolor": "#2a3f5f",
           "arrowhead": 0,
           "arrowwidth": 1
          },
          "autotypenumbers": "strict",
          "coloraxis": {
           "colorbar": {
            "outlinewidth": 0,
            "ticks": ""
           }
          },
          "colorscale": {
           "diverging": [
            [
             0,
             "#8e0152"
            ],
            [
             0.1,
             "#c51b7d"
            ],
            [
             0.2,
             "#de77ae"
            ],
            [
             0.3,
             "#f1b6da"
            ],
            [
             0.4,
             "#fde0ef"
            ],
            [
             0.5,
             "#f7f7f7"
            ],
            [
             0.6,
             "#e6f5d0"
            ],
            [
             0.7,
             "#b8e186"
            ],
            [
             0.8,
             "#7fbc41"
            ],
            [
             0.9,
             "#4d9221"
            ],
            [
             1,
             "#276419"
            ]
           ],
           "sequential": [
            [
             0,
             "#0d0887"
            ],
            [
             0.1111111111111111,
             "#46039f"
            ],
            [
             0.2222222222222222,
             "#7201a8"
            ],
            [
             0.3333333333333333,
             "#9c179e"
            ],
            [
             0.4444444444444444,
             "#bd3786"
            ],
            [
             0.5555555555555556,
             "#d8576b"
            ],
            [
             0.6666666666666666,
             "#ed7953"
            ],
            [
             0.7777777777777778,
             "#fb9f3a"
            ],
            [
             0.8888888888888888,
             "#fdca26"
            ],
            [
             1,
             "#f0f921"
            ]
           ],
           "sequentialminus": [
            [
             0,
             "#0d0887"
            ],
            [
             0.1111111111111111,
             "#46039f"
            ],
            [
             0.2222222222222222,
             "#7201a8"
            ],
            [
             0.3333333333333333,
             "#9c179e"
            ],
            [
             0.4444444444444444,
             "#bd3786"
            ],
            [
             0.5555555555555556,
             "#d8576b"
            ],
            [
             0.6666666666666666,
             "#ed7953"
            ],
            [
             0.7777777777777778,
             "#fb9f3a"
            ],
            [
             0.8888888888888888,
             "#fdca26"
            ],
            [
             1,
             "#f0f921"
            ]
           ]
          },
          "colorway": [
           "#636efa",
           "#EF553B",
           "#00cc96",
           "#ab63fa",
           "#FFA15A",
           "#19d3f3",
           "#FF6692",
           "#B6E880",
           "#FF97FF",
           "#FECB52"
          ],
          "font": {
           "color": "#2a3f5f"
          },
          "geo": {
           "bgcolor": "white",
           "lakecolor": "white",
           "landcolor": "#E5ECF6",
           "showlakes": true,
           "showland": true,
           "subunitcolor": "white"
          },
          "hoverlabel": {
           "align": "left"
          },
          "hovermode": "closest",
          "mapbox": {
           "style": "light"
          },
          "paper_bgcolor": "white",
          "plot_bgcolor": "#E5ECF6",
          "polar": {
           "angularaxis": {
            "gridcolor": "white",
            "linecolor": "white",
            "ticks": ""
           },
           "bgcolor": "#E5ECF6",
           "radialaxis": {
            "gridcolor": "white",
            "linecolor": "white",
            "ticks": ""
           }
          },
          "scene": {
           "xaxis": {
            "backgroundcolor": "#E5ECF6",
            "gridcolor": "white",
            "gridwidth": 2,
            "linecolor": "white",
            "showbackground": true,
            "ticks": "",
            "zerolinecolor": "white"
           },
           "yaxis": {
            "backgroundcolor": "#E5ECF6",
            "gridcolor": "white",
            "gridwidth": 2,
            "linecolor": "white",
            "showbackground": true,
            "ticks": "",
            "zerolinecolor": "white"
           },
           "zaxis": {
            "backgroundcolor": "#E5ECF6",
            "gridcolor": "white",
            "gridwidth": 2,
            "linecolor": "white",
            "showbackground": true,
            "ticks": "",
            "zerolinecolor": "white"
           }
          },
          "shapedefaults": {
           "line": {
            "color": "#2a3f5f"
           }
          },
          "ternary": {
           "aaxis": {
            "gridcolor": "white",
            "linecolor": "white",
            "ticks": ""
           },
           "baxis": {
            "gridcolor": "white",
            "linecolor": "white",
            "ticks": ""
           },
           "bgcolor": "#E5ECF6",
           "caxis": {
            "gridcolor": "white",
            "linecolor": "white",
            "ticks": ""
           }
          },
          "title": {
           "x": 0.05
          },
          "xaxis": {
           "automargin": true,
           "gridcolor": "white",
           "linecolor": "white",
           "ticks": "",
           "title": {
            "standoff": 15
           },
           "zerolinecolor": "white",
           "zerolinewidth": 2
          },
          "yaxis": {
           "automargin": true,
           "gridcolor": "white",
           "linecolor": "white",
           "ticks": "",
           "title": {
            "standoff": 15
           },
           "zerolinecolor": "white",
           "zerolinewidth": 2
          }
         }
        },
        "title": {
         "text": "Plane Prediction"
        }
       }
      },
      "image/png": "[encoded data removed]"
     },
     "metadata": {},
     "output_type": "display_data"
    }
   ],
   "source": [
    "fig = go.Figure()\n",
    "fig.add_trace(go.Scatter3d(x=df['x1'], y=df['x2'], z=df['y'], mode='markers', name='Data Points'))\n",
    "fig.update_layout(title='Plane Prediction', scene=dict(xaxis_title='x1', yaxis_title='x2', zaxis_title='y'))\n",
    "fig.show()"
   ]
  },
  {
   "cell_type": "code",
   "execution_count": null,
   "metadata": {
    "id": "kZsJ7_6sLtav",
    "outputId": "16845e9f-74be-4db2-cd7b-83dbeca57d5e"
   },
   "outputs": [
    {
     "data": {
      "text/html": [
       "<style>#sk-container-id-1 {color: black;background-color: white;}#sk-container-id-1 pre{padding: 0;}#sk-container-id-1 div.sk-toggleable {background-color: white;}#sk-container-id-1 label.sk-toggleable__label {cursor: pointer;display: block;width: 100%;margin-bottom: 0;padding: 0.3em;box-sizing: border-box;text-align: center;}#sk-container-id-1 label.sk-toggleable__label-arrow:before {content: \"▸\";float: left;margin-right: 0.25em;color: #696969;}#sk-container-id-1 label.sk-toggleable__label-arrow:hover:before {color: black;}#sk-container-id-1 div.sk-estimator:hover label.sk-toggleable__label-arrow:before {color: black;}#sk-container-id-1 div.sk-toggleable__content {max-height: 0;max-width: 0;overflow: hidden;text-align: left;background-color: #f0f8ff;}#sk-container-id-1 div.sk-toggleable__content pre {margin: 0.2em;color: black;border-radius: 0.25em;background-color: #f0f8ff;}#sk-container-id-1 input.sk-toggleable__control:checked~div.sk-toggleable__content {max-height: 200px;max-width: 100%;overflow: auto;}#sk-container-id-1 input.sk-toggleable__control:checked~label.sk-toggleable__label-arrow:before {content: \"▾\";}#sk-container-id-1 div.sk-estimator input.sk-toggleable__control:checked~label.sk-toggleable__label {background-color: #d4ebff;}#sk-container-id-1 div.sk-label input.sk-toggleable__control:checked~label.sk-toggleable__label {background-color: #d4ebff;}#sk-container-id-1 input.sk-hidden--visually {border: 0;clip: rect(1px 1px 1px 1px);clip: rect(1px, 1px, 1px, 1px);height: 1px;margin: -1px;overflow: hidden;padding: 0;position: absolute;width: 1px;}#sk-container-id-1 div.sk-estimator {font-family: monospace;background-color: #f0f8ff;border: 1px dotted black;border-radius: 0.25em;box-sizing: border-box;margin-bottom: 0.5em;}#sk-container-id-1 div.sk-estimator:hover {background-color: #d4ebff;}#sk-container-id-1 div.sk-parallel-item::after {content: \"\";width: 100%;border-bottom: 1px solid gray;flex-grow: 1;}#sk-container-id-1 div.sk-label:hover label.sk-toggleable__label {background-color: #d4ebff;}#sk-container-id-1 div.sk-serial::before {content: \"\";position: absolute;border-left: 1px solid gray;box-sizing: border-box;top: 0;bottom: 0;left: 50%;z-index: 0;}#sk-container-id-1 div.sk-serial {display: flex;flex-direction: column;align-items: center;background-color: white;padding-right: 0.2em;padding-left: 0.2em;position: relative;}#sk-container-id-1 div.sk-item {position: relative;z-index: 1;}#sk-container-id-1 div.sk-parallel {display: flex;align-items: stretch;justify-content: center;background-color: white;position: relative;}#sk-container-id-1 div.sk-item::before, #sk-container-id-1 div.sk-parallel-item::before {content: \"\";position: absolute;border-left: 1px solid gray;box-sizing: border-box;top: 0;bottom: 0;left: 50%;z-index: -1;}#sk-container-id-1 div.sk-parallel-item {display: flex;flex-direction: column;z-index: 1;position: relative;background-color: white;}#sk-container-id-1 div.sk-parallel-item:first-child::after {align-self: flex-end;width: 50%;}#sk-container-id-1 div.sk-parallel-item:last-child::after {align-self: flex-start;width: 50%;}#sk-container-id-1 div.sk-parallel-item:only-child::after {width: 0;}#sk-container-id-1 div.sk-dashed-wrapped {border: 1px dashed gray;margin: 0 0.4em 0.5em 0.4em;box-sizing: border-box;padding-bottom: 0.4em;background-color: white;}#sk-container-id-1 div.sk-label label {font-family: monospace;font-weight: bold;display: inline-block;line-height: 1.2em;}#sk-container-id-1 div.sk-label-container {text-align: center;}#sk-container-id-1 div.sk-container {/* jupyter's `normalize.less` sets `[hidden] { display: none; }` but bootstrap.min.css set `[hidden] { display: none !important; }` so we also need the `!important` here to be able to override the default hidden behavior on the sphinx rendered scikit-learn.org. See: https://github.com/scikit-learn/scikit-learn/issues/21755 */display: inline-block !important;position: relative;}#sk-container-id-1 div.sk-text-repr-fallback {display: none;}</style><div id=\"sk-container-id-1\" class=\"sk-top-container\"><div class=\"sk-text-repr-fallback\"><pre>LinearRegression()</pre><b>In a Jupyter environment, please rerun this cell to show the HTML representation or trust the notebook. <br />On GitHub, the HTML representation is unable to render, please try loading this page with nbviewer.org.</b></div><div class=\"sk-container\" hidden><div class=\"sk-item\"><div class=\"sk-estimator sk-toggleable\"><input class=\"sk-toggleable__control sk-hidden--visually\" id=\"sk-estimator-id-1\" type=\"checkbox\" checked><label for=\"sk-estimator-id-1\" class=\"sk-toggleable__label sk-toggleable__label-arrow\">LinearRegression</label><div class=\"sk-toggleable__content\"><pre>LinearRegression()</pre></div></div></div></div></div>"
      ],
      "text/plain": [
       "LinearRegression()"
      ]
     },
     "execution_count": 45,
     "metadata": {},
     "output_type": "execute_result"
    }
   ],
   "source": [
    "model = LinearRegression()\n",
    "model.fit(X, y)"
   ]
  },
  {
   "cell_type": "code",
   "execution_count": null,
   "metadata": {
    "colab": {
     "base_uri": "https://localhost:8080/"
    },
    "executionInfo": {
     "elapsed": 369,
     "status": "ok",
     "timestamp": 1682676380150,
     "user": {
      "displayName": "T3Lab Vision",
      "userId": "14779383426442114373"
     },
     "user_tz": -120
    },
    "id": "PKbnrwmcAfwX",
    "outputId": "8f35b447-d489-4c4e-92ba-d991dd2f99c9"
   },
   "outputs": [
    {
     "data": {
      "text/plain": [
       "-0.011797844655702494"
      ]
     },
     "execution_count": 46,
     "metadata": {},
     "output_type": "execute_result"
    }
   ],
   "source": [
    "model.intercept_"
   ]
  },
  {
   "cell_type": "code",
   "execution_count": null,
   "metadata": {
    "colab": {
     "base_uri": "https://localhost:8080/"
    },
    "executionInfo": {
     "elapsed": 5,
     "status": "ok",
     "timestamp": 1682676380431,
     "user": {
      "displayName": "T3Lab Vision",
      "userId": "14779383426442114373"
     },
     "user_tz": -120
    },
    "id": "GK5LjMWXAidf",
    "outputId": "4d0ce7c1-99e7-48cd-ce7a-947443ef4088"
   },
   "outputs": [
    {
     "data": {
      "text/plain": [
       "array([2.04980515, 3.03499985])"
      ]
     },
     "execution_count": 47,
     "metadata": {},
     "output_type": "execute_result"
    }
   ],
   "source": [
    "model.coef_"
   ]
  },
  {
   "cell_type": "code",
   "execution_count": null,
   "metadata": {
    "id": "kltuD0SpAmLP"
   },
   "outputs": [],
   "source": [
    "# y = -0.0118 + 2.05*x1+ 3.035*x2"
   ]
  },
  {
   "cell_type": "code",
   "execution_count": null,
   "metadata": {
    "id": "hMMLN_HELtaw"
   },
   "outputs": [],
   "source": [
    "# create 3D scatter plot and plane prediction\n",
    "x1_range = np.linspace(df['x1'].min(), df['x1'].max(), 10)\n",
    "x2_range = np.linspace(df['x2'].min(), df['x2'].max(), 10)\n",
    "xx1, xx2 = np.meshgrid(x1_range, x2_range)\n",
    "##Prediction Plane\n",
    "zz = model.predict(np.array([xx1.ravel(), xx2.ravel()]).T)\n",
    "zz = zz.reshape(xx1.shape)"
   ]
  },
  {
   "cell_type": "code",
   "execution_count": null,
   "metadata": {
    "colab": {
     "base_uri": "https://localhost:8080/",
     "height": 542
    },
    "executionInfo": {
     "elapsed": 8,
     "status": "ok",
     "timestamp": 1682676382562,
     "user": {
      "displayName": "T3Lab Vision",
      "userId": "14779383426442114373"
     },
     "user_tz": -120
    },
    "id": "6O0zJSSc-xHp",
    "outputId": "285dd968-107d-43ca-e17b-d506ec2c27ca"
   },
   "outputs": [
    {
     "data": {
      "application/vnd.plotly.v1+json": {
       "config": {
        "plotlyServerURL": "https://plot.ly"
       },
       "data": [
        {
         "mode": "markers",
         "name": "Data Points",
         "type": "scatter3d",
         "x": [
          -1.4172385595793309,
          -0.06283052189777874,
          -2.2412373314972487,
          0.48384505095893443,
          -0.7080385962618923,
          0.9215030619430522,
          0.279037592644775,
          -2.119163870898829,
          0.9943198125892452,
          -0.910619100304985,
          0.45828080279274946,
          0.7569159391786338,
          0.5215321820052851,
          -0.8799627406533369,
          0.3345562902060521,
          0.6402031389263764,
          1.4538908973521911,
          0.6189735929042963,
          0.2220062456349815,
          -1.707783073746772,
          -2.126461082161626,
          -0.7726259564887956,
          -0.18116755142155969,
          0.714367026497984,
          1.0001469028394063,
          0.10439277208280692,
          -0.12574068288283943,
          1.3023536028298244,
          -1.10541939773409,
          2.511284946298746,
          -0.7443313548772162,
          1.7051677960431466,
          -0.4168100652240883,
          0.6505048303005612,
          -2.5568796592185414,
          1.3364871541568866,
          -0.311511729501044,
          -0.5736642112509386,
          1.1228004498121111,
          1.0616813732119723,
          0.26621492684138365,
          -1.9920474961106156,
          0.3951334409403765,
          -0.6561715168347078,
          0.819037355921508,
          -0.05809867322378438,
          -0.8330864492249339,
          -0.08252598056212701,
          0.13914621306590544,
          0.41852362542639676,
          -1.1408606443474114,
          -0.5878041614275794,
          -1.0936834968776588,
          -0.8616036065771988,
          0.258242544270413,
          0.32015980366181623,
          1.4571001050351782,
          -0.007329954149133316,
          -0.10019682591624053,
          -2.192906090685638,
          -1.3708415108314793,
          0.550312986874161,
          0.6317800701743628,
          0.8146611569522129,
          1.2369993833632706,
          -0.8126173704494152,
          0.33302733955708697,
          0.531996451447422,
          -0.5626211849583285,
          -1.2819179939886316,
          1.403316834512285,
          1.6742288924778435,
          0.9800448636364673,
          0.6222089500909979,
          1.444115155520889,
          -0.5849998464266416,
          0.26804933236481604,
          1.0577508006438086,
          -0.6756310258478649,
          3.4269082510953384,
          1.6595990638833267,
          -0.15352022344105068,
          0.6649082111691422,
          1.0793815011464292,
          0.4250416492995151,
          -0.4854215348226394,
          -0.5500258976719092,
          -1.181145578774351,
          -1.0713403635338024,
          -1.4615217040830266,
          -0.8445300579610822,
          -0.33334884711321017,
          -0.937261570501364,
          0.2752631813984363,
          -0.725280911290511,
          0.6571076687786127,
          -1.2336237868236948,
          -0.1509593635600142,
          -0.8792064650413062,
          1.3280060712169204
         ],
         "y": [
          0.21020450259986512,
          0.5236267335331561,
          -0.3682900929726525,
          -0.04716003311714687,
          1.0939543934329716,
          0.04470760308318094,
          0.25111741220539235,
          -0.05920937169440573,
          0.08778594896081705,
          0.332767970891155,
          -0.728159082866778,
          1.3430401868052386,
          -1.0288760472163825,
          0.20256212602213766,
          0.2750100459821727,
          1.0797323136741293,
          -2.2539017546239286,
          -0.21551957734251345,
          -0.7755482692786538,
          -0.48359133656203596,
          -1.612696814714512,
          -0.8871180204317737,
          -0.727056006340436,
          0.7896854973058917,
          -0.723373069076448,
          0.08743484851243309,
          -2.1628531217701283,
          1.0687333689659608,
          0.07084134941526599,
          1.2428025611142286,
          -0.49678087266620996,
          -1.6212701508763714,
          -0.056601156953486505,
          0.02066851434380983,
          1.1956329747553438,
          1.7702420736871058,
          0.05684733742196951,
          0.42729762002708305,
          1.6490456358689436,
          0.5109365010974578,
          -2.0835141182709123,
          -1.5488740022511762,
          -0.8863354131619572,
          -0.6132482634103854,
          0.46485320162352634,
          -0.13913813525048446,
          1.4955467337028077,
          -1.352515362576303,
          0.5007373345822468,
          -1.2103136621783948,
          -0.17605401822014416,
          0.2503028669513215,
          -0.17804921781062458,
          0.37155162330771097,
          0.14259728862881402,
          0.3297156595986733,
          -1.143123223510206,
          1.2575967830235397,
          -0.04667446712726502,
          1.1323875611351064,
          1.855105775270352,
          -1.3333013566232725,
          2.682863559275354,
          0.30838267742764963,
          -1.660249925031375,
          1.2321414243892035,
          -0.7135424854972148,
          0.1784061844704105,
          -0.19010784050792756,
          1.3180961430839708,
          0.3487717024294055,
          1.2741645297565243,
          -0.6012421777268189,
          0.08453825957361831,
          1.3145439195511697,
          1.039251073426557,
          1.219916984310899,
          0.5599901345554184,
          0.0013699950208538485,
          -0.4465616735973089,
          -0.6762704675033594,
          -0.41841745163912164,
          1.2013968424780523,
          0.5419725692956652,
          -0.3906902844319932,
          0.7687547274964303,
          0.4206860690735865,
          1.5272233282092738,
          -1.343148296961762,
          1.6474485275924657,
          -0.49799286529956144,
          -0.25897936351069645,
          -0.8371127739276418,
          0.1302014901357113,
          -0.24611591047362308,
          1.9195471361133805,
          -0.35049757093968004,
          0.22880567719388592,
          0.1264996991462721,
          -0.3240828020505757
         ],
         "z": [
          -2.188711936893867,
          0.08155863978681643,
          -5.6849840661178455,
          2.6453737259074757,
          1.8678629220201244,
          0.3507448290797843,
          0.8681354844359443,
          -4.161520003343212,
          1.8956881805662387,
          -3.131602456075405,
          -3.5285627764151117,
          6.985359389154339,
          -3.45650069918106,
          -2.93317087413589,
          1.7279199652912456,
          6.057400088854265,
          -3.5241607748991233,
          0.3107221439208233,
          -3.0309454344031397,
          -6.837358839478638,
          -9.495364356161442,
          -4.828613416466062,
          -2.1450845387300066,
          4.271223410137519,
          -0.961817571640978,
          -0.2861059560670829,
          -7.577358170291369,
          5.719793313237752,
          -2.462808981899133,
          9.194319366768571,
          -3.2483525089075354,
          -3.0050948463014375,
          -0.6102688325782712,
          0.8418109605877317,
          -1.1119338366982778,
          7.81733413634239,
          -1.5334308535321768,
          0.13350423587494717,
          6.724892933969654,
          5.895581220085839,
          -4.779229045283519,
          -9.969581225217201,
          0.1744980247133341,
          -2.1330238262714207,
          2.7317214450362215,
          -0.9233905832252276,
          2.377562837220998,
          -5.453706725962667,
          3.5710536458677637,
          -2.3593472759737075,
          -2.850044617664957,
          -0.7385385726784887,
          -2.1348395267327964,
          -1.2236916334568275,
          -0.45398148442552033,
          2.314319734847753,
          -1.0970282108608236,
          3.343086087419114,
          0.15980821331775413,
          -0.44106739823677477,
          2.072318372651532,
          -2.791791958464549,
          9.159821544981057,
          2.4802874412369733,
          -1.8139691997161673,
          2.5595304756627044,
          -0.8006984971580802,
          2.978265562681935,
          -1.927128290429701,
          1.152050489608091,
          5.460017027869102,
          8.32929465115967,
          -0.2384522414058899,
          1.411901812605564,
          5.242587539890594,
          1.773076516671293,
          4.323133429608097,
          3.980921863038124,
          -0.9465769810040331,
          5.0084484430932035,
          -0.19086469439509623,
          -1.8387567500765605,
          4.257075292695898,
          4.802526735263398,
          2.4610404749346477,
          1.0363838871434432,
          -0.38033125647664334,
          2.2147273073571494,
          -4.4833842466236575,
          0.674722072434738,
          -2.5045569855866887,
          0.40487394882795424,
          -3.295438331302396,
          1.359752823451134,
          -1.4279041409213242,
          6.989537267118475,
          -3.2482246995334623,
          2.3120387620569347,
          -0.4915733757364352,
          1.1346534852014336
         ]
        },
        {
         "name": "Plane Prediction",
         "opacity": 0.9,
         "type": "surface",
         "x": [
          [
           -2.5568796592185414,
           -1.8920143358503325,
           -1.2271490124821236,
           -0.5622836891139147,
           0.10258163425429423,
           0.7674469576225031,
           1.432312280990712,
           2.0971776043589205,
           2.76204292772713,
           3.4269082510953384
          ],
          [
           -2.5568796592185414,
           -1.8920143358503325,
           -1.2271490124821236,
           -0.5622836891139147,
           0.10258163425429423,
           0.7674469576225031,
           1.432312280990712,
           2.0971776043589205,
           2.76204292772713,
           3.4269082510953384
          ],
          [
           -2.5568796592185414,
           -1.8920143358503325,
           -1.2271490124821236,
           -0.5622836891139147,
           0.10258163425429423,
           0.7674469576225031,
           1.432312280990712,
           2.0971776043589205,
           2.76204292772713,
           3.4269082510953384
          ],
          [
           -2.5568796592185414,
           -1.8920143358503325,
           -1.2271490124821236,
           -0.5622836891139147,
           0.10258163425429423,
           0.7674469576225031,
           1.432312280990712,
           2.0971776043589205,
           2.76204292772713,
           3.4269082510953384
          ],
          [
           -2.5568796592185414,
           -1.8920143358503325,
           -1.2271490124821236,
           -0.5622836891139147,
           0.10258163425429423,
           0.7674469576225031,
           1.432312280990712,
           2.0971776043589205,
           2.76204292772713,
           3.4269082510953384
          ],
          [
           -2.5568796592185414,
           -1.8920143358503325,
           -1.2271490124821236,
           -0.5622836891139147,
           0.10258163425429423,
           0.7674469576225031,
           1.432312280990712,
           2.0971776043589205,
           2.76204292772713,
           3.4269082510953384
          ],
          [
           -2.5568796592185414,
           -1.8920143358503325,
           -1.2271490124821236,
           -0.5622836891139147,
           0.10258163425429423,
           0.7674469576225031,
           1.432312280990712,
           2.0971776043589205,
           2.76204292772713,
           3.4269082510953384
          ],
          [
           -2.5568796592185414,
           -1.8920143358503325,
           -1.2271490124821236,
           -0.5622836891139147,
           0.10258163425429423,
           0.7674469576225031,
           1.432312280990712,
           2.0971776043589205,
           2.76204292772713,
           3.4269082510953384
          ],
          [
           -2.5568796592185414,
           -1.8920143358503325,
           -1.2271490124821236,
           -0.5622836891139147,
           0.10258163425429423,
           0.7674469576225031,
           1.432312280990712,
           2.0971776043589205,
           2.76204292772713,
           3.4269082510953384
          ],
          [
           -2.5568796592185414,
           -1.8920143358503325,
           -1.2271490124821236,
           -0.5622836891139147,
           0.10258163425429423,
           0.7674469576225031,
           1.432312280990712,
           2.0971776043589205,
           2.76204292772713,
           3.4269082510953384
          ]
         ],
         "y": [
          [
           -2.2539017546239286,
           -2.2539017546239286,
           -2.2539017546239286,
           -2.2539017546239286,
           -2.2539017546239286,
           -2.2539017546239286,
           -2.2539017546239286,
           -2.2539017546239286,
           -2.2539017546239286,
           -2.2539017546239286
          ],
          [
           -1.705372275301786,
           -1.705372275301786,
           -1.705372275301786,
           -1.705372275301786,
           -1.705372275301786,
           -1.705372275301786,
           -1.705372275301786,
           -1.705372275301786,
           -1.705372275301786,
           -1.705372275301786
          ],
          [
           -1.1568427959796435,
           -1.1568427959796435,
           -1.1568427959796435,
           -1.1568427959796435,
           -1.1568427959796435,
           -1.1568427959796435,
           -1.1568427959796435,
           -1.1568427959796435,
           -1.1568427959796435,
           -1.1568427959796435
          ],
          [
           -0.608313316657501,
           -0.608313316657501,
           -0.608313316657501,
           -0.608313316657501,
           -0.608313316657501,
           -0.608313316657501,
           -0.608313316657501,
           -0.608313316657501,
           -0.608313316657501,
           -0.608313316657501
          ],
          [
           -0.0597838373353583,
           -0.0597838373353583,
           -0.0597838373353583,
           -0.0597838373353583,
           -0.0597838373353583,
           -0.0597838373353583,
           -0.0597838373353583,
           -0.0597838373353583,
           -0.0597838373353583,
           -0.0597838373353583
          ],
          [
           0.4887456419867844,
           0.4887456419867844,
           0.4887456419867844,
           0.4887456419867844,
           0.4887456419867844,
           0.4887456419867844,
           0.4887456419867844,
           0.4887456419867844,
           0.4887456419867844,
           0.4887456419867844
          ],
          [
           1.0372751213089266,
           1.0372751213089266,
           1.0372751213089266,
           1.0372751213089266,
           1.0372751213089266,
           1.0372751213089266,
           1.0372751213089266,
           1.0372751213089266,
           1.0372751213089266,
           1.0372751213089266
          ],
          [
           1.5858046006310693,
           1.5858046006310693,
           1.5858046006310693,
           1.5858046006310693,
           1.5858046006310693,
           1.5858046006310693,
           1.5858046006310693,
           1.5858046006310693,
           1.5858046006310693,
           1.5858046006310693
          ],
          [
           2.134334079953212,
           2.134334079953212,
           2.134334079953212,
           2.134334079953212,
           2.134334079953212,
           2.134334079953212,
           2.134334079953212,
           2.134334079953212,
           2.134334079953212,
           2.134334079953212
          ],
          [
           2.682863559275354,
           2.682863559275354,
           2.682863559275354,
           2.682863559275354,
           2.682863559275354,
           2.682863559275354,
           2.682863559275354,
           2.682863559275354,
           2.682863559275354,
           2.682863559275354
          ]
         ],
         "z": [
          [
           -12.09349442791014,
           -10.730650061270214,
           -9.367805694630292,
           -8.004961327990365,
           -6.642116961350441,
           -5.279272594710516,
           -3.916428228070592,
           -2.5535838614306687,
           -1.1907394947907435,
           0.17210487184918027
          ],
          [
           -10.428707542367157,
           -9.065863175727232,
           -7.703018809087307,
           -6.340174442447382,
           -4.9773300758074575,
           -3.614485709167533,
           -2.2516413425276087,
           -0.8887969758876857,
           0.47404739075223984,
           1.8368917573921635
          ],
          [
           -8.763920656824174,
           -7.401076290184249,
           -6.038231923544324,
           -4.6753875569044,
           -3.312543190264475,
           -1.9496988236245505,
           -0.5868544569846261,
           0.7759899096552971,
           2.138834276295223,
           3.5016786429351465
          ],
          [
           -7.09913377128119,
           -5.736289404641266,
           -4.373445038001341,
           -3.0106006713614164,
           -1.647756304721492,
           -0.2849119380815674,
           1.077932428558357,
           2.44077679519828,
           3.8036211618382056,
           5.166465528478129
          ],
          [
           -5.434346885738206,
           -4.071502519098281,
           -2.7086581524583573,
           -1.345813785818433,
           0.017030580821491614,
           1.3798749474614163,
           2.7427193141013406,
           4.105563680741264,
           5.46840804738119,
           6.8312524140211135
          ],
          [
           -3.7695600001952227,
           -2.406715633555298,
           -1.0438712669153738,
           0.3189730997245506,
           1.6818174663644752,
           3.0446618330044,
           4.407506199644325,
           5.770350566284248,
           7.133194932924173,
           8.496039299564096
          ],
          [
           -2.1047731146522404,
           -0.741928748012316,
           0.6209156186276086,
           1.983759985267533,
           3.346604351907458,
           4.709448718547383,
           6.072293085187307,
           7.43513745182723,
           8.797981818467154,
           10.160826185107078
          ],
          [
           -0.4399862291092573,
           0.9228581375306673,
           2.285702504170592,
           3.6485468708105167,
           5.011391237450441,
           6.374235604090366,
           7.7370799707302895,
           9.099924337370211,
           10.462768704010138,
           11.82561307065006
          ],
          [
           1.2248006564337268,
           2.5876450230736516,
           3.950489389713576,
           5.313333756353501,
           6.676178122993425,
           8.039022489633348,
           9.401866856273273,
           10.764711222913196,
           12.127555589553122,
           13.490399956193045
          ],
          [
           2.8895875419767068,
           4.252431908616631,
           5.615276275256556,
           6.9781206418964805,
           8.340965008536404,
           9.703809375176329,
           11.066653741816253,
           12.429498108456176,
           13.792342475096103,
           15.155186841736025
          ]
         ]
        }
       ],
       "layout": {
        "autosize": true,
        "scene": {
         "aspectmode": "auto",
         "aspectratio": {
          "x": 1,
          "y": 1,
          "z": 1
         },
         "xaxis": {
          "title": {
           "text": "x1"
          },
          "type": "linear"
         },
         "yaxis": {
          "title": {
           "text": "x2"
          },
          "type": "linear"
         },
         "zaxis": {
          "title": {
           "text": "y"
          },
          "type": "linear"
         }
        },
        "template": {
         "data": {
          "bar": [
           {
            "error_x": {
             "color": "#2a3f5f"
            },
            "error_y": {
             "color": "#2a3f5f"
            },
            "marker": {
             "line": {
              "color": "#E5ECF6",
              "width": 0.5
             },
             "pattern": {
              "fillmode": "overlay",
              "size": 10,
              "solidity": 0.2
             }
            },
            "type": "bar"
           }
          ],
          "barpolar": [
           {
            "marker": {
             "line": {
              "color": "#E5ECF6",
              "width": 0.5
             },
             "pattern": {
              "fillmode": "overlay",
              "size": 10,
              "solidity": 0.2
             }
            },
            "type": "barpolar"
           }
          ],
          "carpet": [
           {
            "aaxis": {
             "endlinecolor": "#2a3f5f",
             "gridcolor": "white",
             "linecolor": "white",
             "minorgridcolor": "white",
             "startlinecolor": "#2a3f5f"
            },
            "baxis": {
             "endlinecolor": "#2a3f5f",
             "gridcolor": "white",
             "linecolor": "white",
             "minorgridcolor": "white",
             "startlinecolor": "#2a3f5f"
            },
            "type": "carpet"
           }
          ],
          "choropleth": [
           {
            "colorbar": {
             "outlinewidth": 0,
             "ticks": ""
            },
            "type": "choropleth"
           }
          ],
          "contour": [
           {
            "colorbar": {
             "outlinewidth": 0,
             "ticks": ""
            },
            "colorscale": [
             [
              0,
              "#0d0887"
             ],
             [
              0.1111111111111111,
              "#46039f"
             ],
             [
              0.2222222222222222,
              "#7201a8"
             ],
             [
              0.3333333333333333,
              "#9c179e"
             ],
             [
              0.4444444444444444,
              "#bd3786"
             ],
             [
              0.5555555555555556,
              "#d8576b"
             ],
             [
              0.6666666666666666,
              "#ed7953"
             ],
             [
              0.7777777777777778,
              "#fb9f3a"
             ],
             [
              0.8888888888888888,
              "#fdca26"
             ],
             [
              1,
              "#f0f921"
             ]
            ],
            "type": "contour"
           }
          ],
          "contourcarpet": [
           {
            "colorbar": {
             "outlinewidth": 0,
             "ticks": ""
            },
            "type": "contourcarpet"
           }
          ],
          "heatmap": [
           {
            "colorbar": {
             "outlinewidth": 0,
             "ticks": ""
            },
            "colorscale": [
             [
              0,
              "#0d0887"
             ],
             [
              0.1111111111111111,
              "#46039f"
             ],
             [
              0.2222222222222222,
              "#7201a8"
             ],
             [
              0.3333333333333333,
              "#9c179e"
             ],
             [
              0.4444444444444444,
              "#bd3786"
             ],
             [
              0.5555555555555556,
              "#d8576b"
             ],
             [
              0.6666666666666666,
              "#ed7953"
             ],
             [
              0.7777777777777778,
              "#fb9f3a"
             ],
             [
              0.8888888888888888,
              "#fdca26"
             ],
             [
              1,
              "#f0f921"
             ]
            ],
            "type": "heatmap"
           }
          ],
          "heatmapgl": [
           {
            "colorbar": {
             "outlinewidth": 0,
             "ticks": ""
            },
            "colorscale": [
             [
              0,
              "#0d0887"
             ],
             [
              0.1111111111111111,
              "#46039f"
             ],
             [
              0.2222222222222222,
              "#7201a8"
             ],
             [
              0.3333333333333333,
              "#9c179e"
             ],
             [
              0.4444444444444444,
              "#bd3786"
             ],
             [
              0.5555555555555556,
              "#d8576b"
             ],
             [
              0.6666666666666666,
              "#ed7953"
             ],
             [
              0.7777777777777778,
              "#fb9f3a"
             ],
             [
              0.8888888888888888,
              "#fdca26"
             ],
             [
              1,
              "#f0f921"
             ]
            ],
            "type": "heatmapgl"
           }
          ],
          "histogram": [
           {
            "marker": {
             "pattern": {
              "fillmode": "overlay",
              "size": 10,
              "solidity": 0.2
             }
            },
            "type": "histogram"
           }
          ],
          "histogram2d": [
           {
            "colorbar": {
             "outlinewidth": 0,
             "ticks": ""
            },
            "colorscale": [
             [
              0,
              "#0d0887"
             ],
             [
              0.1111111111111111,
              "#46039f"
             ],
             [
              0.2222222222222222,
              "#7201a8"
             ],
             [
              0.3333333333333333,
              "#9c179e"
             ],
             [
              0.4444444444444444,
              "#bd3786"
             ],
             [
              0.5555555555555556,
              "#d8576b"
             ],
             [
              0.6666666666666666,
              "#ed7953"
             ],
             [
              0.7777777777777778,
              "#fb9f3a"
             ],
             [
              0.8888888888888888,
              "#fdca26"
             ],
             [
              1,
              "#f0f921"
             ]
            ],
            "type": "histogram2d"
           }
          ],
          "histogram2dcontour": [
           {
            "colorbar": {
             "outlinewidth": 0,
             "ticks": ""
            },
            "colorscale": [
             [
              0,
              "#0d0887"
             ],
             [
              0.1111111111111111,
              "#46039f"
             ],
             [
              0.2222222222222222,
              "#7201a8"
             ],
             [
              0.3333333333333333,
              "#9c179e"
             ],
             [
              0.4444444444444444,
              "#bd3786"
             ],
             [
              0.5555555555555556,
              "#d8576b"
             ],
             [
              0.6666666666666666,
              "#ed7953"
             ],
             [
              0.7777777777777778,
              "#fb9f3a"
             ],
             [
              0.8888888888888888,
              "#fdca26"
             ],
             [
              1,
              "#f0f921"
             ]
            ],
            "type": "histogram2dcontour"
           }
          ],
          "mesh3d": [
           {
            "colorbar": {
             "outlinewidth": 0,
             "ticks": ""
            },
            "type": "mesh3d"
           }
          ],
          "parcoords": [
           {
            "line": {
             "colorbar": {
              "outlinewidth": 0,
              "ticks": ""
             }
            },
            "type": "parcoords"
           }
          ],
          "pie": [
           {
            "automargin": true,
            "type": "pie"
           }
          ],
          "scatter": [
           {
            "fillpattern": {
             "fillmode": "overlay",
             "size": 10,
             "solidity": 0.2
            },
            "type": "scatter"
           }
          ],
          "scatter3d": [
           {
            "line": {
             "colorbar": {
              "outlinewidth": 0,
              "ticks": ""
             }
            },
            "marker": {
             "colorbar": {
              "outlinewidth": 0,
              "ticks": ""
             }
            },
            "type": "scatter3d"
           }
          ],
          "scattercarpet": [
           {
            "marker": {
             "colorbar": {
              "outlinewidth": 0,
              "ticks": ""
             }
            },
            "type": "scattercarpet"
           }
          ],
          "scattergeo": [
           {
            "marker": {
             "colorbar": {
              "outlinewidth": 0,
              "ticks": ""
             }
            },
            "type": "scattergeo"
           }
          ],
          "scattergl": [
           {
            "marker": {
             "colorbar": {
              "outlinewidth": 0,
              "ticks": ""
             }
            },
            "type": "scattergl"
           }
          ],
          "scattermapbox": [
           {
            "marker": {
             "colorbar": {
              "outlinewidth": 0,
              "ticks": ""
             }
            },
            "type": "scattermapbox"
           }
          ],
          "scatterpolar": [
           {
            "marker": {
             "colorbar": {
              "outlinewidth": 0,
              "ticks": ""
             }
            },
            "type": "scatterpolar"
           }
          ],
          "scatterpolargl": [
           {
            "marker": {
             "colorbar": {
              "outlinewidth": 0,
              "ticks": ""
             }
            },
            "type": "scatterpolargl"
           }
          ],
          "scatterternary": [
           {
            "marker": {
             "colorbar": {
              "outlinewidth": 0,
              "ticks": ""
             }
            },
            "type": "scatterternary"
           }
          ],
          "surface": [
           {
            "colorbar": {
             "outlinewidth": 0,
             "ticks": ""
            },
            "colorscale": [
             [
              0,
              "#0d0887"
             ],
             [
              0.1111111111111111,
              "#46039f"
             ],
             [
              0.2222222222222222,
              "#7201a8"
             ],
             [
              0.3333333333333333,
              "#9c179e"
             ],
             [
              0.4444444444444444,
              "#bd3786"
             ],
             [
              0.5555555555555556,
              "#d8576b"
             ],
             [
              0.6666666666666666,
              "#ed7953"
             ],
             [
              0.7777777777777778,
              "#fb9f3a"
             ],
             [
              0.8888888888888888,
              "#fdca26"
             ],
             [
              1,
              "#f0f921"
             ]
            ],
            "type": "surface"
           }
          ],
          "table": [
           {
            "cells": {
             "fill": {
              "color": "#EBF0F8"
             },
             "line": {
              "color": "white"
             }
            },
            "header": {
             "fill": {
              "color": "#C8D4E3"
             },
             "line": {
              "color": "white"
             }
            },
            "type": "table"
           }
          ]
         },
         "layout": {
          "annotationdefaults": {
           "arrowcolor": "#2a3f5f",
           "arrowhead": 0,
           "arrowwidth": 1
          },
          "autotypenumbers": "strict",
          "coloraxis": {
           "colorbar": {
            "outlinewidth": 0,
            "ticks": ""
           }
          },
          "colorscale": {
           "diverging": [
            [
             0,
             "#8e0152"
            ],
            [
             0.1,
             "#c51b7d"
            ],
            [
             0.2,
             "#de77ae"
            ],
            [
             0.3,
             "#f1b6da"
            ],
            [
             0.4,
             "#fde0ef"
            ],
            [
             0.5,
             "#f7f7f7"
            ],
            [
             0.6,
             "#e6f5d0"
            ],
            [
             0.7,
             "#b8e186"
            ],
            [
             0.8,
             "#7fbc41"
            ],
            [
             0.9,
             "#4d9221"
            ],
            [
             1,
             "#276419"
            ]
           ],
           "sequential": [
            [
             0,
             "#0d0887"
            ],
            [
             0.1111111111111111,
             "#46039f"
            ],
            [
             0.2222222222222222,
             "#7201a8"
            ],
            [
             0.3333333333333333,
             "#9c179e"
            ],
            [
             0.4444444444444444,
             "#bd3786"
            ],
            [
             0.5555555555555556,
             "#d8576b"
            ],
            [
             0.6666666666666666,
             "#ed7953"
            ],
            [
             0.7777777777777778,
             "#fb9f3a"
            ],
            [
             0.8888888888888888,
             "#fdca26"
            ],
            [
             1,
             "#f0f921"
            ]
           ],
           "sequentialminus": [
            [
             0,
             "#0d0887"
            ],
            [
             0.1111111111111111,
             "#46039f"
            ],
            [
             0.2222222222222222,
             "#7201a8"
            ],
            [
             0.3333333333333333,
             "#9c179e"
            ],
            [
             0.4444444444444444,
             "#bd3786"
            ],
            [
             0.5555555555555556,
             "#d8576b"
            ],
            [
             0.6666666666666666,
             "#ed7953"
            ],
            [
             0.7777777777777778,
             "#fb9f3a"
            ],
            [
             0.8888888888888888,
             "#fdca26"
            ],
            [
             1,
             "#f0f921"
            ]
           ]
          },
          "colorway": [
           "#636efa",
           "#EF553B",
           "#00cc96",
           "#ab63fa",
           "#FFA15A",
           "#19d3f3",
           "#FF6692",
           "#B6E880",
           "#FF97FF",
           "#FECB52"
          ],
          "font": {
           "color": "#2a3f5f"
          },
          "geo": {
           "bgcolor": "white",
           "lakecolor": "white",
           "landcolor": "#E5ECF6",
           "showlakes": true,
           "showland": true,
           "subunitcolor": "white"
          },
          "hoverlabel": {
           "align": "left"
          },
          "hovermode": "closest",
          "mapbox": {
           "style": "light"
          },
          "paper_bgcolor": "white",
          "plot_bgcolor": "#E5ECF6",
          "polar": {
           "angularaxis": {
            "gridcolor": "white",
            "linecolor": "white",
            "ticks": ""
           },
           "bgcolor": "#E5ECF6",
           "radialaxis": {
            "gridcolor": "white",
            "linecolor": "white",
            "ticks": ""
           }
          },
          "scene": {
           "xaxis": {
            "backgroundcolor": "#E5ECF6",
            "gridcolor": "white",
            "gridwidth": 2,
            "linecolor": "white",
            "showbackground": true,
            "ticks": "",
            "zerolinecolor": "white"
           },
           "yaxis": {
            "backgroundcolor": "#E5ECF6",
            "gridcolor": "white",
            "gridwidth": 2,
            "linecolor": "white",
            "showbackground": true,
            "ticks": "",
            "zerolinecolor": "white"
           },
           "zaxis": {
            "backgroundcolor": "#E5ECF6",
            "gridcolor": "white",
            "gridwidth": 2,
            "linecolor": "white",
            "showbackground": true,
            "ticks": "",
            "zerolinecolor": "white"
           }
          },
          "shapedefaults": {
           "line": {
            "color": "#2a3f5f"
           }
          },
          "ternary": {
           "aaxis": {
            "gridcolor": "white",
            "linecolor": "white",
            "ticks": ""
           },
           "baxis": {
            "gridcolor": "white",
            "linecolor": "white",
            "ticks": ""
           },
           "bgcolor": "#E5ECF6",
           "caxis": {
            "gridcolor": "white",
            "linecolor": "white",
            "ticks": ""
           }
          },
          "title": {
           "x": 0.05
          },
          "xaxis": {
           "automargin": true,
           "gridcolor": "white",
           "linecolor": "white",
           "ticks": "",
           "title": {
            "standoff": 15
           },
           "zerolinecolor": "white",
           "zerolinewidth": 2
          },
          "yaxis": {
           "automargin": true,
           "gridcolor": "white",
           "linecolor": "white",
           "ticks": "",
           "title": {
            "standoff": 15
           },
           "zerolinecolor": "white",
           "zerolinewidth": 2
          }
         }
        },
        "title": {
         "text": "Plane Prediction"
        }
       }
      },
      "image/png": "[encoded data removed]"
     },
     "metadata": {},
     "output_type": "display_data"
    }
   ],
   "source": [
    "fig = go.Figure()\n",
    "fig.add_trace(go.Scatter3d(x=df['x1'], y=df['x2'], z=df['y'], mode='markers', name='Data Points'))\n",
    "fig.add_trace(go.Surface(x=xx1, y=xx2, z=zz, opacity=0.9, name='Plane Prediction'))\n",
    "fig.update_layout(title='Plane Prediction', scene=dict(xaxis_title='x1', yaxis_title='x2', zaxis_title='y'))\n",
    "fig.show()"
   ]
  },
  {
   "cell_type": "code",
   "execution_count": null,
   "metadata": {
    "colab": {
     "base_uri": "https://localhost:8080/"
    },
    "executionInfo": {
     "elapsed": 292,
     "status": "ok",
     "timestamp": 1682676385374,
     "user": {
      "displayName": "T3Lab Vision",
      "userId": "14779383426442114373"
     },
     "user_tz": -120
    },
    "id": "7D814yW95qwS",
    "outputId": "5d39b77e-4217-4d5e-df7e-1e1fe22190e5"
   },
   "outputs": [
    {
     "name": "stdout",
     "output_type": "stream",
     "text": [
      "Predicted y value for x1 = 1.5 and x2 = 0.5: 4.580409809783164\n"
     ]
    }
   ],
   "source": [
    "# make a plane prediction\n",
    "x1_pred = 1.5\n",
    "x2_pred = 0.5\n",
    "y_pred = model.predict([[x1_pred, x2_pred]])\n",
    "print('Predicted y value for x1 = {} and x2 = {}: {}'.format(x1_pred, x2_pred, y_pred[0]))"
   ]
  },
  {
   "cell_type": "code",
   "execution_count": null,
   "metadata": {
    "id": "xcDiLsXBAP8A"
   },
   "outputs": [],
   "source": [
    "##esercizio regressione lineare Multipla\n",
    "\n",
    "#https://frenzy86.s3.eu-west-2.amazonaws.com/python/data/Startup.csv"
   ]
  },
  {
   "cell_type": "code",
   "execution_count": null,
   "metadata": {
    "id": "4aTlgxQj5qwT"
   },
   "outputs": [],
   "source": [
    "#https://frenzy86.s3.eu-west-2.amazonaws.com/python/data/Company.csv"
   ]
  }
 ],
 "metadata": {
  "colab": {
   "provenance": []
  },
  "kernelspec": {
   "display_name": "Python 3 (ipykernel)",
   "language": "python",
   "name": "python3"
  },
  "language_info": {
   "codemirror_mode": {
    "name": "ipython",
    "version": 3
   },
   "file_extension": ".py",
   "mimetype": "text/x-python",
   "name": "python",
   "nbconvert_exporter": "python",
   "pygments_lexer": "ipython3",
   "version": "3.11.2"
  }
 },
 "nbformat": 4,
 "nbformat_minor": 4
}
