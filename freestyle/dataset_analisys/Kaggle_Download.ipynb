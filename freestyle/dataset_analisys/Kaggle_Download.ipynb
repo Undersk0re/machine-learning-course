{
 "cells": [
  {
   "cell_type": "markdown",
   "metadata": {
    "id": "KprVTPb44pV7"
   },
   "source": [
    "## 1. Download Data from Kaggle\n",
    "\n",
    "- Install required libraries\n",
    "- Download data from Kaggle\n",
    "- View dataset files"
   ]
  },
  {
   "cell_type": "markdown",
   "metadata": {
    "id": "ZIsEYgNR6TBe"
   },
   "source": [
    "\n",
    "\n",
    "Dataset link: https://www.kaggle.com/c/new-york-city-taxi-fare-prediction\n",
    "\n"
   ]
  },
  {
   "cell_type": "code",
   "execution_count": 1,
   "metadata": {
    "executionInfo": {
     "elapsed": 24725,
     "status": "ok",
     "timestamp": 1710445076446,
     "user": {
      "displayName": "Daniele Grotti",
      "userId": "05993002232846155126"
     },
     "user_tz": -60
    },
    "id": "o5aUTpodSHuZ"
   },
   "outputs": [],
   "source": [
    "#!pip install opendatasets -q"
   ]
  },
  {
   "cell_type": "code",
   "execution_count": 2,
   "metadata": {
    "executionInfo": {
     "elapsed": 414,
     "status": "ok",
     "timestamp": 1710445122342,
     "user": {
      "displayName": "Daniele Grotti",
      "userId": "05993002232846155126"
     },
     "user_tz": -60
    },
    "id": "RS0BaBV86j0Q"
   },
   "outputs": [],
   "source": [
    "import opendatasets as od\n",
    "\n",
    "dataset_url ='https://www.kaggle.com/c/new-york-city-taxi-fare-prediction/data' # va al link e accetta la competizione `late submission`"
   ]
  },
  {
   "cell_type": "markdown",
   "metadata": {
    "id": "NUWVHGDUU2BA"
   },
   "source": [
    "### Use Kaggle API - to download dataset (rename json credential to kaggle.json)\n",
    "\n",
    "load by deafaul kaggle.json --> APIkey\n",
    "\n",
    "- user : t3labvision\n",
    "- APIkey: xxxxxxxxxxxxxxxxxxxxxxxxxxxxxxxx"
   ]
  },
  {
   "cell_type": "code",
   "execution_count": null,
   "metadata": {
    "colab": {
     "base_uri": "https://localhost:8080/"
    },
    "executionInfo": {
     "elapsed": 109857,
     "status": "ok",
     "timestamp": 1710445291491,
     "user": {
      "displayName": "Daniele Grotti",
      "userId": "05993002232846155126"
     },
     "user_tz": -60
    },
    "id": "T-qbpdozPZXD",
    "outputId": "073cf2c6-b398-4847-ca39-b8db7dddadc4"
   },
   "outputs": [
    {
     "name": "stdout",
     "output_type": "stream",
     "text": [
      "Downloading new-york-city-taxi-fare-prediction.zip to ./new-york-city-taxi-fare-prediction\n"
     ]
    },
    {
     "name": "stderr",
     "output_type": "stream",
     "text": [
      "100%|██████████████████████████████████████████████████████████████████████████████████████████████████████████████| 1.56G/1.56G [08:37<00:00, 3.24MB/s]\n"
     ]
    },
    {
     "name": "stdout",
     "output_type": "stream",
     "text": [
      "\n",
      "Extracting archive ./new-york-city-taxi-fare-prediction/new-york-city-taxi-fare-prediction.zip to ./new-york-city-taxi-fare-prediction\n"
     ]
    }
   ],
   "source": [
    "%%time\n",
    "od.download(dataset_url)"
   ]
  },
  {
   "cell_type": "code",
   "execution_count": null,
   "metadata": {
    "executionInfo": {
     "elapsed": 281,
     "status": "ok",
     "timestamp": 1710445296893,
     "user": {
      "displayName": "Daniele Grotti",
      "userId": "05993002232846155126"
     },
     "user_tz": -60
    },
    "id": "y2t2w_P_P6n-"
   },
   "outputs": [],
   "source": [
    "data_dir = 'new-york-city-taxi-fare-prediction'"
   ]
  },
  {
   "cell_type": "markdown",
   "metadata": {
    "id": "CRKXBoII6koE"
   },
   "source": [
    "### View Dataset Files"
   ]
  },
  {
   "cell_type": "code",
   "execution_count": null,
   "metadata": {
    "colab": {
     "base_uri": "https://localhost:8080/"
    },
    "executionInfo": {
     "elapsed": 309,
     "status": "ok",
     "timestamp": 1710445300384,
     "user": {
      "displayName": "Daniele Grotti",
      "userId": "05993002232846155126"
     },
     "user_tz": -60
    },
    "id": "JSeQME-i6nHb",
    "outputId": "6ea22da8-6f91-460a-ceaa-6e475484748e"
   },
   "outputs": [],
   "source": [
    "# List of files with size\n",
    "!ls -lh {data_dir}"
   ]
  },
  {
   "cell_type": "code",
   "execution_count": null,
   "metadata": {
    "colab": {
     "base_uri": "https://localhost:8080/"
    },
    "executionInfo": {
     "elapsed": 327,
     "status": "ok",
     "timestamp": 1710445314769,
     "user": {
      "displayName": "Daniele Grotti",
      "userId": "05993002232846155126"
     },
     "user_tz": -60
    },
    "id": "v5HqD9eWP_gE",
    "outputId": "91c06a09-0221-4677-b123-7484c3312314"
   },
   "outputs": [],
   "source": [
    "# Training set\n",
    "!head {data_dir}/train.csv"
   ]
  },
  {
   "cell_type": "code",
   "execution_count": null,
   "metadata": {
    "colab": {
     "base_uri": "https://localhost:8080/"
    },
    "executionInfo": {
     "elapsed": 310,
     "status": "ok",
     "timestamp": 1710445318331,
     "user": {
      "displayName": "Daniele Grotti",
      "userId": "05993002232846155126"
     },
     "user_tz": -60
    },
    "id": "zgLfjwBVP_7i",
    "outputId": "428b252a-5572-444b-ebfd-1bac04c0c15c"
   },
   "outputs": [],
   "source": [
    "# Test set\n",
    "!head {data_dir}/test.csv"
   ]
  },
  {
   "cell_type": "code",
   "execution_count": null,
   "metadata": {
    "colab": {
     "base_uri": "https://localhost:8080/"
    },
    "executionInfo": {
     "elapsed": 295,
     "status": "ok",
     "timestamp": 1710445330757,
     "user": {
      "displayName": "Daniele Grotti",
      "userId": "05993002232846155126"
     },
     "user_tz": -60
    },
    "id": "PjwJxDjFQZSM",
    "outputId": "78eb5cc4-0e58-4be6-c9e7-0150c7996339"
   },
   "outputs": [],
   "source": [
    "# Sample submission file\n",
    "!head {data_dir}/sample_submission.csv"
   ]
  },
  {
   "cell_type": "code",
   "execution_count": null,
   "metadata": {
    "colab": {
     "base_uri": "https://localhost:8080/"
    },
    "executionInfo": {
     "elapsed": 2534,
     "status": "ok",
     "timestamp": 1710445334483,
     "user": {
      "displayName": "Daniele Grotti",
      "userId": "05993002232846155126"
     },
     "user_tz": -60
    },
    "id": "centXUzKQ9op",
    "outputId": "d0dfc321-0106-49f8-b370-1fa9fda7d0d4"
   },
   "outputs": [],
   "source": [
    "# No. of lines in training set\n",
    "!wc -l {data_dir}/train.csv"
   ]
  },
  {
   "cell_type": "code",
   "execution_count": null,
   "metadata": {
    "colab": {
     "base_uri": "https://localhost:8080/"
    },
    "executionInfo": {
     "elapsed": 300,
     "status": "ok",
     "timestamp": 1710445339310,
     "user": {
      "displayName": "Daniele Grotti",
      "userId": "05993002232846155126"
     },
     "user_tz": -60
    },
    "id": "O9sEzToXRBbc",
    "outputId": "ab2b1566-4468-4775-f2cb-b4bd3246b657"
   },
   "outputs": [],
   "source": [
    "# No. of lines in test set\n",
    "!wc -l {data_dir}/test.csv"
   ]
  },
  {
   "cell_type": "code",
   "execution_count": null,
   "metadata": {
    "colab": {
     "base_uri": "https://localhost:8080/"
    },
    "executionInfo": {
     "elapsed": 303,
     "status": "ok",
     "timestamp": 1710445350739,
     "user": {
      "displayName": "Daniele Grotti",
      "userId": "05993002232846155126"
     },
     "user_tz": -60
    },
    "id": "7ZDuA82HRHvO",
    "outputId": "e48080e5-9d2a-4e81-ebf0-40b758080c42"
   },
   "outputs": [],
   "source": [
    "# No. of lines in submission file\n",
    "!wc -l {data_dir}/sample_submission.csv"
   ]
  },
  {
   "cell_type": "markdown",
   "metadata": {
    "id": "ZD2m2fpRQUq1"
   },
   "source": [
    "Observations:\n",
    "\n",
    "- This is a supervised learning regression problem\n",
    "- Training data is 5.5 GB in size\n",
    "- Training data has 5.5 million rows\n",
    "- Test set is much smaller (< 10,000 rows)\n",
    "- The training set has 8 columns:\n",
    "    - `key` (a unique identifier)\n",
    "    - `fare_amount` (target column)\n",
    "    - `pickup_datetime`\n",
    "    - `pickup_longitude`\n",
    "    - `pickup_latitude`\n",
    "    - `dropoff_longitude`\n",
    "    - `dropoff_latitude`\n",
    "    - `passenger_count`\n",
    "- The test set has all columns except the target column `fare_amount`.\n",
    "- The submission file should contain the `key` and `fare_amount` for each test sample.\n",
    "\n"
   ]
  }
 ],
 "metadata": {
  "colab": {
   "machine_shape": "hm",
   "provenance": []
  },
  "kernelspec": {
   "display_name": "Python 3 (ipykernel)",
   "language": "python",
   "name": "python3"
  },
  "language_info": {
   "codemirror_mode": {
    "name": "ipython",
    "version": 3
   },
   "file_extension": ".py",
   "mimetype": "text/x-python",
   "name": "python",
   "nbconvert_exporter": "python",
   "pygments_lexer": "ipython3",
   "version": "3.11.2"
  }
 },
 "nbformat": 4,
 "nbformat_minor": 4
}
