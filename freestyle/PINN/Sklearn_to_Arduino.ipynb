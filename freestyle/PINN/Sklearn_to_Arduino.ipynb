{
 "cells": [
  {
   "cell_type": "markdown",
   "metadata": {
    "id": "MdmqyZjwspKh"
   },
   "source": [
    "## From Scikit-learn to Arduino\n",
    "\n",
    "Machine learning on Arduino boards is it possible?\n",
    "\n",
    "Do you want to run the model you trained in Python into any C++ project, be it Arduino, STM32, ESP32?"
   ]
  },
  {
   "cell_type": "markdown",
   "metadata": {
    "id": "iPhLqrwUs_0X"
   },
   "source": [
    "## Step1 load data\n",
    "To train a classifier, we need some data. If you're starting from zero and don't have already a preferred folder structure, I suggest you to create a folder that will hold the data you collect.\n",
    "\n",
    "Inside this folder, create a dedicated file (.csv) for each of the classes you want to classify, putting a sample on each line. If doing so, you can use the next function to load this data."
   ]
  },
  {
   "cell_type": "code",
   "execution_count": 1,
   "metadata": {
    "colab": {
     "base_uri": "https://localhost:8080/"
    },
    "executionInfo": {
     "elapsed": 20,
     "status": "ok",
     "timestamp": 1699365082475,
     "user": {
      "displayName": "T3Lab Vision",
      "userId": "14779383426442114373"
     },
     "user_tz": -60
    },
    "id": "jFuZowW9urwQ",
    "outputId": "8f77a817-2760-47fa-c408-79ce9121fb16"
   },
   "outputs": [],
   "source": [
    "#!mkdir datafolder"
   ]
  },
  {
   "cell_type": "code",
   "execution_count": 2,
   "metadata": {
    "colab": {
     "base_uri": "https://localhost:8080/"
    },
    "executionInfo": {
     "elapsed": 671,
     "status": "ok",
     "timestamp": 1699365083134,
     "user": {
      "displayName": "T3Lab Vision",
      "userId": "14779383426442114373"
     },
     "user_tz": -60
    },
    "id": "Ksw71yNo0mZH",
    "outputId": "4c22c4d6-05ad-4df4-b97f-374120feb5db"
   },
   "outputs": [],
   "source": [
    "#!wget https://frenzy86.s3.eu-west-2.amazonaws.com/python/sample_binarydata.csv -O /content/datafolder/sample_binarydata.csv"
   ]
  },
  {
   "cell_type": "code",
   "execution_count": 3,
   "metadata": {
    "tags": []
   },
   "outputs": [],
   "source": [
    "#!wget https://frenzy86.s3.eu-west-2.amazonaws.com/python/sample_binarydata.csv"
   ]
  },
  {
   "cell_type": "code",
   "execution_count": 4,
   "metadata": {
    "executionInfo": {
     "elapsed": 6,
     "status": "ok",
     "timestamp": 1699365232484,
     "user": {
      "displayName": "T3Lab Vision",
      "userId": "14779383426442114373"
     },
     "user_tz": -60
    },
    "id": "MG7iwxb0s1TD",
    "tags": []
   },
   "outputs": [],
   "source": [
    "import numpy as np\n",
    "\n",
    "def load_data(file):\n",
    "    data = np.loadtxt(file, dtype=float, delimiter=',')\n",
    "    classmap = {\n",
    "                0:'survived',\n",
    "                1:'died',\n",
    "                }\n",
    "    return data, classmap"
   ]
  },
  {
   "cell_type": "code",
   "execution_count": 5,
   "metadata": {
    "colab": {
     "base_uri": "https://localhost:8080/"
    },
    "executionInfo": {
     "elapsed": 8,
     "status": "ok",
     "timestamp": 1699365083134,
     "user": {
      "displayName": "T3Lab Vision",
      "userId": "14779383426442114373"
     },
     "user_tz": -60
    },
    "id": "AW7JE2NO_gY3",
    "outputId": "ba5ae147-1559-40bc-945c-e885e17bf332",
    "tags": []
   },
   "outputs": [
    {
     "data": {
      "text/plain": [
       "array([[  6.   , 148.   ,  72.   , ...,   0.627,  50.   ,   1.   ],\n",
       "       [  1.   ,  85.   ,  66.   , ...,   0.351,  31.   ,   0.   ],\n",
       "       [  8.   , 183.   ,  64.   , ...,   0.672,  32.   ,   1.   ],\n",
       "       ...,\n",
       "       [  5.   , 121.   ,  72.   , ...,   0.245,  30.   ,   0.   ],\n",
       "       [  1.   , 126.   ,  60.   , ...,   0.349,  47.   ,   1.   ],\n",
       "       [  1.   ,  93.   ,  70.   , ...,   0.315,  23.   ,   0.   ]])"
      ]
     },
     "execution_count": 5,
     "metadata": {},
     "output_type": "execute_result"
    }
   ],
   "source": [
    "path='sample_binarydata.csv'\n",
    "data = np.loadtxt(path, dtype=float, delimiter=',')\n",
    "data"
   ]
  },
  {
   "cell_type": "markdown",
   "metadata": {
    "id": "nTtvsHJ3tMlJ"
   },
   "source": [
    "## Step2 Train Classifier"
   ]
  },
  {
   "cell_type": "code",
   "execution_count": 6,
   "metadata": {
    "executionInfo": {
     "elapsed": 4,
     "status": "ok",
     "timestamp": 1699365083134,
     "user": {
      "displayName": "T3Lab Vision",
      "userId": "14779383426442114373"
     },
     "user_tz": -60
    },
    "id": "r_KzrLiysku9",
    "tags": []
   },
   "outputs": [],
   "source": [
    "from sklearn.ensemble import RandomForestClassifier\n",
    "from sklearn.feature_selection import SelectKBest\n",
    "from sklearn.feature_selection import f_classif\n",
    "\n",
    "def modeling(data):\n",
    "    X, y = data[:, :-1], data[:, -1]\n",
    "    k = 5\n",
    "    k_best = SelectKBest(score_func=f_classif, k=k)\n",
    "    k_best.fit(X, y)\n",
    "    selected_feature_indices = k_best.get_support(indices=True)\n",
    "\n",
    "    clf = RandomForestClassifier(20, max_depth=10, random_state=667)\n",
    "\n",
    "    return clf.fit(X[:, selected_feature_indices], y)"
   ]
  },
  {
   "cell_type": "markdown",
   "metadata": {
    "id": "cq2q_y0atXli"
   },
   "source": [
    "## Step3 Export to C\n",
    "Now you can convert the trained classifier to plain C code using the micromlgen package.\n",
    "\n"
   ]
  },
  {
   "cell_type": "code",
   "execution_count": 7,
   "metadata": {
    "colab": {
     "base_uri": "https://localhost:8080/"
    },
    "executionInfo": {
     "elapsed": 367,
     "status": "ok",
     "timestamp": 1699365093674,
     "user": {
      "displayName": "T3Lab Vision",
      "userId": "14779383426442114373"
     },
     "user_tz": -60
    },
    "id": "tSpuHMtBtgLG",
    "outputId": "4419b2d1-4a91-4b85-944d-5788f2492868",
    "tags": []
   },
   "outputs": [
    {
     "data": {
      "text/plain": [
       "{0: 'survived', 1: 'died'}"
      ]
     },
     "execution_count": 7,
     "metadata": {},
     "output_type": "execute_result"
    }
   ],
   "source": [
    "from micromlgen import port\n",
    "\n",
    "dataset, classmap = load_data(path)\n",
    "classifier = modeling(dataset)\n",
    "classmap"
   ]
  },
  {
   "cell_type": "code",
   "execution_count": 8,
   "metadata": {
    "colab": {
     "base_uri": "https://localhost:8080/"
    },
    "executionInfo": {
     "elapsed": 4,
     "status": "ok",
     "timestamp": 1699365093674,
     "user": {
      "displayName": "T3Lab Vision",
      "userId": "14779383426442114373"
     },
     "user_tz": -60
    },
    "id": "Kd3cWV9M_Zf-",
    "outputId": "41c550bb-4e42-4136-f610-aca76487831c",
    "tags": []
   },
   "outputs": [
    {
     "data": {
      "text/plain": [
       "0.0"
      ]
     },
     "execution_count": 8,
     "metadata": {},
     "output_type": "execute_result"
    }
   ],
   "source": [
    "## testing classifier prediction\n",
    "#classifier.predict([[6.,148.,33.6,0.627,50.]])[0] ## class1.0\n",
    "classifier.predict([[1., 85.,26.6,0.351,31.]])[0] ##  class0.0"
   ]
  },
  {
   "cell_type": "code",
   "execution_count": 9,
   "metadata": {
    "colab": {
     "base_uri": "https://localhost:8080/"
    },
    "executionInfo": {
     "elapsed": 986,
     "status": "ok",
     "timestamp": 1699365094658,
     "user": {
      "displayName": "T3Lab Vision",
      "userId": "14779383426442114373"
     },
     "user_tz": -60
    },
    "id": "D1qdn4qO_M0N",
    "outputId": "fb509a97-8965-4640-be88-87b7bd987fbd",
    "tags": []
   },
   "outputs": [],
   "source": [
    "c_code = port(classifier, classmap=classmap)\n",
    "#print(c_code)"
   ]
  },
  {
   "cell_type": "code",
   "execution_count": 10,
   "metadata": {
    "executionInfo": {
     "elapsed": 257,
     "status": "ok",
     "timestamp": 1699365122646,
     "user": {
      "displayName": "T3Lab Vision",
      "userId": "14779383426442114373"
     },
     "user_tz": -60
    },
    "id": "V_qAd6i7uP9v",
    "tags": []
   },
   "outputs": [],
   "source": [
    "## write model into model.h\n",
    "file_path = \"model.h\"\n",
    "\n",
    "with open(file_path, 'w') as file:\n",
    "    file.write(c_code)"
   ]
  },
  {
   "cell_type": "markdown",
   "metadata": {
    "id": "f-kiHchat_Dt"
   },
   "source": [
    "## Step4 Load model into Arduino"
   ]
  },
  {
   "cell_type": "code",
   "execution_count": 11,
   "metadata": {
    "id": "js_enrZGt0HC",
    "tags": []
   },
   "outputs": [],
   "source": [
    "# // put the code you got in Step 3 into this file\n",
    "# #include \"model.h\"\n",
    "\n",
    "# // this class will be different if you used another type of classifier, just check the model.h file\n",
    "# Eloquent::ML::Port::RandomForest classifier;\n",
    "\n",
    "# void classify() {\n",
    "#     float x_sample[] = { /* fill this vector with sample values */ };\n",
    "\n",
    "#     Serial.print(\"Predicted class: \");\n",
    "#     Serial.println(classifier.predictLabel(x_sample));\n",
    "# }"
   ]
  },
  {
   "cell_type": "code",
   "execution_count": null,
   "metadata": {
    "id": "pO87hhH_wOnz"
   },
   "outputs": [],
   "source": []
  },
  {
   "cell_type": "code",
   "execution_count": null,
   "metadata": {
    "id": "uG1nGbJH8gTS"
   },
   "outputs": [],
   "source": []
  }
 ],
 "metadata": {
  "colab": {
   "provenance": []
  },
  "kernelspec": {
   "display_name": "Python 3 (ipykernel)",
   "language": "python",
   "name": "python3"
  },
  "language_info": {
   "codemirror_mode": {
    "name": "ipython",
    "version": 3
   },
   "file_extension": ".py",
   "mimetype": "text/x-python",
   "name": "python",
   "nbconvert_exporter": "python",
   "pygments_lexer": "ipython3",
   "version": "3.11.2"
  }
 },
 "nbformat": 4,
 "nbformat_minor": 4
}
